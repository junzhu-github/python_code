{
 "cells": [
  {
   "cell_type": "markdown",
   "metadata": {},
   "source": [
    "导入库"
   ]
  },
  {
   "cell_type": "code",
   "execution_count": 1,
   "metadata": {},
   "outputs": [],
   "source": [
    "import os\n",
    "import pandas as pd"
   ]
  },
  {
   "cell_type": "markdown",
   "metadata": {},
   "source": [
    "切换工作目录"
   ]
  },
  {
   "cell_type": "code",
   "execution_count": 2,
   "metadata": {},
   "outputs": [],
   "source": [
    "os.chdir(r'D:\\小鸡理财\\百度云同步盘\\小鸡理财\\会员列表\\存管')"
   ]
  },
  {
   "cell_type": "raw",
   "metadata": {},
   "source": [
    "导入excel"
   ]
  },
  {
   "cell_type": "code",
   "execution_count": 3,
   "metadata": {},
   "outputs": [],
   "source": [
    "with pd.ExcelFile('汇总（截止2018.9.30-提取5.24 12：00）.xlsx') as xlsx:\n",
    "    df_org = pd.read_excel(xlsx,'原始数据')\n",
    "    df_yw = pd.read_excel(xlsx,'业务员')   #业务员\n",
    "    df_tg = pd.read_excel(xlsx,'推广')   #推广"
   ]
  },
  {
   "cell_type": "code",
   "execution_count": null,
   "metadata": {},
   "outputs": [],
   "source": [
    "df_org.head()"
   ]
  },
  {
   "cell_type": "raw",
   "metadata": {},
   "source": [
    "给需要合并的两张表做个标记，方便后面统计"
   ]
  },
  {
   "cell_type": "code",
   "execution_count": 4,
   "metadata": {},
   "outputs": [],
   "source": [
    "df_yw['mark_yw'] = 1\n",
    "df_tg['mark_tg'] = 1"
   ]
  },
  {
   "cell_type": "raw",
   "metadata": {},
   "source": [
    "合并表格"
   ]
  },
  {
   "cell_type": "code",
   "execution_count": 5,
   "metadata": {},
   "outputs": [],
   "source": [
    "df_temp = pd.merge(df_org,df_yw,how = 'left',left_on = '邀请人',right_on = '业务员')"
   ]
  },
  {
   "cell_type": "code",
   "execution_count": 6,
   "metadata": {},
   "outputs": [],
   "source": [
    "reslut = pd.merge(df_temp,df_tg,how = 'left',left_on = '用户名',right_on = '推广渠道')"
   ]
  },
  {
   "cell_type": "raw",
   "metadata": {},
   "source": [
    "筛选业务员和推广渠道用户，并对原始邀请渠道进行修改"
   ]
  },
  {
   "cell_type": "code",
   "execution_count": 7,
   "metadata": {},
   "outputs": [],
   "source": [
    "reslut['mark_yw'] = reslut['mark_yw'].fillna(reslut['邀请渠道'])"
   ]
  },
  {
   "cell_type": "code",
   "execution_count": 8,
   "metadata": {},
   "outputs": [],
   "source": [
    "reslut['mark_yw'] = reslut['mark_yw'].replace(1,'业务邀请')"
   ]
  },
  {
   "cell_type": "code",
   "execution_count": 9,
   "metadata": {},
   "outputs": [],
   "source": [
    "reslut['mark_tg'] = reslut['mark_tg'].fillna(reslut['mark_yw'])"
   ]
  },
  {
   "cell_type": "code",
   "execution_count": 10,
   "metadata": {},
   "outputs": [],
   "source": [
    "reslut['mark_tg'] = reslut['mark_tg'].replace(1,'推广渠道')"
   ]
  },
  {
   "cell_type": "raw",
   "metadata": {},
   "source": [
    "进一步修改列名，去掉无关列"
   ]
  },
  {
   "cell_type": "code",
   "execution_count": 11,
   "metadata": {},
   "outputs": [],
   "source": [
    "reslut = reslut.rename(columns={'mark_tg' : 'new_邀请渠道'})"
   ]
  },
  {
   "cell_type": "code",
   "execution_count": 12,
   "metadata": {},
   "outputs": [],
   "source": [
    "reslut = reslut.loc[:,['用户名','真实姓名','邀请人','手机号码','所属公司','注册时间','归属地','注册来源','渠道','邀请渠道','new_邀请渠道','身份证']]"
   ]
  },
  {
   "cell_type": "raw",
   "metadata": {},
   "source": [
    "输出表格"
   ]
  },
  {
   "cell_type": "code",
   "execution_count": 13,
   "metadata": {},
   "outputs": [],
   "source": [
    "reslut.to_excel('result.xlsx',index = False)"
   ]
  }
 ],
 "metadata": {
  "kernelspec": {
   "display_name": "Python 3",
   "language": "python",
   "name": "python3"
  },
  "language_info": {
   "codemirror_mode": {
    "name": "ipython",
    "version": 3
   },
   "file_extension": ".py",
   "mimetype": "text/x-python",
   "name": "python",
   "nbconvert_exporter": "python",
   "pygments_lexer": "ipython3",
   "version": "3.6.5"
  }
 },
 "nbformat": 4,
 "nbformat_minor": 2
}
