{
 "cells": [
  {
   "cell_type": "markdown",
   "metadata": {},
   "source": [
    "导入库"
   ]
  },
  {
   "cell_type": "code",
   "execution_count": 1,
   "metadata": {},
   "outputs": [],
   "source": [
    "import os\n",
    "import pandas as pd"
   ]
  },
  {
   "cell_type": "markdown",
   "metadata": {},
   "source": [
    "切换工作目录"
   ]
  },
  {
   "cell_type": "code",
   "execution_count": 2,
   "metadata": {},
   "outputs": [],
   "source": [
    "os.chdir(r'D:\\小鸡理财\\百度云同步盘\\小鸡理财\\会员列表\\存管')"
   ]
  },
  {
   "cell_type": "raw",
   "metadata": {},
   "source": [
    "导入excel"
   ]
  },
  {
   "cell_type": "code",
   "execution_count": 3,
   "metadata": {},
   "outputs": [],
   "source": [
    "with pd.ExcelFile('汇总（截止2018.8.31-提取5.24 12：00）.xlsx') as xlsx:\n",
    "    df_org = pd.read_excel(xlsx,'原始数据')\n",
    "    df_yw = pd.read_excel(xlsx,'业务员')   #业务员\n",
    "    df_tg = pd.read_excel(xlsx,'推广')   #推广"
   ]
  },
  {
   "cell_type": "code",
   "execution_count": 4,
   "metadata": {},
   "outputs": [
    {
     "data": {
      "text/html": [
       "<div>\n",
       "<style scoped>\n",
       "    .dataframe tbody tr th:only-of-type {\n",
       "        vertical-align: middle;\n",
       "    }\n",
       "\n",
       "    .dataframe tbody tr th {\n",
       "        vertical-align: top;\n",
       "    }\n",
       "\n",
       "    .dataframe thead th {\n",
       "        text-align: right;\n",
       "    }\n",
       "</style>\n",
       "<table border=\"1\" class=\"dataframe\">\n",
       "  <thead>\n",
       "    <tr style=\"text-align: right;\">\n",
       "      <th></th>\n",
       "      <th>序号</th>\n",
       "      <th>用户ID</th>\n",
       "      <th>用户名</th>\n",
       "      <th>真实姓名</th>\n",
       "      <th>邀请人</th>\n",
       "      <th>手机号码</th>\n",
       "      <th>VIP等级</th>\n",
       "      <th>理财专员等级</th>\n",
       "      <th>所属公司</th>\n",
       "      <th>可用余额</th>\n",
       "      <th>...</th>\n",
       "      <th>经典版首投</th>\n",
       "      <th>经典版注册时间</th>\n",
       "      <th>经典版注册来源</th>\n",
       "      <th>经典版渠道</th>\n",
       "      <th>存管版首投</th>\n",
       "      <th>存管版注册时间</th>\n",
       "      <th>存管版注册来源</th>\n",
       "      <th>存管版渠道</th>\n",
       "      <th>历史最高待收</th>\n",
       "      <th>待收留存率</th>\n",
       "    </tr>\n",
       "  </thead>\n",
       "  <tbody>\n",
       "    <tr>\n",
       "      <th>0</th>\n",
       "      <td>1</td>\n",
       "      <td>230944</td>\n",
       "      <td>XJLC_261422309449bd79</td>\n",
       "      <td>毛郑娜</td>\n",
       "      <td>1.570690e+10</td>\n",
       "      <td>1.895822e+10</td>\n",
       "      <td>5</td>\n",
       "      <td>1</td>\n",
       "      <td>NaN</td>\n",
       "      <td>487.34</td>\n",
       "      <td>...</td>\n",
       "      <td>2017-07-08</td>\n",
       "      <td>2017-07-07</td>\n",
       "      <td>手机H5</td>\n",
       "      <td>平台</td>\n",
       "      <td>---</td>\n",
       "      <td>2018-01-15</td>\n",
       "      <td>Android</td>\n",
       "      <td>安智市场</td>\n",
       "      <td>285862.09</td>\n",
       "      <td>98.62690432299%</td>\n",
       "    </tr>\n",
       "    <tr>\n",
       "      <th>1</th>\n",
       "      <td>2</td>\n",
       "      <td>229566</td>\n",
       "      <td>XJLC_411712295667c664</td>\n",
       "      <td>朱坤强</td>\n",
       "      <td>NaN</td>\n",
       "      <td>1.760659e+10</td>\n",
       "      <td>0</td>\n",
       "      <td>1</td>\n",
       "      <td>NaN</td>\n",
       "      <td>0.00</td>\n",
       "      <td>...</td>\n",
       "      <td>2017-07-25</td>\n",
       "      <td>2017-07-25</td>\n",
       "      <td>Android</td>\n",
       "      <td>锤子应用</td>\n",
       "      <td>2017-10-18</td>\n",
       "      <td>2017-10-16</td>\n",
       "      <td>Android</td>\n",
       "      <td>锤子应用</td>\n",
       "      <td>NaN</td>\n",
       "      <td>0%</td>\n",
       "    </tr>\n",
       "    <tr>\n",
       "      <th>2</th>\n",
       "      <td>3</td>\n",
       "      <td>205350</td>\n",
       "      <td>XJLC_6631820535086ec5</td>\n",
       "      <td>王志敏</td>\n",
       "      <td>1.800130e+10</td>\n",
       "      <td>1.369317e+10</td>\n",
       "      <td>0</td>\n",
       "      <td>1</td>\n",
       "      <td>NaN</td>\n",
       "      <td>0.00</td>\n",
       "      <td>...</td>\n",
       "      <td>2017-08-09</td>\n",
       "      <td>2017-08-08</td>\n",
       "      <td>手机H5</td>\n",
       "      <td>上海凝霜</td>\n",
       "      <td>---</td>\n",
       "      <td>---</td>\n",
       "      <td>NaN</td>\n",
       "      <td>NaN</td>\n",
       "      <td>NaN</td>\n",
       "      <td>0%</td>\n",
       "    </tr>\n",
       "    <tr>\n",
       "      <th>3</th>\n",
       "      <td>4</td>\n",
       "      <td>205349</td>\n",
       "      <td>XJLC_95531205349fba26</td>\n",
       "      <td>王静</td>\n",
       "      <td>NaN</td>\n",
       "      <td>1.880064e+10</td>\n",
       "      <td>0</td>\n",
       "      <td>1</td>\n",
       "      <td>NaN</td>\n",
       "      <td>0.00</td>\n",
       "      <td>...</td>\n",
       "      <td>2017-08-15</td>\n",
       "      <td>2017-08-08</td>\n",
       "      <td>Android</td>\n",
       "      <td>小米商店</td>\n",
       "      <td>---</td>\n",
       "      <td>---</td>\n",
       "      <td>NaN</td>\n",
       "      <td>NaN</td>\n",
       "      <td>1033.80</td>\n",
       "      <td>100%</td>\n",
       "    </tr>\n",
       "    <tr>\n",
       "      <th>4</th>\n",
       "      <td>5</td>\n",
       "      <td>205348</td>\n",
       "      <td>XJLC_573842053485020c</td>\n",
       "      <td>NaN</td>\n",
       "      <td>NaN</td>\n",
       "      <td>1.776496e+10</td>\n",
       "      <td>0</td>\n",
       "      <td>0</td>\n",
       "      <td>NaN</td>\n",
       "      <td>0.00</td>\n",
       "      <td>...</td>\n",
       "      <td>---</td>\n",
       "      <td>2017-08-08</td>\n",
       "      <td>手机H5</td>\n",
       "      <td>推啊</td>\n",
       "      <td>---</td>\n",
       "      <td>---</td>\n",
       "      <td>NaN</td>\n",
       "      <td>NaN</td>\n",
       "      <td>NaN</td>\n",
       "      <td>0%</td>\n",
       "    </tr>\n",
       "  </tbody>\n",
       "</table>\n",
       "<p>5 rows × 38 columns</p>\n",
       "</div>"
      ],
      "text/plain": [
       "   序号    用户ID                    用户名 真实姓名           邀请人          手机号码  VIP等级  \\\n",
       "0   1  230944  XJLC_261422309449bd79  毛郑娜  1.570690e+10  1.895822e+10      5   \n",
       "1   2  229566  XJLC_411712295667c664  朱坤强           NaN  1.760659e+10      0   \n",
       "2   3  205350  XJLC_6631820535086ec5  王志敏  1.800130e+10  1.369317e+10      0   \n",
       "3   4  205349  XJLC_95531205349fba26   王静           NaN  1.880064e+10      0   \n",
       "4   5  205348  XJLC_573842053485020c  NaN           NaN  1.776496e+10      0   \n",
       "\n",
       "   理财专员等级 所属公司    可用余额       ...              经典版首投     经典版注册时间  经典版注册来源  \\\n",
       "0       1  NaN  487.34       ...         2017-07-08  2017-07-07     手机H5   \n",
       "1       1  NaN    0.00       ...         2017-07-25  2017-07-25  Android   \n",
       "2       1  NaN    0.00       ...         2017-08-09  2017-08-08     手机H5   \n",
       "3       1  NaN    0.00       ...         2017-08-15  2017-08-08  Android   \n",
       "4       0  NaN    0.00       ...                ---  2017-08-08     手机H5   \n",
       "\n",
       "   经典版渠道       存管版首投     存管版注册时间  存管版注册来源 存管版渠道      历史最高待收            待收留存率  \n",
       "0     平台         ---  2018-01-15  Android   安智市场  285862.09  98.62690432299%  \n",
       "1   锤子应用  2017-10-18  2017-10-16  Android   锤子应用        NaN               0%  \n",
       "2   上海凝霜         ---         ---      NaN    NaN        NaN               0%  \n",
       "3   小米商店         ---         ---      NaN    NaN    1033.80             100%  \n",
       "4     推啊         ---         ---      NaN    NaN        NaN               0%  \n",
       "\n",
       "[5 rows x 38 columns]"
      ]
     },
     "execution_count": 4,
     "metadata": {},
     "output_type": "execute_result"
    }
   ],
   "source": [
    "df_org.head()"
   ]
  },
  {
   "cell_type": "raw",
   "metadata": {},
   "source": [
    "给需要合并的两张表做个标记，方便后面统计"
   ]
  },
  {
   "cell_type": "code",
   "execution_count": 5,
   "metadata": {},
   "outputs": [],
   "source": [
    "df_yw['mark_yw'] = 1\n",
    "df_tg['mark_tg'] = 1"
   ]
  },
  {
   "cell_type": "raw",
   "metadata": {},
   "source": [
    "合并表格"
   ]
  },
  {
   "cell_type": "code",
   "execution_count": 6,
   "metadata": {},
   "outputs": [],
   "source": [
    "df_temp = pd.merge(df_org,df_yw,how = 'left',left_on = '邀请人',right_on = '业务员')"
   ]
  },
  {
   "cell_type": "code",
   "execution_count": 7,
   "metadata": {},
   "outputs": [],
   "source": [
    "reslut = pd.merge(df_temp,df_tg,how = 'left',left_on = '用户名',right_on = '推广渠道（8.31）')"
   ]
  },
  {
   "cell_type": "raw",
   "metadata": {},
   "source": [
    "筛选业务员和推广渠道用户，并对原始邀请渠道进行修改"
   ]
  },
  {
   "cell_type": "code",
   "execution_count": 8,
   "metadata": {},
   "outputs": [],
   "source": [
    "reslut['mark_yw'] = reslut['mark_yw'].fillna(reslut['邀请渠道'])"
   ]
  },
  {
   "cell_type": "code",
   "execution_count": 9,
   "metadata": {},
   "outputs": [],
   "source": [
    "reslut['mark_yw'] = reslut['mark_yw'].replace(1,'业务邀请')"
   ]
  },
  {
   "cell_type": "code",
   "execution_count": 10,
   "metadata": {},
   "outputs": [],
   "source": [
    "reslut['mark_tg'] = reslut['mark_tg'].fillna(reslut['mark_yw'])"
   ]
  },
  {
   "cell_type": "code",
   "execution_count": 11,
   "metadata": {},
   "outputs": [],
   "source": [
    "reslut['mark_tg'] = reslut['mark_tg'].replace(1,'推广渠道')"
   ]
  },
  {
   "cell_type": "raw",
   "metadata": {},
   "source": [
    "进一步修改列名，去掉无关列"
   ]
  },
  {
   "cell_type": "code",
   "execution_count": 12,
   "metadata": {},
   "outputs": [],
   "source": [
    "reslut = reslut.rename(columns={'mark_tg' : 'new_邀请渠道'})"
   ]
  },
  {
   "cell_type": "code",
   "execution_count": 13,
   "metadata": {},
   "outputs": [],
   "source": [
    "reslut = reslut.loc[:,['用户名','真实姓名','邀请人','手机号码','所属公司','注册时间','归属地','注册来源','渠道','邀请渠道','new_邀请渠道','身份证']]"
   ]
  },
  {
   "cell_type": "raw",
   "metadata": {},
   "source": [
    "输出表格"
   ]
  },
  {
   "cell_type": "code",
   "execution_count": 14,
   "metadata": {},
   "outputs": [],
   "source": [
    "reslut.to_excel('result.xlsx',index = False)"
   ]
  }
 ],
 "metadata": {
  "kernelspec": {
   "display_name": "Python 3",
   "language": "python",
   "name": "python3"
  },
  "language_info": {
   "codemirror_mode": {
    "name": "ipython",
    "version": 3
   },
   "file_extension": ".py",
   "mimetype": "text/x-python",
   "name": "python",
   "nbconvert_exporter": "python",
   "pygments_lexer": "ipython3",
   "version": "3.6.5"
  }
 },
 "nbformat": 4,
 "nbformat_minor": 2
}
