{
 "cells": [
  {
   "cell_type": "code",
   "execution_count": 12,
   "metadata": {},
   "outputs": [],
   "source": [
    "import numpy as np\n",
    "import pandas as pd\n",
    "import seaborn as sns\n",
    "\n",
    "%matplotlib inline"
   ]
  },
  {
   "cell_type": "markdown",
   "metadata": {},
   "source": [
    "- 导入数据"
   ]
  },
  {
   "cell_type": "code",
   "execution_count": 13,
   "metadata": {},
   "outputs": [],
   "source": [
    "with pd.ExcelFile(r'C:\\Users\\Dragon\\Downloads\\信用飞.xlsx') as xlsx:\n",
    "    df = pd.read_excel(xlsx)"
   ]
  },
  {
   "cell_type": "code",
   "execution_count": 14,
   "metadata": {},
   "outputs": [
    {
     "data": {
      "text/html": [
       "<div>\n",
       "<style scoped>\n",
       "    .dataframe tbody tr th:only-of-type {\n",
       "        vertical-align: middle;\n",
       "    }\n",
       "\n",
       "    .dataframe tbody tr th {\n",
       "        vertical-align: top;\n",
       "    }\n",
       "\n",
       "    .dataframe thead th {\n",
       "        text-align: right;\n",
       "    }\n",
       "</style>\n",
       "<table border=\"1\" class=\"dataframe\">\n",
       "  <thead>\n",
       "    <tr style=\"text-align: right;\">\n",
       "      <th></th>\n",
       "      <th>债权来源</th>\n",
       "      <th>标期限</th>\n",
       "      <th>债权人</th>\n",
       "      <th>标总额</th>\n",
       "      <th>生效时间</th>\n",
       "    </tr>\n",
       "  </thead>\n",
       "  <tbody>\n",
       "    <tr>\n",
       "      <th>0</th>\n",
       "      <td>信用飞</td>\n",
       "      <td>6月</td>\n",
       "      <td>15867732710|陈美月</td>\n",
       "      <td>1800</td>\n",
       "      <td>2019-03-21 15:02:09</td>\n",
       "    </tr>\n",
       "    <tr>\n",
       "      <th>1</th>\n",
       "      <td>信用飞</td>\n",
       "      <td>6月</td>\n",
       "      <td>15924317692|史林阳</td>\n",
       "      <td>1800</td>\n",
       "      <td>2019-03-21 15:02:05</td>\n",
       "    </tr>\n",
       "    <tr>\n",
       "      <th>2</th>\n",
       "      <td>信用飞</td>\n",
       "      <td>6月</td>\n",
       "      <td>18500613808|吴恋雄</td>\n",
       "      <td>1700</td>\n",
       "      <td>2019-03-21 15:02:01</td>\n",
       "    </tr>\n",
       "    <tr>\n",
       "      <th>3</th>\n",
       "      <td>信用飞</td>\n",
       "      <td>6月</td>\n",
       "      <td>13201889810|胡良</td>\n",
       "      <td>1300</td>\n",
       "      <td>2019-03-21 15:01:58</td>\n",
       "    </tr>\n",
       "    <tr>\n",
       "      <th>4</th>\n",
       "      <td>信用飞</td>\n",
       "      <td>6月</td>\n",
       "      <td>13574449640|侯亚芬</td>\n",
       "      <td>1700</td>\n",
       "      <td>2019-03-21 15:01:54</td>\n",
       "    </tr>\n",
       "  </tbody>\n",
       "</table>\n",
       "</div>"
      ],
      "text/plain": [
       "  债权来源 标期限              债权人   标总额                 生效时间\n",
       "0  信用飞  6月  15867732710|陈美月  1800  2019-03-21 15:02:09\n",
       "1  信用飞  6月  15924317692|史林阳  1800  2019-03-21 15:02:05\n",
       "2  信用飞  6月  18500613808|吴恋雄  1700  2019-03-21 15:02:01\n",
       "3  信用飞  6月   13201889810|胡良  1300  2019-03-21 15:01:58\n",
       "4  信用飞  6月  13574449640|侯亚芬  1700  2019-03-21 15:01:54"
      ]
     },
     "execution_count": 14,
     "metadata": {},
     "output_type": "execute_result"
    }
   ],
   "source": [
    "df.head()"
   ]
  },
  {
   "cell_type": "markdown",
   "metadata": {},
   "source": [
    "- 整理数据"
   ]
  },
  {
   "cell_type": "code",
   "execution_count": 16,
   "metadata": {},
   "outputs": [],
   "source": [
    "temp = df['债权人'].str.split('|',expand=True)"
   ]
  },
  {
   "cell_type": "code",
   "execution_count": 17,
   "metadata": {},
   "outputs": [
    {
     "data": {
      "text/html": [
       "<div>\n",
       "<style scoped>\n",
       "    .dataframe tbody tr th:only-of-type {\n",
       "        vertical-align: middle;\n",
       "    }\n",
       "\n",
       "    .dataframe tbody tr th {\n",
       "        vertical-align: top;\n",
       "    }\n",
       "\n",
       "    .dataframe thead th {\n",
       "        text-align: right;\n",
       "    }\n",
       "</style>\n",
       "<table border=\"1\" class=\"dataframe\">\n",
       "  <thead>\n",
       "    <tr style=\"text-align: right;\">\n",
       "      <th></th>\n",
       "      <th>0</th>\n",
       "      <th>1</th>\n",
       "    </tr>\n",
       "  </thead>\n",
       "  <tbody>\n",
       "    <tr>\n",
       "      <th>0</th>\n",
       "      <td>15867732710</td>\n",
       "      <td>陈美月</td>\n",
       "    </tr>\n",
       "    <tr>\n",
       "      <th>1</th>\n",
       "      <td>15924317692</td>\n",
       "      <td>史林阳</td>\n",
       "    </tr>\n",
       "    <tr>\n",
       "      <th>2</th>\n",
       "      <td>18500613808</td>\n",
       "      <td>吴恋雄</td>\n",
       "    </tr>\n",
       "    <tr>\n",
       "      <th>3</th>\n",
       "      <td>13201889810</td>\n",
       "      <td>胡良</td>\n",
       "    </tr>\n",
       "    <tr>\n",
       "      <th>4</th>\n",
       "      <td>13574449640</td>\n",
       "      <td>侯亚芬</td>\n",
       "    </tr>\n",
       "  </tbody>\n",
       "</table>\n",
       "</div>"
      ],
      "text/plain": [
       "             0    1\n",
       "0  15867732710  陈美月\n",
       "1  15924317692  史林阳\n",
       "2  18500613808  吴恋雄\n",
       "3  13201889810   胡良\n",
       "4  13574449640  侯亚芬"
      ]
     },
     "execution_count": 17,
     "metadata": {},
     "output_type": "execute_result"
    }
   ],
   "source": [
    "temp.head()"
   ]
  },
  {
   "cell_type": "code",
   "execution_count": 18,
   "metadata": {},
   "outputs": [],
   "source": [
    "temp.columns = ['phone','name']"
   ]
  },
  {
   "cell_type": "code",
   "execution_count": 19,
   "metadata": {},
   "outputs": [],
   "source": [
    "df.drop('债权人',axis=1,inplace=True)"
   ]
  },
  {
   "cell_type": "code",
   "execution_count": 21,
   "metadata": {},
   "outputs": [],
   "source": [
    "df = df.join(temp)"
   ]
  },
  {
   "cell_type": "code",
   "execution_count": 22,
   "metadata": {},
   "outputs": [
    {
     "data": {
      "text/html": [
       "<div>\n",
       "<style scoped>\n",
       "    .dataframe tbody tr th:only-of-type {\n",
       "        vertical-align: middle;\n",
       "    }\n",
       "\n",
       "    .dataframe tbody tr th {\n",
       "        vertical-align: top;\n",
       "    }\n",
       "\n",
       "    .dataframe thead th {\n",
       "        text-align: right;\n",
       "    }\n",
       "</style>\n",
       "<table border=\"1\" class=\"dataframe\">\n",
       "  <thead>\n",
       "    <tr style=\"text-align: right;\">\n",
       "      <th></th>\n",
       "      <th>债权来源</th>\n",
       "      <th>标期限</th>\n",
       "      <th>标总额</th>\n",
       "      <th>生效时间</th>\n",
       "      <th>phone</th>\n",
       "      <th>name</th>\n",
       "    </tr>\n",
       "  </thead>\n",
       "  <tbody>\n",
       "    <tr>\n",
       "      <th>0</th>\n",
       "      <td>信用飞</td>\n",
       "      <td>6月</td>\n",
       "      <td>1800</td>\n",
       "      <td>2019-03-21 15:02:09</td>\n",
       "      <td>15867732710</td>\n",
       "      <td>陈美月</td>\n",
       "    </tr>\n",
       "    <tr>\n",
       "      <th>1</th>\n",
       "      <td>信用飞</td>\n",
       "      <td>6月</td>\n",
       "      <td>1800</td>\n",
       "      <td>2019-03-21 15:02:05</td>\n",
       "      <td>15924317692</td>\n",
       "      <td>史林阳</td>\n",
       "    </tr>\n",
       "    <tr>\n",
       "      <th>2</th>\n",
       "      <td>信用飞</td>\n",
       "      <td>6月</td>\n",
       "      <td>1700</td>\n",
       "      <td>2019-03-21 15:02:01</td>\n",
       "      <td>18500613808</td>\n",
       "      <td>吴恋雄</td>\n",
       "    </tr>\n",
       "    <tr>\n",
       "      <th>3</th>\n",
       "      <td>信用飞</td>\n",
       "      <td>6月</td>\n",
       "      <td>1300</td>\n",
       "      <td>2019-03-21 15:01:58</td>\n",
       "      <td>13201889810</td>\n",
       "      <td>胡良</td>\n",
       "    </tr>\n",
       "    <tr>\n",
       "      <th>4</th>\n",
       "      <td>信用飞</td>\n",
       "      <td>6月</td>\n",
       "      <td>1700</td>\n",
       "      <td>2019-03-21 15:01:54</td>\n",
       "      <td>13574449640</td>\n",
       "      <td>侯亚芬</td>\n",
       "    </tr>\n",
       "  </tbody>\n",
       "</table>\n",
       "</div>"
      ],
      "text/plain": [
       "  债权来源 标期限   标总额                 生效时间        phone name\n",
       "0  信用飞  6月  1800  2019-03-21 15:02:09  15867732710  陈美月\n",
       "1  信用飞  6月  1800  2019-03-21 15:02:05  15924317692  史林阳\n",
       "2  信用飞  6月  1700  2019-03-21 15:02:01  18500613808  吴恋雄\n",
       "3  信用飞  6月  1300  2019-03-21 15:01:58  13201889810   胡良\n",
       "4  信用飞  6月  1700  2019-03-21 15:01:54  13574449640  侯亚芬"
      ]
     },
     "execution_count": 22,
     "metadata": {},
     "output_type": "execute_result"
    }
   ],
   "source": [
    "df.head()"
   ]
  },
  {
   "cell_type": "markdown",
   "metadata": {},
   "source": [
    "- 查找归属地"
   ]
  },
  {
   "cell_type": "code",
   "execution_count": 23,
   "metadata": {},
   "outputs": [],
   "source": [
    "from phone import Phone\n",
    "\n",
    "def get_province(number):\n",
    "    p  = Phone()\n",
    "    res = p.find(number)\n",
    "    return res.get('province')"
   ]
  },
  {
   "cell_type": "code",
   "execution_count": 27,
   "metadata": {},
   "outputs": [],
   "source": [
    "df['pro'] = df.apply(lambda x:get_province(x['phone']),axis=1)"
   ]
  },
  {
   "cell_type": "code",
   "execution_count": 28,
   "metadata": {},
   "outputs": [
    {
     "data": {
      "text/html": [
       "<div>\n",
       "<style scoped>\n",
       "    .dataframe tbody tr th:only-of-type {\n",
       "        vertical-align: middle;\n",
       "    }\n",
       "\n",
       "    .dataframe tbody tr th {\n",
       "        vertical-align: top;\n",
       "    }\n",
       "\n",
       "    .dataframe thead th {\n",
       "        text-align: right;\n",
       "    }\n",
       "</style>\n",
       "<table border=\"1\" class=\"dataframe\">\n",
       "  <thead>\n",
       "    <tr style=\"text-align: right;\">\n",
       "      <th></th>\n",
       "      <th>债权来源</th>\n",
       "      <th>标期限</th>\n",
       "      <th>标总额</th>\n",
       "      <th>生效时间</th>\n",
       "      <th>phone</th>\n",
       "      <th>name</th>\n",
       "      <th>pro</th>\n",
       "    </tr>\n",
       "  </thead>\n",
       "  <tbody>\n",
       "    <tr>\n",
       "      <th>0</th>\n",
       "      <td>信用飞</td>\n",
       "      <td>6月</td>\n",
       "      <td>1800</td>\n",
       "      <td>2019-03-21 15:02:09</td>\n",
       "      <td>15867732710</td>\n",
       "      <td>陈美月</td>\n",
       "      <td>浙江</td>\n",
       "    </tr>\n",
       "    <tr>\n",
       "      <th>1</th>\n",
       "      <td>信用飞</td>\n",
       "      <td>6月</td>\n",
       "      <td>1800</td>\n",
       "      <td>2019-03-21 15:02:05</td>\n",
       "      <td>15924317692</td>\n",
       "      <td>史林阳</td>\n",
       "      <td>浙江</td>\n",
       "    </tr>\n",
       "    <tr>\n",
       "      <th>2</th>\n",
       "      <td>信用飞</td>\n",
       "      <td>6月</td>\n",
       "      <td>1700</td>\n",
       "      <td>2019-03-21 15:02:01</td>\n",
       "      <td>18500613808</td>\n",
       "      <td>吴恋雄</td>\n",
       "      <td>北京</td>\n",
       "    </tr>\n",
       "    <tr>\n",
       "      <th>3</th>\n",
       "      <td>信用飞</td>\n",
       "      <td>6月</td>\n",
       "      <td>1300</td>\n",
       "      <td>2019-03-21 15:01:58</td>\n",
       "      <td>13201889810</td>\n",
       "      <td>胡良</td>\n",
       "      <td>陕西</td>\n",
       "    </tr>\n",
       "    <tr>\n",
       "      <th>4</th>\n",
       "      <td>信用飞</td>\n",
       "      <td>6月</td>\n",
       "      <td>1700</td>\n",
       "      <td>2019-03-21 15:01:54</td>\n",
       "      <td>13574449640</td>\n",
       "      <td>侯亚芬</td>\n",
       "      <td>湖南</td>\n",
       "    </tr>\n",
       "  </tbody>\n",
       "</table>\n",
       "</div>"
      ],
      "text/plain": [
       "  债权来源 标期限   标总额                 生效时间        phone name pro\n",
       "0  信用飞  6月  1800  2019-03-21 15:02:09  15867732710  陈美月  浙江\n",
       "1  信用飞  6月  1800  2019-03-21 15:02:05  15924317692  史林阳  浙江\n",
       "2  信用飞  6月  1700  2019-03-21 15:02:01  18500613808  吴恋雄  北京\n",
       "3  信用飞  6月  1300  2019-03-21 15:01:58  13201889810   胡良  陕西\n",
       "4  信用飞  6月  1700  2019-03-21 15:01:54  13574449640  侯亚芬  湖南"
      ]
     },
     "execution_count": 28,
     "metadata": {},
     "output_type": "execute_result"
    }
   ],
   "source": [
    "df.head()"
   ]
  },
  {
   "cell_type": "code",
   "execution_count": 29,
   "metadata": {},
   "outputs": [],
   "source": [
    "df.to_excel('phone_address.xlsx')"
   ]
  },
  {
   "cell_type": "code",
   "execution_count": null,
   "metadata": {},
   "outputs": [],
   "source": []
  }
 ],
 "metadata": {
  "kernelspec": {
   "display_name": "Python 3",
   "language": "python",
   "name": "python3"
  },
  "language_info": {
   "codemirror_mode": {
    "name": "ipython",
    "version": 3
   },
   "file_extension": ".py",
   "mimetype": "text/x-python",
   "name": "python",
   "nbconvert_exporter": "python",
   "pygments_lexer": "ipython3",
   "version": "3.7.2"
  }
 },
 "nbformat": 4,
 "nbformat_minor": 2
}
