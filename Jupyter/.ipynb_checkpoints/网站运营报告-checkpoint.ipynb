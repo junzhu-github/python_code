{
 "cells": [
  {
   "cell_type": "markdown",
   "metadata": {},
   "source": [
    "### 导入库"
   ]
  },
  {
   "cell_type": "code",
   "execution_count": 2,
   "metadata": {},
   "outputs": [],
   "source": [
    "# import os\n",
    "# import numpy as np\n",
    "import pandas as pd\n",
    "# import matplotlib.pyplot as plt\n",
    "# %matplotlib inline"
   ]
  },
  {
   "cell_type": "markdown",
   "metadata": {},
   "source": [
    "### 导入excel"
   ]
  },
  {
   "cell_type": "code",
   "execution_count": 4,
   "metadata": {
    "scrolled": true
   },
   "outputs": [],
   "source": [
    "with pd.ExcelFile(r'C:\\百度云同步盘\\小鸡理财\\数据报告\\网站运营报告\\12月运营报告\\12月运营报告数据.xlsx') as xlsx:\n",
    "    df_tz = pd.read_excel(xlsx,'投资')\n",
    "    df_zc = pd.read_excel(xlsx,'注册')\n",
    "    df_yj = pd.read_excel(xlsx,'佣金')\n",
    "    df_vip = pd.read_excel(xlsx,'VIP变动')\n",
    "    df_quan = pd.read_excel(xlsx,'券')\n",
    "    df_zht = pd.read_excel(xlsx,'智慧投')"
   ]
  },
  {
   "cell_type": "markdown",
   "metadata": {},
   "source": [
    "## 2页"
   ]
  },
  {
   "cell_type": "markdown",
   "metadata": {},
   "source": [
    "- 成交额"
   ]
  },
  {
   "cell_type": "code",
   "execution_count": 5,
   "metadata": {
    "scrolled": true
   },
   "outputs": [
    {
     "name": "stdout",
     "output_type": "stream",
     "text": [
      "成交额： 64806500.0\n"
     ]
    }
   ],
   "source": [
    "cheng_jiao_sum = df_tz['总投资额'].sum()\n",
    "print('成交额：',cheng_jiao_sum)"
   ]
  },
  {
   "cell_type": "markdown",
   "metadata": {},
   "source": [
    "- 为用户赚取收益"
   ]
  },
  {
   "cell_type": "code",
   "execution_count": 6,
   "metadata": {},
   "outputs": [],
   "source": [
    "df_tz['加息'] = df_tz['加息利率'].str.rstrip('%').astype('float') / 100.0"
   ]
  },
  {
   "cell_type": "code",
   "execution_count": 7,
   "metadata": {
    "scrolled": true
   },
   "outputs": [],
   "source": [
    "df_tz['加息标'] = df_tz['加息'] * df_tz['总投资额'] * df_tz['投资期限'] / 360"
   ]
  },
  {
   "cell_type": "code",
   "execution_count": 8,
   "metadata": {},
   "outputs": [
    {
     "data": {
      "text/plain": [
       "456518.8333333334"
      ]
     },
     "execution_count": 8,
     "metadata": {},
     "output_type": "execute_result"
    }
   ],
   "source": [
    "df_tz['加息标'].sum()"
   ]
  },
  {
   "cell_type": "code",
   "execution_count": 9,
   "metadata": {},
   "outputs": [
    {
     "name": "stdout",
     "output_type": "stream",
     "text": [
      "投资3907662.0400000005 + 佣金204464.21999999997 + 抵用券34374 + 现金券4020 + 加息券370378.54 + 加息标456518.83= 4977417.63\n"
     ]
    }
   ],
   "source": [
    "diyong_quan_sum = df_quan[df_quan['大类']=='抵用券'].金额.sum()\n",
    "xianjin_quan_sum = df_quan[df_quan['大类']=='现金券'].金额.sum()\n",
    "jiaxi_quan_sum = df_quan[df_quan['大类']=='加息券'].成本.sum()\n",
    "\n",
    "jiaxibiao_sum = df_tz['加息标'].sum()\n",
    "tz_shouyi_sum = df_tz['预期收益'].sum()\n",
    "yj_sum = df_yj['佣金金额'].sum()\n",
    "\n",
    "print('投资{0} + 佣金{1} + 抵用券{2} + 现金券{3} + 加息券{4} + 加息标{5:.2f}= {6:.2f}'\n",
    "      .format(tz_shouyi_sum,\n",
    "              yj_sum,\n",
    "              diyong_quan_sum,\n",
    "              xianjin_quan_sum,\n",
    "              jiaxi_quan_sum,\n",
    "              jiaxibiao_sum,\n",
    "              tz_shouyi_sum+yj_sum+diyong_quan_sum+xianjin_quan_sum+jiaxi_quan_sum+jiaxibiao_sum))"
   ]
  },
  {
   "cell_type": "markdown",
   "metadata": {},
   "source": [
    "- 平台累计总交易额"
   ]
  },
  {
   "cell_type": "code",
   "execution_count": 10,
   "metadata": {},
   "outputs": [
    {
     "name": "stdout",
     "output_type": "stream",
     "text": [
      "上月累计成交额2637518384.03\n",
      "\n",
      "平台累计总交易额：上月2637518384.03 + 本月64806500.0 = 2702324884.03\n"
     ]
    }
   ],
   "source": [
    "last = input('上月累计成交额')\n",
    "\n",
    "print('\\n平台累计总交易额：上月{0} + 本月{1} = {2}'\\\n",
    "      .format(float(last),cheng_jiao_sum,float(last) + cheng_jiao_sum))"
   ]
  },
  {
   "cell_type": "markdown",
   "metadata": {},
   "source": [
    "## 3页"
   ]
  },
  {
   "cell_type": "markdown",
   "metadata": {},
   "source": [
    "- 新增用户数"
   ]
  },
  {
   "cell_type": "code",
   "execution_count": 11,
   "metadata": {},
   "outputs": [
    {
     "name": "stdout",
     "output_type": "stream",
     "text": [
      "新增用户数： 1740\n"
     ]
    }
   ],
   "source": [
    "fresh_users = df_zc['用户名'].count()\n",
    "\n",
    "print('新增用户数：',fresh_users)"
   ]
  },
  {
   "cell_type": "markdown",
   "metadata": {},
   "source": [
    "- 累计注册用户数"
   ]
  },
  {
   "cell_type": "code",
   "execution_count": 12,
   "metadata": {},
   "outputs": [
    {
     "name": "stdout",
     "output_type": "stream",
     "text": [
      "上月累计注册用户数250047\n",
      "\n",
      "平台累计注册用户数：上月250047 + 本月1740 = 251787\n"
     ]
    }
   ],
   "source": [
    "last_users = input('上月累计注册用户数')\n",
    "\n",
    "print('\\n平台累计注册用户数：上月{0} + 本月{1} = {2}'\\\n",
    "      .format(int(last_users),fresh_users,int(last_users) + fresh_users))"
   ]
  },
  {
   "cell_type": "markdown",
   "metadata": {},
   "source": [
    "## 4页"
   ]
  },
  {
   "cell_type": "code",
   "execution_count": 13,
   "metadata": {
    "scrolled": true
   },
   "outputs": [
    {
     "data": {
      "text/plain": [
       "array(['安卓端', '苹果端', '微信端', 'Web端'], dtype=object)"
      ]
     },
     "execution_count": 13,
     "metadata": {},
     "output_type": "execute_result"
    }
   ],
   "source": [
    "df_tz['投资来源'].unique()"
   ]
  },
  {
   "cell_type": "markdown",
   "metadata": {},
   "source": [
    "- 移动端投资额"
   ]
  },
  {
   "cell_type": "code",
   "execution_count": 14,
   "metadata": {},
   "outputs": [
    {
     "name": "stdout",
     "output_type": "stream",
     "text": [
      "移动端投资额： 64481400.0\n"
     ]
    }
   ],
   "source": [
    "tz_yidong_sum = df_tz[df_tz['投资来源'].isin(['安卓端','苹果端', '微信端'])].总投资额.sum()\n",
    "\n",
    "print('移动端投资额：',tz_yidong_sum)"
   ]
  },
  {
   "cell_type": "markdown",
   "metadata": {},
   "source": [
    "- 比例"
   ]
  },
  {
   "cell_type": "code",
   "execution_count": 15,
   "metadata": {},
   "outputs": [
    {
     "name": "stdout",
     "output_type": "stream",
     "text": [
      "APP 94.79% , 微信 4.70% , PC 0.50%\n"
     ]
    }
   ],
   "source": [
    "gp = df_tz.groupby('投资来源')['总投资额'].sum()\n",
    "\n",
    "temp = pd.DataFrame(gp)\n",
    "\n",
    "temp['total'] = cheng_jiao_sum\n",
    "\n",
    "temp['percent'] = temp['总投资额'] / temp['total']\n",
    "\n",
    "print('APP {0:.2%} , 微信 {1:.2%} , PC {2:.2%}'.format(\n",
    "    temp.loc['安卓端','percent'] + temp.loc['苹果端','percent'],\n",
    "    temp.loc['微信端','percent'],\n",
    "    temp.loc['Web端','percent']))"
   ]
  },
  {
   "cell_type": "code",
   "execution_count": 16,
   "metadata": {},
   "outputs": [
    {
     "data": {
      "text/plain": [
       "group\n",
       "APP    93.151226\n",
       "PC      0.390823\n",
       "微信      6.457951\n",
       "Name: 总投资额, dtype: float64"
      ]
     },
     "execution_count": 16,
     "metadata": {},
     "output_type": "execute_result"
    }
   ],
   "source": [
    "#方法二：\n",
    "dt = {'安卓端':'APP','苹果端':'APP','微信端':'微信','Web端':'PC'}\n",
    "\n",
    "df_tz['group'] = df_tz['投资来源'].map(dt)\n",
    "grouped = df_tz.groupby('group')['总投资额'].sum()\n",
    "\n",
    "gp_pct = grouped.apply(lambda x : 100 * x / cheng_jiao_sum)\n",
    "gp_pct"
   ]
  },
  {
   "cell_type": "markdown",
   "metadata": {},
   "source": [
    "## 5页"
   ]
  },
  {
   "cell_type": "markdown",
   "metadata": {},
   "source": [
    "- 月度土豪奖"
   ]
  },
  {
   "cell_type": "code",
   "execution_count": 16,
   "metadata": {},
   "outputs": [
    {
     "name": "stdout",
     "output_type": "stream",
     "text": [
      "月度土豪奖:13736167573 | 105万\n"
     ]
    }
   ],
   "source": [
    "gp_tz_1 = df_zht.groupby('手机号码')['总投资金额'].sum().sort_values(ascending=False)\n",
    "\n",
    "phone = gp_tz_1.index[0]\n",
    "num = gp_tz_1.iloc[0]\n",
    "\n",
    "print('月度土豪奖:{0} | {1:.0f}万'.format(phone,num/10000))"
   ]
  },
  {
   "cell_type": "markdown",
   "metadata": {},
   "source": [
    "- 月度勤恳奖"
   ]
  },
  {
   "cell_type": "code",
   "execution_count": 17,
   "metadata": {},
   "outputs": [
    {
     "name": "stdout",
     "output_type": "stream",
     "text": [
      "月度勤恳奖:13906642150 | 174次\n"
     ]
    }
   ],
   "source": [
    "gp_tz_2 = df_zht.groupby('手机号码')['总投资金额'].count().sort_values(ascending=False)\n",
    "\n",
    "phone = gp_tz_2.index[0]\n",
    "num = gp_tz_2.iloc[0]\n",
    "\n",
    "print('月度勤恳奖:{0} | {1}次'.format(phone,num))"
   ]
  },
  {
   "cell_type": "markdown",
   "metadata": {},
   "source": [
    "- 月度收获奖"
   ]
  },
  {
   "cell_type": "code",
   "execution_count": 18,
   "metadata": {},
   "outputs": [
    {
     "name": "stdout",
     "output_type": "stream",
     "text": [
      "月度收获奖:18066446644 | 15万\n"
     ]
    }
   ],
   "source": [
    "df_zht['profit'] = df_zht['预期利息']+df_zht['抵用券成本']+df_zht['加息券成本']+df_zht['加息标成本']\n",
    "\n",
    "gp_tz_3 = df_zht.groupby('手机号码')['profit'].sum().sort_values(ascending=False)\n",
    "\n",
    "phone = gp_tz_3.index[0]\n",
    "num = gp_tz_3.iloc[0]\n",
    "\n",
    "print('月度收获奖:{0} | {1:.0f}万'.format(phone,num/10000))"
   ]
  },
  {
   "cell_type": "markdown",
   "metadata": {},
   "source": [
    "- 月度人气奖"
   ]
  },
  {
   "cell_type": "code",
   "execution_count": 19,
   "metadata": {},
   "outputs": [
    {
     "name": "stdout",
     "output_type": "stream",
     "text": [
      "月度人气奖:13586569978 | 117人\n"
     ]
    }
   ],
   "source": [
    "gp_zc_1 = df_zc.groupby('邀请人')['用户名'].count().sort_values(ascending=False)\n",
    "\n",
    "phone = gp_zc_1.index[0]\n",
    "num = gp_zc_1.iloc[0]\n",
    "\n",
    "print('月度人气奖:{0:.0f} | {1}人'.format(phone,num))"
   ]
  },
  {
   "cell_type": "markdown",
   "metadata": {},
   "source": [
    "## 6页"
   ]
  },
  {
   "cell_type": "markdown",
   "metadata": {},
   "source": [
    "- “壕”气冲天"
   ]
  },
  {
   "cell_type": "code",
   "execution_count": 20,
   "metadata": {},
   "outputs": [
    {
     "name": "stdout",
     "output_type": "stream",
     "text": [
      "“壕”气冲天:VIP7 | 82万\n"
     ]
    }
   ],
   "source": [
    "gp_tz_4 = df_tz.groupby('投资时会员类型')['总投资额'].sum()\n",
    "# print(gp_tz_4)\n",
    "\n",
    "gp_tz_5 = df_tz.groupby('投资时会员类型')['投资用户'].nunique()\n",
    "# print(gp_tz_5)\n",
    "\n",
    "gp_tz_6 = pd.concat([gp_tz_4, gp_tz_5], axis=1)\n",
    "gp_tz_6['avg'] = gp_tz_6['总投资额'] / gp_tz_6['投资用户']\n",
    "gp_tz_6.sort_values(by = 'avg',ascending = False,inplace = True)\n",
    "\n",
    "vip = gp_tz_6.index[0]\n",
    "num = gp_tz_6.iloc[0,2]\n",
    "\n",
    "print('“壕”气冲天:{0} | {1:.0f}万'.format(vip,num/10000))"
   ]
  },
  {
   "cell_type": "markdown",
   "metadata": {},
   "source": [
    "- “勇”争先锋"
   ]
  },
  {
   "cell_type": "code",
   "execution_count": 21,
   "metadata": {},
   "outputs": [
    {
     "name": "stdout",
     "output_type": "stream",
     "text": [
      "“勇”争先锋:VIP2 | 1724万\n"
     ]
    }
   ],
   "source": [
    "gp_tz_4.sort_values(ascending = False,inplace = True)\n",
    "\n",
    "vip = gp_tz_4.index[0]\n",
    "num = gp_tz_4.iloc[0]\n",
    "\n",
    "print('“勇”争先锋:{0} | {1:.0f}万'.format(vip,num/10000))"
   ]
  },
  {
   "cell_type": "markdown",
   "metadata": {},
   "source": [
    "- VIP用户升级情况"
   ]
  },
  {
   "cell_type": "code",
   "execution_count": 22,
   "metadata": {
    "scrolled": true
   },
   "outputs": [
    {
     "name": "stdout",
     "output_type": "stream",
     "text": [
      "362位用户的VIP等级提升，其中：\n",
      "\n"
     ]
    },
    {
     "name": "stderr",
     "output_type": "stream",
     "text": [
      "c:\\users\\dragon\\appdata\\local\\programs\\python\\python37-32\\lib\\site-packages\\ipykernel_launcher.py:4: SettingWithCopyWarning: \n",
      "A value is trying to be set on a copy of a slice from a DataFrame\n",
      "\n",
      "See the caveats in the documentation: http://pandas.pydata.org/pandas-docs/stable/indexing.html#indexing-view-versus-copy\n",
      "  after removing the cwd from sys.path.\n",
      "c:\\users\\dragon\\appdata\\local\\programs\\python\\python37-32\\lib\\site-packages\\ipykernel_launcher.py:5: SettingWithCopyWarning: \n",
      "A value is trying to be set on a copy of a slice from a DataFrame\n",
      "\n",
      "See the caveats in the documentation: http://pandas.pydata.org/pandas-docs/stable/indexing.html#indexing-view-versus-copy\n",
      "  \"\"\"\n"
     ]
    },
    {
     "data": {
      "text/plain": [
       "VIP 升级人数\n",
       "1    155\n",
       "2    111\n",
       "3     58\n",
       "4     18\n",
       "5     20\n",
       "Name: 用户名, dtype: int64"
      ]
     },
     "execution_count": 22,
     "metadata": {},
     "output_type": "execute_result"
    }
   ],
   "source": [
    "df_vip_up = df_vip[df_vip['变动原因'] == '升级']\n",
    "# df_vip_up['变动原因'].unique()\n",
    "\n",
    "df_vip_up.sort_values(by = '变动后等级',ascending = False,inplace = True)\n",
    "df_vip_up.drop_duplicates(subset=['用户名'],inplace = True)\n",
    "\n",
    "# df_vip_up.info()\n",
    "gp_vip = df_vip_up.groupby('变动后等级')['用户名'].count()\n",
    "gp_vip.index.name = 'VIP 升级人数' \n",
    "\n",
    "print('{0}位用户的VIP等级提升，其中：\\n'.format(gp_vip.sum()))\n",
    "gp_vip"
   ]
  }
 ],
 "metadata": {
  "kernelspec": {
   "display_name": "Python 3",
   "language": "python",
   "name": "python3"
  },
  "language_info": {
   "codemirror_mode": {
    "name": "ipython",
    "version": 3
   },
   "file_extension": ".py",
   "mimetype": "text/x-python",
   "name": "python",
   "nbconvert_exporter": "python",
   "pygments_lexer": "ipython3",
   "version": "3.7.2"
  }
 },
 "nbformat": 4,
 "nbformat_minor": 2
}
