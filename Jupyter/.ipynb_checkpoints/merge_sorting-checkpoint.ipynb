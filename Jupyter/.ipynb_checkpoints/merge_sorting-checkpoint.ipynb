{
 "cells": [
  {
   "cell_type": "markdown",
   "metadata": {},
   "source": [
    "### 导入库"
   ]
  },
  {
   "cell_type": "code",
   "execution_count": 2,
   "metadata": {},
   "outputs": [],
   "source": [
    "import os\n",
    "import pandas as pd"
   ]
  },
  {
   "cell_type": "markdown",
   "metadata": {},
   "source": [
    "切换工作目录"
   ]
  },
  {
   "cell_type": "code",
   "execution_count": 5,
   "metadata": {},
   "outputs": [],
   "source": [
    "os.chdir(r'D:\\小鸡理财\\百度云同步盘\\小鸡理财\\会员列表\\存管')"
   ]
  },
  {
   "cell_type": "raw",
   "metadata": {},
   "source": [
    "导入excel"
   ]
  },
  {
   "cell_type": "code",
   "execution_count": 7,
   "metadata": {},
   "outputs": [
    {
     "name": "stdout",
     "output_type": "stream",
     "text": [
      "---------------------------read_ok---------------------------\n"
     ]
    }
   ],
   "source": [
    "with pd.ExcelFile('汇总（截止2018.8.31-提取5.24 12：00）.xlsx') as xlsx:\n",
    "    df_org = pd.read_excel(xlsx,'原始数据')\n",
    "    df_yw = pd.read_excel(xlsx,'业务员')\t\t#业务员\n",
    "    df_tg = pd.read_excel(xlsx,'推广')\t\t#推广\n",
    "    \n",
    "print('---------------------------read_ok---------------------------')"
   ]
  },
  {
   "cell_type": "raw",
   "metadata": {},
   "source": [
    "给需要合并的两张表做个标记，方便后面统计"
   ]
  },
  {
   "cell_type": "code",
   "execution_count": 10,
   "metadata": {},
   "outputs": [],
   "source": [
    "df2['mark_2'] = 1\n",
    "df3['mark_3'] = 1"
   ]
  },
  {
   "cell_type": "raw",
   "metadata": {},
   "source": [
    "合并表格"
   ]
  },
  {
   "cell_type": "code",
   "execution_count": 15,
   "metadata": {
    "collapsed": true
   },
   "outputs": [],
   "source": [
    "df4 = pd.merge(df1,df2,how = 'left',left_on = '邀请人',right_on = '业务员')\n",
    "df5 = pd.merge(df4,df3,how = 'left',left_on = '用户名',right_on = '推广渠道用户名')"
   ]
  },
  {
   "cell_type": "raw",
   "metadata": {},
   "source": [
    "筛选业务员和推广渠道用户，并对原始邀请渠道进行修改"
   ]
  },
  {
   "cell_type": "code",
   "execution_count": 17,
   "metadata": {
    "collapsed": true
   },
   "outputs": [],
   "source": [
    "df5['mark_2'] = df5['mark_2'].fillna(df5['邀请渠道'])\n",
    "df5['mark_2'] = df5['mark_2'].replace(1,'业务邀请')\n",
    "\n",
    "df5['mark_3'] = df5['mark_3'].fillna(df5['mark_2'])\n",
    "df5['mark_3'] = df5['mark_3'].replace(1,'推广渠道')"
   ]
  },
  {
   "cell_type": "raw",
   "metadata": {},
   "source": [
    "进一步修改列名，去掉无关列"
   ]
  },
  {
   "cell_type": "code",
   "execution_count": 27,
   "metadata": {
    "scrolled": true
   },
   "outputs": [
    {
     "name": "stdout",
     "output_type": "stream",
     "text": [
      "Index(['用户名', '真实姓名', '邀请人', '手机号码', '所属公司', '注册时间', 'ip', '归属地', '注册来源', '渠道',\n",
      "       '邀请渠道', '身份证', '业务员', 'mark_2', '推广渠道用户名', 'new_邀请渠道'],\n",
      "      dtype='object')\n"
     ]
    }
   ],
   "source": [
    "reslut = df5.rename(columns={'mark_3' : 'new_邀请渠道'})\n",
    "print(reslut.columns)"
   ]
  },
  {
   "cell_type": "code",
   "execution_count": 29,
   "metadata": {
    "scrolled": true
   },
   "outputs": [
    {
     "data": {
      "text/plain": [
       "Index(['用户名', '真实姓名', '邀请人', '手机号码', '所属公司', '注册时间', 'ip', '归属地', '注册来源', '渠道',\n",
       "       '邀请渠道', '身份证', 'new_邀请渠道'],\n",
       "      dtype='object')"
      ]
     },
     "execution_count": 29,
     "metadata": {},
     "output_type": "execute_result"
    }
   ],
   "source": [
    "reslut.drop(['业务员','mark_2','推广渠道用户名'],axis = 1,inplace = True)\n",
    "reslut.columns"
   ]
  },
  {
   "cell_type": "raw",
   "metadata": {},
   "source": [
    "输出表格"
   ]
  },
  {
   "cell_type": "code",
   "execution_count": 30,
   "metadata": {},
   "outputs": [
    {
     "name": "stdout",
     "output_type": "stream",
     "text": [
      "---------------------------write_ok---------------------------\n"
     ]
    }
   ],
   "source": [
    "with pd.ExcelWriter('a1-1.xlsx') as writer:\n",
    "    reslut.to_excel(writer,sheet_name = 'result',index = False)\n",
    "\n",
    "   \n",
    "print('---------------------------write_ok---------------------------')"
   ]
  }
 ],
 "metadata": {
  "kernelspec": {
   "display_name": "Python 3",
   "language": "python",
   "name": "python3"
  },
  "language_info": {
   "codemirror_mode": {
    "name": "ipython",
    "version": 3
   },
   "file_extension": ".py",
   "mimetype": "text/x-python",
   "name": "python",
   "nbconvert_exporter": "python",
   "pygments_lexer": "ipython3",
   "version": "3.6.5"
  }
 },
 "nbformat": 4,
 "nbformat_minor": 2
}
