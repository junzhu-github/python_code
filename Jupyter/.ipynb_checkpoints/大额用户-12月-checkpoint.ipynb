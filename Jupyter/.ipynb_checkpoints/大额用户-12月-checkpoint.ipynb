{
 "cells": [
  {
   "cell_type": "code",
   "execution_count": 1,
   "metadata": {},
   "outputs": [],
   "source": [
    "import os\n",
    "import pandas as pd\n",
    "import numpy as np\n",
    "# import matplotlib.pyplot as plt\n",
    "# import seaborn as sns\n",
    "# %matplotlib inline"
   ]
  },
  {
   "cell_type": "code",
   "execution_count": 2,
   "metadata": {},
   "outputs": [],
   "source": [
    "# from pylab import mpl\n",
    "\n",
    "# mpl.rcParams['font.sans-serif'] = ['Microsoft YaHei'] # 指定默认字体\n",
    "# mpl.rcParams['axes.unicode_minus'] = False # 解决保存图像是负号'-'显示为方块的问题"
   ]
  },
  {
   "cell_type": "code",
   "execution_count": 3,
   "metadata": {},
   "outputs": [],
   "source": [
    "with pd.ExcelFile(r\"C:\\百度云同步盘\\小鸡理财\\数据报告\\用户类报告\\大额用户\\12月版本\\大额用户1.xlsx\") as xlsx:\n",
    "#     df_kt = pd.read_excel(xlsx,'存管开通')\n",
    "    df_md = pd.read_excel(xlsx,'名单')\n",
    "    df_tz = pd.read_excel(xlsx,'投资')\n",
    "#     df_cg_zht = pd.read_excel(xlsx,'智慧投')\n",
    "#     df_jd_tz = pd.read_excel(xlsx,'经典投资')\n",
    "    df_hk = pd.read_excel(xlsx,'经典回款')\n",
    "#     df_jd_cz = pd.read_excel(xlsx,'经典充值')\n",
    "    df_cz = pd.read_excel(xlsx,'充值')\n",
    "#     df_cg_hk = pd.read_excel(xlsx,'存管回款')"
   ]
  },
  {
   "cell_type": "code",
   "execution_count": 4,
   "metadata": {},
   "outputs": [],
   "source": [
    "df_hk['身份证'] = df_hk['身份证'].str.upper()\n",
    "df_md['身份证'] = df_md['身份证'].str.upper()"
   ]
  },
  {
   "cell_type": "code",
   "execution_count": 6,
   "metadata": {},
   "outputs": [],
   "source": [
    "df_hk = pd.merge(df_hk,df_md,\n",
    "                on = '身份证',\n",
    "                how='left')"
   ]
  },
  {
   "cell_type": "code",
   "execution_count": null,
   "metadata": {},
   "outputs": [],
   "source": [
    "discard_hk = df_hk.loc[df_hk['用户名'].isnull()]"
   ]
  },
  {
   "cell_type": "code",
   "execution_count": null,
   "metadata": {},
   "outputs": [],
   "source": [
    "discard_hk.head()"
   ]
  },
  {
   "cell_type": "code",
   "execution_count": 7,
   "metadata": {},
   "outputs": [],
   "source": [
    "df_hk = df_hk.loc[df_hk['用户名'].notnull()]"
   ]
  },
  {
   "cell_type": "code",
   "execution_count": 9,
   "metadata": {},
   "outputs": [
    {
     "data": {
      "text/html": [
       "<div>\n",
       "<style scoped>\n",
       "    .dataframe tbody tr th:only-of-type {\n",
       "        vertical-align: middle;\n",
       "    }\n",
       "\n",
       "    .dataframe tbody tr th {\n",
       "        vertical-align: top;\n",
       "    }\n",
       "\n",
       "    .dataframe thead th {\n",
       "        text-align: right;\n",
       "    }\n",
       "</style>\n",
       "<table border=\"1\" class=\"dataframe\">\n",
       "  <thead>\n",
       "    <tr style=\"text-align: right;\">\n",
       "      <th></th>\n",
       "      <th>身份证</th>\n",
       "      <th>发放时间</th>\n",
       "      <th>回款金额</th>\n",
       "      <th>用户名</th>\n",
       "    </tr>\n",
       "  </thead>\n",
       "  <tbody>\n",
       "    <tr>\n",
       "      <th>0</th>\n",
       "      <td>110101195705155011</td>\n",
       "      <td>2018-03-17</td>\n",
       "      <td>22.50</td>\n",
       "      <td>XJLC_1015623946910d5d</td>\n",
       "    </tr>\n",
       "    <tr>\n",
       "      <th>1</th>\n",
       "      <td>110101195705155011</td>\n",
       "      <td>2018-03-18</td>\n",
       "      <td>9.58</td>\n",
       "      <td>XJLC_1015623946910d5d</td>\n",
       "    </tr>\n",
       "    <tr>\n",
       "      <th>2</th>\n",
       "      <td>110101195705155011</td>\n",
       "      <td>2018-04-17</td>\n",
       "      <td>22.50</td>\n",
       "      <td>XJLC_1015623946910d5d</td>\n",
       "    </tr>\n",
       "    <tr>\n",
       "      <th>3</th>\n",
       "      <td>110101195705155011</td>\n",
       "      <td>2018-04-18</td>\n",
       "      <td>1009.60</td>\n",
       "      <td>XJLC_1015623946910d5d</td>\n",
       "    </tr>\n",
       "    <tr>\n",
       "      <th>4</th>\n",
       "      <td>110101195705155011</td>\n",
       "      <td>2018-05-17</td>\n",
       "      <td>22.50</td>\n",
       "      <td>XJLC_1015623946910d5d</td>\n",
       "    </tr>\n",
       "  </tbody>\n",
       "</table>\n",
       "</div>"
      ],
      "text/plain": [
       "                  身份证       发放时间     回款金额                    用户名\n",
       "0  110101195705155011 2018-03-17    22.50  XJLC_1015623946910d5d\n",
       "1  110101195705155011 2018-03-18     9.58  XJLC_1015623946910d5d\n",
       "2  110101195705155011 2018-04-17    22.50  XJLC_1015623946910d5d\n",
       "3  110101195705155011 2018-04-18  1009.60  XJLC_1015623946910d5d\n",
       "4  110101195705155011 2018-05-17    22.50  XJLC_1015623946910d5d"
      ]
     },
     "execution_count": 9,
     "metadata": {},
     "output_type": "execute_result"
    }
   ],
   "source": [
    "df_hk.head()"
   ]
  },
  {
   "cell_type": "code",
   "execution_count": null,
   "metadata": {},
   "outputs": [],
   "source": []
  },
  {
   "cell_type": "code",
   "execution_count": 10,
   "metadata": {},
   "outputs": [],
   "source": [
    "df_hk.rename(columns={'发放时间':'时间','用户名':'会员名'},inplace=True)\n",
    "df_cz.rename(columns={'成功时间':'时间'},inplace=True)\n",
    "df_tz.rename(columns={'投资时间':'时间','投资用户':'会员名'},inplace=True)"
   ]
  },
  {
   "cell_type": "code",
   "execution_count": 11,
   "metadata": {},
   "outputs": [
    {
     "data": {
      "text/html": [
       "<div>\n",
       "<style scoped>\n",
       "    .dataframe tbody tr th:only-of-type {\n",
       "        vertical-align: middle;\n",
       "    }\n",
       "\n",
       "    .dataframe tbody tr th {\n",
       "        vertical-align: top;\n",
       "    }\n",
       "\n",
       "    .dataframe thead th {\n",
       "        text-align: right;\n",
       "    }\n",
       "</style>\n",
       "<table border=\"1\" class=\"dataframe\">\n",
       "  <thead>\n",
       "    <tr style=\"text-align: right;\">\n",
       "      <th></th>\n",
       "      <th>身份证</th>\n",
       "      <th>时间</th>\n",
       "      <th>回款金额</th>\n",
       "      <th>会员名</th>\n",
       "    </tr>\n",
       "  </thead>\n",
       "  <tbody>\n",
       "    <tr>\n",
       "      <th>35461</th>\n",
       "      <td>330283198811046729</td>\n",
       "      <td>2018-03-05</td>\n",
       "      <td>22192.50</td>\n",
       "      <td>XJLC_24063240009a6acd</td>\n",
       "    </tr>\n",
       "    <tr>\n",
       "      <th>42504</th>\n",
       "      <td>332621196810203046</td>\n",
       "      <td>2018-03-05</td>\n",
       "      <td>17.50</td>\n",
       "      <td>XJLC_798299702fc4b6</td>\n",
       "    </tr>\n",
       "    <tr>\n",
       "      <th>2724</th>\n",
       "      <td>140202196211024515</td>\n",
       "      <td>2018-03-05</td>\n",
       "      <td>1210.50</td>\n",
       "      <td>XJLC_48040143499b7710</td>\n",
       "    </tr>\n",
       "    <tr>\n",
       "      <th>42412</th>\n",
       "      <td>332621196505171260</td>\n",
       "      <td>2018-03-05</td>\n",
       "      <td>772.49</td>\n",
       "      <td>XJLC_9183410883764ee0</td>\n",
       "    </tr>\n",
       "    <tr>\n",
       "      <th>42235</th>\n",
       "      <td>332602197503215819</td>\n",
       "      <td>2018-03-05</td>\n",
       "      <td>2.87</td>\n",
       "      <td>XJLC_63467343881a688</td>\n",
       "    </tr>\n",
       "  </tbody>\n",
       "</table>\n",
       "</div>"
      ],
      "text/plain": [
       "                      身份证         时间      回款金额                    会员名\n",
       "35461  330283198811046729 2018-03-05  22192.50  XJLC_24063240009a6acd\n",
       "42504  332621196810203046 2018-03-05     17.50    XJLC_798299702fc4b6\n",
       "2724   140202196211024515 2018-03-05   1210.50  XJLC_48040143499b7710\n",
       "42412  332621196505171260 2018-03-05    772.49  XJLC_9183410883764ee0\n",
       "42235  332602197503215819 2018-03-05      2.87   XJLC_63467343881a688"
      ]
     },
     "execution_count": 11,
     "metadata": {},
     "output_type": "execute_result"
    }
   ],
   "source": [
    "df_hk = df_hk.sort_values(by='时间')\n",
    "df_hk.head()"
   ]
  },
  {
   "cell_type": "code",
   "execution_count": 12,
   "metadata": {},
   "outputs": [
    {
     "data": {
      "text/html": [
       "<div>\n",
       "<style scoped>\n",
       "    .dataframe tbody tr th:only-of-type {\n",
       "        vertical-align: middle;\n",
       "    }\n",
       "\n",
       "    .dataframe tbody tr th {\n",
       "        vertical-align: top;\n",
       "    }\n",
       "\n",
       "    .dataframe thead th {\n",
       "        text-align: right;\n",
       "    }\n",
       "</style>\n",
       "<table border=\"1\" class=\"dataframe\">\n",
       "  <thead>\n",
       "    <tr style=\"text-align: right;\">\n",
       "      <th></th>\n",
       "      <th>会员名</th>\n",
       "      <th>时间</th>\n",
       "      <th>充值金额</th>\n",
       "    </tr>\n",
       "  </thead>\n",
       "  <tbody>\n",
       "    <tr>\n",
       "      <th>12828</th>\n",
       "      <td>XJLC_56645135463d89a7</td>\n",
       "      <td>2018-03-06</td>\n",
       "      <td>3001.0</td>\n",
       "    </tr>\n",
       "    <tr>\n",
       "      <th>2334</th>\n",
       "      <td>XJLC_1871769633f635e</td>\n",
       "      <td>2018-03-06</td>\n",
       "      <td>3963.0</td>\n",
       "    </tr>\n",
       "    <tr>\n",
       "      <th>1090</th>\n",
       "      <td>XJLC_136441596749b136</td>\n",
       "      <td>2018-03-06</td>\n",
       "      <td>3000.0</td>\n",
       "    </tr>\n",
       "    <tr>\n",
       "      <th>15034</th>\n",
       "      <td>XJLC_65914784814e484</td>\n",
       "      <td>2018-03-06</td>\n",
       "      <td>8.0</td>\n",
       "    </tr>\n",
       "    <tr>\n",
       "      <th>1081</th>\n",
       "      <td>XJLC_136072611557f0e0</td>\n",
       "      <td>2018-03-06</td>\n",
       "      <td>2079.0</td>\n",
       "    </tr>\n",
       "  </tbody>\n",
       "</table>\n",
       "</div>"
      ],
      "text/plain": [
       "                         会员名         时间    充值金额\n",
       "12828  XJLC_56645135463d89a7 2018-03-06  3001.0\n",
       "2334    XJLC_1871769633f635e 2018-03-06  3963.0\n",
       "1090   XJLC_136441596749b136 2018-03-06  3000.0\n",
       "15034   XJLC_65914784814e484 2018-03-06     8.0\n",
       "1081   XJLC_136072611557f0e0 2018-03-06  2079.0"
      ]
     },
     "execution_count": 12,
     "metadata": {},
     "output_type": "execute_result"
    }
   ],
   "source": [
    "df_cz = df_cz.sort_values(by='时间')\n",
    "df_cz.head()"
   ]
  },
  {
   "cell_type": "code",
   "execution_count": 13,
   "metadata": {},
   "outputs": [
    {
     "data": {
      "text/html": [
       "<div>\n",
       "<style scoped>\n",
       "    .dataframe tbody tr th:only-of-type {\n",
       "        vertical-align: middle;\n",
       "    }\n",
       "\n",
       "    .dataframe tbody tr th {\n",
       "        vertical-align: top;\n",
       "    }\n",
       "\n",
       "    .dataframe thead th {\n",
       "        text-align: right;\n",
       "    }\n",
       "</style>\n",
       "<table border=\"1\" class=\"dataframe\">\n",
       "  <thead>\n",
       "    <tr style=\"text-align: right;\">\n",
       "      <th></th>\n",
       "      <th>会员名</th>\n",
       "      <th>时间</th>\n",
       "      <th>新充投资</th>\n",
       "    </tr>\n",
       "  </thead>\n",
       "  <tbody>\n",
       "    <tr>\n",
       "      <th>0</th>\n",
       "      <td>XJLC_10359242309825cb</td>\n",
       "      <td>2018-03-06</td>\n",
       "      <td>100.0</td>\n",
       "    </tr>\n",
       "    <tr>\n",
       "      <th>180</th>\n",
       "      <td>XJLC_67225231248c4eaf</td>\n",
       "      <td>2018-03-06</td>\n",
       "      <td>10000.0</td>\n",
       "    </tr>\n",
       "    <tr>\n",
       "      <th>181</th>\n",
       "      <td>XJLC_67507132067568a9</td>\n",
       "      <td>2018-03-06</td>\n",
       "      <td>1000.0</td>\n",
       "    </tr>\n",
       "    <tr>\n",
       "      <th>182</th>\n",
       "      <td>XJLC_6750756184fb6fa</td>\n",
       "      <td>2018-03-06</td>\n",
       "      <td>100.0</td>\n",
       "    </tr>\n",
       "    <tr>\n",
       "      <th>183</th>\n",
       "      <td>XJLC_682682605374dbf5</td>\n",
       "      <td>2018-03-06</td>\n",
       "      <td>10000.0</td>\n",
       "    </tr>\n",
       "  </tbody>\n",
       "</table>\n",
       "</div>"
      ],
      "text/plain": [
       "                       会员名         时间     新充投资\n",
       "0    XJLC_10359242309825cb 2018-03-06    100.0\n",
       "180  XJLC_67225231248c4eaf 2018-03-06  10000.0\n",
       "181  XJLC_67507132067568a9 2018-03-06   1000.0\n",
       "182   XJLC_6750756184fb6fa 2018-03-06    100.0\n",
       "183  XJLC_682682605374dbf5 2018-03-06  10000.0"
      ]
     },
     "execution_count": 13,
     "metadata": {},
     "output_type": "execute_result"
    }
   ],
   "source": [
    "df_tz = df_tz.sort_values(by='时间')\n",
    "df_tz.head()"
   ]
  },
  {
   "cell_type": "code",
   "execution_count": 14,
   "metadata": {},
   "outputs": [],
   "source": [
    "df_hk['时间'] = df_hk['时间'].astype(str)\n",
    "df_cz['时间'] = df_cz['时间'].astype(str)\n",
    "df_tz['时间'] = df_tz['时间'].astype(str)"
   ]
  },
  {
   "cell_type": "code",
   "execution_count": 15,
   "metadata": {},
   "outputs": [],
   "source": [
    "gp_big_temp = pd.merge(df_hk,df_cz,on = ['时间','会员名'],how = 'outer')\n",
    "gp_big_hcxt = pd.merge(gp_big_temp,df_tz,on = ['时间','会员名'],how = 'outer')"
   ]
  },
  {
   "cell_type": "code",
   "execution_count": null,
   "metadata": {},
   "outputs": [],
   "source": [
    "gp_big_hcxt.head(10)"
   ]
  },
  {
   "cell_type": "code",
   "execution_count": 16,
   "metadata": {},
   "outputs": [],
   "source": [
    "gp_big_hcxt.fillna(0,inplace=True)"
   ]
  },
  {
   "cell_type": "code",
   "execution_count": 17,
   "metadata": {},
   "outputs": [],
   "source": [
    "md = df_hk['会员名'].unique()"
   ]
  },
  {
   "cell_type": "code",
   "execution_count": null,
   "metadata": {},
   "outputs": [],
   "source": [
    "# ！扩充每个用户的数据到20180301-20181231的每一天"
   ]
  },
  {
   "cell_type": "code",
   "execution_count": 18,
   "metadata": {},
   "outputs": [
    {
     "data": {
      "text/html": [
       "<div>\n",
       "<style scoped>\n",
       "    .dataframe tbody tr th:only-of-type {\n",
       "        vertical-align: middle;\n",
       "    }\n",
       "\n",
       "    .dataframe tbody tr th {\n",
       "        vertical-align: top;\n",
       "    }\n",
       "\n",
       "    .dataframe thead th {\n",
       "        text-align: right;\n",
       "    }\n",
       "</style>\n",
       "<table border=\"1\" class=\"dataframe\">\n",
       "  <thead>\n",
       "    <tr style=\"text-align: right;\">\n",
       "      <th></th>\n",
       "      <th>时间</th>\n",
       "      <th>会员名</th>\n",
       "    </tr>\n",
       "  </thead>\n",
       "  <tbody>\n",
       "    <tr>\n",
       "      <th>0</th>\n",
       "      <td>2018-03-05</td>\n",
       "      <td>XJLC_24063240009a6acd</td>\n",
       "    </tr>\n",
       "    <tr>\n",
       "      <th>1</th>\n",
       "      <td>2018-03-05</td>\n",
       "      <td>XJLC_798299702fc4b6</td>\n",
       "    </tr>\n",
       "    <tr>\n",
       "      <th>2</th>\n",
       "      <td>2018-03-05</td>\n",
       "      <td>XJLC_48040143499b7710</td>\n",
       "    </tr>\n",
       "    <tr>\n",
       "      <th>3</th>\n",
       "      <td>2018-03-05</td>\n",
       "      <td>XJLC_9183410883764ee0</td>\n",
       "    </tr>\n",
       "    <tr>\n",
       "      <th>4</th>\n",
       "      <td>2018-03-05</td>\n",
       "      <td>XJLC_63467343881a688</td>\n",
       "    </tr>\n",
       "  </tbody>\n",
       "</table>\n",
       "</div>"
      ],
      "text/plain": [
       "          时间                    会员名\n",
       "0 2018-03-05  XJLC_24063240009a6acd\n",
       "1 2018-03-05    XJLC_798299702fc4b6\n",
       "2 2018-03-05  XJLC_48040143499b7710\n",
       "3 2018-03-05  XJLC_9183410883764ee0\n",
       "4 2018-03-05   XJLC_63467343881a688"
      ]
     },
     "execution_count": 18,
     "metadata": {},
     "output_type": "execute_result"
    }
   ],
   "source": [
    "time = pd.DataFrame({'时间':pd.date_range(start='20180305', end='20181231', freq='D')})\n",
    "\n",
    "#构造一个二级行索引，使得每人对应20180305-20181231的每一天\n",
    "index = pd.MultiIndex.from_product([time['时间'],md], names = ['时间','会员名'])\n",
    "s = pd.Series(1,index=index)\n",
    "\n",
    "df_big_time = s.to_frame().reset_index()\n",
    "del df_big_time[0]\n",
    "df_big_time.head()"
   ]
  },
  {
   "cell_type": "code",
   "execution_count": null,
   "metadata": {},
   "outputs": [],
   "source": [
    "df_big_time.info()"
   ]
  },
  {
   "cell_type": "code",
   "execution_count": 19,
   "metadata": {},
   "outputs": [],
   "source": [
    "df_big_time['时间'] = df_big_time['时间'].astype(str)"
   ]
  },
  {
   "cell_type": "code",
   "execution_count": 20,
   "metadata": {},
   "outputs": [],
   "source": [
    "gp_big_hcxt_0 = pd.merge(df_big_time,gp_big_hcxt,on=['时间','会员名'],how='left')"
   ]
  },
  {
   "cell_type": "code",
   "execution_count": 21,
   "metadata": {},
   "outputs": [],
   "source": [
    "gp_big_hcxt_0.fillna(0,inplace=True)"
   ]
  },
  {
   "cell_type": "code",
   "execution_count": 24,
   "metadata": {},
   "outputs": [
    {
     "data": {
      "text/plain": [
       "时间      datetime64[ns]\n",
       "会员名             object\n",
       "身份证             object\n",
       "回款金额           float64\n",
       "充值金额           float64\n",
       "新充投资           float64\n",
       "dtype: object"
      ]
     },
     "execution_count": 24,
     "metadata": {},
     "output_type": "execute_result"
    }
   ],
   "source": [
    "gp_big_hcxt_0.dtypes"
   ]
  },
  {
   "cell_type": "code",
   "execution_count": 23,
   "metadata": {},
   "outputs": [],
   "source": [
    "gp_big_hcxt_0['时间'] = pd.to_datetime(gp_big_hcxt_0['时间'])"
   ]
  },
  {
   "cell_type": "code",
   "execution_count": 26,
   "metadata": {},
   "outputs": [
    {
     "data": {
      "text/html": [
       "<div>\n",
       "<style scoped>\n",
       "    .dataframe tbody tr th:only-of-type {\n",
       "        vertical-align: middle;\n",
       "    }\n",
       "\n",
       "    .dataframe tbody tr th {\n",
       "        vertical-align: top;\n",
       "    }\n",
       "\n",
       "    .dataframe thead th {\n",
       "        text-align: right;\n",
       "    }\n",
       "</style>\n",
       "<table border=\"1\" class=\"dataframe\">\n",
       "  <thead>\n",
       "    <tr style=\"text-align: right;\">\n",
       "      <th></th>\n",
       "      <th>时间</th>\n",
       "      <th>会员名</th>\n",
       "      <th>身份证</th>\n",
       "      <th>回款金额</th>\n",
       "      <th>充值金额</th>\n",
       "      <th>新充投资</th>\n",
       "    </tr>\n",
       "  </thead>\n",
       "  <tbody>\n",
       "    <tr>\n",
       "      <th>1430866</th>\n",
       "      <td>2018-12-31</td>\n",
       "      <td>XJLC_8106923807061a48</td>\n",
       "      <td>0</td>\n",
       "      <td>0.0</td>\n",
       "      <td>0.0</td>\n",
       "      <td>0.0</td>\n",
       "    </tr>\n",
       "    <tr>\n",
       "      <th>1430867</th>\n",
       "      <td>2018-12-31</td>\n",
       "      <td>XJLC_27008253677118bd</td>\n",
       "      <td>0</td>\n",
       "      <td>0.0</td>\n",
       "      <td>0.0</td>\n",
       "      <td>0.0</td>\n",
       "    </tr>\n",
       "    <tr>\n",
       "      <th>1430868</th>\n",
       "      <td>2018-12-31</td>\n",
       "      <td>XJLC_54774140686b02ef</td>\n",
       "      <td>0</td>\n",
       "      <td>0.0</td>\n",
       "      <td>0.0</td>\n",
       "      <td>0.0</td>\n",
       "    </tr>\n",
       "    <tr>\n",
       "      <th>1430869</th>\n",
       "      <td>2018-12-31</td>\n",
       "      <td>XJLC_8437115982672405</td>\n",
       "      <td>0</td>\n",
       "      <td>0.0</td>\n",
       "      <td>0.0</td>\n",
       "      <td>0.0</td>\n",
       "    </tr>\n",
       "    <tr>\n",
       "      <th>1430870</th>\n",
       "      <td>2018-12-31</td>\n",
       "      <td>XJLC_32164119257b44ce</td>\n",
       "      <td>0</td>\n",
       "      <td>0.0</td>\n",
       "      <td>0.0</td>\n",
       "      <td>0.0</td>\n",
       "    </tr>\n",
       "    <tr>\n",
       "      <th>1430871</th>\n",
       "      <td>2018-12-31</td>\n",
       "      <td>XJLC_82627260793e7bbc</td>\n",
       "      <td>0</td>\n",
       "      <td>0.0</td>\n",
       "      <td>0.0</td>\n",
       "      <td>0.0</td>\n",
       "    </tr>\n",
       "    <tr>\n",
       "      <th>1430872</th>\n",
       "      <td>2018-12-31</td>\n",
       "      <td>XJLC_59509166788e27fe</td>\n",
       "      <td>0</td>\n",
       "      <td>0.0</td>\n",
       "      <td>0.0</td>\n",
       "      <td>0.0</td>\n",
       "    </tr>\n",
       "    <tr>\n",
       "      <th>1430873</th>\n",
       "      <td>2018-12-31</td>\n",
       "      <td>XJLC_190772001901fa9c</td>\n",
       "      <td>0</td>\n",
       "      <td>0.0</td>\n",
       "      <td>0.0</td>\n",
       "      <td>0.0</td>\n",
       "    </tr>\n",
       "    <tr>\n",
       "      <th>1430874</th>\n",
       "      <td>2018-12-31</td>\n",
       "      <td>XJLC_455772468090a899</td>\n",
       "      <td>0</td>\n",
       "      <td>0.0</td>\n",
       "      <td>0.0</td>\n",
       "      <td>0.0</td>\n",
       "    </tr>\n",
       "    <tr>\n",
       "      <th>1430875</th>\n",
       "      <td>2018-12-31</td>\n",
       "      <td>XJLC_100931981834c8d4</td>\n",
       "      <td>0</td>\n",
       "      <td>0.0</td>\n",
       "      <td>0.0</td>\n",
       "      <td>0.0</td>\n",
       "    </tr>\n",
       "  </tbody>\n",
       "</table>\n",
       "</div>"
      ],
      "text/plain": [
       "                时间                    会员名 身份证  回款金额  充值金额  新充投资\n",
       "1430866 2018-12-31  XJLC_8106923807061a48   0   0.0   0.0   0.0\n",
       "1430867 2018-12-31  XJLC_27008253677118bd   0   0.0   0.0   0.0\n",
       "1430868 2018-12-31  XJLC_54774140686b02ef   0   0.0   0.0   0.0\n",
       "1430869 2018-12-31  XJLC_8437115982672405   0   0.0   0.0   0.0\n",
       "1430870 2018-12-31  XJLC_32164119257b44ce   0   0.0   0.0   0.0\n",
       "1430871 2018-12-31  XJLC_82627260793e7bbc   0   0.0   0.0   0.0\n",
       "1430872 2018-12-31  XJLC_59509166788e27fe   0   0.0   0.0   0.0\n",
       "1430873 2018-12-31  XJLC_190772001901fa9c   0   0.0   0.0   0.0\n",
       "1430874 2018-12-31  XJLC_455772468090a899   0   0.0   0.0   0.0\n",
       "1430875 2018-12-31  XJLC_100931981834c8d4   0   0.0   0.0   0.0"
      ]
     },
     "execution_count": 26,
     "metadata": {},
     "output_type": "execute_result"
    }
   ],
   "source": [
    "gp_big_hcxt_0.tail(10)"
   ]
  },
  {
   "cell_type": "code",
   "execution_count": 28,
   "metadata": {},
   "outputs": [],
   "source": [
    "gp_big_hcxt_0 = gp_big_hcxt_0.sort_values(by=['时间'])"
   ]
  },
  {
   "cell_type": "code",
   "execution_count": null,
   "metadata": {},
   "outputs": [],
   "source": []
  },
  {
   "cell_type": "code",
   "execution_count": null,
   "metadata": {},
   "outputs": [],
   "source": [
    "bug"
   ]
  },
  {
   "cell_type": "code",
   "execution_count": 30,
   "metadata": {},
   "outputs": [],
   "source": [
    "gp_big_hcxt_0['累计还款'] = gp_big_hcxt_0.groupby(['会员名'])['回款金额'].apply(lambda x: x.cumsum())\n",
    "gp_big_hcxt_0['累计充值'] = gp_big_hcxt_0.groupby(['会员名'])['充值金额'].apply(lambda x: x.cumsum())\n",
    "gp_big_hcxt_0['累计投资'] = gp_big_hcxt_0.groupby(['会员名'])['新充投资'].apply(lambda x: x.cumsum())"
   ]
  },
  {
   "cell_type": "code",
   "execution_count": 35,
   "metadata": {
    "collapsed": true
   },
   "outputs": [
    {
     "data": {
      "text/html": [
       "<div>\n",
       "<style scoped>\n",
       "    .dataframe tbody tr th:only-of-type {\n",
       "        vertical-align: middle;\n",
       "    }\n",
       "\n",
       "    .dataframe tbody tr th {\n",
       "        vertical-align: top;\n",
       "    }\n",
       "\n",
       "    .dataframe thead th {\n",
       "        text-align: right;\n",
       "    }\n",
       "</style>\n",
       "<table border=\"1\" class=\"dataframe\">\n",
       "  <thead>\n",
       "    <tr style=\"text-align: right;\">\n",
       "      <th></th>\n",
       "      <th>时间</th>\n",
       "      <th>会员名</th>\n",
       "      <th>身份证</th>\n",
       "      <th>回款金额</th>\n",
       "      <th>充值金额</th>\n",
       "      <th>新充投资</th>\n",
       "      <th>累计还款</th>\n",
       "      <th>累计充值</th>\n",
       "      <th>累计投资</th>\n",
       "    </tr>\n",
       "  </thead>\n",
       "  <tbody>\n",
       "    <tr>\n",
       "      <th>4735</th>\n",
       "      <td>2018-03-05</td>\n",
       "      <td>XJLC_190772001901fa9c</td>\n",
       "      <td>0</td>\n",
       "      <td>0.0</td>\n",
       "      <td>0.00</td>\n",
       "      <td>0.0</td>\n",
       "      <td>0.00</td>\n",
       "      <td>0.00</td>\n",
       "      <td>0.0</td>\n",
       "    </tr>\n",
       "    <tr>\n",
       "      <th>9473</th>\n",
       "      <td>2018-03-06</td>\n",
       "      <td>XJLC_190772001901fa9c</td>\n",
       "      <td>0</td>\n",
       "      <td>0.0</td>\n",
       "      <td>0.00</td>\n",
       "      <td>0.0</td>\n",
       "      <td>0.00</td>\n",
       "      <td>0.00</td>\n",
       "      <td>0.0</td>\n",
       "    </tr>\n",
       "    <tr>\n",
       "      <th>14211</th>\n",
       "      <td>2018-03-07</td>\n",
       "      <td>XJLC_190772001901fa9c</td>\n",
       "      <td>0</td>\n",
       "      <td>0.0</td>\n",
       "      <td>0.00</td>\n",
       "      <td>0.0</td>\n",
       "      <td>0.00</td>\n",
       "      <td>0.00</td>\n",
       "      <td>0.0</td>\n",
       "    </tr>\n",
       "    <tr>\n",
       "      <th>18949</th>\n",
       "      <td>2018-03-08</td>\n",
       "      <td>XJLC_190772001901fa9c</td>\n",
       "      <td>0</td>\n",
       "      <td>0.0</td>\n",
       "      <td>0.00</td>\n",
       "      <td>0.0</td>\n",
       "      <td>0.00</td>\n",
       "      <td>0.00</td>\n",
       "      <td>0.0</td>\n",
       "    </tr>\n",
       "    <tr>\n",
       "      <th>23687</th>\n",
       "      <td>2018-03-09</td>\n",
       "      <td>XJLC_190772001901fa9c</td>\n",
       "      <td>0</td>\n",
       "      <td>0.0</td>\n",
       "      <td>0.00</td>\n",
       "      <td>0.0</td>\n",
       "      <td>0.00</td>\n",
       "      <td>0.00</td>\n",
       "      <td>0.0</td>\n",
       "    </tr>\n",
       "    <tr>\n",
       "      <th>28425</th>\n",
       "      <td>2018-03-10</td>\n",
       "      <td>XJLC_190772001901fa9c</td>\n",
       "      <td>0</td>\n",
       "      <td>0.0</td>\n",
       "      <td>0.00</td>\n",
       "      <td>0.0</td>\n",
       "      <td>0.00</td>\n",
       "      <td>0.00</td>\n",
       "      <td>0.0</td>\n",
       "    </tr>\n",
       "    <tr>\n",
       "      <th>33163</th>\n",
       "      <td>2018-03-11</td>\n",
       "      <td>XJLC_190772001901fa9c</td>\n",
       "      <td>0</td>\n",
       "      <td>0.0</td>\n",
       "      <td>0.00</td>\n",
       "      <td>0.0</td>\n",
       "      <td>0.00</td>\n",
       "      <td>0.00</td>\n",
       "      <td>0.0</td>\n",
       "    </tr>\n",
       "    <tr>\n",
       "      <th>37901</th>\n",
       "      <td>2018-03-12</td>\n",
       "      <td>XJLC_190772001901fa9c</td>\n",
       "      <td>0</td>\n",
       "      <td>0.0</td>\n",
       "      <td>0.00</td>\n",
       "      <td>0.0</td>\n",
       "      <td>0.00</td>\n",
       "      <td>0.00</td>\n",
       "      <td>0.0</td>\n",
       "    </tr>\n",
       "    <tr>\n",
       "      <th>42639</th>\n",
       "      <td>2018-03-13</td>\n",
       "      <td>XJLC_190772001901fa9c</td>\n",
       "      <td>0</td>\n",
       "      <td>0.0</td>\n",
       "      <td>0.00</td>\n",
       "      <td>0.0</td>\n",
       "      <td>0.00</td>\n",
       "      <td>0.00</td>\n",
       "      <td>0.0</td>\n",
       "    </tr>\n",
       "    <tr>\n",
       "      <th>47377</th>\n",
       "      <td>2018-03-14</td>\n",
       "      <td>XJLC_190772001901fa9c</td>\n",
       "      <td>0</td>\n",
       "      <td>0.0</td>\n",
       "      <td>0.00</td>\n",
       "      <td>0.0</td>\n",
       "      <td>0.00</td>\n",
       "      <td>0.00</td>\n",
       "      <td>0.0</td>\n",
       "    </tr>\n",
       "    <tr>\n",
       "      <th>52115</th>\n",
       "      <td>2018-03-15</td>\n",
       "      <td>XJLC_190772001901fa9c</td>\n",
       "      <td>0</td>\n",
       "      <td>0.0</td>\n",
       "      <td>0.00</td>\n",
       "      <td>0.0</td>\n",
       "      <td>0.00</td>\n",
       "      <td>0.00</td>\n",
       "      <td>0.0</td>\n",
       "    </tr>\n",
       "    <tr>\n",
       "      <th>56853</th>\n",
       "      <td>2018-03-16</td>\n",
       "      <td>XJLC_190772001901fa9c</td>\n",
       "      <td>0</td>\n",
       "      <td>0.0</td>\n",
       "      <td>0.00</td>\n",
       "      <td>0.0</td>\n",
       "      <td>0.00</td>\n",
       "      <td>0.00</td>\n",
       "      <td>0.0</td>\n",
       "    </tr>\n",
       "    <tr>\n",
       "      <th>61591</th>\n",
       "      <td>2018-03-17</td>\n",
       "      <td>XJLC_190772001901fa9c</td>\n",
       "      <td>0</td>\n",
       "      <td>0.0</td>\n",
       "      <td>0.00</td>\n",
       "      <td>0.0</td>\n",
       "      <td>0.00</td>\n",
       "      <td>0.00</td>\n",
       "      <td>0.0</td>\n",
       "    </tr>\n",
       "    <tr>\n",
       "      <th>66329</th>\n",
       "      <td>2018-03-18</td>\n",
       "      <td>XJLC_190772001901fa9c</td>\n",
       "      <td>0</td>\n",
       "      <td>0.0</td>\n",
       "      <td>0.00</td>\n",
       "      <td>0.0</td>\n",
       "      <td>0.00</td>\n",
       "      <td>0.00</td>\n",
       "      <td>0.0</td>\n",
       "    </tr>\n",
       "    <tr>\n",
       "      <th>71067</th>\n",
       "      <td>2018-03-19</td>\n",
       "      <td>XJLC_190772001901fa9c</td>\n",
       "      <td>0</td>\n",
       "      <td>0.0</td>\n",
       "      <td>0.00</td>\n",
       "      <td>0.0</td>\n",
       "      <td>0.00</td>\n",
       "      <td>0.00</td>\n",
       "      <td>0.0</td>\n",
       "    </tr>\n",
       "    <tr>\n",
       "      <th>75805</th>\n",
       "      <td>2018-03-20</td>\n",
       "      <td>XJLC_190772001901fa9c</td>\n",
       "      <td>0</td>\n",
       "      <td>0.0</td>\n",
       "      <td>0.00</td>\n",
       "      <td>0.0</td>\n",
       "      <td>0.00</td>\n",
       "      <td>0.00</td>\n",
       "      <td>0.0</td>\n",
       "    </tr>\n",
       "    <tr>\n",
       "      <th>80543</th>\n",
       "      <td>2018-03-21</td>\n",
       "      <td>XJLC_190772001901fa9c</td>\n",
       "      <td>0</td>\n",
       "      <td>0.0</td>\n",
       "      <td>0.00</td>\n",
       "      <td>0.0</td>\n",
       "      <td>0.00</td>\n",
       "      <td>0.00</td>\n",
       "      <td>0.0</td>\n",
       "    </tr>\n",
       "    <tr>\n",
       "      <th>85281</th>\n",
       "      <td>2018-03-22</td>\n",
       "      <td>XJLC_190772001901fa9c</td>\n",
       "      <td>0</td>\n",
       "      <td>0.0</td>\n",
       "      <td>0.00</td>\n",
       "      <td>0.0</td>\n",
       "      <td>0.00</td>\n",
       "      <td>0.00</td>\n",
       "      <td>0.0</td>\n",
       "    </tr>\n",
       "    <tr>\n",
       "      <th>90019</th>\n",
       "      <td>2018-03-23</td>\n",
       "      <td>XJLC_190772001901fa9c</td>\n",
       "      <td>0</td>\n",
       "      <td>0.0</td>\n",
       "      <td>88.34</td>\n",
       "      <td>0.0</td>\n",
       "      <td>0.00</td>\n",
       "      <td>88.34</td>\n",
       "      <td>0.0</td>\n",
       "    </tr>\n",
       "    <tr>\n",
       "      <th>94757</th>\n",
       "      <td>2018-03-24</td>\n",
       "      <td>XJLC_190772001901fa9c</td>\n",
       "      <td>0</td>\n",
       "      <td>0.0</td>\n",
       "      <td>0.00</td>\n",
       "      <td>0.0</td>\n",
       "      <td>0.00</td>\n",
       "      <td>88.34</td>\n",
       "      <td>0.0</td>\n",
       "    </tr>\n",
       "    <tr>\n",
       "      <th>99495</th>\n",
       "      <td>2018-03-25</td>\n",
       "      <td>XJLC_190772001901fa9c</td>\n",
       "      <td>0</td>\n",
       "      <td>0.0</td>\n",
       "      <td>0.00</td>\n",
       "      <td>0.0</td>\n",
       "      <td>0.00</td>\n",
       "      <td>88.34</td>\n",
       "      <td>0.0</td>\n",
       "    </tr>\n",
       "    <tr>\n",
       "      <th>104233</th>\n",
       "      <td>2018-03-26</td>\n",
       "      <td>XJLC_190772001901fa9c</td>\n",
       "      <td>0</td>\n",
       "      <td>0.0</td>\n",
       "      <td>0.00</td>\n",
       "      <td>0.0</td>\n",
       "      <td>0.00</td>\n",
       "      <td>88.34</td>\n",
       "      <td>0.0</td>\n",
       "    </tr>\n",
       "    <tr>\n",
       "      <th>108971</th>\n",
       "      <td>2018-03-27</td>\n",
       "      <td>XJLC_190772001901fa9c</td>\n",
       "      <td>0</td>\n",
       "      <td>0.0</td>\n",
       "      <td>0.00</td>\n",
       "      <td>0.0</td>\n",
       "      <td>0.00</td>\n",
       "      <td>88.34</td>\n",
       "      <td>0.0</td>\n",
       "    </tr>\n",
       "    <tr>\n",
       "      <th>113709</th>\n",
       "      <td>2018-03-28</td>\n",
       "      <td>XJLC_190772001901fa9c</td>\n",
       "      <td>0</td>\n",
       "      <td>0.0</td>\n",
       "      <td>0.00</td>\n",
       "      <td>0.0</td>\n",
       "      <td>0.00</td>\n",
       "      <td>88.34</td>\n",
       "      <td>0.0</td>\n",
       "    </tr>\n",
       "    <tr>\n",
       "      <th>118447</th>\n",
       "      <td>2018-03-29</td>\n",
       "      <td>XJLC_190772001901fa9c</td>\n",
       "      <td>0</td>\n",
       "      <td>0.0</td>\n",
       "      <td>0.00</td>\n",
       "      <td>0.0</td>\n",
       "      <td>0.00</td>\n",
       "      <td>88.34</td>\n",
       "      <td>0.0</td>\n",
       "    </tr>\n",
       "    <tr>\n",
       "      <th>123185</th>\n",
       "      <td>2018-03-30</td>\n",
       "      <td>XJLC_190772001901fa9c</td>\n",
       "      <td>0</td>\n",
       "      <td>0.0</td>\n",
       "      <td>0.00</td>\n",
       "      <td>0.0</td>\n",
       "      <td>0.00</td>\n",
       "      <td>88.34</td>\n",
       "      <td>0.0</td>\n",
       "    </tr>\n",
       "    <tr>\n",
       "      <th>127923</th>\n",
       "      <td>2018-03-31</td>\n",
       "      <td>XJLC_190772001901fa9c</td>\n",
       "      <td>0</td>\n",
       "      <td>0.0</td>\n",
       "      <td>0.00</td>\n",
       "      <td>0.0</td>\n",
       "      <td>0.00</td>\n",
       "      <td>88.34</td>\n",
       "      <td>0.0</td>\n",
       "    </tr>\n",
       "    <tr>\n",
       "      <th>132661</th>\n",
       "      <td>2018-04-01</td>\n",
       "      <td>XJLC_190772001901fa9c</td>\n",
       "      <td>0</td>\n",
       "      <td>0.0</td>\n",
       "      <td>0.00</td>\n",
       "      <td>0.0</td>\n",
       "      <td>0.00</td>\n",
       "      <td>88.34</td>\n",
       "      <td>0.0</td>\n",
       "    </tr>\n",
       "    <tr>\n",
       "      <th>137399</th>\n",
       "      <td>2018-04-02</td>\n",
       "      <td>XJLC_190772001901fa9c</td>\n",
       "      <td>0</td>\n",
       "      <td>0.0</td>\n",
       "      <td>0.00</td>\n",
       "      <td>0.0</td>\n",
       "      <td>0.00</td>\n",
       "      <td>88.34</td>\n",
       "      <td>0.0</td>\n",
       "    </tr>\n",
       "    <tr>\n",
       "      <th>142137</th>\n",
       "      <td>2018-04-03</td>\n",
       "      <td>XJLC_190772001901fa9c</td>\n",
       "      <td>0</td>\n",
       "      <td>0.0</td>\n",
       "      <td>0.00</td>\n",
       "      <td>0.0</td>\n",
       "      <td>0.00</td>\n",
       "      <td>88.34</td>\n",
       "      <td>0.0</td>\n",
       "    </tr>\n",
       "    <tr>\n",
       "      <th>...</th>\n",
       "      <td>...</td>\n",
       "      <td>...</td>\n",
       "      <td>...</td>\n",
       "      <td>...</td>\n",
       "      <td>...</td>\n",
       "      <td>...</td>\n",
       "      <td>...</td>\n",
       "      <td>...</td>\n",
       "      <td>...</td>\n",
       "    </tr>\n",
       "    <tr>\n",
       "      <th>1293471</th>\n",
       "      <td>2018-12-02</td>\n",
       "      <td>XJLC_190772001901fa9c</td>\n",
       "      <td>0</td>\n",
       "      <td>0.0</td>\n",
       "      <td>0.00</td>\n",
       "      <td>0.0</td>\n",
       "      <td>1058.38</td>\n",
       "      <td>441.70</td>\n",
       "      <td>0.0</td>\n",
       "    </tr>\n",
       "    <tr>\n",
       "      <th>1298209</th>\n",
       "      <td>2018-12-03</td>\n",
       "      <td>XJLC_190772001901fa9c</td>\n",
       "      <td>0</td>\n",
       "      <td>0.0</td>\n",
       "      <td>0.00</td>\n",
       "      <td>0.0</td>\n",
       "      <td>1058.38</td>\n",
       "      <td>441.70</td>\n",
       "      <td>0.0</td>\n",
       "    </tr>\n",
       "    <tr>\n",
       "      <th>1302947</th>\n",
       "      <td>2018-12-04</td>\n",
       "      <td>XJLC_190772001901fa9c</td>\n",
       "      <td>0</td>\n",
       "      <td>0.0</td>\n",
       "      <td>0.00</td>\n",
       "      <td>0.0</td>\n",
       "      <td>1058.38</td>\n",
       "      <td>441.70</td>\n",
       "      <td>0.0</td>\n",
       "    </tr>\n",
       "    <tr>\n",
       "      <th>1307685</th>\n",
       "      <td>2018-12-05</td>\n",
       "      <td>XJLC_190772001901fa9c</td>\n",
       "      <td>0</td>\n",
       "      <td>0.0</td>\n",
       "      <td>0.00</td>\n",
       "      <td>0.0</td>\n",
       "      <td>1058.38</td>\n",
       "      <td>441.70</td>\n",
       "      <td>0.0</td>\n",
       "    </tr>\n",
       "    <tr>\n",
       "      <th>1312423</th>\n",
       "      <td>2018-12-06</td>\n",
       "      <td>XJLC_190772001901fa9c</td>\n",
       "      <td>0</td>\n",
       "      <td>0.0</td>\n",
       "      <td>0.00</td>\n",
       "      <td>0.0</td>\n",
       "      <td>1058.38</td>\n",
       "      <td>441.70</td>\n",
       "      <td>0.0</td>\n",
       "    </tr>\n",
       "    <tr>\n",
       "      <th>1317161</th>\n",
       "      <td>2018-12-07</td>\n",
       "      <td>XJLC_190772001901fa9c</td>\n",
       "      <td>0</td>\n",
       "      <td>0.0</td>\n",
       "      <td>0.00</td>\n",
       "      <td>0.0</td>\n",
       "      <td>1058.38</td>\n",
       "      <td>441.70</td>\n",
       "      <td>0.0</td>\n",
       "    </tr>\n",
       "    <tr>\n",
       "      <th>1321899</th>\n",
       "      <td>2018-12-08</td>\n",
       "      <td>XJLC_190772001901fa9c</td>\n",
       "      <td>0</td>\n",
       "      <td>0.0</td>\n",
       "      <td>0.00</td>\n",
       "      <td>0.0</td>\n",
       "      <td>1058.38</td>\n",
       "      <td>441.70</td>\n",
       "      <td>0.0</td>\n",
       "    </tr>\n",
       "    <tr>\n",
       "      <th>1326637</th>\n",
       "      <td>2018-12-09</td>\n",
       "      <td>XJLC_190772001901fa9c</td>\n",
       "      <td>0</td>\n",
       "      <td>0.0</td>\n",
       "      <td>0.00</td>\n",
       "      <td>0.0</td>\n",
       "      <td>1058.38</td>\n",
       "      <td>441.70</td>\n",
       "      <td>0.0</td>\n",
       "    </tr>\n",
       "    <tr>\n",
       "      <th>1331375</th>\n",
       "      <td>2018-12-10</td>\n",
       "      <td>XJLC_190772001901fa9c</td>\n",
       "      <td>0</td>\n",
       "      <td>0.0</td>\n",
       "      <td>0.00</td>\n",
       "      <td>0.0</td>\n",
       "      <td>1058.38</td>\n",
       "      <td>441.70</td>\n",
       "      <td>0.0</td>\n",
       "    </tr>\n",
       "    <tr>\n",
       "      <th>1336113</th>\n",
       "      <td>2018-12-11</td>\n",
       "      <td>XJLC_190772001901fa9c</td>\n",
       "      <td>0</td>\n",
       "      <td>0.0</td>\n",
       "      <td>0.00</td>\n",
       "      <td>0.0</td>\n",
       "      <td>1058.38</td>\n",
       "      <td>441.70</td>\n",
       "      <td>0.0</td>\n",
       "    </tr>\n",
       "    <tr>\n",
       "      <th>1340851</th>\n",
       "      <td>2018-12-12</td>\n",
       "      <td>XJLC_190772001901fa9c</td>\n",
       "      <td>0</td>\n",
       "      <td>0.0</td>\n",
       "      <td>0.00</td>\n",
       "      <td>0.0</td>\n",
       "      <td>1058.38</td>\n",
       "      <td>441.70</td>\n",
       "      <td>0.0</td>\n",
       "    </tr>\n",
       "    <tr>\n",
       "      <th>1345589</th>\n",
       "      <td>2018-12-13</td>\n",
       "      <td>XJLC_190772001901fa9c</td>\n",
       "      <td>0</td>\n",
       "      <td>0.0</td>\n",
       "      <td>0.00</td>\n",
       "      <td>0.0</td>\n",
       "      <td>1058.38</td>\n",
       "      <td>441.70</td>\n",
       "      <td>0.0</td>\n",
       "    </tr>\n",
       "    <tr>\n",
       "      <th>1350327</th>\n",
       "      <td>2018-12-14</td>\n",
       "      <td>XJLC_190772001901fa9c</td>\n",
       "      <td>0</td>\n",
       "      <td>0.0</td>\n",
       "      <td>0.00</td>\n",
       "      <td>0.0</td>\n",
       "      <td>1058.38</td>\n",
       "      <td>441.70</td>\n",
       "      <td>0.0</td>\n",
       "    </tr>\n",
       "    <tr>\n",
       "      <th>1355065</th>\n",
       "      <td>2018-12-15</td>\n",
       "      <td>XJLC_190772001901fa9c</td>\n",
       "      <td>0</td>\n",
       "      <td>0.0</td>\n",
       "      <td>0.00</td>\n",
       "      <td>0.0</td>\n",
       "      <td>1058.38</td>\n",
       "      <td>441.70</td>\n",
       "      <td>0.0</td>\n",
       "    </tr>\n",
       "    <tr>\n",
       "      <th>1359803</th>\n",
       "      <td>2018-12-16</td>\n",
       "      <td>XJLC_190772001901fa9c</td>\n",
       "      <td>0</td>\n",
       "      <td>0.0</td>\n",
       "      <td>0.00</td>\n",
       "      <td>0.0</td>\n",
       "      <td>1058.38</td>\n",
       "      <td>441.70</td>\n",
       "      <td>0.0</td>\n",
       "    </tr>\n",
       "    <tr>\n",
       "      <th>1364541</th>\n",
       "      <td>2018-12-17</td>\n",
       "      <td>XJLC_190772001901fa9c</td>\n",
       "      <td>0</td>\n",
       "      <td>0.0</td>\n",
       "      <td>0.00</td>\n",
       "      <td>0.0</td>\n",
       "      <td>1058.38</td>\n",
       "      <td>441.70</td>\n",
       "      <td>0.0</td>\n",
       "    </tr>\n",
       "    <tr>\n",
       "      <th>1369279</th>\n",
       "      <td>2018-12-18</td>\n",
       "      <td>XJLC_190772001901fa9c</td>\n",
       "      <td>0</td>\n",
       "      <td>0.0</td>\n",
       "      <td>0.00</td>\n",
       "      <td>0.0</td>\n",
       "      <td>1058.38</td>\n",
       "      <td>441.70</td>\n",
       "      <td>0.0</td>\n",
       "    </tr>\n",
       "    <tr>\n",
       "      <th>1374017</th>\n",
       "      <td>2018-12-19</td>\n",
       "      <td>XJLC_190772001901fa9c</td>\n",
       "      <td>0</td>\n",
       "      <td>0.0</td>\n",
       "      <td>0.00</td>\n",
       "      <td>0.0</td>\n",
       "      <td>1058.38</td>\n",
       "      <td>441.70</td>\n",
       "      <td>0.0</td>\n",
       "    </tr>\n",
       "    <tr>\n",
       "      <th>1378755</th>\n",
       "      <td>2018-12-20</td>\n",
       "      <td>XJLC_190772001901fa9c</td>\n",
       "      <td>0</td>\n",
       "      <td>0.0</td>\n",
       "      <td>0.00</td>\n",
       "      <td>0.0</td>\n",
       "      <td>1058.38</td>\n",
       "      <td>441.70</td>\n",
       "      <td>0.0</td>\n",
       "    </tr>\n",
       "    <tr>\n",
       "      <th>1383493</th>\n",
       "      <td>2018-12-21</td>\n",
       "      <td>XJLC_190772001901fa9c</td>\n",
       "      <td>0</td>\n",
       "      <td>0.0</td>\n",
       "      <td>0.00</td>\n",
       "      <td>0.0</td>\n",
       "      <td>1058.38</td>\n",
       "      <td>441.70</td>\n",
       "      <td>0.0</td>\n",
       "    </tr>\n",
       "    <tr>\n",
       "      <th>1388231</th>\n",
       "      <td>2018-12-22</td>\n",
       "      <td>XJLC_190772001901fa9c</td>\n",
       "      <td>0</td>\n",
       "      <td>0.0</td>\n",
       "      <td>0.00</td>\n",
       "      <td>0.0</td>\n",
       "      <td>1058.38</td>\n",
       "      <td>441.70</td>\n",
       "      <td>0.0</td>\n",
       "    </tr>\n",
       "    <tr>\n",
       "      <th>1392969</th>\n",
       "      <td>2018-12-23</td>\n",
       "      <td>XJLC_190772001901fa9c</td>\n",
       "      <td>0</td>\n",
       "      <td>0.0</td>\n",
       "      <td>0.00</td>\n",
       "      <td>0.0</td>\n",
       "      <td>1058.38</td>\n",
       "      <td>441.70</td>\n",
       "      <td>0.0</td>\n",
       "    </tr>\n",
       "    <tr>\n",
       "      <th>1397707</th>\n",
       "      <td>2018-12-24</td>\n",
       "      <td>XJLC_190772001901fa9c</td>\n",
       "      <td>0</td>\n",
       "      <td>0.0</td>\n",
       "      <td>0.00</td>\n",
       "      <td>0.0</td>\n",
       "      <td>1058.38</td>\n",
       "      <td>441.70</td>\n",
       "      <td>0.0</td>\n",
       "    </tr>\n",
       "    <tr>\n",
       "      <th>1402445</th>\n",
       "      <td>2018-12-25</td>\n",
       "      <td>XJLC_190772001901fa9c</td>\n",
       "      <td>0</td>\n",
       "      <td>0.0</td>\n",
       "      <td>0.00</td>\n",
       "      <td>0.0</td>\n",
       "      <td>1058.38</td>\n",
       "      <td>441.70</td>\n",
       "      <td>0.0</td>\n",
       "    </tr>\n",
       "    <tr>\n",
       "      <th>1407183</th>\n",
       "      <td>2018-12-26</td>\n",
       "      <td>XJLC_190772001901fa9c</td>\n",
       "      <td>0</td>\n",
       "      <td>0.0</td>\n",
       "      <td>0.00</td>\n",
       "      <td>0.0</td>\n",
       "      <td>1058.38</td>\n",
       "      <td>441.70</td>\n",
       "      <td>0.0</td>\n",
       "    </tr>\n",
       "    <tr>\n",
       "      <th>1411921</th>\n",
       "      <td>2018-12-27</td>\n",
       "      <td>XJLC_190772001901fa9c</td>\n",
       "      <td>0</td>\n",
       "      <td>0.0</td>\n",
       "      <td>0.00</td>\n",
       "      <td>0.0</td>\n",
       "      <td>1058.38</td>\n",
       "      <td>441.70</td>\n",
       "      <td>0.0</td>\n",
       "    </tr>\n",
       "    <tr>\n",
       "      <th>1416659</th>\n",
       "      <td>2018-12-28</td>\n",
       "      <td>XJLC_190772001901fa9c</td>\n",
       "      <td>0</td>\n",
       "      <td>0.0</td>\n",
       "      <td>0.00</td>\n",
       "      <td>0.0</td>\n",
       "      <td>1058.38</td>\n",
       "      <td>441.70</td>\n",
       "      <td>0.0</td>\n",
       "    </tr>\n",
       "    <tr>\n",
       "      <th>1421397</th>\n",
       "      <td>2018-12-29</td>\n",
       "      <td>XJLC_190772001901fa9c</td>\n",
       "      <td>0</td>\n",
       "      <td>0.0</td>\n",
       "      <td>0.00</td>\n",
       "      <td>0.0</td>\n",
       "      <td>1058.38</td>\n",
       "      <td>441.70</td>\n",
       "      <td>0.0</td>\n",
       "    </tr>\n",
       "    <tr>\n",
       "      <th>1426135</th>\n",
       "      <td>2018-12-30</td>\n",
       "      <td>XJLC_190772001901fa9c</td>\n",
       "      <td>0</td>\n",
       "      <td>0.0</td>\n",
       "      <td>0.00</td>\n",
       "      <td>0.0</td>\n",
       "      <td>1058.38</td>\n",
       "      <td>441.70</td>\n",
       "      <td>0.0</td>\n",
       "    </tr>\n",
       "    <tr>\n",
       "      <th>1430873</th>\n",
       "      <td>2018-12-31</td>\n",
       "      <td>XJLC_190772001901fa9c</td>\n",
       "      <td>0</td>\n",
       "      <td>0.0</td>\n",
       "      <td>0.00</td>\n",
       "      <td>0.0</td>\n",
       "      <td>1058.38</td>\n",
       "      <td>441.70</td>\n",
       "      <td>0.0</td>\n",
       "    </tr>\n",
       "  </tbody>\n",
       "</table>\n",
       "<p>302 rows × 9 columns</p>\n",
       "</div>"
      ],
      "text/plain": [
       "                时间                    会员名 身份证  回款金额   充值金额  新充投资     累计还款  \\\n",
       "4735    2018-03-05  XJLC_190772001901fa9c   0   0.0   0.00   0.0     0.00   \n",
       "9473    2018-03-06  XJLC_190772001901fa9c   0   0.0   0.00   0.0     0.00   \n",
       "14211   2018-03-07  XJLC_190772001901fa9c   0   0.0   0.00   0.0     0.00   \n",
       "18949   2018-03-08  XJLC_190772001901fa9c   0   0.0   0.00   0.0     0.00   \n",
       "23687   2018-03-09  XJLC_190772001901fa9c   0   0.0   0.00   0.0     0.00   \n",
       "28425   2018-03-10  XJLC_190772001901fa9c   0   0.0   0.00   0.0     0.00   \n",
       "33163   2018-03-11  XJLC_190772001901fa9c   0   0.0   0.00   0.0     0.00   \n",
       "37901   2018-03-12  XJLC_190772001901fa9c   0   0.0   0.00   0.0     0.00   \n",
       "42639   2018-03-13  XJLC_190772001901fa9c   0   0.0   0.00   0.0     0.00   \n",
       "47377   2018-03-14  XJLC_190772001901fa9c   0   0.0   0.00   0.0     0.00   \n",
       "52115   2018-03-15  XJLC_190772001901fa9c   0   0.0   0.00   0.0     0.00   \n",
       "56853   2018-03-16  XJLC_190772001901fa9c   0   0.0   0.00   0.0     0.00   \n",
       "61591   2018-03-17  XJLC_190772001901fa9c   0   0.0   0.00   0.0     0.00   \n",
       "66329   2018-03-18  XJLC_190772001901fa9c   0   0.0   0.00   0.0     0.00   \n",
       "71067   2018-03-19  XJLC_190772001901fa9c   0   0.0   0.00   0.0     0.00   \n",
       "75805   2018-03-20  XJLC_190772001901fa9c   0   0.0   0.00   0.0     0.00   \n",
       "80543   2018-03-21  XJLC_190772001901fa9c   0   0.0   0.00   0.0     0.00   \n",
       "85281   2018-03-22  XJLC_190772001901fa9c   0   0.0   0.00   0.0     0.00   \n",
       "90019   2018-03-23  XJLC_190772001901fa9c   0   0.0  88.34   0.0     0.00   \n",
       "94757   2018-03-24  XJLC_190772001901fa9c   0   0.0   0.00   0.0     0.00   \n",
       "99495   2018-03-25  XJLC_190772001901fa9c   0   0.0   0.00   0.0     0.00   \n",
       "104233  2018-03-26  XJLC_190772001901fa9c   0   0.0   0.00   0.0     0.00   \n",
       "108971  2018-03-27  XJLC_190772001901fa9c   0   0.0   0.00   0.0     0.00   \n",
       "113709  2018-03-28  XJLC_190772001901fa9c   0   0.0   0.00   0.0     0.00   \n",
       "118447  2018-03-29  XJLC_190772001901fa9c   0   0.0   0.00   0.0     0.00   \n",
       "123185  2018-03-30  XJLC_190772001901fa9c   0   0.0   0.00   0.0     0.00   \n",
       "127923  2018-03-31  XJLC_190772001901fa9c   0   0.0   0.00   0.0     0.00   \n",
       "132661  2018-04-01  XJLC_190772001901fa9c   0   0.0   0.00   0.0     0.00   \n",
       "137399  2018-04-02  XJLC_190772001901fa9c   0   0.0   0.00   0.0     0.00   \n",
       "142137  2018-04-03  XJLC_190772001901fa9c   0   0.0   0.00   0.0     0.00   \n",
       "...            ...                    ...  ..   ...    ...   ...      ...   \n",
       "1293471 2018-12-02  XJLC_190772001901fa9c   0   0.0   0.00   0.0  1058.38   \n",
       "1298209 2018-12-03  XJLC_190772001901fa9c   0   0.0   0.00   0.0  1058.38   \n",
       "1302947 2018-12-04  XJLC_190772001901fa9c   0   0.0   0.00   0.0  1058.38   \n",
       "1307685 2018-12-05  XJLC_190772001901fa9c   0   0.0   0.00   0.0  1058.38   \n",
       "1312423 2018-12-06  XJLC_190772001901fa9c   0   0.0   0.00   0.0  1058.38   \n",
       "1317161 2018-12-07  XJLC_190772001901fa9c   0   0.0   0.00   0.0  1058.38   \n",
       "1321899 2018-12-08  XJLC_190772001901fa9c   0   0.0   0.00   0.0  1058.38   \n",
       "1326637 2018-12-09  XJLC_190772001901fa9c   0   0.0   0.00   0.0  1058.38   \n",
       "1331375 2018-12-10  XJLC_190772001901fa9c   0   0.0   0.00   0.0  1058.38   \n",
       "1336113 2018-12-11  XJLC_190772001901fa9c   0   0.0   0.00   0.0  1058.38   \n",
       "1340851 2018-12-12  XJLC_190772001901fa9c   0   0.0   0.00   0.0  1058.38   \n",
       "1345589 2018-12-13  XJLC_190772001901fa9c   0   0.0   0.00   0.0  1058.38   \n",
       "1350327 2018-12-14  XJLC_190772001901fa9c   0   0.0   0.00   0.0  1058.38   \n",
       "1355065 2018-12-15  XJLC_190772001901fa9c   0   0.0   0.00   0.0  1058.38   \n",
       "1359803 2018-12-16  XJLC_190772001901fa9c   0   0.0   0.00   0.0  1058.38   \n",
       "1364541 2018-12-17  XJLC_190772001901fa9c   0   0.0   0.00   0.0  1058.38   \n",
       "1369279 2018-12-18  XJLC_190772001901fa9c   0   0.0   0.00   0.0  1058.38   \n",
       "1374017 2018-12-19  XJLC_190772001901fa9c   0   0.0   0.00   0.0  1058.38   \n",
       "1378755 2018-12-20  XJLC_190772001901fa9c   0   0.0   0.00   0.0  1058.38   \n",
       "1383493 2018-12-21  XJLC_190772001901fa9c   0   0.0   0.00   0.0  1058.38   \n",
       "1388231 2018-12-22  XJLC_190772001901fa9c   0   0.0   0.00   0.0  1058.38   \n",
       "1392969 2018-12-23  XJLC_190772001901fa9c   0   0.0   0.00   0.0  1058.38   \n",
       "1397707 2018-12-24  XJLC_190772001901fa9c   0   0.0   0.00   0.0  1058.38   \n",
       "1402445 2018-12-25  XJLC_190772001901fa9c   0   0.0   0.00   0.0  1058.38   \n",
       "1407183 2018-12-26  XJLC_190772001901fa9c   0   0.0   0.00   0.0  1058.38   \n",
       "1411921 2018-12-27  XJLC_190772001901fa9c   0   0.0   0.00   0.0  1058.38   \n",
       "1416659 2018-12-28  XJLC_190772001901fa9c   0   0.0   0.00   0.0  1058.38   \n",
       "1421397 2018-12-29  XJLC_190772001901fa9c   0   0.0   0.00   0.0  1058.38   \n",
       "1426135 2018-12-30  XJLC_190772001901fa9c   0   0.0   0.00   0.0  1058.38   \n",
       "1430873 2018-12-31  XJLC_190772001901fa9c   0   0.0   0.00   0.0  1058.38   \n",
       "\n",
       "           累计充值  累计投资  \n",
       "4735       0.00   0.0  \n",
       "9473       0.00   0.0  \n",
       "14211      0.00   0.0  \n",
       "18949      0.00   0.0  \n",
       "23687      0.00   0.0  \n",
       "28425      0.00   0.0  \n",
       "33163      0.00   0.0  \n",
       "37901      0.00   0.0  \n",
       "42639      0.00   0.0  \n",
       "47377      0.00   0.0  \n",
       "52115      0.00   0.0  \n",
       "56853      0.00   0.0  \n",
       "61591      0.00   0.0  \n",
       "66329      0.00   0.0  \n",
       "71067      0.00   0.0  \n",
       "75805      0.00   0.0  \n",
       "80543      0.00   0.0  \n",
       "85281      0.00   0.0  \n",
       "90019     88.34   0.0  \n",
       "94757     88.34   0.0  \n",
       "99495     88.34   0.0  \n",
       "104233    88.34   0.0  \n",
       "108971    88.34   0.0  \n",
       "113709    88.34   0.0  \n",
       "118447    88.34   0.0  \n",
       "123185    88.34   0.0  \n",
       "127923    88.34   0.0  \n",
       "132661    88.34   0.0  \n",
       "137399    88.34   0.0  \n",
       "142137    88.34   0.0  \n",
       "...         ...   ...  \n",
       "1293471  441.70   0.0  \n",
       "1298209  441.70   0.0  \n",
       "1302947  441.70   0.0  \n",
       "1307685  441.70   0.0  \n",
       "1312423  441.70   0.0  \n",
       "1317161  441.70   0.0  \n",
       "1321899  441.70   0.0  \n",
       "1326637  441.70   0.0  \n",
       "1331375  441.70   0.0  \n",
       "1336113  441.70   0.0  \n",
       "1340851  441.70   0.0  \n",
       "1345589  441.70   0.0  \n",
       "1350327  441.70   0.0  \n",
       "1355065  441.70   0.0  \n",
       "1359803  441.70   0.0  \n",
       "1364541  441.70   0.0  \n",
       "1369279  441.70   0.0  \n",
       "1374017  441.70   0.0  \n",
       "1378755  441.70   0.0  \n",
       "1383493  441.70   0.0  \n",
       "1388231  441.70   0.0  \n",
       "1392969  441.70   0.0  \n",
       "1397707  441.70   0.0  \n",
       "1402445  441.70   0.0  \n",
       "1407183  441.70   0.0  \n",
       "1411921  441.70   0.0  \n",
       "1416659  441.70   0.0  \n",
       "1421397  441.70   0.0  \n",
       "1426135  441.70   0.0  \n",
       "1430873  441.70   0.0  \n",
       "\n",
       "[302 rows x 9 columns]"
      ]
     },
     "execution_count": 35,
     "metadata": {},
     "output_type": "execute_result"
    }
   ],
   "source": [
    "gp_big_hcxt_0[gp_big_hcxt_0['会员名'] == 'XJLC_190772001901fa9c']"
   ]
  },
  {
   "cell_type": "code",
   "execution_count": null,
   "metadata": {},
   "outputs": [],
   "source": []
  },
  {
   "cell_type": "code",
   "execution_count": null,
   "metadata": {},
   "outputs": [],
   "source": [
    "# 累加值：还款>充值>账户"
   ]
  },
  {
   "cell_type": "code",
   "execution_count": null,
   "metadata": {},
   "outputs": [],
   "source": [
    "gp_big_hcxt_0.to_excel('1x1x1x.xlsx')"
   ]
  },
  {
   "cell_type": "code",
   "execution_count": 36,
   "metadata": {},
   "outputs": [],
   "source": [
    "gp_big_hcxt_0['累计充值_ok'] = np.where(gp_big_hcxt_0['累计还款'] < gp_big_hcxt_0['累计充值'],gp_big_hcxt_0['累计还款'],gp_big_hcxt_0['累计充值'])\n",
    "gp_big_hcxt_0['累计投资_ok'] = np.where(gp_big_hcxt_0['累计充值_ok'] < gp_big_hcxt_0['累计投资'],gp_big_hcxt_0['累计充值_ok'],gp_big_hcxt_0['累计投资'])"
   ]
  },
  {
   "cell_type": "code",
   "execution_count": null,
   "metadata": {},
   "outputs": [],
   "source": [
    "# 按日汇总数据"
   ]
  },
  {
   "cell_type": "code",
   "execution_count": 37,
   "metadata": {},
   "outputs": [],
   "source": [
    "res_big_hcxt = gp_big_hcxt_0.groupby('时间')['累计还款','累计投资_ok'].sum()"
   ]
  },
  {
   "cell_type": "code",
   "execution_count": 38,
   "metadata": {},
   "outputs": [
    {
     "data": {
      "text/html": [
       "<div>\n",
       "<style scoped>\n",
       "    .dataframe tbody tr th:only-of-type {\n",
       "        vertical-align: middle;\n",
       "    }\n",
       "\n",
       "    .dataframe tbody tr th {\n",
       "        vertical-align: top;\n",
       "    }\n",
       "\n",
       "    .dataframe thead th {\n",
       "        text-align: right;\n",
       "    }\n",
       "</style>\n",
       "<table border=\"1\" class=\"dataframe\">\n",
       "  <thead>\n",
       "    <tr style=\"text-align: right;\">\n",
       "      <th></th>\n",
       "      <th>累计还款</th>\n",
       "      <th>累计投资_ok</th>\n",
       "    </tr>\n",
       "    <tr>\n",
       "      <th>时间</th>\n",
       "      <th></th>\n",
       "      <th></th>\n",
       "    </tr>\n",
       "  </thead>\n",
       "  <tbody>\n",
       "    <tr>\n",
       "      <th>2018-03-05</th>\n",
       "      <td>4397509.39</td>\n",
       "      <td>0.00</td>\n",
       "    </tr>\n",
       "    <tr>\n",
       "      <th>2018-03-06</th>\n",
       "      <td>7941764.00</td>\n",
       "      <td>373619.37</td>\n",
       "    </tr>\n",
       "    <tr>\n",
       "      <th>2018-03-07</th>\n",
       "      <td>11933566.33</td>\n",
       "      <td>506584.91</td>\n",
       "    </tr>\n",
       "    <tr>\n",
       "      <th>2018-03-08</th>\n",
       "      <td>16231625.48</td>\n",
       "      <td>1474660.71</td>\n",
       "    </tr>\n",
       "    <tr>\n",
       "      <th>2018-03-09</th>\n",
       "      <td>19712089.03</td>\n",
       "      <td>2790979.34</td>\n",
       "    </tr>\n",
       "  </tbody>\n",
       "</table>\n",
       "</div>"
      ],
      "text/plain": [
       "                   累计还款     累计投资_ok\n",
       "时间                                 \n",
       "2018-03-05   4397509.39        0.00\n",
       "2018-03-06   7941764.00   373619.37\n",
       "2018-03-07  11933566.33   506584.91\n",
       "2018-03-08  16231625.48  1474660.71\n",
       "2018-03-09  19712089.03  2790979.34"
      ]
     },
     "execution_count": 38,
     "metadata": {},
     "output_type": "execute_result"
    }
   ],
   "source": [
    "res_big_hcxt.head()"
   ]
  },
  {
   "cell_type": "code",
   "execution_count": 39,
   "metadata": {},
   "outputs": [],
   "source": [
    "res_big_hcxt.to_excel('hk_cz_tz_result1.xlsx')"
   ]
  },
  {
   "cell_type": "markdown",
   "metadata": {},
   "source": [
    "- 计算开通存管时间"
   ]
  },
  {
   "cell_type": "code",
   "execution_count": null,
   "metadata": {},
   "outputs": [],
   "source": []
  },
  {
   "cell_type": "code",
   "execution_count": null,
   "metadata": {},
   "outputs": [],
   "source": []
  },
  {
   "cell_type": "code",
   "execution_count": null,
   "metadata": {
    "scrolled": true
   },
   "outputs": [],
   "source": [
    "df_kt.info()"
   ]
  },
  {
   "cell_type": "code",
   "execution_count": null,
   "metadata": {},
   "outputs": [],
   "source": [
    "df_kt_tmpt = df_kt.loc[:,['用户名','新网认证时间']]"
   ]
  },
  {
   "cell_type": "code",
   "execution_count": null,
   "metadata": {},
   "outputs": [],
   "source": [
    "df_kt_tmpt.head()"
   ]
  },
  {
   "cell_type": "code",
   "execution_count": null,
   "metadata": {},
   "outputs": [],
   "source": [
    "df_big_kt = pd.merge(df_md,df_kt_tmpt,\n",
    "                    left_on='会员名',right_on='用户名',\n",
    "                    how='left')"
   ]
  },
  {
   "cell_type": "code",
   "execution_count": null,
   "metadata": {},
   "outputs": [],
   "source": [
    "df_big_kt.head()"
   ]
  },
  {
   "cell_type": "code",
   "execution_count": null,
   "metadata": {},
   "outputs": [],
   "source": [
    "# 未开通人数\n",
    "df_big_kt.isnull().sum()"
   ]
  },
  {
   "cell_type": "code",
   "execution_count": null,
   "metadata": {},
   "outputs": [],
   "source": [
    "df_big_kt.dtypes"
   ]
  },
  {
   "cell_type": "code",
   "execution_count": null,
   "metadata": {},
   "outputs": [],
   "source": [
    "df_big_kt['新网认证时间'] = pd.to_datetime(df_big_kt['新网认证时间'])"
   ]
  },
  {
   "cell_type": "code",
   "execution_count": null,
   "metadata": {},
   "outputs": [],
   "source": [
    "df_big_kt['认证time'] =  df_big_kt['新网认证时间'].dt.strftime('%Y-%m')"
   ]
  },
  {
   "cell_type": "code",
   "execution_count": null,
   "metadata": {},
   "outputs": [],
   "source": [
    "df_big_kt.drop('用户名',axis=1,inplace=True)\n",
    "df_big_kt.head()"
   ]
  },
  {
   "cell_type": "code",
   "execution_count": null,
   "metadata": {},
   "outputs": [],
   "source": [
    "gp_kt = df_big_kt.groupby([df_big_kt['认证time']])['会员名'].count()"
   ]
  },
  {
   "cell_type": "code",
   "execution_count": null,
   "metadata": {},
   "outputs": [],
   "source": [
    "gp_kt"
   ]
  },
  {
   "cell_type": "code",
   "execution_count": null,
   "metadata": {},
   "outputs": [],
   "source": [
    "gp_kt.plot.bar()"
   ]
  },
  {
   "cell_type": "markdown",
   "metadata": {},
   "source": [
    "- 计算投资额"
   ]
  },
  {
   "cell_type": "code",
   "execution_count": null,
   "metadata": {},
   "outputs": [],
   "source": [
    "df_md.head()"
   ]
  },
  {
   "cell_type": "code",
   "execution_count": null,
   "metadata": {},
   "outputs": [],
   "source": [
    "# 调整jupyter显示的最大列数\n",
    "pd.set_option('display.max_columns', 100)\n",
    "# pd.set_option('display.max_rows', None)"
   ]
  },
  {
   "cell_type": "code",
   "execution_count": null,
   "metadata": {},
   "outputs": [],
   "source": [
    "df_cg_tz.head(2)"
   ]
  },
  {
   "cell_type": "code",
   "execution_count": null,
   "metadata": {},
   "outputs": [],
   "source": [
    "df_cg_tz.columns"
   ]
  },
  {
   "cell_type": "code",
   "execution_count": null,
   "metadata": {},
   "outputs": [],
   "source": [
    "df_cg_tz['标类型'].unique()"
   ]
  },
  {
   "cell_type": "code",
   "execution_count": null,
   "metadata": {},
   "outputs": [],
   "source": [
    "df_cg_tz_0 = df_cg_tz.loc[:,['投资用户','标类型','总投资额', '账户资金', '续投资金', '券','加息券成本','投资时间']]"
   ]
  },
  {
   "cell_type": "code",
   "execution_count": null,
   "metadata": {},
   "outputs": [],
   "source": [
    "df_cg_zht.columns"
   ]
  },
  {
   "cell_type": "code",
   "execution_count": null,
   "metadata": {},
   "outputs": [],
   "source": [
    "df_cg_zht.head(2)"
   ]
  },
  {
   "cell_type": "code",
   "execution_count": null,
   "metadata": {},
   "outputs": [],
   "source": [
    "df_cg_zht_0 = df_cg_zht.loc[:,['用户名', '计划期限','总投资金额', '新充金额', '续投金额', '抵用券成本', '加息券成本','投资时间']]"
   ]
  },
  {
   "cell_type": "code",
   "execution_count": null,
   "metadata": {},
   "outputs": [],
   "source": [
    "df_jd_tz.columns"
   ]
  },
  {
   "cell_type": "code",
   "execution_count": null,
   "metadata": {},
   "outputs": [],
   "source": [
    "df_jd_tz.head(2)"
   ]
  },
  {
   "cell_type": "code",
   "execution_count": null,
   "metadata": {},
   "outputs": [],
   "source": [
    "df_jd_tz_0 = df_jd_tz.loc[:,['投资用户', '期限','总投资额', '账户资金', '续投资金', '券','加息券收益', '投资时间']]"
   ]
  },
  {
   "cell_type": "code",
   "execution_count": null,
   "metadata": {},
   "outputs": [],
   "source": [
    "df_cg_tz_0.columns"
   ]
  },
  {
   "cell_type": "code",
   "execution_count": null,
   "metadata": {},
   "outputs": [],
   "source": [
    "df_cg_zht_0.columns"
   ]
  },
  {
   "cell_type": "code",
   "execution_count": null,
   "metadata": {},
   "outputs": [],
   "source": [
    "df_jd_tz_0.columns"
   ]
  },
  {
   "cell_type": "code",
   "execution_count": null,
   "metadata": {},
   "outputs": [],
   "source": [
    "df_md_0 = df_md.loc[:,['经典版用户名','会员名']]"
   ]
  },
  {
   "cell_type": "code",
   "execution_count": null,
   "metadata": {},
   "outputs": [],
   "source": [
    "df_jd_tz_1 = pd.merge(df_jd_tz_0,df_md_0,\n",
    "                     left_on = '投资用户',\n",
    "                     right_on = '经典版用户名',\n",
    "                     how = 'left')"
   ]
  },
  {
   "cell_type": "code",
   "execution_count": null,
   "metadata": {},
   "outputs": [],
   "source": [
    "df_jd_tz_1.dropna(inplace=True)"
   ]
  },
  {
   "cell_type": "code",
   "execution_count": null,
   "metadata": {},
   "outputs": [],
   "source": [
    "df_jd_tz_1.drop(columns=['投资用户','经典版用户名'],inplace=True)"
   ]
  },
  {
   "cell_type": "code",
   "execution_count": null,
   "metadata": {},
   "outputs": [],
   "source": [
    "df_jd_tz_1.head(3)"
   ]
  },
  {
   "cell_type": "code",
   "execution_count": null,
   "metadata": {},
   "outputs": [],
   "source": [
    "df_jd_tz_2 = df_jd_tz_1.rename(columns={'会员名':'用户名',\n",
    "                                       '期限':'计划期限',\n",
    "                                       '总投资额':'总投资金额',\n",
    "                                       '账户资金':'新充金额',\n",
    "                                       '续投资金':'续投金额',\n",
    "                                       '券':'抵用券成本',\n",
    "                                       '加息券收益':'加息券成本'})"
   ]
  },
  {
   "cell_type": "code",
   "execution_count": null,
   "metadata": {},
   "outputs": [],
   "source": [
    "df_cg_tz_1 = df_cg_tz_0.rename(columns={'投资用户':'用户名',\n",
    "                                       '标类型':'计划期限',\n",
    "                                       '总投资额':'总投资金额',\n",
    "                                       '账户资金':'新充金额',\n",
    "                                       '续投资金':'续投金额',\n",
    "                                       '券':'抵用券成本',})"
   ]
  },
  {
   "cell_type": "code",
   "execution_count": null,
   "metadata": {},
   "outputs": [],
   "source": [
    "df_tz = pd.concat([df_cg_zht_0,df_cg_tz_1,df_jd_tz_2],ignore_index=True,sort=True)"
   ]
  },
  {
   "cell_type": "code",
   "execution_count": null,
   "metadata": {},
   "outputs": [],
   "source": [
    "df_tz.head(5)"
   ]
  },
  {
   "cell_type": "code",
   "execution_count": null,
   "metadata": {},
   "outputs": [],
   "source": [
    "df_tz = df_tz.loc[df_tz['用户名'].isin(df_md['会员名'])]"
   ]
  },
  {
   "cell_type": "code",
   "execution_count": null,
   "metadata": {
    "scrolled": true
   },
   "outputs": [],
   "source": [
    "df_tz.columns"
   ]
  },
  {
   "cell_type": "code",
   "execution_count": null,
   "metadata": {},
   "outputs": [],
   "source": [
    "df_tz['投资时间'] = pd.to_datetime(df_tz['投资时间'])"
   ]
  },
  {
   "cell_type": "code",
   "execution_count": null,
   "metadata": {},
   "outputs": [],
   "source": [
    "d = dict.fromkeys(['总投资金额', '新充金额','续投金额', '加息券成本', '抵用券成本'], np.sum)\n",
    "d['用户名'] = lambda x: x.nunique()\n",
    "\n",
    "gp_tz = df_tz.groupby(df_tz['投资时间'].dt.month).agg(d).rename(columns={'用户名':'投资人数'})"
   ]
  },
  {
   "cell_type": "code",
   "execution_count": null,
   "metadata": {},
   "outputs": [],
   "source": [
    "gp_tz"
   ]
  },
  {
   "cell_type": "code",
   "execution_count": null,
   "metadata": {},
   "outputs": [],
   "source": [
    "from matplotlib.font_manager import FontProperties\n",
    "\n",
    "myfont=FontProperties(fname=r'C:\\Windows\\Fonts\\simhei.ttf',size=14)"
   ]
  },
  {
   "cell_type": "code",
   "execution_count": null,
   "metadata": {},
   "outputs": [],
   "source": [
    "sns.set(style=\"white\",palette=\"muted\", color_codes=True,font=myfont.get_name())\n",
    "\n",
    "# Set up the matplotlib figure\n",
    "f, axes = plt.subplots(2, 3, figsize=(15, 7), sharex=True)\n",
    "\n",
    "# Plot a simple histogram with binsize determined automatically\n",
    "sns.lineplot(x=gp_tz.index, y=gp_tz.iloc[:,0],data=gp_tz, ax=axes[0, 0])\n",
    "\n",
    "# Plot a simple histogram with binsize determined automatically\n",
    "sns.lineplot(x=gp_tz.index, y=gp_tz.iloc[:,1],data=gp_tz, ax=axes[0, 1])\n",
    "\n",
    "# Plot a simple histogram with binsize determined automatically\n",
    "sns.lineplot(x=gp_tz.index, y=gp_tz.iloc[:,2],data=gp_tz, ax=axes[0,2])\n",
    "\n",
    "# Plot a simple histogram with binsize determined automatically\n",
    "sns.lineplot(x=gp_tz.index, y=gp_tz.iloc[:,3],data=gp_tz, ax=axes[1, 0])\n",
    "\n",
    "# Plot a simple histogram with binsize determined automatically\n",
    "sns.lineplot(x=gp_tz.index, y=gp_tz.iloc[:,4],data=gp_tz, ax=axes[1, 1])\n",
    "\n",
    "# Plot a simple histogram with binsize determined automatically\n",
    "sns.lineplot(x=gp_tz.index, y=gp_tz.iloc[:,5],data=gp_tz, ax=axes[1, 2])\n",
    "\n",
    "plt.setp(axes, yticks=[])\n",
    "plt.tight_layout()"
   ]
  },
  {
   "cell_type": "markdown",
   "metadata": {},
   "source": [
    "- 计算各期限投资金额和人数"
   ]
  },
  {
   "cell_type": "code",
   "execution_count": null,
   "metadata": {},
   "outputs": [],
   "source": [
    "df_tz.head(3)"
   ]
  },
  {
   "cell_type": "code",
   "execution_count": null,
   "metadata": {},
   "outputs": [],
   "source": [
    "df_tz['用户名'].nunique()"
   ]
  },
  {
   "cell_type": "code",
   "execution_count": null,
   "metadata": {},
   "outputs": [],
   "source": [
    "df_tz['计划期限'].unique()"
   ]
  },
  {
   "cell_type": "code",
   "execution_count": null,
   "metadata": {},
   "outputs": [],
   "source": [
    "qi = {'30天':'1月', '1月标':'1月', '3月标':'3月'}\n",
    "\n",
    "df_tz_qixian = df_tz.copy()\n",
    "df_tz_qixian['计划期限'] = df_tz_qixian['计划期限'].replace(qi)"
   ]
  },
  {
   "cell_type": "code",
   "execution_count": null,
   "metadata": {},
   "outputs": [],
   "source": [
    "df_tz_qixian.head(3)"
   ]
  },
  {
   "cell_type": "code",
   "execution_count": null,
   "metadata": {},
   "outputs": [],
   "source": [
    "df_tz_qixian['计划期限'].value_counts()"
   ]
  },
  {
   "cell_type": "code",
   "execution_count": null,
   "metadata": {},
   "outputs": [],
   "source": [
    "gp_tz_qixian_money = df_tz_qixian.groupby([df_tz['投资时间'].dt.month, df_tz_qixian['计划期限']])['总投资金额'].sum()"
   ]
  },
  {
   "cell_type": "code",
   "execution_count": null,
   "metadata": {},
   "outputs": [],
   "source": [
    "gp_tz_qixian_money = gp_tz_qixian_money.unstack()"
   ]
  },
  {
   "cell_type": "code",
   "execution_count": null,
   "metadata": {},
   "outputs": [],
   "source": [
    "gp_tz_qixian_money"
   ]
  },
  {
   "cell_type": "code",
   "execution_count": null,
   "metadata": {},
   "outputs": [],
   "source": [
    "gp_tz_qixian_people = df_tz_qixian.groupby([df_tz['投资时间'].dt.month, df_tz_qixian['计划期限']])['用户名'].agg({lambda x:x.nunique()})"
   ]
  },
  {
   "cell_type": "code",
   "execution_count": null,
   "metadata": {},
   "outputs": [],
   "source": [
    "gp_tz_qixian_people = gp_tz_qixian_people.unstack()"
   ]
  },
  {
   "cell_type": "code",
   "execution_count": null,
   "metadata": {},
   "outputs": [],
   "source": [
    "gp_tz_qixian_people"
   ]
  },
  {
   "cell_type": "markdown",
   "metadata": {},
   "source": [
    "- 经典版回款续投比"
   ]
  },
  {
   "cell_type": "code",
   "execution_count": null,
   "metadata": {
    "scrolled": true
   },
   "outputs": [],
   "source": [
    "# 1、计算回款名单\n",
    "\n",
    "df_md_0.head()"
   ]
  },
  {
   "cell_type": "code",
   "execution_count": null,
   "metadata": {},
   "outputs": [],
   "source": [
    "df_jd_hk_0 = pd.merge(df_jd_hk,df_md_0,\n",
    "                     left_on='投资用户',right_on='经典版用户名',\n",
    "                     how='left')"
   ]
  },
  {
   "cell_type": "code",
   "execution_count": null,
   "metadata": {},
   "outputs": [],
   "source": [
    "df_jd_hk_0.head(2)"
   ]
  },
  {
   "cell_type": "code",
   "execution_count": null,
   "metadata": {},
   "outputs": [],
   "source": [
    "df_jd_hk_1 = df_jd_hk_0.loc[:,['还款时间','利息','总投资额','发放时间','会员名']].dropna()"
   ]
  },
  {
   "cell_type": "code",
   "execution_count": null,
   "metadata": {},
   "outputs": [],
   "source": [
    "df_jd_hk_1.head(10)"
   ]
  },
  {
   "cell_type": "code",
   "execution_count": null,
   "metadata": {},
   "outputs": [],
   "source": [
    "df_jd_hk_1.columns"
   ]
  },
  {
   "cell_type": "code",
   "execution_count": null,
   "metadata": {},
   "outputs": [],
   "source": [
    "def h(x1,x2,m,n):\n",
    "    if x1 == x2:\n",
    "        return m + n\n",
    "    else:\n",
    "        return m\n",
    "\n",
    "df_jd_hk_1['回款金额'] =  df_jd_hk_1.apply(lambda x:h(x['还款时间'],x['发放时间'],x['利息'],x['总投资额']),axis=1)    "
   ]
  },
  {
   "cell_type": "code",
   "execution_count": null,
   "metadata": {
    "scrolled": true
   },
   "outputs": [],
   "source": [
    "df_jd_hk_1.head()"
   ]
  },
  {
   "cell_type": "code",
   "execution_count": null,
   "metadata": {},
   "outputs": [],
   "source": [
    "df_big_hk = df_jd_hk_1.loc[:,['发放时间','回款金额','会员名']]"
   ]
  },
  {
   "cell_type": "code",
   "execution_count": null,
   "metadata": {},
   "outputs": [],
   "source": [
    "df_big_hk['发放时间'] = pd.to_datetime(df_big_hk['发放时间'])"
   ]
  },
  {
   "cell_type": "code",
   "execution_count": null,
   "metadata": {},
   "outputs": [],
   "source": [
    "df_big_hk.info()"
   ]
  },
  {
   "cell_type": "code",
   "execution_count": null,
   "metadata": {},
   "outputs": [],
   "source": [
    "# 2、计算充值名单\n",
    "\n",
    "df_cg_cz.head(3)"
   ]
  },
  {
   "cell_type": "code",
   "execution_count": null,
   "metadata": {},
   "outputs": [],
   "source": [
    "df_cg_cz['充值状态'].unique()"
   ]
  },
  {
   "cell_type": "code",
   "execution_count": null,
   "metadata": {},
   "outputs": [],
   "source": [
    "df_big_cg_cz = df_cg_cz.loc[((df_cg_cz['会员名'].isin(df_md['会员名'])) & (df_cg_cz['充值状态'] == '充值成功')),['会员名','充值金额','成功时间']]"
   ]
  },
  {
   "cell_type": "code",
   "execution_count": null,
   "metadata": {},
   "outputs": [],
   "source": [
    "df_big_cg_cz.head(3)"
   ]
  },
  {
   "cell_type": "code",
   "execution_count": null,
   "metadata": {},
   "outputs": [],
   "source": [
    "df_big_cg_cz['充值时间'] = pd.to_datetime(df_big_cg_cz['成功时间']).dt.date"
   ]
  },
  {
   "cell_type": "code",
   "execution_count": null,
   "metadata": {},
   "outputs": [],
   "source": [
    "df_big_cg_cz.drop(columns='成功时间',inplace=True)"
   ]
  },
  {
   "cell_type": "code",
   "execution_count": null,
   "metadata": {},
   "outputs": [],
   "source": [
    "df_big_cz = df_big_cg_cz.copy()"
   ]
  },
  {
   "cell_type": "code",
   "execution_count": null,
   "metadata": {},
   "outputs": [],
   "source": [
    "df_big_cz['充值时间'] = pd.to_datetime(df_big_cz['充值时间'])"
   ]
  },
  {
   "cell_type": "code",
   "execution_count": null,
   "metadata": {},
   "outputs": [],
   "source": [
    "df_big_cz.info()"
   ]
  },
  {
   "cell_type": "code",
   "execution_count": null,
   "metadata": {},
   "outputs": [],
   "source": [
    "# 3、计算新充投资名单\n",
    "\n",
    "df_tz.head()"
   ]
  },
  {
   "cell_type": "code",
   "execution_count": null,
   "metadata": {},
   "outputs": [],
   "source": [
    "df_big_xctz = df_tz.loc[df_tz['新充金额'] != 0,['新充金额','用户名','投资时间']]"
   ]
  },
  {
   "cell_type": "code",
   "execution_count": null,
   "metadata": {},
   "outputs": [],
   "source": [
    "df_big_xctz.rename(columns={'用户名':'会员名'},inplace=True)"
   ]
  },
  {
   "cell_type": "code",
   "execution_count": null,
   "metadata": {},
   "outputs": [],
   "source": [
    "df_big_xctz['投资时间'] = pd.to_datetime(df_big_xctz['投资时间']).dt.date"
   ]
  },
  {
   "cell_type": "code",
   "execution_count": null,
   "metadata": {},
   "outputs": [],
   "source": [
    "df_big_xctz.head(3)"
   ]
  },
  {
   "cell_type": "code",
   "execution_count": null,
   "metadata": {},
   "outputs": [],
   "source": [
    "# 合并回款、充值、投资"
   ]
  },
  {
   "cell_type": "code",
   "execution_count": null,
   "metadata": {},
   "outputs": [],
   "source": [
    "gp_big_hk = df_big_hk.groupby(['发放时间','会员名'],as_index=False).sum()\n",
    "gp_big_cz = df_big_cz.groupby(['充值时间','会员名'],as_index=False).sum()\n",
    "gp_big_xctz = df_big_xctz.groupby(['投资时间','会员名'],as_index=False).sum()"
   ]
  },
  {
   "cell_type": "code",
   "execution_count": null,
   "metadata": {},
   "outputs": [],
   "source": [
    "gp_big_hk.rename(columns={'发放时间':'时间'},inplace=True)\n",
    "gp_big_cz.rename(columns={'充值时间':'时间'},inplace=True)\n",
    "gp_big_xctz.rename(columns={'投资时间':'时间'},inplace=True)"
   ]
  },
  {
   "cell_type": "code",
   "execution_count": null,
   "metadata": {},
   "outputs": [],
   "source": [
    "gp_big_hk['时间'] = gp_big_hk['时间'].astype(str)\n",
    "gp_big_cz['时间'] = gp_big_cz['时间'].astype(str)\n",
    "gp_big_xctz['时间'] = gp_big_xctz['时间'].astype(str)"
   ]
  },
  {
   "cell_type": "code",
   "execution_count": null,
   "metadata": {},
   "outputs": [],
   "source": [
    "gp_big_temp = pd.merge(gp_big_hk,gp_big_cz,on = ['时间','会员名'],how = 'outer')\n",
    "gp_big_hcxt = pd.merge(gp_big_temp,gp_big_xctz,on = ['时间','会员名'],how = 'outer')"
   ]
  },
  {
   "cell_type": "code",
   "execution_count": null,
   "metadata": {},
   "outputs": [],
   "source": [
    "gp_big_hcxt.head(10)"
   ]
  },
  {
   "cell_type": "code",
   "execution_count": null,
   "metadata": {},
   "outputs": [],
   "source": [
    "gp_big_hcxt.fillna(0,inplace=True)"
   ]
  },
  {
   "cell_type": "code",
   "execution_count": null,
   "metadata": {},
   "outputs": [],
   "source": [
    "# ！扩充每个用户的数据到20180301-20181217的每一天"
   ]
  },
  {
   "cell_type": "code",
   "execution_count": null,
   "metadata": {},
   "outputs": [],
   "source": [
    "time = pd.DataFrame({'时间':pd.date_range(start='20180301', end='20181217', freq='D')})\n",
    "\n",
    "#构造一个二级行索引，使得每人对应20180301-20180731的每一天\n",
    "index = pd.MultiIndex.from_product([time['时间'],df_md['会员名']], names = ['时间','会员名'])\n",
    "s = pd.Series(1,index=index)\n",
    "\n",
    "df_big_time = s.to_frame().reset_index()\n",
    "del df_big_time[0]\n",
    "df_big_time.head()"
   ]
  },
  {
   "cell_type": "code",
   "execution_count": null,
   "metadata": {},
   "outputs": [],
   "source": [
    "df_big_time.info()"
   ]
  },
  {
   "cell_type": "code",
   "execution_count": null,
   "metadata": {},
   "outputs": [],
   "source": [
    "df_big_time['时间'] = df_big_time['时间'].astype(str)"
   ]
  },
  {
   "cell_type": "code",
   "execution_count": null,
   "metadata": {},
   "outputs": [],
   "source": [
    "gp_big_hcxt_0 = pd.merge(df_big_time,gp_big_hcxt,on=['时间','会员名'],how='left')"
   ]
  },
  {
   "cell_type": "code",
   "execution_count": null,
   "metadata": {},
   "outputs": [],
   "source": [
    "gp_big_hcxt_0[gp_big_hcxt_0['会员名'] == 'XJLC_10205125931e8735']"
   ]
  },
  {
   "cell_type": "code",
   "execution_count": null,
   "metadata": {},
   "outputs": [],
   "source": [
    "gp_big_hcxt_0.fillna(0,inplace=True)"
   ]
  },
  {
   "cell_type": "code",
   "execution_count": null,
   "metadata": {},
   "outputs": [],
   "source": [
    "gp_big_hcxt_0['累计还款'] = gp_big_hcxt_0.groupby(['会员名'])['回款金额'].apply(lambda x: x.cumsum())\n",
    "gp_big_hcxt_0['累计充值'] = gp_big_hcxt_0.groupby(['会员名'])['充值金额'].apply(lambda x: x.cumsum())\n",
    "gp_big_hcxt_0['累计投资'] = gp_big_hcxt_0.groupby(['会员名'])['新充金额'].apply(lambda x: x.cumsum())"
   ]
  },
  {
   "cell_type": "code",
   "execution_count": null,
   "metadata": {},
   "outputs": [],
   "source": [
    "# 累加值：还款>充值>账户"
   ]
  },
  {
   "cell_type": "code",
   "execution_count": null,
   "metadata": {},
   "outputs": [],
   "source": [
    "gp_big_hcxt_0['累计充值_ok'] = np.where(gp_big_hcxt_0['累计还款'] < gp_big_hcxt_0['累计充值'],gp_big_hcxt_0['累计还款'],gp_big_hcxt_0['累计充值'])\n",
    "gp_big_hcxt_0['累计投资_ok'] = np.where(gp_big_hcxt_0['累计充值_ok'] < gp_big_hcxt_0['累计投资'],gp_big_hcxt_0['累计充值_ok'],gp_big_hcxt_0['累计投资'])"
   ]
  },
  {
   "cell_type": "code",
   "execution_count": null,
   "metadata": {},
   "outputs": [],
   "source": [
    "# 按日汇总数据"
   ]
  },
  {
   "cell_type": "code",
   "execution_count": null,
   "metadata": {},
   "outputs": [],
   "source": [
    "res_big_hcxt = gp_big_hcxt_0.groupby('时间')['累计还款','累计投资_ok'].sum()"
   ]
  },
  {
   "cell_type": "code",
   "execution_count": null,
   "metadata": {},
   "outputs": [],
   "source": [
    "res_big_hcxt.head()"
   ]
  },
  {
   "cell_type": "code",
   "execution_count": null,
   "metadata": {},
   "outputs": [],
   "source": [
    "# 绘图"
   ]
  },
  {
   "cell_type": "code",
   "execution_count": null,
   "metadata": {},
   "outputs": [],
   "source": [
    "res_big_hcxt.plot()"
   ]
  },
  {
   "cell_type": "code",
   "execution_count": null,
   "metadata": {},
   "outputs": [],
   "source": [
    "sns.set(style=\"dark\", color_codes=True,font=myfont.get_name())\n",
    "fig,axes = plt.subplots(nrows=1,ncols=1,figsize=(15,10))\n",
    "\n",
    "x = res_big_hcxt.index\n",
    "y = res_big_hcxt.iloc[:,0] - res_big_hcxt.iloc[:,1]\n",
    "\n",
    "# Plot a simple histogram with binsize determined automatically\n",
    "sns.lineplot(x=x, y=y,color='b')"
   ]
  },
  {
   "cell_type": "markdown",
   "metadata": {},
   "source": [
    "- 存管回款复投"
   ]
  },
  {
   "cell_type": "code",
   "execution_count": null,
   "metadata": {},
   "outputs": [],
   "source": [
    "# 计算存管回款"
   ]
  },
  {
   "cell_type": "code",
   "execution_count": null,
   "metadata": {},
   "outputs": [],
   "source": [
    "df_cg_hk.head(2)"
   ]
  },
  {
   "cell_type": "code",
   "execution_count": null,
   "metadata": {},
   "outputs": [],
   "source": [
    "df_big_cg_hk = df_cg_hk.loc[df_cg_hk['投资用户'].isin(df_md['会员名']),['投资用户','预计本次发放时间','本次发放金额']]"
   ]
  },
  {
   "cell_type": "code",
   "execution_count": null,
   "metadata": {},
   "outputs": [],
   "source": [
    "df_big_cg_hk.shape"
   ]
  },
  {
   "cell_type": "code",
   "execution_count": null,
   "metadata": {},
   "outputs": [],
   "source": [
    "df_big_cg_hk['预计本次发放时间'] = pd.to_datetime(df_big_cg_hk['预计本次发放时间'])"
   ]
  },
  {
   "cell_type": "code",
   "execution_count": null,
   "metadata": {},
   "outputs": [],
   "source": [
    "df_big_cg_hk = df_big_cg_hk.loc[(df_big_cg_hk['预计本次发放时间'] < '2018-12-18'),:]"
   ]
  },
  {
   "cell_type": "code",
   "execution_count": null,
   "metadata": {},
   "outputs": [],
   "source": [
    "df_big_cg_hk.rename(columns={'投资用户':'用户名','预计本次发放时间':'时间'},inplace=True)"
   ]
  },
  {
   "cell_type": "code",
   "execution_count": null,
   "metadata": {},
   "outputs": [],
   "source": [
    "df_big_cg_hk.tail()"
   ]
  },
  {
   "cell_type": "code",
   "execution_count": null,
   "metadata": {},
   "outputs": [],
   "source": [
    "# 计算存管续投"
   ]
  },
  {
   "cell_type": "code",
   "execution_count": null,
   "metadata": {},
   "outputs": [],
   "source": [
    "df_xttz_0 = pd.concat([df_cg_zht_0,df_cg_tz_1],ignore_index=True,sort=True)"
   ]
  },
  {
   "cell_type": "code",
   "execution_count": null,
   "metadata": {},
   "outputs": [],
   "source": [
    "df_xttz_0['投资时间'] = pd.to_datetime(df_xttz_0['投资时间'])"
   ]
  },
  {
   "cell_type": "code",
   "execution_count": null,
   "metadata": {},
   "outputs": [],
   "source": [
    "df_xttz_1 = df_xttz_0.loc[(df_xttz_0['续投金额'] > 0),['续投金额','用户名','投资时间']]"
   ]
  },
  {
   "cell_type": "code",
   "execution_count": null,
   "metadata": {},
   "outputs": [],
   "source": [
    "df_xttz_1.rename(columns={'投资时间':'时间'},inplace=True)"
   ]
  },
  {
   "cell_type": "code",
   "execution_count": null,
   "metadata": {},
   "outputs": [],
   "source": [
    "df_xttz_1.head()"
   ]
  },
  {
   "cell_type": "code",
   "execution_count": null,
   "metadata": {},
   "outputs": [],
   "source": [
    "# 合并回款、续投表"
   ]
  },
  {
   "cell_type": "code",
   "execution_count": null,
   "metadata": {},
   "outputs": [],
   "source": [
    "df_big_cg_hk['时间'] = df_big_cg_hk['时间'].astype(str)\n",
    "df_xttz_1['时间'] = df_xttz_1['时间'].astype(str)"
   ]
  },
  {
   "cell_type": "code",
   "execution_count": null,
   "metadata": {},
   "outputs": [],
   "source": [
    "gp_big_cg_hk = df_big_cg_hk.groupby(['时间','用户名'],as_index=False).sum()\n",
    "gp_xttz = df_xttz_1.groupby(['时间','用户名'],as_index=False).sum()"
   ]
  },
  {
   "cell_type": "code",
   "execution_count": null,
   "metadata": {},
   "outputs": [],
   "source": [
    "df_big_hxt = pd.merge(gp_big_cg_hk,gp_xttz,\n",
    "                    on=['时间','用户名'],\n",
    "                    how='outer')"
   ]
  },
  {
   "cell_type": "code",
   "execution_count": null,
   "metadata": {},
   "outputs": [],
   "source": [
    "df_big_hxt.shape"
   ]
  },
  {
   "cell_type": "code",
   "execution_count": null,
   "metadata": {},
   "outputs": [],
   "source": [
    "df_big_hxt.rename(columns={'用户名':'会员名'},inplace=True)"
   ]
  },
  {
   "cell_type": "code",
   "execution_count": null,
   "metadata": {},
   "outputs": [],
   "source": [
    "df_big_hxt.head()"
   ]
  },
  {
   "cell_type": "code",
   "execution_count": null,
   "metadata": {},
   "outputs": [],
   "source": [
    "df_big_hxt['时间'].min()"
   ]
  },
  {
   "cell_type": "code",
   "execution_count": null,
   "metadata": {},
   "outputs": [],
   "source": [
    "# 将回款，续投记录扩充到20170925-20181217"
   ]
  },
  {
   "cell_type": "code",
   "execution_count": null,
   "metadata": {},
   "outputs": [],
   "source": [
    "time_2 = pd.DataFrame({'时间':pd.date_range(start='20170925', end='20181217', freq='D')})\n",
    "\n",
    "#构造一个二级行索引，使得每人对应220170925-20181217的每一天\n",
    "index_2 = pd.MultiIndex.from_product([time_2['时间'],df_md['会员名']], names = ['时间','会员名'])\n",
    "s_2 = pd.Series(1,index=index_2)\n",
    "\n",
    "df_big_time_2 = s_2.to_frame().reset_index()\n",
    "\n",
    "df_big_time_2['时间'] = df_big_time_2['时间'].astype(str)\n",
    "\n",
    "del df_big_time_2[0]"
   ]
  },
  {
   "cell_type": "code",
   "execution_count": null,
   "metadata": {},
   "outputs": [],
   "source": [
    "gp_big_hxt = pd.merge(df_big_time_2,df_big_hxt,on=['时间','会员名'],how='left')"
   ]
  },
  {
   "cell_type": "code",
   "execution_count": null,
   "metadata": {},
   "outputs": [],
   "source": [
    "gp_big_hxt.tail()"
   ]
  },
  {
   "cell_type": "code",
   "execution_count": null,
   "metadata": {},
   "outputs": [],
   "source": [
    "gp_big_hxt.fillna(0,inplace=True)"
   ]
  },
  {
   "cell_type": "code",
   "execution_count": null,
   "metadata": {},
   "outputs": [],
   "source": [
    "gp_big_hxt['累计还款'] = gp_big_hxt.groupby(['会员名'])['本次发放金额'].apply(lambda x: x.cumsum())\n",
    "gp_big_hxt['累计续投'] = gp_big_hxt.groupby(['会员名'])['续投金额'].apply(lambda x: x.cumsum())"
   ]
  },
  {
   "cell_type": "code",
   "execution_count": null,
   "metadata": {},
   "outputs": [],
   "source": [
    "# 按日汇总数据"
   ]
  },
  {
   "cell_type": "code",
   "execution_count": null,
   "metadata": {},
   "outputs": [],
   "source": [
    "res_big_hxt = gp_big_hxt.groupby('时间')['累计还款','累计续投'].sum()"
   ]
  },
  {
   "cell_type": "code",
   "execution_count": null,
   "metadata": {},
   "outputs": [],
   "source": [
    "res_big_hxt.head()"
   ]
  },
  {
   "cell_type": "code",
   "execution_count": null,
   "metadata": {},
   "outputs": [],
   "source": [
    "res_big_hxt.shape"
   ]
  },
  {
   "cell_type": "code",
   "execution_count": null,
   "metadata": {},
   "outputs": [],
   "source": [
    "# 绘图"
   ]
  },
  {
   "cell_type": "code",
   "execution_count": null,
   "metadata": {},
   "outputs": [],
   "source": [
    "sns.set(style=\"white\",palette=\"deep\", color_codes=True,font=myfont.get_name())\n",
    "fig,axes = plt.subplots(nrows=1,ncols=1,figsize=(15,10))\n",
    "\n",
    "x = res_big_hxt.index\n",
    "y1 = res_big_hxt.iloc[:,0]\n",
    "y2 = res_big_hxt.iloc[:,1]\n",
    "\n",
    "# Plot a simple histogram with binsize determined automatically\n",
    "sns.lineplot(x=x, y=y1,data=gp_big_hxt,color='g')\n",
    "sns.lineplot(x=x, y=y2,data=gp_big_hxt,color='r')"
   ]
  },
  {
   "cell_type": "code",
   "execution_count": null,
   "metadata": {},
   "outputs": [],
   "source": [
    "sns.set(style=\"dark\", color_codes=True,font=myfont.get_name())\n",
    "fig,axes = plt.subplots(nrows=1,ncols=1,figsize=(15,10))\n",
    "\n",
    "x = res_big_hxt.index\n",
    "y = res_big_hxt.iloc[:,0] - res_big_hxt.iloc[:,1]\n",
    "\n",
    "# Plot a simple histogram with binsize determined automatically\n",
    "sns.lineplot(x=x, y=y,data=gp_big_hxt,color='b')"
   ]
  },
  {
   "cell_type": "code",
   "execution_count": null,
   "metadata": {},
   "outputs": [],
   "source": []
  },
  {
   "cell_type": "code",
   "execution_count": null,
   "metadata": {},
   "outputs": [],
   "source": []
  },
  {
   "cell_type": "code",
   "execution_count": null,
   "metadata": {},
   "outputs": [],
   "source": []
  },
  {
   "cell_type": "code",
   "execution_count": null,
   "metadata": {},
   "outputs": [],
   "source": []
  },
  {
   "cell_type": "code",
   "execution_count": null,
   "metadata": {},
   "outputs": [],
   "source": []
  },
  {
   "cell_type": "code",
   "execution_count": null,
   "metadata": {},
   "outputs": [],
   "source": []
  },
  {
   "cell_type": "code",
   "execution_count": null,
   "metadata": {},
   "outputs": [],
   "source": []
  },
  {
   "cell_type": "code",
   "execution_count": null,
   "metadata": {},
   "outputs": [],
   "source": []
  }
 ],
 "metadata": {
  "kernelspec": {
   "display_name": "Python 3",
   "language": "python",
   "name": "python3"
  },
  "language_info": {
   "codemirror_mode": {
    "name": "ipython",
    "version": 3
   },
   "file_extension": ".py",
   "mimetype": "text/x-python",
   "name": "python",
   "nbconvert_exporter": "python",
   "pygments_lexer": "ipython3",
   "version": "3.7.2"
  }
 },
 "nbformat": 4,
 "nbformat_minor": 2
}
