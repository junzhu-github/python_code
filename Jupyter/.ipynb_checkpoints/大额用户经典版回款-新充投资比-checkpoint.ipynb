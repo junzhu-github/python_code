{
 "cells": [
  {
   "cell_type": "markdown",
   "metadata": {},
   "source": [
    "- 导入库"
   ]
  },
  {
   "cell_type": "code",
   "execution_count": 1,
   "metadata": {},
   "outputs": [],
   "source": [
    "import os\n",
    "import pandas as pd\n",
    "import numpy as np\n",
    "import matplotlib.pyplot as plt\n",
    "%matplotlib inline"
   ]
  },
  {
   "cell_type": "markdown",
   "metadata": {},
   "source": [
    "- 导入数据"
   ]
  },
  {
   "cell_type": "code",
   "execution_count": 2,
   "metadata": {},
   "outputs": [],
   "source": [
    "with pd.ExcelFile(r'C:\\百度云同步盘\\小鸡理财\\数据报告\\月报\\2月\\经典转存管.xlsx') as xlsx:\n",
    "    df_hk = pd.read_excel(xlsx,'回款')\n",
    "    df_cz = pd.read_excel(xlsx,'充值')\n",
    "    df_tz = pd.read_excel(xlsx,'投资')\n",
    "    df_md = pd.read_excel(xlsx,'大额名单')\n",
    "    df_rz = pd.read_excel(xlsx,'认证')"
   ]
  },
  {
   "cell_type": "markdown",
   "metadata": {},
   "source": [
    "1.把所有表格内身份证里的字母都转换成大写"
   ]
  },
  {
   "cell_type": "code",
   "execution_count": 3,
   "metadata": {},
   "outputs": [],
   "source": [
    "df_hk['身份证'] = df_hk['身份证'].str.upper()\n",
    "df_cz['身份证'] = df_cz['身份证'].str.upper()\n",
    "df_tz['身份证'] = df_tz['身份证'].str.upper()\n",
    "df_md['身份证'] = df_md['身份证'].str.upper()\n",
    "df_rz['身份证'] = df_rz['身份证'].str.upper()"
   ]
  },
  {
   "cell_type": "markdown",
   "metadata": {},
   "source": [
    "2.数据清洗，去除有空值的行"
   ]
  },
  {
   "cell_type": "code",
   "execution_count": 4,
   "metadata": {},
   "outputs": [],
   "source": [
    "df_hk.dropna(inplace=True)\n",
    "df_cz.dropna(inplace=True)\n",
    "df_tz.dropna(inplace=True)\n",
    "df_md.dropna(inplace=True)\n",
    "df_rz.dropna(inplace=True)"
   ]
  },
  {
   "cell_type": "markdown",
   "metadata": {},
   "source": [
    "3.统计经典版回款的所有用户，并分为大额和非大额"
   ]
  },
  {
   "cell_type": "code",
   "execution_count": 5,
   "metadata": {},
   "outputs": [],
   "source": [
    "df_yh = df_hk['身份证'].drop_duplicates()"
   ]
  },
  {
   "cell_type": "markdown",
   "metadata": {},
   "source": [
    "总人数"
   ]
  },
  {
   "cell_type": "code",
   "execution_count": 6,
   "metadata": {},
   "outputs": [
    {
     "data": {
      "text/plain": [
       "(4871,)"
      ]
     },
     "execution_count": 6,
     "metadata": {},
     "output_type": "execute_result"
    }
   ],
   "source": [
    "df_yh.shape"
   ]
  },
  {
   "cell_type": "markdown",
   "metadata": {},
   "source": [
    "大额用户"
   ]
  },
  {
   "cell_type": "code",
   "execution_count": 7,
   "metadata": {},
   "outputs": [],
   "source": [
    "df_dae_yh = df_md['身份证']"
   ]
  },
  {
   "cell_type": "markdown",
   "metadata": {},
   "source": [
    "非大额用户"
   ]
  },
  {
   "cell_type": "code",
   "execution_count": 8,
   "metadata": {},
   "outputs": [],
   "source": [
    "df_pt_yh = df_yh[~df_yh.isin(df_dae_yh)]"
   ]
  },
  {
   "cell_type": "code",
   "execution_count": 9,
   "metadata": {},
   "outputs": [
    {
     "data": {
      "text/plain": [
       "(4566,)"
      ]
     },
     "execution_count": 9,
     "metadata": {},
     "output_type": "execute_result"
    }
   ],
   "source": [
    "df_pt_yh.shape"
   ]
  },
  {
   "cell_type": "markdown",
   "metadata": {},
   "source": [
    "4.统计所拥有，大额、普通用户开通存管比例"
   ]
  },
  {
   "cell_type": "code",
   "execution_count": 10,
   "metadata": {},
   "outputs": [
    {
     "data": {
      "text/plain": [
       "True     4744\n",
       "False     127\n",
       "Name: 身份证, dtype: int64"
      ]
     },
     "execution_count": 10,
     "metadata": {},
     "output_type": "execute_result"
    }
   ],
   "source": [
    "df_yh.isin(df_rz['身份证']).value_counts()"
   ]
  },
  {
   "cell_type": "code",
   "execution_count": 11,
   "metadata": {
    "scrolled": false
   },
   "outputs": [
    {
     "data": {
      "text/plain": [
       "True     297\n",
       "False      9\n",
       "Name: 身份证, dtype: int64"
      ]
     },
     "execution_count": 11,
     "metadata": {},
     "output_type": "execute_result"
    }
   ],
   "source": [
    "df_dae_yh.isin(df_rz['身份证']).value_counts()"
   ]
  },
  {
   "cell_type": "code",
   "execution_count": 12,
   "metadata": {},
   "outputs": [
    {
     "data": {
      "text/plain": [
       "True     0.973938\n",
       "False    0.026062\n",
       "Name: 身份证, dtype: float64"
      ]
     },
     "execution_count": 12,
     "metadata": {},
     "output_type": "execute_result"
    }
   ],
   "source": [
    "df_pt_yh.isin(df_rz['身份证']).value_counts(normalize=True)"
   ]
  },
  {
   "cell_type": "markdown",
   "metadata": {},
   "source": [
    "4-1.排除用户中年龄小于18岁的"
   ]
  },
  {
   "cell_type": "code",
   "execution_count": 13,
   "metadata": {},
   "outputs": [],
   "source": [
    "def is18(x):\n",
    "    birth_date = pd.to_datetime(x[6:14])\n",
    "    age = (pd.datetime.now() - birth_date) / np.timedelta64(1, 'Y')\n",
    "    \n",
    "    if age < 18:\n",
    "        return False\n",
    "    else:\n",
    "        return True"
   ]
  },
  {
   "cell_type": "code",
   "execution_count": 14,
   "metadata": {
    "scrolled": true
   },
   "outputs": [
    {
     "data": {
      "text/plain": [
       "True     4869\n",
       "False       2\n",
       "Name: 身份证, dtype: int64"
      ]
     },
     "execution_count": 14,
     "metadata": {},
     "output_type": "execute_result"
    }
   ],
   "source": [
    "df_yh.apply(is18).value_counts()"
   ]
  },
  {
   "cell_type": "markdown",
   "metadata": {},
   "source": [
    "5.统计开通存管用户在存管投资比例"
   ]
  },
  {
   "cell_type": "markdown",
   "metadata": {},
   "source": [
    "5-1.统计3.5以后投资名单"
   ]
  },
  {
   "cell_type": "code",
   "execution_count": 15,
   "metadata": {},
   "outputs": [
    {
     "name": "stdout",
     "output_type": "stream",
     "text": [
      "<class 'pandas.core.frame.DataFrame'>\n",
      "Int64Index: 68914 entries, 0 to 68913\n",
      "Data columns (total 3 columns):\n",
      "投资额    68914 non-null float64\n",
      "时间     68914 non-null object\n",
      "身份证    68914 non-null object\n",
      "dtypes: float64(1), object(2)\n",
      "memory usage: 2.1+ MB\n"
     ]
    }
   ],
   "source": [
    "df_tz.info()"
   ]
  },
  {
   "cell_type": "code",
   "execution_count": 16,
   "metadata": {},
   "outputs": [],
   "source": [
    "df_tz['时间'] = pd.to_datetime(df_tz['时间'])"
   ]
  },
  {
   "cell_type": "code",
   "execution_count": 17,
   "metadata": {
    "scrolled": true
   },
   "outputs": [],
   "source": [
    "df_tz_0305 = df_tz.loc[df_tz['时间'] > '2018-03-05','身份证'].unique()"
   ]
  },
  {
   "cell_type": "code",
   "execution_count": 18,
   "metadata": {},
   "outputs": [
    {
     "data": {
      "text/plain": [
       "(6022,)"
      ]
     },
     "execution_count": 18,
     "metadata": {},
     "output_type": "execute_result"
    }
   ],
   "source": [
    "df_tz_0305.shape"
   ]
  },
  {
   "cell_type": "markdown",
   "metadata": {},
   "source": [
    "5-2.统计开通存管用户在存管投资比例"
   ]
  },
  {
   "cell_type": "code",
   "execution_count": 19,
   "metadata": {
    "scrolled": true
   },
   "outputs": [
    {
     "data": {
      "text/plain": [
       "True     3003\n",
       "False    1741\n",
       "Name: 身份证, dtype: int64"
      ]
     },
     "execution_count": 19,
     "metadata": {},
     "output_type": "execute_result"
    }
   ],
   "source": [
    "df_yh[df_yh.isin(df_rz['身份证'])].isin(df_tz_0305).value_counts()"
   ]
  },
  {
   "cell_type": "code",
   "execution_count": 20,
   "metadata": {},
   "outputs": [
    {
     "data": {
      "text/plain": [
       "True     270\n",
       "False     27\n",
       "Name: 身份证, dtype: int64"
      ]
     },
     "execution_count": 20,
     "metadata": {},
     "output_type": "execute_result"
    }
   ],
   "source": [
    "df_dae_yh[df_dae_yh.isin(df_rz['身份证'])].isin(df_tz_0305).value_counts()"
   ]
  },
  {
   "cell_type": "code",
   "execution_count": 21,
   "metadata": {
    "scrolled": true
   },
   "outputs": [
    {
     "data": {
      "text/plain": [
       "True     2733\n",
       "False    1714\n",
       "Name: 身份证, dtype: int64"
      ]
     },
     "execution_count": 21,
     "metadata": {},
     "output_type": "execute_result"
    }
   ],
   "source": [
    "df_pt_yh[df_pt_yh.isin(df_rz['身份证'])].isin(df_tz_0305).value_counts()"
   ]
  },
  {
   "cell_type": "markdown",
   "metadata": {},
   "source": [
    "6.统计全体回款-新充-投资比例"
   ]
  },
  {
   "cell_type": "markdown",
   "metadata": {},
   "source": [
    "6-1.将表格“日期时间”列转换为日期格式，type仍为str"
   ]
  },
  {
   "cell_type": "code",
   "execution_count": 22,
   "metadata": {},
   "outputs": [],
   "source": [
    "# df_hk['时间'] = pd.to_datetime(df_hk['时间']).dt.date\n",
    "df_cz['时间'] = pd.to_datetime(df_cz['时间']).dt.date\n",
    "df_tz['时间'] = pd.to_datetime(df_tz['时间']).dt.date"
   ]
  },
  {
   "cell_type": "markdown",
   "metadata": {},
   "source": [
    "6-2.回款、充值、投资表格的各自数据按日期合并"
   ]
  },
  {
   "cell_type": "code",
   "execution_count": 23,
   "metadata": {
    "scrolled": true
   },
   "outputs": [],
   "source": [
    "df_hk = df_hk.groupby(['时间','身份证'],as_index=False).sum()\n",
    "df_cz = df_cz.groupby(['时间','身份证'],as_index=False).sum()\n",
    "df_tz = df_tz.groupby(['时间','身份证'],as_index=False).sum()"
   ]
  },
  {
   "cell_type": "code",
   "execution_count": 24,
   "metadata": {
    "scrolled": true
   },
   "outputs": [
    {
     "data": {
      "text/html": [
       "<div>\n",
       "<style scoped>\n",
       "    .dataframe tbody tr th:only-of-type {\n",
       "        vertical-align: middle;\n",
       "    }\n",
       "\n",
       "    .dataframe tbody tr th {\n",
       "        vertical-align: top;\n",
       "    }\n",
       "\n",
       "    .dataframe thead th {\n",
       "        text-align: right;\n",
       "    }\n",
       "</style>\n",
       "<table border=\"1\" class=\"dataframe\">\n",
       "  <thead>\n",
       "    <tr style=\"text-align: right;\">\n",
       "      <th></th>\n",
       "      <th>时间</th>\n",
       "      <th>身份证</th>\n",
       "      <th>充值金额</th>\n",
       "    </tr>\n",
       "  </thead>\n",
       "  <tbody>\n",
       "    <tr>\n",
       "      <th>0</th>\n",
       "      <td>2018-03-01</td>\n",
       "      <td>110102198305263080</td>\n",
       "      <td>15134.0</td>\n",
       "    </tr>\n",
       "    <tr>\n",
       "      <th>207</th>\n",
       "      <td>2018-03-02</td>\n",
       "      <td>110102198305263080</td>\n",
       "      <td>10000.0</td>\n",
       "    </tr>\n",
       "  </tbody>\n",
       "</table>\n",
       "</div>"
      ],
      "text/plain": [
       "             时间                 身份证     充值金额\n",
       "0    2018-03-01  110102198305263080  15134.0\n",
       "207  2018-03-02  110102198305263080  10000.0"
      ]
     },
     "execution_count": 24,
     "metadata": {},
     "output_type": "execute_result"
    }
   ],
   "source": [
    "df_cz[df_cz['身份证'] == '110102198305263080'].head(2)"
   ]
  },
  {
   "cell_type": "markdown",
   "metadata": {},
   "source": [
    "6-3.合并三表"
   ]
  },
  {
   "cell_type": "code",
   "execution_count": 25,
   "metadata": {
    "scrolled": true
   },
   "outputs": [
    {
     "name": "stdout",
     "output_type": "stream",
     "text": [
      "<class 'pandas.core.frame.DataFrame'>\n",
      "Int64Index: 131891 entries, 0 to 131890\n",
      "Data columns (total 5 columns):\n",
      "时间      131891 non-null datetime64[ns]\n",
      "身份证     131891 non-null object\n",
      "回款金额    66644 non-null float64\n",
      "充值金额    37300 non-null float64\n",
      "投资额     55123 non-null float64\n",
      "dtypes: datetime64[ns](1), float64(3), object(1)\n",
      "memory usage: 6.0+ MB\n"
     ]
    }
   ],
   "source": [
    "gp_temp = pd.merge(df_hk,df_cz,on = ['时间','身份证'],how = 'outer')\n",
    "gp = pd.merge(gp_temp,df_tz,on = ['时间','身份证'],how = 'outer')\n",
    "gp['时间'] = pd.to_datetime(gp['时间'])\n",
    "gp.info()"
   ]
  },
  {
   "cell_type": "markdown",
   "metadata": {},
   "source": [
    "6-4.扩充每个用户的数据到20180301-20190228的每一天"
   ]
  },
  {
   "cell_type": "code",
   "execution_count": 26,
   "metadata": {},
   "outputs": [
    {
     "name": "stdout",
     "output_type": "stream",
     "text": [
      "          时间\n",
      "0 2018-03-01\n",
      "1 2018-03-02\n",
      "2 2018-03-03\n"
     ]
    }
   ],
   "source": [
    "t = pd.date_range(start='20180301', end='20190228', freq='D')\n",
    "time_df = pd.DataFrame({'时间':t})\n",
    "print(time_df.head(3))\n",
    "\n",
    "#构造一个二级行索引，使得每人对应20180301-20190228的每一天\n",
    "index = pd.MultiIndex.from_product([time_df['时间'],df_yh], names = ['时间','身份证'])\n",
    "s = pd.Series(1,index=index)\n",
    "\n",
    "df= s.to_frame().reset_index()\n",
    "del df[0]"
   ]
  },
  {
   "cell_type": "code",
   "execution_count": 27,
   "metadata": {},
   "outputs": [
    {
     "data": {
      "text/html": [
       "<div>\n",
       "<style scoped>\n",
       "    .dataframe tbody tr th:only-of-type {\n",
       "        vertical-align: middle;\n",
       "    }\n",
       "\n",
       "    .dataframe tbody tr th {\n",
       "        vertical-align: top;\n",
       "    }\n",
       "\n",
       "    .dataframe thead th {\n",
       "        text-align: right;\n",
       "    }\n",
       "</style>\n",
       "<table border=\"1\" class=\"dataframe\">\n",
       "  <thead>\n",
       "    <tr style=\"text-align: right;\">\n",
       "      <th></th>\n",
       "      <th>时间</th>\n",
       "      <th>身份证</th>\n",
       "    </tr>\n",
       "  </thead>\n",
       "  <tbody>\n",
       "    <tr>\n",
       "      <th>0</th>\n",
       "      <td>2018-03-01</td>\n",
       "      <td>230702196911160023</td>\n",
       "    </tr>\n",
       "    <tr>\n",
       "      <th>1</th>\n",
       "      <td>2018-03-01</td>\n",
       "      <td>412728198802084920</td>\n",
       "    </tr>\n",
       "    <tr>\n",
       "      <th>2</th>\n",
       "      <td>2018-03-01</td>\n",
       "      <td>422126199008182516</td>\n",
       "    </tr>\n",
       "  </tbody>\n",
       "</table>\n",
       "</div>"
      ],
      "text/plain": [
       "          时间                 身份证\n",
       "0 2018-03-01  230702196911160023\n",
       "1 2018-03-01  412728198802084920\n",
       "2 2018-03-01  422126199008182516"
      ]
     },
     "execution_count": 27,
     "metadata": {},
     "output_type": "execute_result"
    }
   ],
   "source": [
    "df.head(3)"
   ]
  },
  {
   "cell_type": "markdown",
   "metadata": {},
   "source": [
    "6-5.合并6-3和6-4"
   ]
  },
  {
   "cell_type": "code",
   "execution_count": 28,
   "metadata": {
    "scrolled": true
   },
   "outputs": [
    {
     "data": {
      "text/html": [
       "<div>\n",
       "<style scoped>\n",
       "    .dataframe tbody tr th:only-of-type {\n",
       "        vertical-align: middle;\n",
       "    }\n",
       "\n",
       "    .dataframe tbody tr th {\n",
       "        vertical-align: top;\n",
       "    }\n",
       "\n",
       "    .dataframe thead th {\n",
       "        text-align: right;\n",
       "    }\n",
       "</style>\n",
       "<table border=\"1\" class=\"dataframe\">\n",
       "  <thead>\n",
       "    <tr style=\"text-align: right;\">\n",
       "      <th></th>\n",
       "      <th>时间</th>\n",
       "      <th>身份证</th>\n",
       "      <th>回款金额</th>\n",
       "      <th>充值金额</th>\n",
       "      <th>投资额</th>\n",
       "    </tr>\n",
       "  </thead>\n",
       "  <tbody>\n",
       "    <tr>\n",
       "      <th>0</th>\n",
       "      <td>2018-03-01</td>\n",
       "      <td>230702196911160023</td>\n",
       "      <td>NaN</td>\n",
       "      <td>NaN</td>\n",
       "      <td>NaN</td>\n",
       "    </tr>\n",
       "    <tr>\n",
       "      <th>1</th>\n",
       "      <td>2018-03-01</td>\n",
       "      <td>412728198802084920</td>\n",
       "      <td>NaN</td>\n",
       "      <td>NaN</td>\n",
       "      <td>NaN</td>\n",
       "    </tr>\n",
       "    <tr>\n",
       "      <th>2</th>\n",
       "      <td>2018-03-01</td>\n",
       "      <td>422126199008182516</td>\n",
       "      <td>NaN</td>\n",
       "      <td>NaN</td>\n",
       "      <td>NaN</td>\n",
       "    </tr>\n",
       "    <tr>\n",
       "      <th>3</th>\n",
       "      <td>2018-03-01</td>\n",
       "      <td>522132197211030923</td>\n",
       "      <td>NaN</td>\n",
       "      <td>NaN</td>\n",
       "      <td>NaN</td>\n",
       "    </tr>\n",
       "    <tr>\n",
       "      <th>4</th>\n",
       "      <td>2018-03-01</td>\n",
       "      <td>370226196507090224</td>\n",
       "      <td>NaN</td>\n",
       "      <td>NaN</td>\n",
       "      <td>NaN</td>\n",
       "    </tr>\n",
       "  </tbody>\n",
       "</table>\n",
       "</div>"
      ],
      "text/plain": [
       "          时间                 身份证  回款金额  充值金额  投资额\n",
       "0 2018-03-01  230702196911160023   NaN   NaN  NaN\n",
       "1 2018-03-01  412728198802084920   NaN   NaN  NaN\n",
       "2 2018-03-01  422126199008182516   NaN   NaN  NaN\n",
       "3 2018-03-01  522132197211030923   NaN   NaN  NaN\n",
       "4 2018-03-01  370226196507090224   NaN   NaN  NaN"
      ]
     },
     "execution_count": 28,
     "metadata": {},
     "output_type": "execute_result"
    }
   ],
   "source": [
    "gp_tm = pd.merge(df,gp,on=['时间','身份证'],how='left')\n",
    "gp_tm.head()"
   ]
  },
  {
   "cell_type": "markdown",
   "metadata": {},
   "source": [
    "6-6. 整理新表"
   ]
  },
  {
   "cell_type": "code",
   "execution_count": 29,
   "metadata": {
    "scrolled": true
   },
   "outputs": [],
   "source": [
    "gp_tm.fillna(0,inplace=True)"
   ]
  },
  {
   "cell_type": "markdown",
   "metadata": {},
   "source": [
    "6-7.按每个用户计算累加值"
   ]
  },
  {
   "cell_type": "code",
   "execution_count": 30,
   "metadata": {},
   "outputs": [],
   "source": [
    "gp_tm['累计回款'] = gp_tm.groupby(['身份证'])['回款金额'].apply(lambda x: x.cumsum())\n",
    "gp_tm['累计充值'] = gp_tm.groupby(['身份证'])['充值金额'].apply(lambda x: x.cumsum())\n",
    "gp_tm['累计投资'] = gp_tm.groupby(['身份证'])['投资额'].apply(lambda x: x.cumsum())"
   ]
  },
  {
   "cell_type": "markdown",
   "metadata": {},
   "source": [
    "6-8.累加值：还款>充值>账户"
   ]
  },
  {
   "cell_type": "code",
   "execution_count": 31,
   "metadata": {},
   "outputs": [],
   "source": [
    "gp_tm['累计充值_ok'] = np.where(gp_tm['累计回款'] < gp_tm['累计充值'],gp_tm['累计回款'],gp_tm['累计充值'])\n",
    "gp_tm['累计投资_ok'] = np.where(gp_tm['累计充值_ok'] < gp_tm['累计投资'],gp_tm['累计充值_ok'],gp_tm['累计投资'])"
   ]
  },
  {
   "cell_type": "code",
   "execution_count": 32,
   "metadata": {},
   "outputs": [],
   "source": [
    "result = gp_tm.loc[:,['时间','身份证','累计回款','累计投资_ok']]"
   ]
  },
  {
   "cell_type": "markdown",
   "metadata": {},
   "source": [
    "7-1.统计大额用户回款-投资比例"
   ]
  },
  {
   "cell_type": "code",
   "execution_count": 33,
   "metadata": {},
   "outputs": [],
   "source": [
    "res_dae = result[result['身份证'].isin(df_dae_yh)]"
   ]
  },
  {
   "cell_type": "code",
   "execution_count": 34,
   "metadata": {},
   "outputs": [],
   "source": [
    "(res_dae.groupby('时间').sum()).to_excel('dae.xlsx')"
   ]
  },
  {
   "cell_type": "markdown",
   "metadata": {},
   "source": [
    "7-2.统计普通用户回款-投资比例"
   ]
  },
  {
   "cell_type": "code",
   "execution_count": 35,
   "metadata": {},
   "outputs": [],
   "source": [
    "res_pt = result[result['身份证'].isin(df_pt_yh)]"
   ]
  },
  {
   "cell_type": "code",
   "execution_count": 36,
   "metadata": {},
   "outputs": [],
   "source": [
    "(res_pt.groupby('时间').sum()).to_excel('pt.xlsx')"
   ]
  },
  {
   "cell_type": "code",
   "execution_count": null,
   "metadata": {},
   "outputs": [],
   "source": []
  },
  {
   "cell_type": "code",
   "execution_count": null,
   "metadata": {},
   "outputs": [],
   "source": []
  },
  {
   "cell_type": "code",
   "execution_count": 37,
   "metadata": {},
   "outputs": [
    {
     "ename": "NameError",
     "evalue": "name 'discard_bellow' is not defined",
     "output_type": "error",
     "traceback": [
      "\u001b[1;31m---------------------------------------------------------------------------\u001b[0m",
      "\u001b[1;31mNameError\u001b[0m                                 Traceback (most recent call last)",
      "\u001b[1;32m<ipython-input-37-0c8605c9427c>\u001b[0m in \u001b[0;36m<module>\u001b[1;34m\u001b[0m\n\u001b[1;32m----> 1\u001b[1;33m \u001b[0mdiscard_bellow\u001b[0m\u001b[1;33m\u001b[0m\u001b[1;33m\u001b[0m\u001b[0m\n\u001b[0m",
      "\u001b[1;31mNameError\u001b[0m: name 'discard_bellow' is not defined"
     ]
    }
   ],
   "source": [
    "discard_bellow"
   ]
  },
  {
   "cell_type": "code",
   "execution_count": null,
   "metadata": {},
   "outputs": [],
   "source": [
    "gp_tm[gp_tm['身份证'] == '230702196911160023']"
   ]
  },
  {
   "cell_type": "code",
   "execution_count": null,
   "metadata": {},
   "outputs": [],
   "source": [
    "df = gp_tm[gp_tm['身份证'] == '230702196911160023']\n",
    "df.info()"
   ]
  },
  {
   "cell_type": "code",
   "execution_count": null,
   "metadata": {},
   "outputs": [],
   "source": [
    "df.set_index('时间',inplace=True)"
   ]
  },
  {
   "cell_type": "code",
   "execution_count": null,
   "metadata": {},
   "outputs": [],
   "source": [
    "x = df.truncate(after='2018-03-6').sum()"
   ]
  },
  {
   "cell_type": "code",
   "execution_count": null,
   "metadata": {},
   "outputs": [],
   "source": [
    "x['充值金额']"
   ]
  },
  {
   "cell_type": "code",
   "execution_count": null,
   "metadata": {},
   "outputs": [],
   "source": [
    "x"
   ]
  },
  {
   "cell_type": "code",
   "execution_count": null,
   "metadata": {},
   "outputs": [],
   "source": [
    "x['充充值金额'] = 50"
   ]
  },
  {
   "cell_type": "code",
   "execution_count": null,
   "metadata": {},
   "outputs": [],
   "source": [
    "x"
   ]
  },
  {
   "cell_type": "code",
   "execution_count": null,
   "metadata": {},
   "outputs": [],
   "source": [
    "df.loc['2018-03-01','回款金额'] = 5000"
   ]
  },
  {
   "cell_type": "code",
   "execution_count": null,
   "metadata": {},
   "outputs": [],
   "source": [
    "df.head(1)"
   ]
  },
  {
   "cell_type": "code",
   "execution_count": null,
   "metadata": {},
   "outputs": [],
   "source": [
    "for i in df_yh:\n",
    "    df_tp = gp_tm[gp_tm['身份证'] == i]\n",
    "    df_tp.set_index('时间',inplace=True)\n",
    "    \n",
    "    for d in t:\n",
    "        x = df_tp.truncate(after = d).sum()\n",
    "        \n",
    "        if x['回款金额'] < x['充值金额']:\n",
    "            df_tp.loc[d,'充值金额'] = x['充值金额'] - x['回款金额']\n",
    "            \n",
    "        \n",
    "    \n",
    "    "
   ]
  },
  {
   "cell_type": "code",
   "execution_count": null,
   "metadata": {},
   "outputs": [],
   "source": []
  },
  {
   "cell_type": "code",
   "execution_count": null,
   "metadata": {},
   "outputs": [],
   "source": []
  },
  {
   "cell_type": "code",
   "execution_count": null,
   "metadata": {},
   "outputs": [],
   "source": []
  },
  {
   "cell_type": "markdown",
   "metadata": {},
   "source": [
    "- 整理数据：保留到日期，筛选出大额用户"
   ]
  },
  {
   "cell_type": "markdown",
   "metadata": {},
   "source": [
    "- 保留日期的方法\n",
    "\n",
    "仅保留日期\n",
    "df['just_date'] = df['dates'].dt.date\n",
    "\n",
    "保留日期和时间\n",
    "df['normalised_date'] = df['dates'].dt.normalize()"
   ]
  },
  {
   "cell_type": "code",
   "execution_count": null,
   "metadata": {},
   "outputs": [],
   "source": [
    "df_hk['时间'] = pd.to_datetime(df_hk['发放时间'])\n",
    "df_hk['身份证'] = df_hk['身份证'].str.upper()\n",
    "df_md['身份证'] = df_md['身份证'].str.upper()\n",
    "\n",
    "df_hk_ok = df_hk[df_hk['身份证'].isin(df_md['身份证'])]\n",
    "del df_hk_ok['发放时间']\n",
    "df_hk_ok.head()"
   ]
  },
  {
   "cell_type": "code",
   "execution_count": null,
   "metadata": {},
   "outputs": [],
   "source": [
    "df_cz['身份证'] = df_cz['身份证'].str.upper()\n",
    "df_cz['时间'] = pd.to_datetime(df_cz['成功时间']).dt.date\n",
    "\n",
    "df_cz_ok = df_cz[df_cz['身份证'].isin(df_md['身份证'])]\n",
    "del df_cz_ok['成功时间']\n",
    "df_cz_ok.head()"
   ]
  },
  {
   "cell_type": "code",
   "execution_count": null,
   "metadata": {},
   "outputs": [],
   "source": [
    "df_tz['身份证'] = df_tz['身份证'].str.upper()\n",
    "df_tz['时间'] = pd.to_datetime(df_tz['投资时间']).dt.date\n",
    "\n",
    "df_tz_ok = df_tz[df_tz['身份证'].isin(df_md['身份证'])]\n",
    "del df_tz_ok['投资时间']\n",
    "df_tz_ok.head()"
   ]
  },
  {
   "cell_type": "markdown",
   "metadata": {},
   "source": [
    "- 合并回款、充值、投资"
   ]
  },
  {
   "cell_type": "code",
   "execution_count": null,
   "metadata": {
    "scrolled": true
   },
   "outputs": [],
   "source": [
    "df_hk_gp = df_hk_ok.groupby(['时间','身份证'],as_index=False).sum()\n",
    "df_cz_gp = df_cz_ok.groupby(['时间','身份证'],as_index=False).sum()\n",
    "df_tz_gp = df_tz_ok.groupby(['时间','身份证'],as_index=False).sum()"
   ]
  },
  {
   "cell_type": "code",
   "execution_count": null,
   "metadata": {},
   "outputs": [],
   "source": [
    "df_hk_gp['时间'] = pd.to_datetime(df_hk_gp['时间'])\n",
    "df_cz_gp['时间'] = pd.to_datetime(df_cz_gp['时间'])\n",
    "df_tz_gp['时间'] = pd.to_datetime(df_tz_gp['时间'])"
   ]
  },
  {
   "cell_type": "code",
   "execution_count": null,
   "metadata": {
    "scrolled": true
   },
   "outputs": [],
   "source": [
    "gp_temp = pd.merge(df_hk_gp,df_cz_gp,on = ['时间','身份证'],how = 'outer')\n",
    "gp = pd.merge(gp_temp,df_tz_gp,on = ['时间','身份证'],how = 'outer')\n",
    "gp.info()"
   ]
  },
  {
   "cell_type": "markdown",
   "metadata": {},
   "source": [
    "- ！扩充每个用户的数据到20180301-20180731的每一天"
   ]
  },
  {
   "cell_type": "code",
   "execution_count": null,
   "metadata": {},
   "outputs": [],
   "source": [
    "time = pd.DataFrame({'时间':pd.date_range(start='20180301', end='20180731', freq='D')})\n",
    "time\n",
    "\n",
    "#构造一个二级行索引，使得每人对应20180301-20180731的每一天\n",
    "index = pd.MultiIndex.from_product([time['时间'],df_md['身份证']], names = ['时间','身份证'])\n",
    "s = pd.Series(1,index=index)\n",
    "\n",
    "df= s.to_frame().reset_index()\n",
    "del df[0]\n",
    "df.info()\n",
    "df.head()"
   ]
  },
  {
   "cell_type": "code",
   "execution_count": null,
   "metadata": {
    "scrolled": true
   },
   "outputs": [],
   "source": [
    "gp_tm = pd.merge(df,gp,on=['时间','身份证'],how='left')\n",
    "gp_tm"
   ]
  },
  {
   "cell_type": "markdown",
   "metadata": {},
   "source": [
    "- 按每个用户计算累加值"
   ]
  },
  {
   "cell_type": "code",
   "execution_count": null,
   "metadata": {
    "scrolled": true
   },
   "outputs": [],
   "source": [
    "gp_tm.fillna(0,inplace=True)"
   ]
  },
  {
   "cell_type": "code",
   "execution_count": null,
   "metadata": {},
   "outputs": [],
   "source": [
    "gp_tm['累计还款'] = gp_tm.groupby(['身份证'])['还款金额'].apply(lambda x: x.cumsum())\n",
    "gp_tm['累计充值'] = gp_tm.groupby(['身份证'])['充值金额'].apply(lambda x: x.cumsum())\n",
    "gp_tm['累计投资'] = gp_tm.groupby(['身份证'])['账户资金'].apply(lambda x: x.cumsum())"
   ]
  },
  {
   "cell_type": "code",
   "execution_count": null,
   "metadata": {
    "scrolled": true
   },
   "outputs": [],
   "source": [
    "gp_tm.head()"
   ]
  },
  {
   "cell_type": "code",
   "execution_count": null,
   "metadata": {
    "scrolled": true
   },
   "outputs": [],
   "source": [
    "gp_tm[gp_tm['身份证']=='130406198605270317']"
   ]
  },
  {
   "cell_type": "markdown",
   "metadata": {},
   "source": [
    "- 累加值：还款>充值>账户"
   ]
  },
  {
   "cell_type": "code",
   "execution_count": null,
   "metadata": {},
   "outputs": [],
   "source": [
    "gp_tm['累计充值_ok'] = np.where(gp_tm['累计还款'] < gp_tm['累计充值'],gp_tm['累计还款'],gp_tm['累计充值'])\n",
    "gp_tm['累计投资_ok'] = np.where(gp_tm['累计充值_ok'] < gp_tm['累计投资'],gp_tm['累计充值_ok'],gp_tm['累计投资'])"
   ]
  },
  {
   "cell_type": "markdown",
   "metadata": {},
   "source": [
    "- 按日汇总数据"
   ]
  },
  {
   "cell_type": "code",
   "execution_count": null,
   "metadata": {
    "scrolled": true
   },
   "outputs": [],
   "source": [
    "res = gp_tm.groupby('时间')['累计还款','累计投资_ok'].sum()\n",
    "res"
   ]
  },
  {
   "cell_type": "markdown",
   "metadata": {},
   "source": [
    "- 导出结果"
   ]
  },
  {
   "cell_type": "code",
   "execution_count": null,
   "metadata": {},
   "outputs": [],
   "source": [
    "res.to_excel('大额用户经典版回款新充投资比.xlsx')"
   ]
  }
 ],
 "metadata": {
  "kernelspec": {
   "display_name": "Python 3",
   "language": "python",
   "name": "python3"
  },
  "language_info": {
   "codemirror_mode": {
    "name": "ipython",
    "version": 3
   },
   "file_extension": ".py",
   "mimetype": "text/x-python",
   "name": "python",
   "nbconvert_exporter": "python",
   "pygments_lexer": "ipython3",
   "version": "3.7.2"
  }
 },
 "nbformat": 4,
 "nbformat_minor": 2
}
