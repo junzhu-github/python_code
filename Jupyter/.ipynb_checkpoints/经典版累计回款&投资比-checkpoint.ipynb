{
 "cells": [
  {
   "cell_type": "code",
   "execution_count": 1,
   "metadata": {
    "collapsed": true
   },
   "outputs": [],
   "source": [
    "import pandas as pd\n",
    "import numpy as np\n",
    "import os"
   ]
  },
  {
   "cell_type": "code",
   "execution_count": 2,
   "metadata": {
    "collapsed": true
   },
   "outputs": [],
   "source": [
    "os.chdir('D:\\小鸡理财\\OneDrive\\python')"
   ]
  },
  {
   "cell_type": "code",
   "execution_count": 3,
   "metadata": {
    "collapsed": true
   },
   "outputs": [],
   "source": [
    "with pd.ExcelFile(r'D:\\小鸡理财\\OneDrive\\python\\01.xlsx') as xlsx:\n",
    "    df1 = pd.read_excel(xlsx,'回款')\n",
    "#     df2 = pd.read_excel(xlsx,'充值')\n",
    "    df3 = pd.read_excel(xlsx,'投资')"
   ]
  },
  {
   "cell_type": "code",
   "execution_count": 4,
   "metadata": {},
   "outputs": [
    {
     "name": "stdout",
     "output_type": "stream",
     "text": [
      "<class 'pandas.core.frame.DataFrame'>\n",
      "RangeIndex: 40182 entries, 0 to 40181\n",
      "Data columns (total 1 columns):\n",
      "身份证    40182 non-null object\n",
      "dtypes: object(1)\n",
      "memory usage: 314.0+ KB\n"
     ]
    }
   ],
   "source": [
    "df1.info()"
   ]
  },
  {
   "cell_type": "code",
   "execution_count": 5,
   "metadata": {
    "collapsed": true
   },
   "outputs": [],
   "source": [
    "df = pd.merge(df1,df3,on = '身份证',how = 'left')"
   ]
  },
  {
   "cell_type": "code",
   "execution_count": 6,
   "metadata": {},
   "outputs": [
    {
     "data": {
      "text/html": [
       "<div>\n",
       "<style>\n",
       "    .dataframe thead tr:only-child th {\n",
       "        text-align: right;\n",
       "    }\n",
       "\n",
       "    .dataframe thead th {\n",
       "        text-align: left;\n",
       "    }\n",
       "\n",
       "    .dataframe tbody tr th {\n",
       "        vertical-align: top;\n",
       "    }\n",
       "</style>\n",
       "<table border=\"1\" class=\"dataframe\">\n",
       "  <thead>\n",
       "    <tr style=\"text-align: right;\">\n",
       "      <th></th>\n",
       "      <th>身份证</th>\n",
       "      <th>手机号码</th>\n",
       "      <th>s</th>\n",
       "    </tr>\n",
       "  </thead>\n",
       "  <tbody>\n",
       "    <tr>\n",
       "      <th>0</th>\n",
       "      <td>110221196609203621</td>\n",
       "      <td>1.368121e+10</td>\n",
       "      <td>110221196609203621s</td>\n",
       "    </tr>\n",
       "    <tr>\n",
       "      <th>1</th>\n",
       "      <td>321101198005104014</td>\n",
       "      <td>1.391456e+10</td>\n",
       "      <td>321101198005104014s</td>\n",
       "    </tr>\n",
       "    <tr>\n",
       "      <th>2</th>\n",
       "      <td>360102197410201617</td>\n",
       "      <td>1.860791e+10</td>\n",
       "      <td>360102197410201617s</td>\n",
       "    </tr>\n",
       "    <tr>\n",
       "      <th>3</th>\n",
       "      <td>332625197407105825</td>\n",
       "      <td>1.345613e+10</td>\n",
       "      <td>332625197407105825s</td>\n",
       "    </tr>\n",
       "    <tr>\n",
       "      <th>4</th>\n",
       "      <td>612425198712045284</td>\n",
       "      <td>1.336323e+10</td>\n",
       "      <td>612425198712045284s</td>\n",
       "    </tr>\n",
       "  </tbody>\n",
       "</table>\n",
       "</div>"
      ],
      "text/plain": [
       "                  身份证          手机号码                    s\n",
       "0  110221196609203621  1.368121e+10  110221196609203621s\n",
       "1  321101198005104014  1.391456e+10  321101198005104014s\n",
       "2  360102197410201617  1.860791e+10  360102197410201617s\n",
       "3  332625197407105825  1.345613e+10  332625197407105825s\n",
       "4  612425198712045284  1.336323e+10  612425198712045284s"
      ]
     },
     "execution_count": 6,
     "metadata": {},
     "output_type": "execute_result"
    }
   ],
   "source": [
    "df['s'] = df['身份证'] + 's'\n",
    "\n",
    "df.head()"
   ]
  },
  {
   "cell_type": "code",
   "execution_count": 7,
   "metadata": {
    "collapsed": true,
    "scrolled": true
   },
   "outputs": [],
   "source": [
    "df.to_csv('001.csv')"
   ]
  },
  {
   "cell_type": "code",
   "execution_count": null,
   "metadata": {
    "collapsed": true
   },
   "outputs": [],
   "source": [
    "#按手机号和时间对回款、充值、投资数据进行累加\n",
    "df['累计回款']=df.groupby(level = [0])['回款'].cumsum()\n",
    "df['累计充值']=df.groupby(level = [0])['充值'].cumsum()\n",
    "df['累计投资']=df.groupby(level = [0])['投资'].cumsum()\n",
    "\n",
    "\n",
    "#累计结果测试\n",
    "# df_t = df.sort_index(level = 1,ascending=False).reset_index()\n",
    "\n",
    "# df_t.drop_duplicates(subset='手机号', keep='first', inplace=True)\n",
    "\n",
    "# df_t.sum()"
   ]
  },
  {
   "cell_type": "code",
   "execution_count": null,
   "metadata": {
    "collapsed": true,
    "scrolled": true
   },
   "outputs": [],
   "source": [
    "#比较两列数据\n",
    "def my_test(a, b):\n",
    "    if a >= b:\n",
    "        return b\n",
    "    else:\n",
    "        return a\n",
    "\n",
    "df['new_累计充值'] = df.apply(lambda x:my_test(x['累计回款'],x['累计充值']),axis = 1)\n",
    "df['new_累计投资'] = df.apply(lambda x:my_test(x['new_累计充值'],x['累计投资']),axis = 1)\n",
    "\n",
    "df.head()\n",
    "\n",
    "# df.to_csv('004.csv')\n",
    "\n",
    "# print('ok')"
   ]
  },
  {
   "cell_type": "code",
   "execution_count": null,
   "metadata": {
    "collapsed": true
   },
   "outputs": [],
   "source": [
    "按时间聚合\n",
    "gp_final = df.groupby(level = 1).sum()\n",
    "# gp_final = gp_tempt.groupby('日期').sum().groupby(level = [0])\n",
    "\n",
    "gp_final.sort_index(level = 1,ascending=False).head()\n",
    "\n",
    "gp_final.to_csv('003.csv')\n",
    "print('ok')"
   ]
  }
 ],
 "metadata": {
  "kernelspec": {
   "display_name": "Python 3",
   "language": "python",
   "name": "python3"
  },
  "language_info": {
   "codemirror_mode": {
    "name": "ipython",
    "version": 3
   },
   "file_extension": ".py",
   "mimetype": "text/x-python",
   "name": "python",
   "nbconvert_exporter": "python",
   "pygments_lexer": "ipython3",
   "version": "3.6.5"
  }
 },
 "nbformat": 4,
 "nbformat_minor": 2
}
