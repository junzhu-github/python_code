{
 "cells": [
  {
   "cell_type": "markdown",
   "metadata": {},
   "source": [
    "### 导入库"
   ]
  },
  {
   "cell_type": "code",
   "execution_count": 1,
   "metadata": {
    "collapsed": true
   },
   "outputs": [],
   "source": [
    "import os\n",
    "import numpy as np\n",
    "import pandas as pd\n",
    "import matplotlib.pyplot as plt\n",
    "%matplotlib inline"
   ]
  },
  {
   "cell_type": "markdown",
   "metadata": {},
   "source": [
    "### 修改工作目录"
   ]
  },
  {
   "cell_type": "code",
   "execution_count": 2,
   "metadata": {
    "collapsed": true
   },
   "outputs": [],
   "source": [
    "file_add = r'D:\\小鸡理财\\百度云同步盘\\小鸡理财\\数据报告\\信息披露'\n",
    "file_name = '7月数据披露.xlsx'\n",
    "os.chdir(file_add)"
   ]
  },
  {
   "cell_type": "markdown",
   "metadata": {},
   "source": [
    "### 导入excel"
   ]
  },
  {
   "cell_type": "code",
   "execution_count": 3,
   "metadata": {
    "collapsed": true,
    "scrolled": true
   },
   "outputs": [],
   "source": [
    "with pd.ExcelFile(os.path.abspath(file_name)) as xlsx:\n",
    "    df_tz = pd.read_excel(xlsx,'投资')\n",
    "    df_jd_bj = pd.read_excel(xlsx,'经典本金')\n",
    "    df_jd_lx = pd.read_excel(xlsx,'经典利息')\n",
    "    df_cg = pd.read_excel(xlsx,'存管回款')\n",
    "    df_ljcj = pd.read_excel(xlsx,'累计出借人数量')"
   ]
  },
  {
   "cell_type": "code",
   "execution_count": 4,
   "metadata": {
    "scrolled": true
   },
   "outputs": [
    {
     "name": "stdout",
     "output_type": "stream",
     "text": [
      "<class 'pandas.core.frame.DataFrame'>\n",
      "RangeIndex: 5525 entries, 0 to 5524\n",
      "Data columns (total 51 columns):\n",
      "投资状态       5525 non-null object\n",
      "标状态        5525 non-null object\n",
      "序号         5525 non-null int64\n",
      "标ID        5525 non-null int64\n",
      "标的编号       5525 non-null object\n",
      "标名称        5525 non-null object\n",
      "是否新手标      5525 non-null object\n",
      "投资用户       5525 non-null object\n",
      "真实姓名       5525 non-null object\n",
      "手机号        5525 non-null int64\n",
      "所属公司       192 non-null object\n",
      "会员类型       5525 non-null object\n",
      "投资时会员类型    5525 non-null object\n",
      "推荐人        3527 non-null object\n",
      "注册时间       5525 non-null object\n",
      "智慧投ID      5525 non-null object\n",
      "智慧投名称      5525 non-null object\n",
      "智慧投基本年化    5525 non-null object\n",
      "智慧投奖励年化    5525 non-null object\n",
      "标类型        5525 non-null object\n",
      "还款方式       5525 non-null object\n",
      "总投资额       5525 non-null float64\n",
      "账户资金       5525 non-null float64\n",
      "续投资金       5525 non-null float64\n",
      "券          5525 non-null int64\n",
      "加息券成本      5525 non-null float64\n",
      "工资余额投资     5525 non-null int64\n",
      "预期收益       5525 non-null float64\n",
      "已得利息       5525 non-null float64\n",
      "投资时间       5525 non-null object\n",
      "智慧投投资时间    5525 non-null object\n",
      "预期还款时间     5525 non-null object\n",
      "还款时间       5525 non-null object\n",
      "复审时间       5525 non-null object\n",
      "渠道         5525 non-null object\n",
      "投资来源       5525 non-null object\n",
      "邀请来源       5525 non-null object\n",
      "首投时间       5525 non-null object\n",
      "还款状态       0 non-null float64\n",
      "还款方式.1     0 non-null float64\n",
      "标种类型       0 non-null float64\n",
      "投标方式       0 non-null float64\n",
      "标限制        5525 non-null object\n",
      "投资期限       5525 non-null int64\n",
      "年利率        5525 non-null object\n",
      "加息利率       5525 non-null object\n",
      "利息期数       5525 non-null object\n",
      "下次发放       5525 non-null object\n",
      "首投时间.1     5525 non-null object\n",
      "身份证        5525 non-null object\n",
      "用户来源       5525 non-null object\n",
      "dtypes: float64(10), int64(6), object(35)\n",
      "memory usage: 2.1+ MB\n"
     ]
    }
   ],
   "source": [
    "df_tz.info()"
   ]
  },
  {
   "cell_type": "markdown",
   "metadata": {},
   "source": [
    "- 累计借贷金额(万元)*"
   ]
  },
  {
   "cell_type": "code",
   "execution_count": 5,
   "metadata": {},
   "outputs": [
    {
     "name": "stdout",
     "output_type": "stream",
     "text": [
      "本月借贷金额： 49732100.0\n"
     ]
    }
   ],
   "source": [
    "#本月借贷金额\n",
    "cheng_jiao_sum = df_tz['总投资额'].sum()\n",
    "print('本月借贷金额：',cheng_jiao_sum)"
   ]
  },
  {
   "cell_type": "code",
   "execution_count": 6,
   "metadata": {},
   "outputs": [
    {
     "name": "stdout",
     "output_type": "stream",
     "text": [
      "上月累计借贷金额2344062984.03\n",
      "\n",
      "累计借贷金额：上月2344062984.03 + 本月49732100.0 = 2393795084.03\n",
      "\n",
      "累计借贷金额(万元):239380\n"
     ]
    }
   ],
   "source": [
    "last = input('上月累计借贷金额')\n",
    "ljjd_sum = float(last) + cheng_jiao_sum\n",
    "\n",
    "print('\\n累计借贷金额：上月{0} + 本月{1} = {2}'\\\n",
    "      .format(float(last),cheng_jiao_sum,ljjd_sum))\n",
    "\n",
    "print('\\n累计借贷金额(万元):{:.0f}'.format(ljjd_sum/10000))"
   ]
  },
  {
   "cell_type": "markdown",
   "metadata": {},
   "source": [
    "- 累计出借笔数(笔)*"
   ]
  },
  {
   "cell_type": "code",
   "execution_count": 7,
   "metadata": {},
   "outputs": [
    {
     "name": "stdout",
     "output_type": "stream",
     "text": [
      "本月出借笔数： 5525\n"
     ]
    }
   ],
   "source": [
    "#本月出借笔数\n",
    "cheng_jiao_count = df_tz['总投资额'].count()\n",
    "print('本月出借笔数：',cheng_jiao_count)"
   ]
  },
  {
   "cell_type": "code",
   "execution_count": 9,
   "metadata": {},
   "outputs": [
    {
     "name": "stdout",
     "output_type": "stream",
     "text": [
      "上月累计出借笔数293480\n",
      "\n",
      "累计出借笔数：上月293480 + 本月5525 = 299005\n"
     ]
    }
   ],
   "source": [
    "last_count = input('上月累计出借笔数')\n",
    "\n",
    "print('\\n累计出借笔数：上月{0} + 本月{1} = {2}'\\\n",
    "      .format(int(last_count),cheng_jiao_count,int(last_count) + cheng_jiao_count))"
   ]
  },
  {
   "cell_type": "markdown",
   "metadata": {},
   "source": [
    "- 借贷余额（万元）-本金"
   ]
  },
  {
   "cell_type": "code",
   "execution_count": 14,
   "metadata": {},
   "outputs": [
    {
     "data": {
      "text/html": [
       "<div>\n",
       "<style>\n",
       "    .dataframe thead tr:only-child th {\n",
       "        text-align: right;\n",
       "    }\n",
       "\n",
       "    .dataframe thead th {\n",
       "        text-align: left;\n",
       "    }\n",
       "\n",
       "    .dataframe tbody tr th {\n",
       "        vertical-align: top;\n",
       "    }\n",
       "</style>\n",
       "<table border=\"1\" class=\"dataframe\">\n",
       "  <thead>\n",
       "    <tr style=\"text-align: right;\">\n",
       "      <th></th>\n",
       "      <th>本次发放本金</th>\n",
       "      <th>投资时间</th>\n",
       "      <th>预计本次发放时间</th>\n",
       "      <th>身份证</th>\n",
       "    </tr>\n",
       "  </thead>\n",
       "  <tbody>\n",
       "    <tr>\n",
       "      <th>0</th>\n",
       "      <td>32000</td>\n",
       "      <td>2018-02-16 14:16:42</td>\n",
       "      <td>2018-08-16</td>\n",
       "      <td>330227196610152023</td>\n",
       "    </tr>\n",
       "    <tr>\n",
       "      <th>1</th>\n",
       "      <td>100</td>\n",
       "      <td>2018-02-16 13:57:47</td>\n",
       "      <td>2018-08-16</td>\n",
       "      <td>371324198511244911</td>\n",
       "    </tr>\n",
       "    <tr>\n",
       "      <th>2</th>\n",
       "      <td>200</td>\n",
       "      <td>2018-02-16 13:53:14</td>\n",
       "      <td>2018-08-16</td>\n",
       "      <td>331004198602141812</td>\n",
       "    </tr>\n",
       "    <tr>\n",
       "      <th>3</th>\n",
       "      <td>100</td>\n",
       "      <td>2018-02-16 13:42:22</td>\n",
       "      <td>2018-08-16</td>\n",
       "      <td>330702198109046058</td>\n",
       "    </tr>\n",
       "    <tr>\n",
       "      <th>4</th>\n",
       "      <td>10000</td>\n",
       "      <td>2018-02-16 13:07:16</td>\n",
       "      <td>2018-08-16</td>\n",
       "      <td>140429199006058526</td>\n",
       "    </tr>\n",
       "  </tbody>\n",
       "</table>\n",
       "</div>"
      ],
      "text/plain": [
       "   本次发放本金                 投资时间   预计本次发放时间                 身份证\n",
       "0   32000  2018-02-16 14:16:42 2018-08-16  330227196610152023\n",
       "1     100  2018-02-16 13:57:47 2018-08-16  371324198511244911\n",
       "2     200  2018-02-16 13:53:14 2018-08-16  331004198602141812\n",
       "3     100  2018-02-16 13:42:22 2018-08-16  330702198109046058\n",
       "4   10000  2018-02-16 13:07:16 2018-08-16  140429199006058526"
      ]
     },
     "execution_count": 14,
     "metadata": {},
     "output_type": "execute_result"
    }
   ],
   "source": [
    "df_jd_bj.head()"
   ]
  },
  {
   "cell_type": "code",
   "execution_count": 15,
   "metadata": {
    "scrolled": true
   },
   "outputs": [
    {
     "name": "stdout",
     "output_type": "stream",
     "text": [
      "借贷余额: 298292790.9899126\n",
      "借贷余额（万元）:29829\n"
     ]
    }
   ],
   "source": [
    "df_cg_bj = df_cg.loc[:,['身份证','投资时间','预计本次发放时间','本次发放本金']]\n",
    "df_cg_bj.head()\n",
    "\n",
    "df_bj = df_jd_bj.append(df_cg_bj, ignore_index=True)\n",
    "# df_bj.info()\n",
    "\n",
    "bj_sum = df_bj['本次发放本金'].sum()\n",
    "print('借贷余额:',bj_sum)\n",
    "print('借贷余额（万元）:{:.0f}'.format(bj_sum/10000))"
   ]
  },
  {
   "cell_type": "markdown",
   "metadata": {},
   "source": [
    "- 借贷余额笔数(笔)"
   ]
  },
  {
   "cell_type": "code",
   "execution_count": 19,
   "metadata": {
    "scrolled": true
   },
   "outputs": [
    {
     "name": "stdout",
     "output_type": "stream",
     "text": [
      "借贷余额笔数: 28266\n"
     ]
    }
   ],
   "source": [
    "df_yebs = df_bj.drop_duplicates(subset = ['投资时间','身份证'])\n",
    "print('借贷余额笔数:',df_yebs.shape[0])"
   ]
  },
  {
   "cell_type": "markdown",
   "metadata": {},
   "source": [
    "- 利息余额(万元)"
   ]
  },
  {
   "cell_type": "code",
   "execution_count": 20,
   "metadata": {
    "scrolled": true
   },
   "outputs": [
    {
     "name": "stdout",
     "output_type": "stream",
     "text": [
      "利息余额: 14231069.91000138\n",
      "利息余额（万元）:1423\n"
     ]
    }
   ],
   "source": [
    "df_cg_lx = df_cg.iloc[:,[0,2,3]]\n",
    "# df_cg_bj.head()\n",
    "\n",
    "df_lx = df_jd_lx.append(df_cg_lx, ignore_index=True)\n",
    "# df_lx.info()\n",
    "\n",
    "bj_lx = df_lx['总利息'].sum()\n",
    "print('利息余额:',bj_lx)\n",
    "print('利息余额（万元）:{:.0f}'.format(bj_lx/10000))"
   ]
  },
  {
   "cell_type": "markdown",
   "metadata": {},
   "source": [
    "- 累计出借人数量(人)"
   ]
  },
  {
   "cell_type": "code",
   "execution_count": 21,
   "metadata": {
    "scrolled": false
   },
   "outputs": [
    {
     "name": "stdout",
     "output_type": "stream",
     "text": [
      "累计出借人数量: 36924\n"
     ]
    }
   ],
   "source": [
    "df_ljcj_new = df_ljcj.append(df_cg['身份证'].to_frame())\n",
    "# df_ljcj_new.info()\n",
    "\n",
    "#检查身份证是否有小写x，会影响到去重计算\n",
    "while df_ljcj_new[df_ljcj_new['身份证'].str.contains('x')].shape[0]:\n",
    "    df_ljcj_new['身份证'] = df_ljcj_new['身份证'].str.upper()\n",
    "\n",
    "df_ljcj_new.drop_duplicates(inplace=True)\n",
    "print('累计出借人数量:',df_ljcj_new.shape[0])\n",
    "\n",
    "df_ljcj_new.to_excel('累计出借人数量.xlsx', sheet_name='Sheet1',index=False)"
   ]
  },
  {
   "cell_type": "markdown",
   "metadata": {},
   "source": [
    "- 当前出借人数量(人)"
   ]
  },
  {
   "cell_type": "code",
   "execution_count": 22,
   "metadata": {
    "scrolled": false
   },
   "outputs": [
    {
     "name": "stdout",
     "output_type": "stream",
     "text": [
      "当前出借人数量: 4373\n"
     ]
    }
   ],
   "source": [
    "df_dqcj_new = df_jd_bj['身份证'].append([df_jd_lx['身份证'],df_cg['身份证']])\n",
    "\n",
    "#检查身份证是否有小写x，会影响到去重计算\n",
    "while df_dqcj_new[df_dqcj_new.str.contains('x')].shape[0]:\n",
    "    df_dqcj_new = df_dqcj_new.str.upper()\n",
    "\n",
    "\n",
    "df_dqcj_new.drop_duplicates(inplace=True)\n",
    "print('当前出借人数量:',df_dqcj_new.shape[0])"
   ]
  },
  {
   "cell_type": "markdown",
   "metadata": {},
   "source": [
    "- 人均累计出借金额（万元）"
   ]
  },
  {
   "cell_type": "code",
   "execution_count": 23,
   "metadata": {
    "scrolled": true
   },
   "outputs": [
    {
     "name": "stdout",
     "output_type": "stream",
     "text": [
      "人均累计出借金额:64830.329434243315\n",
      "\n",
      "人均累计出借金额（万元）:6.48\n"
     ]
    }
   ],
   "source": [
    "print('人均累计出借金额:{}'.format(ljjd_sum / df_ljcj_new.shape[0]))\n",
    "print('\\n人均累计出借金额（万元）:{:.2f}'.format(ljjd_sum / df_ljcj_new.shape[0] / 10000))"
   ]
  },
  {
   "cell_type": "markdown",
   "metadata": {},
   "source": [
    "- 最大单户出借余额占比"
   ]
  },
  {
   "cell_type": "code",
   "execution_count": 24,
   "metadata": {
    "scrolled": true
   },
   "outputs": [
    {
     "name": "stdout",
     "output_type": "stream",
     "text": [
      "最大单户出借余额占比:3.64%\n"
     ]
    }
   ],
   "source": [
    "#检查身份证是否有小写x，会影响到计算\n",
    "while df_bj[df_bj['身份证'].str.contains('x')].shape[0]:\n",
    "    df_bj['身份证'] = df_bj['身份证'].str.upper()\n",
    "\n",
    "gp_bj = df_bj.groupby('身份证',as_index=False)['本次发放本金'].sum().sort_values(by='本次发放本金',ascending=False)\n",
    "# gp_bj\n",
    "\n",
    "print('最大单户出借余额占比:{:.2%}'.format(gp_bj.iloc[0,1] / df_bj['本次发放本金'].sum()))"
   ]
  },
  {
   "cell_type": "markdown",
   "metadata": {},
   "source": [
    "- 最大十户出借余额占比"
   ]
  },
  {
   "cell_type": "code",
   "execution_count": 25,
   "metadata": {
    "scrolled": true
   },
   "outputs": [
    {
     "name": "stdout",
     "output_type": "stream",
     "text": [
      "最大十户出借余额占比:9.94%\n"
     ]
    }
   ],
   "source": [
    "gp_bj['ranking'] = gp_bj['本次发放本金'].rank(method='min',ascending=False)\n",
    "# gp_bj\n",
    "\n",
    "first_10_sum = gp_bj[gp_bj['ranking'] < 11]['本次发放本金'].sum()\n",
    "print('最大十户出借余额占比:{:.2%}'.format(first_10_sum / df_bj['本次发放本金'].sum()))"
   ]
  },
  {
   "cell_type": "code",
   "execution_count": 26,
   "metadata": {
    "scrolled": true
   },
   "outputs": [
    {
     "data": {
      "text/html": [
       "<div>\n",
       "<style>\n",
       "    .dataframe thead tr:only-child th {\n",
       "        text-align: right;\n",
       "    }\n",
       "\n",
       "    .dataframe thead th {\n",
       "        text-align: left;\n",
       "    }\n",
       "\n",
       "    .dataframe tbody tr th {\n",
       "        vertical-align: top;\n",
       "    }\n",
       "</style>\n",
       "<table border=\"1\" class=\"dataframe\">\n",
       "  <thead>\n",
       "    <tr style=\"text-align: right;\">\n",
       "      <th></th>\n",
       "      <th>身份证</th>\n",
       "      <th>本次发放本金</th>\n",
       "      <th>ranking</th>\n",
       "    </tr>\n",
       "  </thead>\n",
       "  <tbody>\n",
       "    <tr>\n",
       "      <th>2391</th>\n",
       "      <td>330322198303150418</td>\n",
       "      <td>10869678.60</td>\n",
       "      <td>1.0</td>\n",
       "    </tr>\n",
       "    <tr>\n",
       "      <th>593</th>\n",
       "      <td>330104194411043036</td>\n",
       "      <td>2721548.83</td>\n",
       "      <td>2.0</td>\n",
       "    </tr>\n",
       "    <tr>\n",
       "      <th>2049</th>\n",
       "      <td>330281198410266314</td>\n",
       "      <td>2619524.27</td>\n",
       "      <td>3.0</td>\n",
       "    </tr>\n",
       "    <tr>\n",
       "      <th>974</th>\n",
       "      <td>330205197806304515</td>\n",
       "      <td>2561358.61</td>\n",
       "      <td>4.0</td>\n",
       "    </tr>\n",
       "    <tr>\n",
       "      <th>3115</th>\n",
       "      <td>350105197504260033</td>\n",
       "      <td>2224890.95</td>\n",
       "      <td>5.0</td>\n",
       "    </tr>\n",
       "    <tr>\n",
       "      <th>2869</th>\n",
       "      <td>332621197001045687</td>\n",
       "      <td>2222054.42</td>\n",
       "      <td>6.0</td>\n",
       "    </tr>\n",
       "    <tr>\n",
       "      <th>881</th>\n",
       "      <td>330204197807204026</td>\n",
       "      <td>1828884.99</td>\n",
       "      <td>7.0</td>\n",
       "    </tr>\n",
       "    <tr>\n",
       "      <th>907</th>\n",
       "      <td>330204199105202017</td>\n",
       "      <td>1597577.37</td>\n",
       "      <td>8.0</td>\n",
       "    </tr>\n",
       "    <tr>\n",
       "      <th>1204</th>\n",
       "      <td>330219196005222222</td>\n",
       "      <td>1557302.37</td>\n",
       "      <td>9.0</td>\n",
       "    </tr>\n",
       "    <tr>\n",
       "      <th>3796</th>\n",
       "      <td>430623196904213039</td>\n",
       "      <td>1448938.50</td>\n",
       "      <td>10.0</td>\n",
       "    </tr>\n",
       "    <tr>\n",
       "      <th>2877</th>\n",
       "      <td>332623196603046642</td>\n",
       "      <td>1415573.39</td>\n",
       "      <td>11.0</td>\n",
       "    </tr>\n",
       "    <tr>\n",
       "      <th>783</th>\n",
       "      <td>330203198505290027</td>\n",
       "      <td>1397070.55</td>\n",
       "      <td>12.0</td>\n",
       "    </tr>\n",
       "    <tr>\n",
       "      <th>1689</th>\n",
       "      <td>330226197903051443</td>\n",
       "      <td>1360299.75</td>\n",
       "      <td>13.0</td>\n",
       "    </tr>\n",
       "    <tr>\n",
       "      <th>1027</th>\n",
       "      <td>330206198006164615</td>\n",
       "      <td>1307134.00</td>\n",
       "      <td>14.0</td>\n",
       "    </tr>\n",
       "    <tr>\n",
       "      <th>2420</th>\n",
       "      <td>33038119850918172X</td>\n",
       "      <td>1243953.17</td>\n",
       "      <td>15.0</td>\n",
       "    </tr>\n",
       "    <tr>\n",
       "      <th>2516</th>\n",
       "      <td>330622196611042221</td>\n",
       "      <td>1208506.90</td>\n",
       "      <td>16.0</td>\n",
       "    </tr>\n",
       "    <tr>\n",
       "      <th>382</th>\n",
       "      <td>31010219601006201X</td>\n",
       "      <td>1126927.17</td>\n",
       "      <td>17.0</td>\n",
       "    </tr>\n",
       "    <tr>\n",
       "      <th>2692</th>\n",
       "      <td>330903197203160626</td>\n",
       "      <td>1052085.58</td>\n",
       "      <td>18.0</td>\n",
       "    </tr>\n",
       "    <tr>\n",
       "      <th>1087</th>\n",
       "      <td>330211196401010060</td>\n",
       "      <td>1046402.77</td>\n",
       "      <td>19.0</td>\n",
       "    </tr>\n",
       "    <tr>\n",
       "      <th>1299</th>\n",
       "      <td>330219197107257877</td>\n",
       "      <td>1019000.00</td>\n",
       "      <td>20.0</td>\n",
       "    </tr>\n",
       "    <tr>\n",
       "      <th>246</th>\n",
       "      <td>210624196303267811</td>\n",
       "      <td>992874.02</td>\n",
       "      <td>21.0</td>\n",
       "    </tr>\n",
       "    <tr>\n",
       "      <th>1074</th>\n",
       "      <td>330211195912040021</td>\n",
       "      <td>983612.41</td>\n",
       "      <td>22.0</td>\n",
       "    </tr>\n",
       "    <tr>\n",
       "      <th>459</th>\n",
       "      <td>320281196606168512</td>\n",
       "      <td>967616.97</td>\n",
       "      <td>23.0</td>\n",
       "    </tr>\n",
       "    <tr>\n",
       "      <th>1966</th>\n",
       "      <td>330227199006241824</td>\n",
       "      <td>958148.53</td>\n",
       "      <td>24.0</td>\n",
       "    </tr>\n",
       "    <tr>\n",
       "      <th>1100</th>\n",
       "      <td>330211196809070040</td>\n",
       "      <td>949504.61</td>\n",
       "      <td>25.0</td>\n",
       "    </tr>\n",
       "    <tr>\n",
       "      <th>2324</th>\n",
       "      <td>330283198809043721</td>\n",
       "      <td>947308.97</td>\n",
       "      <td>26.0</td>\n",
       "    </tr>\n",
       "    <tr>\n",
       "      <th>425</th>\n",
       "      <td>310230199011064388</td>\n",
       "      <td>932000.00</td>\n",
       "      <td>27.0</td>\n",
       "    </tr>\n",
       "    <tr>\n",
       "      <th>1798</th>\n",
       "      <td>330227196112126842</td>\n",
       "      <td>914000.00</td>\n",
       "      <td>28.0</td>\n",
       "    </tr>\n",
       "    <tr>\n",
       "      <th>2667</th>\n",
       "      <td>330901193609290323</td>\n",
       "      <td>893033.70</td>\n",
       "      <td>29.0</td>\n",
       "    </tr>\n",
       "    <tr>\n",
       "      <th>2976</th>\n",
       "      <td>340827198801060328</td>\n",
       "      <td>887823.25</td>\n",
       "      <td>30.0</td>\n",
       "    </tr>\n",
       "    <tr>\n",
       "      <th>...</th>\n",
       "      <td>...</td>\n",
       "      <td>...</td>\n",
       "      <td>...</td>\n",
       "    </tr>\n",
       "    <tr>\n",
       "      <th>1713</th>\n",
       "      <td>330226198411210027</td>\n",
       "      <td>50.73</td>\n",
       "      <td>4330.0</td>\n",
       "    </tr>\n",
       "    <tr>\n",
       "      <th>3253</th>\n",
       "      <td>360902199508293428</td>\n",
       "      <td>50.73</td>\n",
       "      <td>4330.0</td>\n",
       "    </tr>\n",
       "    <tr>\n",
       "      <th>1664</th>\n",
       "      <td>330226197108281928</td>\n",
       "      <td>50.73</td>\n",
       "      <td>4330.0</td>\n",
       "    </tr>\n",
       "    <tr>\n",
       "      <th>1709</th>\n",
       "      <td>330226198310227049</td>\n",
       "      <td>33.99</td>\n",
       "      <td>4347.0</td>\n",
       "    </tr>\n",
       "    <tr>\n",
       "      <th>1502</th>\n",
       "      <td>330224196411285828</td>\n",
       "      <td>33.99</td>\n",
       "      <td>4347.0</td>\n",
       "    </tr>\n",
       "    <tr>\n",
       "      <th>972</th>\n",
       "      <td>330205197712143327</td>\n",
       "      <td>33.99</td>\n",
       "      <td>4347.0</td>\n",
       "    </tr>\n",
       "    <tr>\n",
       "      <th>3036</th>\n",
       "      <td>341226199404092111</td>\n",
       "      <td>33.99</td>\n",
       "      <td>4347.0</td>\n",
       "    </tr>\n",
       "    <tr>\n",
       "      <th>875</th>\n",
       "      <td>33020419740106502X</td>\n",
       "      <td>33.99</td>\n",
       "      <td>4347.0</td>\n",
       "    </tr>\n",
       "    <tr>\n",
       "      <th>1987</th>\n",
       "      <td>330227199302227330</td>\n",
       "      <td>33.99</td>\n",
       "      <td>4347.0</td>\n",
       "    </tr>\n",
       "    <tr>\n",
       "      <th>2037</th>\n",
       "      <td>330281198310140079</td>\n",
       "      <td>33.99</td>\n",
       "      <td>4347.0</td>\n",
       "    </tr>\n",
       "    <tr>\n",
       "      <th>4077</th>\n",
       "      <td>511022197204192640</td>\n",
       "      <td>33.99</td>\n",
       "      <td>4347.0</td>\n",
       "    </tr>\n",
       "    <tr>\n",
       "      <th>2989</th>\n",
       "      <td>34102219951228355X</td>\n",
       "      <td>33.99</td>\n",
       "      <td>4347.0</td>\n",
       "    </tr>\n",
       "    <tr>\n",
       "      <th>2565</th>\n",
       "      <td>330682198612224022</td>\n",
       "      <td>33.99</td>\n",
       "      <td>4347.0</td>\n",
       "    </tr>\n",
       "    <tr>\n",
       "      <th>3094</th>\n",
       "      <td>342601199211265026</td>\n",
       "      <td>33.99</td>\n",
       "      <td>4347.0</td>\n",
       "    </tr>\n",
       "    <tr>\n",
       "      <th>3522</th>\n",
       "      <td>411202196704141564</td>\n",
       "      <td>33.99</td>\n",
       "      <td>4347.0</td>\n",
       "    </tr>\n",
       "    <tr>\n",
       "      <th>3274</th>\n",
       "      <td>362203195505102616</td>\n",
       "      <td>33.99</td>\n",
       "      <td>4347.0</td>\n",
       "    </tr>\n",
       "    <tr>\n",
       "      <th>3328</th>\n",
       "      <td>362330199603203640</td>\n",
       "      <td>33.99</td>\n",
       "      <td>4347.0</td>\n",
       "    </tr>\n",
       "    <tr>\n",
       "      <th>2052</th>\n",
       "      <td>330281198412127924</td>\n",
       "      <td>33.99</td>\n",
       "      <td>4347.0</td>\n",
       "    </tr>\n",
       "    <tr>\n",
       "      <th>1735</th>\n",
       "      <td>330226199011202874</td>\n",
       "      <td>33.99</td>\n",
       "      <td>4347.0</td>\n",
       "    </tr>\n",
       "    <tr>\n",
       "      <th>2296</th>\n",
       "      <td>330283198612135825</td>\n",
       "      <td>33.99</td>\n",
       "      <td>4347.0</td>\n",
       "    </tr>\n",
       "    <tr>\n",
       "      <th>2076</th>\n",
       "      <td>330281198702183019</td>\n",
       "      <td>33.99</td>\n",
       "      <td>4347.0</td>\n",
       "    </tr>\n",
       "    <tr>\n",
       "      <th>1751</th>\n",
       "      <td>330226199503200031</td>\n",
       "      <td>33.99</td>\n",
       "      <td>4347.0</td>\n",
       "    </tr>\n",
       "    <tr>\n",
       "      <th>2091</th>\n",
       "      <td>330281198709270414</td>\n",
       "      <td>33.99</td>\n",
       "      <td>4347.0</td>\n",
       "    </tr>\n",
       "    <tr>\n",
       "      <th>2961</th>\n",
       "      <td>340824198907132626</td>\n",
       "      <td>33.99</td>\n",
       "      <td>4347.0</td>\n",
       "    </tr>\n",
       "    <tr>\n",
       "      <th>4173</th>\n",
       "      <td>522225198606081625</td>\n",
       "      <td>33.99</td>\n",
       "      <td>4347.0</td>\n",
       "    </tr>\n",
       "    <tr>\n",
       "      <th>2281</th>\n",
       "      <td>330283198505016716</td>\n",
       "      <td>33.99</td>\n",
       "      <td>4347.0</td>\n",
       "    </tr>\n",
       "    <tr>\n",
       "      <th>2540</th>\n",
       "      <td>330624199209043329</td>\n",
       "      <td>33.99</td>\n",
       "      <td>4347.0</td>\n",
       "    </tr>\n",
       "    <tr>\n",
       "      <th>278</th>\n",
       "      <td>220181198902195531</td>\n",
       "      <td>33.61</td>\n",
       "      <td>4371.0</td>\n",
       "    </tr>\n",
       "    <tr>\n",
       "      <th>280</th>\n",
       "      <td>220181198910044127</td>\n",
       "      <td>33.61</td>\n",
       "      <td>4371.0</td>\n",
       "    </tr>\n",
       "    <tr>\n",
       "      <th>2513</th>\n",
       "      <td>33062219571227342X</td>\n",
       "      <td>17.09</td>\n",
       "      <td>4373.0</td>\n",
       "    </tr>\n",
       "  </tbody>\n",
       "</table>\n",
       "<p>4373 rows × 3 columns</p>\n",
       "</div>"
      ],
      "text/plain": [
       "                     身份证       本次发放本金  ranking\n",
       "2391  330322198303150418  10869678.60      1.0\n",
       "593   330104194411043036   2721548.83      2.0\n",
       "2049  330281198410266314   2619524.27      3.0\n",
       "974   330205197806304515   2561358.61      4.0\n",
       "3115  350105197504260033   2224890.95      5.0\n",
       "2869  332621197001045687   2222054.42      6.0\n",
       "881   330204197807204026   1828884.99      7.0\n",
       "907   330204199105202017   1597577.37      8.0\n",
       "1204  330219196005222222   1557302.37      9.0\n",
       "3796  430623196904213039   1448938.50     10.0\n",
       "2877  332623196603046642   1415573.39     11.0\n",
       "783   330203198505290027   1397070.55     12.0\n",
       "1689  330226197903051443   1360299.75     13.0\n",
       "1027  330206198006164615   1307134.00     14.0\n",
       "2420  33038119850918172X   1243953.17     15.0\n",
       "2516  330622196611042221   1208506.90     16.0\n",
       "382   31010219601006201X   1126927.17     17.0\n",
       "2692  330903197203160626   1052085.58     18.0\n",
       "1087  330211196401010060   1046402.77     19.0\n",
       "1299  330219197107257877   1019000.00     20.0\n",
       "246   210624196303267811    992874.02     21.0\n",
       "1074  330211195912040021    983612.41     22.0\n",
       "459   320281196606168512    967616.97     23.0\n",
       "1966  330227199006241824    958148.53     24.0\n",
       "1100  330211196809070040    949504.61     25.0\n",
       "2324  330283198809043721    947308.97     26.0\n",
       "425   310230199011064388    932000.00     27.0\n",
       "1798  330227196112126842    914000.00     28.0\n",
       "2667  330901193609290323    893033.70     29.0\n",
       "2976  340827198801060328    887823.25     30.0\n",
       "...                  ...          ...      ...\n",
       "1713  330226198411210027        50.73   4330.0\n",
       "3253  360902199508293428        50.73   4330.0\n",
       "1664  330226197108281928        50.73   4330.0\n",
       "1709  330226198310227049        33.99   4347.0\n",
       "1502  330224196411285828        33.99   4347.0\n",
       "972   330205197712143327        33.99   4347.0\n",
       "3036  341226199404092111        33.99   4347.0\n",
       "875   33020419740106502X        33.99   4347.0\n",
       "1987  330227199302227330        33.99   4347.0\n",
       "2037  330281198310140079        33.99   4347.0\n",
       "4077  511022197204192640        33.99   4347.0\n",
       "2989  34102219951228355X        33.99   4347.0\n",
       "2565  330682198612224022        33.99   4347.0\n",
       "3094  342601199211265026        33.99   4347.0\n",
       "3522  411202196704141564        33.99   4347.0\n",
       "3274  362203195505102616        33.99   4347.0\n",
       "3328  362330199603203640        33.99   4347.0\n",
       "2052  330281198412127924        33.99   4347.0\n",
       "1735  330226199011202874        33.99   4347.0\n",
       "2296  330283198612135825        33.99   4347.0\n",
       "2076  330281198702183019        33.99   4347.0\n",
       "1751  330226199503200031        33.99   4347.0\n",
       "2091  330281198709270414        33.99   4347.0\n",
       "2961  340824198907132626        33.99   4347.0\n",
       "4173  522225198606081625        33.99   4347.0\n",
       "2281  330283198505016716        33.99   4347.0\n",
       "2540  330624199209043329        33.99   4347.0\n",
       "278   220181198902195531        33.61   4371.0\n",
       "280   220181198910044127        33.61   4371.0\n",
       "2513  33062219571227342X        17.09   4373.0\n",
       "\n",
       "[4373 rows x 3 columns]"
      ]
     },
     "execution_count": 26,
     "metadata": {},
     "output_type": "execute_result"
    }
   ],
   "source": [
    "gp_bj"
   ]
  },
  {
   "cell_type": "code",
   "execution_count": null,
   "metadata": {
    "collapsed": true
   },
   "outputs": [],
   "source": []
  }
 ],
 "metadata": {
  "kernelspec": {
   "display_name": "Python 3",
   "language": "python",
   "name": "python3"
  },
  "language_info": {
   "codemirror_mode": {
    "name": "ipython",
    "version": 3
   },
   "file_extension": ".py",
   "mimetype": "text/x-python",
   "name": "python",
   "nbconvert_exporter": "python",
   "pygments_lexer": "ipython3",
   "version": "3.6.1"
  }
 },
 "nbformat": 4,
 "nbformat_minor": 2
}
