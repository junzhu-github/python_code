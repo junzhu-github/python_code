{
 "cells": [
  {
   "cell_type": "markdown",
   "metadata": {},
   "source": [
    "### 导入库"
   ]
  },
  {
   "cell_type": "code",
   "execution_count": 1,
   "metadata": {},
   "outputs": [],
   "source": [
    "import numpy as np\n",
    "import pandas as pd"
   ]
  },
  {
   "cell_type": "markdown",
   "metadata": {},
   "source": [
    "### 修改工作目录"
   ]
  },
  {
   "cell_type": "code",
   "execution_count": 2,
   "metadata": {},
   "outputs": [],
   "source": [
    "# file_add = r'D:\\小鸡理财\\百度云同步盘\\小鸡理财\\数据报告\\信息披露'\n",
    "# file_name = '7月数据披露.xlsx'\n",
    "# os.chdir(file_add)"
   ]
  },
  {
   "cell_type": "markdown",
   "metadata": {},
   "source": [
    "### 导入excel"
   ]
  },
  {
   "cell_type": "code",
   "execution_count": 3,
   "metadata": {
    "scrolled": true
   },
   "outputs": [],
   "source": [
    "with pd.ExcelFile(r'D:\\小鸡理财\\百度云同步盘\\小鸡理财\\数据报告\\信息披露\\10月数据披露.xlsx') as xlsx:\n",
    "    df_tz = pd.read_excel(xlsx,'当月投资')\n",
    "    df_jd_bj = pd.read_excel(xlsx,'经典本金')\n",
    "    df_jd_lx = pd.read_excel(xlsx,'经典利息')\n",
    "    df_cg = pd.read_excel(xlsx,'存管回款')\n",
    "    df_2018_cj = pd.read_excel(xlsx,'2018累计出借人数量')\n",
    "    df_ljcj = pd.read_excel(xlsx,'累计出借人数量')"
   ]
  },
  {
   "cell_type": "markdown",
   "metadata": {},
   "source": [
    "- 累计借贷金额(万元)*"
   ]
  },
  {
   "cell_type": "code",
   "execution_count": 5,
   "metadata": {},
   "outputs": [
    {
     "name": "stdout",
     "output_type": "stream",
     "text": [
      "本月借贷金额： 59914600.0\n"
     ]
    }
   ],
   "source": [
    "#本月借贷金额\n",
    "cheng_jiao_sum = df_tz['总投资额'].sum()\n",
    "print('本月借贷金额：',cheng_jiao_sum)"
   ]
  },
  {
   "cell_type": "code",
   "execution_count": 6,
   "metadata": {},
   "outputs": [
    {
     "name": "stdout",
     "output_type": "stream",
     "text": [
      "上月累计借贷金额2518168084.03\n",
      "\n",
      "累计借贷金额：上月2518168084.03 + 本月59914600.0 = 2578082684.03\n",
      "\n",
      "累计借贷金额(万元):257808\n"
     ]
    }
   ],
   "source": [
    "last = input('上月累计借贷金额')\n",
    "ljjd_sum = float(last) + cheng_jiao_sum\n",
    "\n",
    "print('\\n累计借贷金额：上月{0} + 本月{1} = {2}'\\\n",
    "      .format(float(last),cheng_jiao_sum,ljjd_sum))\n",
    "\n",
    "print('\\n累计借贷金额(万元):{:.0f}'.format(ljjd_sum/10000))"
   ]
  },
  {
   "cell_type": "markdown",
   "metadata": {},
   "source": [
    "- 累计出借笔数(笔)*"
   ]
  },
  {
   "cell_type": "code",
   "execution_count": 8,
   "metadata": {},
   "outputs": [
    {
     "name": "stdout",
     "output_type": "stream",
     "text": [
      "本月出借笔数： 13692\n"
     ]
    }
   ],
   "source": [
    "#本月出借笔数\n",
    "cheng_jiao_count = df_tz['总投资额'].count()\n",
    "print('本月出借笔数：',cheng_jiao_count)"
   ]
  },
  {
   "cell_type": "code",
   "execution_count": 9,
   "metadata": {},
   "outputs": [
    {
     "name": "stdout",
     "output_type": "stream",
     "text": [
      "上月累计出借笔数310649\n",
      "\n",
      "累计出借笔数：上月310649 + 本月13692 = 324341\n"
     ]
    }
   ],
   "source": [
    "last_count = input('上月累计出借笔数')\n",
    "\n",
    "print('\\n累计出借笔数：上月{0} + 本月{1} = {2}'\\\n",
    "      .format(int(last_count),cheng_jiao_count,int(last_count) + cheng_jiao_count))"
   ]
  },
  {
   "cell_type": "markdown",
   "metadata": {},
   "source": [
    "- 借贷余额（万元）-本金"
   ]
  },
  {
   "cell_type": "code",
   "execution_count": 10,
   "metadata": {
    "scrolled": true
   },
   "outputs": [
    {
     "name": "stdout",
     "output_type": "stream",
     "text": [
      "借贷余额: 299079350.50000006\n",
      "借贷余额（万元）:29908\n"
     ]
    }
   ],
   "source": [
    "df_cg_bj = df_cg.loc[:,['身份证','投资时间','预计本次发放时间','本次发放本金']]\n",
    "# df_cg_bj.head()\n",
    "\n",
    "df_bj = df_jd_bj.append(df_cg_bj, ignore_index=True,sort=True)\n",
    "# df_bj.info()\n",
    "\n",
    "bj_sum = df_bj['本次发放本金'].sum()\n",
    "print('借贷余额:',bj_sum)\n",
    "print('借贷余额（万元）:{:.0f}'.format(bj_sum/10000))"
   ]
  },
  {
   "cell_type": "markdown",
   "metadata": {},
   "source": [
    "- 借贷余额笔数(笔)"
   ]
  },
  {
   "cell_type": "code",
   "execution_count": 22,
   "metadata": {},
   "outputs": [
    {
     "name": "stdout",
     "output_type": "stream",
     "text": [
      "<class 'pandas.core.frame.DataFrame'>\n",
      "RangeIndex: 200314 entries, 0 to 200313\n",
      "Data columns (total 4 columns):\n",
      "投资时间        200314 non-null object\n",
      "本次发放本金      200314 non-null float64\n",
      "身份证         200314 non-null object\n",
      "预计本次发放时间    200314 non-null datetime64[ns]\n",
      "dtypes: datetime64[ns](1), float64(1), object(2)\n",
      "memory usage: 6.1+ MB\n"
     ]
    }
   ],
   "source": [
    "df_bj.info()"
   ]
  },
  {
   "cell_type": "code",
   "execution_count": 24,
   "metadata": {},
   "outputs": [
    {
     "data": {
      "text/plain": [
       "(13692, 51)"
      ]
     },
     "execution_count": 24,
     "metadata": {},
     "output_type": "execute_result"
    }
   ],
   "source": [
    "df_tz.shape"
   ]
  },
  {
   "cell_type": "code",
   "execution_count": 23,
   "metadata": {},
   "outputs": [
    {
     "data": {
      "text/plain": [
       "(13070, 51)"
      ]
     },
     "execution_count": 23,
     "metadata": {},
     "output_type": "execute_result"
    }
   ],
   "source": [
    "df_tz.drop_duplicates(subset=['身份证','投资时间']).shape"
   ]
  },
  {
   "cell_type": "code",
   "execution_count": null,
   "metadata": {},
   "outputs": [],
   "source": []
  },
  {
   "cell_type": "code",
   "execution_count": null,
   "metadata": {},
   "outputs": [],
   "source": []
  },
  {
   "cell_type": "code",
   "execution_count": 11,
   "metadata": {
    "scrolled": true
   },
   "outputs": [
    {
     "name": "stdout",
     "output_type": "stream",
     "text": [
      "借贷余额笔数: 36790\n"
     ]
    }
   ],
   "source": [
    "df_yebs = df_bj.drop_duplicates(subset = ['投资时间','身份证'])\n",
    "print('借贷余额笔数:',df_yebs.shape[0])"
   ]
  },
  {
   "cell_type": "markdown",
   "metadata": {},
   "source": [
    "- 利息余额(万元)"
   ]
  },
  {
   "cell_type": "code",
   "execution_count": 12,
   "metadata": {
    "scrolled": true
   },
   "outputs": [
    {
     "name": "stdout",
     "output_type": "stream",
     "text": [
      "利息余额: 16853557.810000002\n",
      "利息余额（万元）:1685\n"
     ]
    }
   ],
   "source": [
    "df_cg_lx = df_cg.loc[:,['总利息','投资时间','预计本次发放时间','身份证']]\n",
    "# df_cg_bj.head()\n",
    "\n",
    "df_lx = df_jd_lx.append(df_cg_lx, ignore_index=True,sort=True)\n",
    "# df_lx.info()\n",
    "\n",
    "bj_lx = df_lx['总利息'].sum()\n",
    "print('利息余额:',bj_lx)\n",
    "print('利息余额（万元）:{:.0f}'.format(bj_lx/10000))"
   ]
  },
  {
   "cell_type": "markdown",
   "metadata": {},
   "source": [
    "- 累计出借人数量(人)"
   ]
  },
  {
   "cell_type": "code",
   "execution_count": 13,
   "metadata": {
    "scrolled": false
   },
   "outputs": [
    {
     "name": "stdout",
     "output_type": "stream",
     "text": [
      "累计出借人数量: 37470\n"
     ]
    }
   ],
   "source": [
    "df_ljcj_new = df_ljcj.append(df_cg['身份证'].to_frame())\n",
    "# df_ljcj_new.info()\n",
    "\n",
    "#检查身份证是否有小写x，会影响到去重计算\n",
    "while df_ljcj_new[df_ljcj_new['身份证'].str.contains('x')].shape[0]:\n",
    "    df_ljcj_new['身份证'] = df_ljcj_new['身份证'].str.upper()\n",
    "\n",
    "df_ljcj_new.drop_duplicates(inplace=True)\n",
    "print('累计出借人数量:',df_ljcj_new.shape[0])\n",
    "\n",
    "df_ljcj_new.to_excel('累计出借人数量.xlsx', sheet_name='Sheet1',index=False)"
   ]
  },
  {
   "cell_type": "markdown",
   "metadata": {},
   "source": [
    "- 当前出借人数量(人)"
   ]
  },
  {
   "cell_type": "code",
   "execution_count": 14,
   "metadata": {
    "scrolled": false
   },
   "outputs": [
    {
     "name": "stdout",
     "output_type": "stream",
     "text": [
      "当前出借人数量: 4360\n"
     ]
    }
   ],
   "source": [
    "df_dqcj_new = df_jd_bj['身份证'].append([df_jd_lx['身份证'],df_cg['身份证']])\n",
    "\n",
    "#检查身份证是否有小写x，会影响到去重计算\n",
    "while df_dqcj_new[df_dqcj_new.str.contains('x')].shape[0]:\n",
    "    df_dqcj_new = df_dqcj_new.str.upper()\n",
    "\n",
    "\n",
    "df_dqcj_new.drop_duplicates(inplace=True)\n",
    "print('当前出借人数量:',df_dqcj_new.shape[0])"
   ]
  },
  {
   "cell_type": "markdown",
   "metadata": {},
   "source": [
    "- 人均累计出借金额（万元）"
   ]
  },
  {
   "cell_type": "code",
   "execution_count": 15,
   "metadata": {
    "scrolled": true
   },
   "outputs": [
    {
     "name": "stdout",
     "output_type": "stream",
     "text": [
      "人均累计出借金额:68803.91470589806\n",
      "\n",
      "人均累计出借金额（万元）:6.88\n"
     ]
    }
   ],
   "source": [
    "print('人均累计出借金额:{}'.format(ljjd_sum / df_ljcj_new.shape[0]))\n",
    "print('\\n人均累计出借金额（万元）:{:.2f}'.format(ljjd_sum / df_ljcj_new.shape[0] / 10000))"
   ]
  },
  {
   "cell_type": "markdown",
   "metadata": {},
   "source": [
    "- 最大单户出借余额占比"
   ]
  },
  {
   "cell_type": "code",
   "execution_count": 16,
   "metadata": {
    "scrolled": true
   },
   "outputs": [
    {
     "name": "stdout",
     "output_type": "stream",
     "text": [
      "最大单户出借余额占比:5.02%\n"
     ]
    }
   ],
   "source": [
    "#检查身份证是否有小写x，会影响到计算\n",
    "while df_bj[df_bj['身份证'].str.contains('x')].shape[0]:\n",
    "    df_bj['身份证'] = df_bj['身份证'].str.upper()\n",
    "\n",
    "gp_bj = df_bj.groupby('身份证',as_index=False)['本次发放本金'].sum().sort_values(by='本次发放本金',ascending=False)\n",
    "# gp_bj\n",
    "\n",
    "print('最大单户出借余额占比:{:.2%}'.format(gp_bj.iloc[0,1] / df_bj['本次发放本金'].sum()))"
   ]
  },
  {
   "cell_type": "markdown",
   "metadata": {},
   "source": [
    "- 最大十户出借余额占比"
   ]
  },
  {
   "cell_type": "code",
   "execution_count": 17,
   "metadata": {
    "scrolled": true
   },
   "outputs": [
    {
     "name": "stdout",
     "output_type": "stream",
     "text": [
      "最大十户出借余额占比:11.51%\n"
     ]
    }
   ],
   "source": [
    "gp_bj['ranking'] = gp_bj['本次发放本金'].rank(method='min',ascending=False)\n",
    "# gp_bj\n",
    "\n",
    "first_10_sum = gp_bj[gp_bj['ranking'] < 11]['本次发放本金'].sum()\n",
    "print('最大十户出借余额占比:{:.2%}'.format(first_10_sum / df_bj['本次发放本金'].sum()))"
   ]
  },
  {
   "cell_type": "markdown",
   "metadata": {},
   "source": [
    "- 当月出借人数量"
   ]
  },
  {
   "cell_type": "code",
   "execution_count": 19,
   "metadata": {},
   "outputs": [
    {
     "name": "stdout",
     "output_type": "stream",
     "text": [
      "当月出借人数量 : 1889 人\n"
     ]
    }
   ],
   "source": [
    "cj_pp_sum = df_tz['身份证'].nunique()\n",
    "\n",
    "print('当月出借人数量 : {0} 人'.format(cj_pp_sum))"
   ]
  },
  {
   "cell_type": "markdown",
   "metadata": {},
   "source": [
    "- 2018年出借人数量"
   ]
  },
  {
   "cell_type": "code",
   "execution_count": 21,
   "metadata": {},
   "outputs": [
    {
     "name": "stdout",
     "output_type": "stream",
     "text": [
      "2018年出借人数量 : 7013 人\n"
     ]
    }
   ],
   "source": [
    "df_2018_cj_new = df_2018_cj['身份证号码'].append(df_tz['身份证'])\n",
    "\n",
    "df_2018_cj_new = df_2018_cj_new.str.upper().drop_duplicates()\n",
    "\n",
    "df_2018_cj_sum = df_2018_cj_new.shape[0]\n",
    "\n",
    "print('2018年出借人数量 : {0} 人'.format(df_2018_cj_sum))\n",
    "\n",
    "df_2018_cj_new.to_excel('2018年出借人.xlsx')"
   ]
  }
 ],
 "metadata": {
  "kernelspec": {
   "display_name": "Python 3",
   "language": "python",
   "name": "python3"
  },
  "language_info": {
   "codemirror_mode": {
    "name": "ipython",
    "version": 3
   },
   "file_extension": ".py",
   "mimetype": "text/x-python",
   "name": "python",
   "nbconvert_exporter": "python",
   "pygments_lexer": "ipython3",
   "version": "3.6.5"
  }
 },
 "nbformat": 4,
 "nbformat_minor": 2
}
