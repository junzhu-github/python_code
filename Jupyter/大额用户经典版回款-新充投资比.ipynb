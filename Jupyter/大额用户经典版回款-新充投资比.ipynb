{
 "cells": [
  {
   "cell_type": "markdown",
   "metadata": {},
   "source": [
    "- 导入库"
   ]
  },
  {
   "cell_type": "code",
   "execution_count": 1,
   "metadata": {},
   "outputs": [],
   "source": [
    "import os\n",
    "import pandas as pd\n",
    "import numpy as np\n",
    "import matplotlib.pyplot as plt\n",
    "%matplotlib inline"
   ]
  },
  {
   "cell_type": "markdown",
   "metadata": {},
   "source": [
    "- 导入数据"
   ]
  },
  {
   "cell_type": "code",
   "execution_count": 2,
   "metadata": {},
   "outputs": [],
   "source": [
    "with pd.ExcelFile(r'C:\\百度云同步盘\\小鸡理财\\数据报告\\月报\\2月\\经典转存管.xlsx') as xlsx:\n",
    "    df_hk = pd.read_excel(xlsx,'回款')\n",
    "    df_cz = pd.read_excel(xlsx,'充值')\n",
    "    df_tz = pd.read_excel(xlsx,'投资')\n",
    "    df_md = pd.read_excel(xlsx,'大额名单')\n",
    "    df_rz = pd.read_excel(xlsx,'认证')"
   ]
  },
  {
   "cell_type": "markdown",
   "metadata": {},
   "source": [
    "1.把所有表格内身份证里的字母都转换成大写"
   ]
  },
  {
   "cell_type": "code",
   "execution_count": 4,
   "metadata": {},
   "outputs": [],
   "source": [
    "df_hk['身份证'] = df_hk['身份证'].str.upper()\n",
    "df_cz['身份证'] = df_cz['身份证'].str.upper()\n",
    "df_tz['身份证'] = df_tz['身份证'].str.upper()\n",
    "df_md['身份证'] = df_md['身份证'].str.upper()\n",
    "df_rz['身份证'] = df_rz['身份证'].str.upper()"
   ]
  },
  {
   "cell_type": "markdown",
   "metadata": {},
   "source": [
    "2.数据清洗，去除有空值的行"
   ]
  },
  {
   "cell_type": "code",
   "execution_count": 11,
   "metadata": {},
   "outputs": [],
   "source": [
    "df_hk.dropna(inplace=True)\n",
    "df_cz.dropna(inplace=True)\n",
    "df_tz.dropna(inplace=True)\n",
    "df_md.dropna(inplace=True)\n",
    "df_rz.dropna(inplace=True)"
   ]
  },
  {
   "cell_type": "markdown",
   "metadata": {},
   "source": [
    "3.统计经典版回款的所有用户，并分为大额和非大额"
   ]
  },
  {
   "cell_type": "code",
   "execution_count": 12,
   "metadata": {},
   "outputs": [],
   "source": [
    "df_yh = df_hk['身份证'].drop_duplicates()"
   ]
  },
  {
   "cell_type": "markdown",
   "metadata": {},
   "source": [
    "总人数"
   ]
  },
  {
   "cell_type": "code",
   "execution_count": 13,
   "metadata": {},
   "outputs": [
    {
     "data": {
      "text/plain": [
       "(4871,)"
      ]
     },
     "execution_count": 13,
     "metadata": {},
     "output_type": "execute_result"
    }
   ],
   "source": [
    "df_yh.shape"
   ]
  },
  {
   "cell_type": "markdown",
   "metadata": {},
   "source": [
    "大额用户"
   ]
  },
  {
   "cell_type": "code",
   "execution_count": 14,
   "metadata": {},
   "outputs": [],
   "source": [
    "df_dae_yh = df_md['身份证']"
   ]
  },
  {
   "cell_type": "markdown",
   "metadata": {},
   "source": [
    "非大额用户"
   ]
  },
  {
   "cell_type": "code",
   "execution_count": 22,
   "metadata": {},
   "outputs": [],
   "source": [
    "df_pt_yh = df_yh[~df_yh.isin(df_dae_yh)]"
   ]
  },
  {
   "cell_type": "code",
   "execution_count": 23,
   "metadata": {},
   "outputs": [
    {
     "data": {
      "text/plain": [
       "(4566,)"
      ]
     },
     "execution_count": 23,
     "metadata": {},
     "output_type": "execute_result"
    }
   ],
   "source": [
    "df_pt_yh.shape"
   ]
  },
  {
   "cell_type": "markdown",
   "metadata": {},
   "source": [
    "4.统计所拥有，大额、普通用户开通存管比例"
   ]
  },
  {
   "cell_type": "code",
   "execution_count": 61,
   "metadata": {},
   "outputs": [
    {
     "data": {
      "text/plain": [
       "True     4744\n",
       "False     127\n",
       "Name: 身份证, dtype: int64"
      ]
     },
     "execution_count": 61,
     "metadata": {},
     "output_type": "execute_result"
    }
   ],
   "source": [
    "df_yh.isin(df_rz['身份证']).value_counts()"
   ]
  },
  {
   "cell_type": "code",
   "execution_count": 62,
   "metadata": {
    "scrolled": false
   },
   "outputs": [
    {
     "data": {
      "text/plain": [
       "True     297\n",
       "False      9\n",
       "Name: 身份证, dtype: int64"
      ]
     },
     "execution_count": 62,
     "metadata": {},
     "output_type": "execute_result"
    }
   ],
   "source": [
    "df_dae_yh.isin(df_rz['身份证']).value_counts()"
   ]
  },
  {
   "cell_type": "code",
   "execution_count": 31,
   "metadata": {},
   "outputs": [
    {
     "data": {
      "text/plain": [
       "True     0.973938\n",
       "False    0.026062\n",
       "Name: 身份证, dtype: float64"
      ]
     },
     "execution_count": 31,
     "metadata": {},
     "output_type": "execute_result"
    }
   ],
   "source": [
    "df_pt_yh.isin(df_rz['身份证']).value_counts(normalize=True)"
   ]
  },
  {
   "cell_type": "markdown",
   "metadata": {},
   "source": [
    "4-1.排除用户中年龄小于18岁的"
   ]
  },
  {
   "cell_type": "code",
   "execution_count": 55,
   "metadata": {},
   "outputs": [],
   "source": [
    "def is18(x):\n",
    "    birth_date = pd.to_datetime(x[6:14])\n",
    "    age = (pd.datetime.now() - birth_date) / np.timedelta64(1, 'Y')\n",
    "    \n",
    "    if age < 18:\n",
    "        return False\n",
    "    else:\n",
    "        return True"
   ]
  },
  {
   "cell_type": "code",
   "execution_count": 60,
   "metadata": {},
   "outputs": [
    {
     "data": {
      "text/plain": [
       "True     4869\n",
       "False       2\n",
       "Name: 身份证, dtype: int64"
      ]
     },
     "execution_count": 60,
     "metadata": {},
     "output_type": "execute_result"
    }
   ],
   "source": [
    "df_yh.apply(is18).value_counts()"
   ]
  },
  {
   "cell_type": "markdown",
   "metadata": {},
   "source": [
    "5.统计开通存管用户在存管投资比例"
   ]
  },
  {
   "cell_type": "code",
   "execution_count": null,
   "metadata": {},
   "outputs": [],
   "source": []
  },
  {
   "cell_type": "code",
   "execution_count": null,
   "metadata": {},
   "outputs": [],
   "source": []
  },
  {
   "cell_type": "code",
   "execution_count": null,
   "metadata": {},
   "outputs": [],
   "source": []
  },
  {
   "cell_type": "code",
   "execution_count": null,
   "metadata": {},
   "outputs": [],
   "source": []
  },
  {
   "cell_type": "code",
   "execution_count": null,
   "metadata": {},
   "outputs": [],
   "source": []
  },
  {
   "cell_type": "code",
   "execution_count": null,
   "metadata": {},
   "outputs": [],
   "source": []
  },
  {
   "cell_type": "markdown",
   "metadata": {},
   "source": [
    "- 整理数据：保留到日期，筛选出大额用户"
   ]
  },
  {
   "cell_type": "markdown",
   "metadata": {},
   "source": [
    "- 保留日期的方法\n",
    "\n",
    "仅保留日期\n",
    "df['just_date'] = df['dates'].dt.date\n",
    "\n",
    "保留日期和时间\n",
    "df['normalised_date'] = df['dates'].dt.normalize()"
   ]
  },
  {
   "cell_type": "code",
   "execution_count": null,
   "metadata": {},
   "outputs": [],
   "source": [
    "df_hk['时间'] = pd.to_datetime(df_hk['发放时间'])\n",
    "df_hk['身份证'] = df_hk['身份证'].str.upper()\n",
    "df_md['身份证'] = df_md['身份证'].str.upper()\n",
    "\n",
    "df_hk_ok = df_hk[df_hk['身份证'].isin(df_md['身份证'])]\n",
    "del df_hk_ok['发放时间']\n",
    "df_hk_ok.head()"
   ]
  },
  {
   "cell_type": "code",
   "execution_count": null,
   "metadata": {},
   "outputs": [],
   "source": [
    "df_cz['身份证'] = df_cz['身份证'].str.upper()\n",
    "df_cz['时间'] = pd.to_datetime(df_cz['成功时间']).dt.date\n",
    "\n",
    "df_cz_ok = df_cz[df_cz['身份证'].isin(df_md['身份证'])]\n",
    "del df_cz_ok['成功时间']\n",
    "df_cz_ok.head()"
   ]
  },
  {
   "cell_type": "code",
   "execution_count": null,
   "metadata": {},
   "outputs": [],
   "source": [
    "df_tz['身份证'] = df_tz['身份证'].str.upper()\n",
    "df_tz['时间'] = pd.to_datetime(df_tz['投资时间']).dt.date\n",
    "\n",
    "df_tz_ok = df_tz[df_tz['身份证'].isin(df_md['身份证'])]\n",
    "del df_tz_ok['投资时间']\n",
    "df_tz_ok.head()"
   ]
  },
  {
   "cell_type": "markdown",
   "metadata": {},
   "source": [
    "- 合并回款、充值、投资"
   ]
  },
  {
   "cell_type": "code",
   "execution_count": null,
   "metadata": {
    "scrolled": true
   },
   "outputs": [],
   "source": [
    "df_hk_gp = df_hk_ok.groupby(['时间','身份证'],as_index=False).sum()\n",
    "df_cz_gp = df_cz_ok.groupby(['时间','身份证'],as_index=False).sum()\n",
    "df_tz_gp = df_tz_ok.groupby(['时间','身份证'],as_index=False).sum()"
   ]
  },
  {
   "cell_type": "code",
   "execution_count": null,
   "metadata": {},
   "outputs": [],
   "source": [
    "df_hk_gp['时间'] = pd.to_datetime(df_hk_gp['时间'])\n",
    "df_cz_gp['时间'] = pd.to_datetime(df_cz_gp['时间'])\n",
    "df_tz_gp['时间'] = pd.to_datetime(df_tz_gp['时间'])"
   ]
  },
  {
   "cell_type": "code",
   "execution_count": null,
   "metadata": {
    "scrolled": true
   },
   "outputs": [],
   "source": [
    "gp_temp = pd.merge(df_hk_gp,df_cz_gp,on = ['时间','身份证'],how = 'outer')\n",
    "gp = pd.merge(gp_temp,df_tz_gp,on = ['时间','身份证'],how = 'outer')\n",
    "gp.info()"
   ]
  },
  {
   "cell_type": "markdown",
   "metadata": {},
   "source": [
    "- ！扩充每个用户的数据到20180301-20180731的每一天"
   ]
  },
  {
   "cell_type": "code",
   "execution_count": null,
   "metadata": {},
   "outputs": [],
   "source": [
    "time = pd.DataFrame({'时间':pd.date_range(start='20180301', end='20180731', freq='D')})\n",
    "time\n",
    "\n",
    "#构造一个二级行索引，使得每人对应20180301-20180731的每一天\n",
    "index = pd.MultiIndex.from_product([time['时间'],df_md['身份证']], names = ['时间','身份证'])\n",
    "s = pd.Series(1,index=index)\n",
    "\n",
    "df= s.to_frame().reset_index()\n",
    "del df[0]\n",
    "df.info()\n",
    "df.head()"
   ]
  },
  {
   "cell_type": "code",
   "execution_count": null,
   "metadata": {
    "scrolled": true
   },
   "outputs": [],
   "source": [
    "gp_tm = pd.merge(df,gp,on=['时间','身份证'],how='left')\n",
    "gp_tm"
   ]
  },
  {
   "cell_type": "markdown",
   "metadata": {},
   "source": [
    "- 按每个用户计算累加值"
   ]
  },
  {
   "cell_type": "code",
   "execution_count": null,
   "metadata": {
    "scrolled": true
   },
   "outputs": [],
   "source": [
    "gp_tm.fillna(0,inplace=True)"
   ]
  },
  {
   "cell_type": "code",
   "execution_count": null,
   "metadata": {},
   "outputs": [],
   "source": [
    "gp_tm['累计还款'] = gp_tm.groupby(['身份证'])['还款金额'].apply(lambda x: x.cumsum())\n",
    "gp_tm['累计充值'] = gp_tm.groupby(['身份证'])['充值金额'].apply(lambda x: x.cumsum())\n",
    "gp_tm['累计投资'] = gp_tm.groupby(['身份证'])['账户资金'].apply(lambda x: x.cumsum())"
   ]
  },
  {
   "cell_type": "code",
   "execution_count": null,
   "metadata": {
    "scrolled": true
   },
   "outputs": [],
   "source": [
    "gp_tm.head()"
   ]
  },
  {
   "cell_type": "code",
   "execution_count": null,
   "metadata": {
    "scrolled": true
   },
   "outputs": [],
   "source": [
    "gp_tm[gp_tm['身份证']=='130406198605270317']"
   ]
  },
  {
   "cell_type": "markdown",
   "metadata": {},
   "source": [
    "- 累加值：还款>充值>账户"
   ]
  },
  {
   "cell_type": "code",
   "execution_count": null,
   "metadata": {},
   "outputs": [],
   "source": [
    "gp_tm['累计充值_ok'] = np.where(gp_tm['累计还款'] < gp_tm['累计充值'],gp_tm['累计还款'],gp_tm['累计充值'])\n",
    "gp_tm['累计投资_ok'] = np.where(gp_tm['累计充值_ok'] < gp_tm['累计投资'],gp_tm['累计充值_ok'],gp_tm['累计投资'])"
   ]
  },
  {
   "cell_type": "markdown",
   "metadata": {},
   "source": [
    "- 按日汇总数据"
   ]
  },
  {
   "cell_type": "code",
   "execution_count": null,
   "metadata": {
    "scrolled": true
   },
   "outputs": [],
   "source": [
    "res = gp_tm.groupby('时间')['累计还款','累计投资_ok'].sum()\n",
    "res"
   ]
  },
  {
   "cell_type": "markdown",
   "metadata": {},
   "source": [
    "- 导出结果"
   ]
  },
  {
   "cell_type": "code",
   "execution_count": null,
   "metadata": {},
   "outputs": [],
   "source": [
    "res.to_excel('大额用户经典版回款新充投资比.xlsx')"
   ]
  }
 ],
 "metadata": {
  "kernelspec": {
   "display_name": "Python 3",
   "language": "python",
   "name": "python3"
  },
  "language_info": {
   "codemirror_mode": {
    "name": "ipython",
    "version": 3
   },
   "file_extension": ".py",
   "mimetype": "text/x-python",
   "name": "python",
   "nbconvert_exporter": "python",
   "pygments_lexer": "ipython3",
   "version": "3.7.2"
  }
 },
 "nbformat": 4,
 "nbformat_minor": 2
}
