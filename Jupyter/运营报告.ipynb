{
 "cells": [
  {
   "cell_type": "markdown",
   "metadata": {},
   "source": [
    "### 导入库"
   ]
  },
  {
   "cell_type": "code",
   "execution_count": 1,
   "metadata": {
    "collapsed": true
   },
   "outputs": [],
   "source": [
    "import os\n",
    "import numpy as np\n",
    "import pandas as pd\n",
    "import matplotlib.pyplot as plt\n",
    "%matplotlib inline"
   ]
  },
  {
   "cell_type": "markdown",
   "metadata": {},
   "source": [
    "### 修改工作目录"
   ]
  },
  {
   "cell_type": "code",
   "execution_count": 4,
   "metadata": {},
   "outputs": [],
   "source": [
    "file_add = r'D:\\小鸡理财\\百度云同步盘\\小鸡理财\\数据报告\\运营报告\\7月运营报告'\n",
    "file_name = '7月运营报告数据.xlsx'\n",
    "os.chdir(file_add)"
   ]
  },
  {
   "cell_type": "markdown",
   "metadata": {},
   "source": [
    "### 导入excel"
   ]
  },
  {
   "cell_type": "code",
   "execution_count": 5,
   "metadata": {
    "collapsed": true
   },
   "outputs": [],
   "source": [
    "with pd.ExcelFile(os.path.abspath(file_name)) as xlsx:\n",
    "    df_tz = pd.read_excel(xlsx,'投资')\n",
    "    df_zc = pd.read_excel(xlsx,'注册')\n",
    "    df_yj = pd.read_excel(xlsx,'佣金')\n",
    "    df_vip = pd.read_excel(xlsx,'VIP变动')"
   ]
  },
  {
   "cell_type": "code",
   "execution_count": 27,
   "metadata": {
    "scrolled": true
   },
   "outputs": [
    {
     "name": "stdout",
     "output_type": "stream",
     "text": [
      "<class 'pandas.core.frame.DataFrame'>\n",
      "RangeIndex: 5525 entries, 0 to 5524\n",
      "Data columns (total 51 columns):\n",
      "投资状态       5525 non-null object\n",
      "标状态        5525 non-null object\n",
      "序号         5525 non-null int64\n",
      "标ID        5525 non-null int64\n",
      "标的编号       5525 non-null object\n",
      "标名称        5525 non-null object\n",
      "是否新手标      5525 non-null object\n",
      "投资用户       5525 non-null object\n",
      "真实姓名       5525 non-null object\n",
      "手机号        5525 non-null int64\n",
      "所属公司       192 non-null object\n",
      "会员类型       5525 non-null object\n",
      "投资时会员类型    5525 non-null object\n",
      "推荐人        3527 non-null object\n",
      "注册时间       5525 non-null object\n",
      "智慧投ID      5525 non-null object\n",
      "智慧投名称      5525 non-null object\n",
      "智慧投基本年化    5525 non-null object\n",
      "智慧投奖励年化    5525 non-null object\n",
      "标类型        5525 non-null object\n",
      "还款方式       5525 non-null object\n",
      "总投资额       5525 non-null int64\n",
      "账户资金       5525 non-null float64\n",
      "续投资金       5525 non-null float64\n",
      "券          5525 non-null int64\n",
      "加息券成本      5525 non-null float64\n",
      "工资余额投资     5525 non-null int64\n",
      "预期收益       5525 non-null float64\n",
      "已得利息       5525 non-null float64\n",
      "投资时间       5525 non-null object\n",
      "智慧投投资时间    5525 non-null object\n",
      "预期还款时间     5525 non-null object\n",
      "还款时间       5525 non-null object\n",
      "复审时间       5525 non-null object\n",
      "渠道         5525 non-null object\n",
      "投资来源       5525 non-null object\n",
      "邀请来源       5525 non-null object\n",
      "首投时间       5525 non-null object\n",
      "还款状态       0 non-null float64\n",
      "还款方式.1     0 non-null float64\n",
      "标种类型       0 non-null float64\n",
      "投标方式       0 non-null float64\n",
      "标限制        5525 non-null object\n",
      "投资期限       5525 non-null int64\n",
      "年利率        5525 non-null object\n",
      "加息利率       5525 non-null object\n",
      "利息期数       5525 non-null object\n",
      "下次发放       5525 non-null object\n",
      "首投时间.1     5525 non-null object\n",
      "身份证        5525 non-null object\n",
      "用户来源       5525 non-null object\n",
      "dtypes: float64(9), int64(7), object(35)\n",
      "memory usage: 2.1+ MB\n"
     ]
    }
   ],
   "source": [
    "df_tz.info()"
   ]
  },
  {
   "cell_type": "markdown",
   "metadata": {},
   "source": [
    "## 2页"
   ]
  },
  {
   "cell_type": "markdown",
   "metadata": {},
   "source": [
    "- 成交额"
   ]
  },
  {
   "cell_type": "code",
   "execution_count": 11,
   "metadata": {},
   "outputs": [
    {
     "name": "stdout",
     "output_type": "stream",
     "text": [
      "7月成交额： 49732100\n"
     ]
    }
   ],
   "source": [
    "cheng_jiao_sum = df_tz['总投资额'].sum()\n",
    "print('7月成交额：',cheng_jiao_sum)"
   ]
  },
  {
   "cell_type": "markdown",
   "metadata": {},
   "source": [
    "- 为用户赚取收益"
   ]
  },
  {
   "cell_type": "code",
   "execution_count": 14,
   "metadata": {},
   "outputs": [
    {
     "name": "stdout",
     "output_type": "stream",
     "text": [
      "投资3277739.6200000644 + 佣金214075.0499999998 = 3491814.670000064\n"
     ]
    }
   ],
   "source": [
    "tz_shouyi_sum = df_tz['预期收益'].sum()\n",
    "yj_sum = df_yj['佣金金额'].sum()\n",
    "\n",
    "print('投资{0} + 佣金{1} = {2}'.format(tz_shouyi_sum,yj_sum,yj_sum+tz_shouyi_sum))"
   ]
  },
  {
   "cell_type": "markdown",
   "metadata": {},
   "source": [
    "- 平台累计总交易额"
   ]
  },
  {
   "cell_type": "code",
   "execution_count": 26,
   "metadata": {},
   "outputs": [
    {
     "name": "stdout",
     "output_type": "stream",
     "text": [
      "上月累计成交额2344062984.03\n",
      "\n",
      "平台累计总交易额：上月2344062984.03 + 本月49732100 = 2393795084.03\n"
     ]
    }
   ],
   "source": [
    "last = input('上月累计成交额')\n",
    "\n",
    "print('\\n平台累计总交易额：上月{0} + 本月{1} = {2}'\\\n",
    "      .format(float(last),cheng_jiao_sum,float(last) + cheng_jiao_sum))"
   ]
  },
  {
   "cell_type": "markdown",
   "metadata": {},
   "source": [
    "## 3页"
   ]
  },
  {
   "cell_type": "markdown",
   "metadata": {},
   "source": [
    "- 新增用户数"
   ]
  },
  {
   "cell_type": "code",
   "execution_count": 23,
   "metadata": {},
   "outputs": [
    {
     "name": "stdout",
     "output_type": "stream",
     "text": [
      "7月新增用户数： 1554\n"
     ]
    }
   ],
   "source": [
    "fresh_users = df_zc['用户名'].count()\n",
    "\n",
    "print('7月新增用户数：',fresh_users)"
   ]
  },
  {
   "cell_type": "markdown",
   "metadata": {},
   "source": [
    "- 累计注册用户数"
   ]
  },
  {
   "cell_type": "code",
   "execution_count": 25,
   "metadata": {},
   "outputs": [
    {
     "name": "stdout",
     "output_type": "stream",
     "text": [
      "上月累计注册用户数236255\n",
      "\n",
      "平台累计注册用户数：上月236255 + 本月1554 = 237809\n"
     ]
    }
   ],
   "source": [
    "last_users = input('上月累计注册用户数')\n",
    "\n",
    "print('\\n平台累计注册用户数：上月{0} + 本月{1} = {2}'\\\n",
    "      .format(int(last_users),fresh_users,int(last_users) + fresh_users))"
   ]
  },
  {
   "cell_type": "markdown",
   "metadata": {},
   "source": [
    "## 4页"
   ]
  },
  {
   "cell_type": "code",
   "execution_count": 28,
   "metadata": {},
   "outputs": [
    {
     "data": {
      "text/plain": [
       "array(['安卓端', 'Web端', '苹果端', '微信端'], dtype=object)"
      ]
     },
     "execution_count": 28,
     "metadata": {},
     "output_type": "execute_result"
    }
   ],
   "source": [
    "df_tz['投资来源'].unique()"
   ]
  },
  {
   "cell_type": "markdown",
   "metadata": {},
   "source": [
    "- 移动端投资额"
   ]
  },
  {
   "cell_type": "code",
   "execution_count": 32,
   "metadata": {},
   "outputs": [
    {
     "name": "stdout",
     "output_type": "stream",
     "text": [
      "移动端投资额： 46343800\n"
     ]
    }
   ],
   "source": [
    "tz_yidong_sum = df_tz[df_tz['投资来源'].isin(['安卓端','苹果端', '微信端'])].总投资额.sum()\n",
    "\n",
    "print('移动端投资额：',tz_yidong_sum)"
   ]
  },
  {
   "cell_type": "markdown",
   "metadata": {},
   "source": [
    "- 比例"
   ]
  },
  {
   "cell_type": "code",
   "execution_count": 88,
   "metadata": {},
   "outputs": [
    {
     "name": "stdout",
     "output_type": "stream",
     "text": [
      "APP 90.84% , 微信 2.35% , PC 6.81%\n"
     ]
    }
   ],
   "source": [
    "gp = df_tz.groupby('投资来源')['总投资额'].sum()\n",
    "\n",
    "temp = pd.DataFrame(gp)\n",
    "\n",
    "temp['total'] = cheng_jiao_sum\n",
    "\n",
    "temp['percent'] = temp['总投资额'] / temp['total']\n",
    "\n",
    "print('APP {0:.2%} , 微信 {1:.2%} , PC {2:.2%}'.format(\n",
    "    temp.loc['安卓端','percent'] + temp.loc['苹果端','percent'],\n",
    "    temp.loc['微信端','percent'],\n",
    "    temp.loc['Web端','percent']))"
   ]
  },
  {
   "cell_type": "code",
   "execution_count": 69,
   "metadata": {},
   "outputs": [
    {
     "data": {
      "text/plain": [
       "group\n",
       "APP    90.841127\n",
       "PC      6.813105\n",
       "微信      2.345769\n",
       "Name: 总投资额, dtype: float64"
      ]
     },
     "execution_count": 69,
     "metadata": {},
     "output_type": "execute_result"
    }
   ],
   "source": [
    "#方法二：\n",
    "dt = {'安卓端':'APP','苹果端':'APP','微信端':'微信','Web端':'PC'}\n",
    "\n",
    "df_tz['group'] = df_tz['投资来源'].map(dt)\n",
    "grouped = df_tz.groupby('group')['总投资额'].sum()\n",
    "\n",
    "gp_pct = grouped.apply(lambda x : 100 * x / cheng_jiao_sum)\n",
    "gp_pct"
   ]
  },
  {
   "cell_type": "markdown",
   "metadata": {},
   "source": [
    "## 5页"
   ]
  },
  {
   "cell_type": "markdown",
   "metadata": {},
   "source": [
    "- 月度土豪奖"
   ]
  },
  {
   "cell_type": "code",
   "execution_count": 102,
   "metadata": {},
   "outputs": [
    {
     "name": "stdout",
     "output_type": "stream",
     "text": [
      "月度土豪奖:18066446644 | 483万\n"
     ]
    }
   ],
   "source": [
    "gp_tz_1 = df_tz.groupby('手机号')['总投资额'].sum().sort_values(ascending=False)\n",
    "\n",
    "phone = gp_tz_1.index[0]\n",
    "num = gp_tz_1.iloc[0]\n",
    "\n",
    "print('月度土豪奖:{0} | {1:.0f}万'.format(phone,num/10000))"
   ]
  },
  {
   "cell_type": "markdown",
   "metadata": {},
   "source": [
    "- 月度勤恳奖"
   ]
  },
  {
   "cell_type": "code",
   "execution_count": 104,
   "metadata": {},
   "outputs": [
    {
     "name": "stdout",
     "output_type": "stream",
     "text": [
      "月度勤恳奖:18066446644 | 72次\n"
     ]
    }
   ],
   "source": [
    "gp_tz_2 = df_tz.groupby('手机号')['总投资额'].count().sort_values(ascending=False)\n",
    "\n",
    "phone = gp_tz_2.index[0]\n",
    "num = gp_tz_2.iloc[0]\n",
    "\n",
    "print('月度勤恳奖:{0} | {1}次'.format(phone,num))"
   ]
  },
  {
   "cell_type": "markdown",
   "metadata": {},
   "source": [
    "- 月度收获奖"
   ]
  },
  {
   "cell_type": "code",
   "execution_count": 105,
   "metadata": {},
   "outputs": [
    {
     "name": "stdout",
     "output_type": "stream",
     "text": [
      "月度勤恳奖:18066446644 | 49万\n"
     ]
    }
   ],
   "source": [
    "gp_tz_3 = df_tz.groupby('手机号')['预期收益'].sum().sort_values(ascending=False)\n",
    "\n",
    "phone = gp_tz_3.index[0]\n",
    "num = gp_tz_3.iloc[0]\n",
    "\n",
    "print('月度收获奖:{0} | {1:.0f}万'.format(phone,num/10000))"
   ]
  },
  {
   "cell_type": "markdown",
   "metadata": {},
   "source": [
    "- 月度人气奖"
   ]
  },
  {
   "cell_type": "code",
   "execution_count": 113,
   "metadata": {},
   "outputs": [
    {
     "name": "stdout",
     "output_type": "stream",
     "text": [
      "月度人气奖:18857917141 | 110人\n"
     ]
    }
   ],
   "source": [
    "gp_zc_1 = df_zc.groupby('邀请人')['用户名'].count().sort_values(ascending=False)\n",
    "\n",
    "phone = gp_zc_1.index[0]\n",
    "num = gp_zc_1.iloc[0]\n",
    "\n",
    "print('月度人气奖:{0:.0f} | {1}人'.format(phone,num))"
   ]
  },
  {
   "cell_type": "markdown",
   "metadata": {},
   "source": [
    "## 6页"
   ]
  },
  {
   "cell_type": "markdown",
   "metadata": {},
   "source": [
    "- “壕”气冲天"
   ]
  },
  {
   "cell_type": "code",
   "execution_count": 129,
   "metadata": {},
   "outputs": [
    {
     "name": "stdout",
     "output_type": "stream",
     "text": [
      "“壕”气冲天:VIP7 | 242万\n"
     ]
    }
   ],
   "source": [
    "gp_tz_4 = df_tz.groupby('投资时会员类型')['总投资额'].sum()\n",
    "# print(gp_tz_4)\n",
    "\n",
    "gp_tz_5 = df_tz.groupby('投资时会员类型')['投资用户'].nunique()\n",
    "# print(gp_tz_5)\n",
    "\n",
    "gp_tz_6 = pd.concat([gp_tz_4, gp_tz_5], axis=1)\n",
    "gp_tz_6['avg'] = gp_tz_6['总投资额'] / gp_tz_6['投资用户']\n",
    "gp_tz_6.sort_values(by = 'avg',ascending = False,inplace = True)\n",
    "\n",
    "vip = gp_tz_6.index[0]\n",
    "num = gp_tz_6.iloc[0,2]\n",
    "\n",
    "print('“壕”气冲天:{0} | {1:.0f}万'.format(vip,num/10000))"
   ]
  },
  {
   "cell_type": "markdown",
   "metadata": {},
   "source": [
    "- “勇”争先锋"
   ]
  },
  {
   "cell_type": "code",
   "execution_count": 130,
   "metadata": {},
   "outputs": [
    {
     "name": "stdout",
     "output_type": "stream",
     "text": [
      "“勇”争先锋:VIP2 | 1202万\n"
     ]
    }
   ],
   "source": [
    "gp_tz_4.sort_values(ascending = False,inplace = True)\n",
    "\n",
    "vip = gp_tz_4.index[0]\n",
    "num = gp_tz_4.iloc[0]\n",
    "\n",
    "print('“勇”争先锋:{0} | {1:.0f}万'.format(vip,num/10000))"
   ]
  },
  {
   "cell_type": "markdown",
   "metadata": {},
   "source": [
    "- VIP用户升级情况"
   ]
  },
  {
   "cell_type": "code",
   "execution_count": 144,
   "metadata": {},
   "outputs": [
    {
     "name": "stdout",
     "output_type": "stream",
     "text": [
      "336位用户的VIP等级提升，其中：\n",
      "\n"
     ]
    },
    {
     "name": "stderr",
     "output_type": "stream",
     "text": [
      "C:\\Users\\ye\\Anaconda3\\lib\\site-packages\\ipykernel_launcher.py:4: SettingWithCopyWarning: \n",
      "A value is trying to be set on a copy of a slice from a DataFrame\n",
      "\n",
      "See the caveats in the documentation: http://pandas.pydata.org/pandas-docs/stable/indexing.html#indexing-view-versus-copy\n",
      "  after removing the cwd from sys.path.\n",
      "C:\\Users\\ye\\Anaconda3\\lib\\site-packages\\ipykernel_launcher.py:5: SettingWithCopyWarning: \n",
      "A value is trying to be set on a copy of a slice from a DataFrame\n",
      "\n",
      "See the caveats in the documentation: http://pandas.pydata.org/pandas-docs/stable/indexing.html#indexing-view-versus-copy\n",
      "  \"\"\"\n"
     ]
    },
    {
     "data": {
      "text/plain": [
       "VIP 升级人数\n",
       "1    143\n",
       "2    111\n",
       "3     54\n",
       "4     20\n",
       "5      4\n",
       "6      4\n",
       "Name: 用户名, dtype: int64"
      ]
     },
     "execution_count": 144,
     "metadata": {},
     "output_type": "execute_result"
    }
   ],
   "source": [
    "df_vip_up = df_vip[df_vip['变动原因'] == '升级']\n",
    "# df_vip_up['变动原因'].unique()\n",
    "\n",
    "df_vip_up.sort_values(by = '变动后等级',ascending = False,inplace = True)\n",
    "df_vip_up.drop_duplicates(subset=['用户名'],inplace = True)\n",
    "\n",
    "# df_vip_up.info()\n",
    "gp_vip = df_vip_up.groupby('变动后等级')['用户名'].count()\n",
    "gp_vip.index.name = 'VIP 升级人数' \n",
    "\n",
    "print('{0}位用户的VIP等级提升，其中：\\n'.format(gp_vip.sum()))\n",
    "gp_vip"
   ]
  },
  {
   "cell_type": "code",
   "execution_count": null,
   "metadata": {
    "collapsed": true
   },
   "outputs": [],
   "source": []
  },
  {
   "cell_type": "code",
   "execution_count": null,
   "metadata": {
    "collapsed": true
   },
   "outputs": [],
   "source": []
  }
 ],
 "metadata": {
  "kernelspec": {
   "display_name": "Python 3",
   "language": "python",
   "name": "python3"
  },
  "language_info": {
   "codemirror_mode": {
    "name": "ipython",
    "version": 3
   },
   "file_extension": ".py",
   "mimetype": "text/x-python",
   "name": "python",
   "nbconvert_exporter": "python",
   "pygments_lexer": "ipython3",
   "version": "3.6.2"
  }
 },
 "nbformat": 4,
 "nbformat_minor": 2
}
