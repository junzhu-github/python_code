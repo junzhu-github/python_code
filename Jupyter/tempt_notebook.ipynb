{
 "cells": [
  {
   "cell_type": "code",
   "execution_count": 1,
   "metadata": {},
   "outputs": [],
   "source": [
    "import os\n",
    "import time\n",
    "import numpy as np\n",
    "import pandas as pd\n",
    "import matplotlib.pyplot as plt\n",
    "%matplotlib inline"
   ]
  },
  {
   "cell_type": "code",
   "execution_count": 2,
   "metadata": {},
   "outputs": [],
   "source": [
    "os.chdir(r'D:\\小鸡理财\\百度云同步盘\\小鸡理财\\每日数据\\派券')"
   ]
  },
  {
   "cell_type": "code",
   "execution_count": 3,
   "metadata": {},
   "outputs": [],
   "source": [
    "start = time.time()\n",
    "\n",
    "# - 导入待派券名单\n",
    "with pd.ExcelFile(r'D:\\小鸡理财\\百度云同步盘\\小鸡理财\\每日数据\\派券\\12月派券.xlsx') as xlsx:\n",
    "    df_jd_bj = pd.read_excel(xlsx,'经典本金')\n",
    "    df_jd_lx = pd.read_excel(xlsx,'经典利息')\n",
    "    df_cg = pd.read_excel(xlsx,'存管回款')\n",
    "    df_quan = pd.read_excel(xlsx,'券')"
   ]
  },
  {
   "cell_type": "code",
   "execution_count": 4,
   "metadata": {},
   "outputs": [
    {
     "name": "stdout",
     "output_type": "stream",
     "text": [
      "派券名单导入完成!\n",
      "\n"
     ]
    }
   ],
   "source": [
    "# - 导入已派券名单\n",
    "df_rcd = pd.read_excel(r'D:\\小鸡理财\\百度云同步盘\\小鸡理财\\每日数据\\派券\\已派券记录.xlsx')\n",
    "\n",
    "print('派券名单导入完成!\\n')"
   ]
  },
  {
   "cell_type": "code",
   "execution_count": 5,
   "metadata": {},
   "outputs": [],
   "source": [
    "# - 合并回款表\n",
    "df_hk = df_jd_bj.append([df_jd_lx,df_cg], ignore_index=True,sort=True)\n",
    "\n",
    "# - 整理回款表\n",
    "df_hk['发放时间'] = pd.to_datetime(df_hk['预计本次发放时间'])\n",
    "del df_hk['预计本次发放时间']"
   ]
  },
  {
   "cell_type": "code",
   "execution_count": 6,
   "metadata": {},
   "outputs": [
    {
     "name": "stdout",
     "output_type": "stream",
     "text": [
      "Today is  Friday\n",
      "---happy 周末 !---\n",
      "\n"
     ]
    }
   ],
   "source": [
    "dtnow = pd.to_datetime('today')\n",
    "day_of_week = dtnow.day_name()\n",
    "hour_of_day = int(dtnow.hour)\n",
    "print('Today is ',day_of_week)\n",
    "\n",
    "if day_of_week == 'Friday':\n",
    "\tprint('---happy 周末 !---\\n')\n",
    "\n",
    "\ttimediff = pd.Timedelta(1,unit='d')\n",
    "\tdt_ff_1 = dtnow + timediff\n",
    "\tdt_ff_1 = dt_ff_1.strftime('%Y.%m.%d')\n",
    "\n",
    "\ttimediff = pd.Timedelta(2,unit='d')\n",
    "\tdt_ff_2 = dtnow + timediff\n",
    "\tdt_ff_2 = dt_ff_2.strftime('%Y.%m.%d')\n",
    "\n",
    "\ttimediff = pd.Timedelta(3,unit='d')\n",
    "\tdt_ff_3 = dtnow + timediff\n",
    "\tdt_ff_3 = dt_ff_3.strftime('%Y.%m.%d')\n",
    "\n",
    "\tdf_hk_today = df_hk[(df_hk['发放时间'] == dt_ff_1) | (df_hk['发放时间'] == dt_ff_2) | (df_hk['发放时间'] == dt_ff_3)]\n",
    "\n",
    "\tdt_ff = str(dt_ff_1) + '-' + str(dt_ff_3)\n",
    "\n",
    "else:\n",
    "\tprint('---平时 is choosed!---\\n')\n",
    "\ttimediff = pd.Timedelta(1,unit='d')\n",
    "\tdt_ff = dtnow + timediff\n",
    "\tdt_ff = dt_ff.strftime('%Y.%m.%d')\n",
    "\tdf_hk_today = df_hk[(df_hk['发放时间'] == dt_ff)]"
   ]
  },
  {
   "cell_type": "code",
   "execution_count": 7,
   "metadata": {},
   "outputs": [],
   "source": [
    "#归类\n",
    "class_pai = dict({'6月标':'派券2',\n",
    "                  '12月标':'派券2',\n",
    "                  360:'派券2',\n",
    "                  180:'派券2',\n",
    "                  90:'派券1',\n",
    "                  30:'派券1'})\n",
    "\n",
    "df_hk_today = df_hk_today.copy()\n",
    "df_hk_today['分类'] = df_hk_today.loc[:,'投资期限'].map(class_pai)"
   ]
  },
  {
   "cell_type": "code",
   "execution_count": 8,
   "metadata": {},
   "outputs": [
    {
     "data": {
      "text/html": [
       "<div>\n",
       "<style scoped>\n",
       "    .dataframe tbody tr th:only-of-type {\n",
       "        vertical-align: middle;\n",
       "    }\n",
       "\n",
       "    .dataframe tbody tr th {\n",
       "        vertical-align: top;\n",
       "    }\n",
       "\n",
       "    .dataframe thead th {\n",
       "        text-align: right;\n",
       "    }\n",
       "</style>\n",
       "<table border=\"1\" class=\"dataframe\">\n",
       "  <thead>\n",
       "    <tr style=\"text-align: right;\">\n",
       "      <th></th>\n",
       "      <th>会员名</th>\n",
       "      <th>投资期限</th>\n",
       "      <th>本次发放金额</th>\n",
       "      <th>真实姓名</th>\n",
       "      <th>身份证</th>\n",
       "      <th>发放时间</th>\n",
       "      <th>分类</th>\n",
       "    </tr>\n",
       "  </thead>\n",
       "  <tbody>\n",
       "    <tr>\n",
       "      <th>2212</th>\n",
       "      <td>XJLC_68746245570419af</td>\n",
       "      <td>12月标</td>\n",
       "      <td>10000.0</td>\n",
       "      <td>陈瑶</td>\n",
       "      <td>330822199608312723</td>\n",
       "      <td>2018-12-03</td>\n",
       "      <td>派券2</td>\n",
       "    </tr>\n",
       "    <tr>\n",
       "      <th>2213</th>\n",
       "      <td>XJLC_90546510314263d</td>\n",
       "      <td>12月标</td>\n",
       "      <td>7000.0</td>\n",
       "      <td>汪瑾瑜</td>\n",
       "      <td>330901193609290323</td>\n",
       "      <td>2018-12-03</td>\n",
       "      <td>派券2</td>\n",
       "    </tr>\n",
       "    <tr>\n",
       "      <th>2214</th>\n",
       "      <td>XJLC_438701192580b87c</td>\n",
       "      <td>12月标</td>\n",
       "      <td>1000.0</td>\n",
       "      <td>徐超</td>\n",
       "      <td>362330199208115798</td>\n",
       "      <td>2018-12-03</td>\n",
       "      <td>派券2</td>\n",
       "    </tr>\n",
       "    <tr>\n",
       "      <th>2215</th>\n",
       "      <td>XJLC_9481114726245e02</td>\n",
       "      <td>12月标</td>\n",
       "      <td>1000.0</td>\n",
       "      <td>高元德</td>\n",
       "      <td>152201196609142551</td>\n",
       "      <td>2018-12-03</td>\n",
       "      <td>派券2</td>\n",
       "    </tr>\n",
       "    <tr>\n",
       "      <th>2216</th>\n",
       "      <td>XJLC_27137237453b4c6a</td>\n",
       "      <td>12月标</td>\n",
       "      <td>20000.0</td>\n",
       "      <td>项聪聪</td>\n",
       "      <td>330225199207268625</td>\n",
       "      <td>2018-12-03</td>\n",
       "      <td>派券2</td>\n",
       "    </tr>\n",
       "    <tr>\n",
       "      <th>2217</th>\n",
       "      <td>XJLC_27137237453b4c6a</td>\n",
       "      <td>12月标</td>\n",
       "      <td>10000.0</td>\n",
       "      <td>项聪聪</td>\n",
       "      <td>330225199207268625</td>\n",
       "      <td>2018-12-03</td>\n",
       "      <td>派券2</td>\n",
       "    </tr>\n",
       "    <tr>\n",
       "      <th>2218</th>\n",
       "      <td>XJLC_75069172431fd676</td>\n",
       "      <td>12月标</td>\n",
       "      <td>1000.0</td>\n",
       "      <td>张丹</td>\n",
       "      <td>222403198204194143</td>\n",
       "      <td>2018-12-03</td>\n",
       "      <td>派券2</td>\n",
       "    </tr>\n",
       "    <tr>\n",
       "      <th>2219</th>\n",
       "      <td>XJLC_179222453418cf3f</td>\n",
       "      <td>12月标</td>\n",
       "      <td>20000.0</td>\n",
       "      <td>赵文芹</td>\n",
       "      <td>342128196511072022</td>\n",
       "      <td>2018-12-03</td>\n",
       "      <td>派券2</td>\n",
       "    </tr>\n",
       "    <tr>\n",
       "      <th>2220</th>\n",
       "      <td>XJLC_813492313394c18f</td>\n",
       "      <td>12月标</td>\n",
       "      <td>10000.0</td>\n",
       "      <td>杨敬涛</td>\n",
       "      <td>152822198002090015</td>\n",
       "      <td>2018-12-03</td>\n",
       "      <td>派券2</td>\n",
       "    </tr>\n",
       "    <tr>\n",
       "      <th>2221</th>\n",
       "      <td>XJLC_813492313394c18f</td>\n",
       "      <td>12月标</td>\n",
       "      <td>40000.0</td>\n",
       "      <td>杨敬涛</td>\n",
       "      <td>152822198002090015</td>\n",
       "      <td>2018-12-03</td>\n",
       "      <td>派券2</td>\n",
       "    </tr>\n",
       "  </tbody>\n",
       "</table>\n",
       "</div>"
      ],
      "text/plain": [
       "                        会员名  投资期限   本次发放金额 真实姓名                 身份证  \\\n",
       "2212  XJLC_68746245570419af  12月标  10000.0   陈瑶  330822199608312723   \n",
       "2213   XJLC_90546510314263d  12月标   7000.0  汪瑾瑜  330901193609290323   \n",
       "2214  XJLC_438701192580b87c  12月标   1000.0   徐超  362330199208115798   \n",
       "2215  XJLC_9481114726245e02  12月标   1000.0  高元德  152201196609142551   \n",
       "2216  XJLC_27137237453b4c6a  12月标  20000.0  项聪聪  330225199207268625   \n",
       "2217  XJLC_27137237453b4c6a  12月标  10000.0  项聪聪  330225199207268625   \n",
       "2218  XJLC_75069172431fd676  12月标   1000.0   张丹  222403198204194143   \n",
       "2219  XJLC_179222453418cf3f  12月标  20000.0  赵文芹  342128196511072022   \n",
       "2220  XJLC_813492313394c18f  12月标  10000.0  杨敬涛  152822198002090015   \n",
       "2221  XJLC_813492313394c18f  12月标  40000.0  杨敬涛  152822198002090015   \n",
       "\n",
       "           发放时间   分类  \n",
       "2212 2018-12-03  派券2  \n",
       "2213 2018-12-03  派券2  \n",
       "2214 2018-12-03  派券2  \n",
       "2215 2018-12-03  派券2  \n",
       "2216 2018-12-03  派券2  \n",
       "2217 2018-12-03  派券2  \n",
       "2218 2018-12-03  派券2  \n",
       "2219 2018-12-03  派券2  \n",
       "2220 2018-12-03  派券2  \n",
       "2221 2018-12-03  派券2  "
      ]
     },
     "execution_count": 8,
     "metadata": {},
     "output_type": "execute_result"
    }
   ],
   "source": [
    "df_hk_today.head(10)"
   ]
  },
  {
   "cell_type": "code",
   "execution_count": 11,
   "metadata": {},
   "outputs": [],
   "source": [
    "hk_pp = df_hk_today['会员名'].nunique()"
   ]
  },
  {
   "cell_type": "code",
   "execution_count": 25,
   "metadata": {},
   "outputs": [],
   "source": [
    "hk_money = round(df_hk_today['本次发放金额'].sum() / 10000)"
   ]
  },
  {
   "cell_type": "code",
   "execution_count": 26,
   "metadata": {},
   "outputs": [
    {
     "data": {
      "text/plain": [
       "620.0"
      ]
     },
     "execution_count": 26,
     "metadata": {},
     "output_type": "execute_result"
    }
   ],
   "source": [
    "hk_money"
   ]
  },
  {
   "cell_type": "code",
   "execution_count": 30,
   "metadata": {},
   "outputs": [
    {
     "name": "stdout",
     "output_type": "stream",
     "text": [
      "2018.12.01-2018.12.03 回款信息:共回款 1409 人，合计回款金额 620 万元\n"
     ]
    }
   ],
   "source": [
    "print('{} 回款信息:共回款 {:.0f} 人，合计回款金额 {:.0f} 万元'.format(dt_ff,hk_pp,hk_money))"
   ]
  },
  {
   "cell_type": "code",
   "execution_count": 31,
   "metadata": {},
   "outputs": [],
   "source": [
    "# - 合并计算，排除当日回款金额小于500元\n",
    "#排除总金额<500\n",
    "gp_hk = df_hk_today.groupby('会员名',as_index=False)['本次发放金额'].sum()\n",
    "l500 = gp_hk[gp_hk['本次发放金额'] >= 500]['会员名']\n",
    "# l500\n",
    "df_hk_today_res_1 = df_hk_today[df_hk_today['会员名'].isin(l500)]"
   ]
  },
  {
   "cell_type": "code",
   "execution_count": 64,
   "metadata": {},
   "outputs": [],
   "source": [
    "pp_500_num = len(gp_hk[gp_hk['本次发放金额'] < 500]['会员名'])"
   ]
  },
  {
   "cell_type": "code",
   "execution_count": 45,
   "metadata": {},
   "outputs": [
    {
     "data": {
      "text/plain": [
       "619"
      ]
     },
     "execution_count": 45,
     "metadata": {},
     "output_type": "execute_result"
    }
   ],
   "source": [
    "pp_500"
   ]
  },
  {
   "cell_type": "code",
   "execution_count": 42,
   "metadata": {},
   "outputs": [],
   "source": [
    "# - 排除有3张券以上的人\n",
    "df_quan['mark'] = 1\n",
    "gp_quan = df_quan.groupby('会员名',as_index=False)['mark'].sum()\n",
    "q3 = gp_quan[gp_quan['mark'] >= 3]['会员名']\n",
    "df_hk_today_res_2 = df_hk_today_res_1[~df_hk_today_res_1['会员名'].isin(q3)]"
   ]
  },
  {
   "cell_type": "code",
   "execution_count": 46,
   "metadata": {},
   "outputs": [],
   "source": [
    "df_q3 = df_hk_today[df_hk_today['会员名'].isin(q3)]"
   ]
  },
  {
   "cell_type": "code",
   "execution_count": 48,
   "metadata": {},
   "outputs": [
    {
     "data": {
      "text/html": [
       "<div>\n",
       "<style scoped>\n",
       "    .dataframe tbody tr th:only-of-type {\n",
       "        vertical-align: middle;\n",
       "    }\n",
       "\n",
       "    .dataframe tbody tr th {\n",
       "        vertical-align: top;\n",
       "    }\n",
       "\n",
       "    .dataframe thead th {\n",
       "        text-align: right;\n",
       "    }\n",
       "</style>\n",
       "<table border=\"1\" class=\"dataframe\">\n",
       "  <thead>\n",
       "    <tr style=\"text-align: right;\">\n",
       "      <th></th>\n",
       "      <th>会员名</th>\n",
       "      <th>投资期限</th>\n",
       "      <th>本次发放金额</th>\n",
       "      <th>真实姓名</th>\n",
       "      <th>身份证</th>\n",
       "      <th>发放时间</th>\n",
       "      <th>分类</th>\n",
       "    </tr>\n",
       "  </thead>\n",
       "  <tbody>\n",
       "    <tr>\n",
       "      <th>2213</th>\n",
       "      <td>XJLC_90546510314263d</td>\n",
       "      <td>12月标</td>\n",
       "      <td>7000.0</td>\n",
       "      <td>汪瑾瑜</td>\n",
       "      <td>330901193609290323</td>\n",
       "      <td>2018-12-03</td>\n",
       "      <td>派券2</td>\n",
       "    </tr>\n",
       "    <tr>\n",
       "      <th>2218</th>\n",
       "      <td>XJLC_75069172431fd676</td>\n",
       "      <td>12月标</td>\n",
       "      <td>1000.0</td>\n",
       "      <td>张丹</td>\n",
       "      <td>222403198204194143</td>\n",
       "      <td>2018-12-03</td>\n",
       "      <td>派券2</td>\n",
       "    </tr>\n",
       "    <tr>\n",
       "      <th>2220</th>\n",
       "      <td>XJLC_813492313394c18f</td>\n",
       "      <td>12月标</td>\n",
       "      <td>10000.0</td>\n",
       "      <td>杨敬涛</td>\n",
       "      <td>152822198002090015</td>\n",
       "      <td>2018-12-03</td>\n",
       "      <td>派券2</td>\n",
       "    </tr>\n",
       "    <tr>\n",
       "      <th>2221</th>\n",
       "      <td>XJLC_813492313394c18f</td>\n",
       "      <td>12月标</td>\n",
       "      <td>40000.0</td>\n",
       "      <td>杨敬涛</td>\n",
       "      <td>152822198002090015</td>\n",
       "      <td>2018-12-03</td>\n",
       "      <td>派券2</td>\n",
       "    </tr>\n",
       "    <tr>\n",
       "      <th>2222</th>\n",
       "      <td>XJLC_261422309449bd79</td>\n",
       "      <td>12月标</td>\n",
       "      <td>12000.0</td>\n",
       "      <td>毛郑娜</td>\n",
       "      <td>330283198809043721</td>\n",
       "      <td>2018-12-03</td>\n",
       "      <td>派券2</td>\n",
       "    </tr>\n",
       "  </tbody>\n",
       "</table>\n",
       "</div>"
      ],
      "text/plain": [
       "                        会员名  投资期限   本次发放金额 真实姓名                 身份证  \\\n",
       "2213   XJLC_90546510314263d  12月标   7000.0  汪瑾瑜  330901193609290323   \n",
       "2218  XJLC_75069172431fd676  12月标   1000.0   张丹  222403198204194143   \n",
       "2220  XJLC_813492313394c18f  12月标  10000.0  杨敬涛  152822198002090015   \n",
       "2221  XJLC_813492313394c18f  12月标  40000.0  杨敬涛  152822198002090015   \n",
       "2222  XJLC_261422309449bd79  12月标  12000.0  毛郑娜  330283198809043721   \n",
       "\n",
       "           发放时间   分类  \n",
       "2213 2018-12-03  派券2  \n",
       "2218 2018-12-03  派券2  \n",
       "2220 2018-12-03  派券2  \n",
       "2221 2018-12-03  派券2  \n",
       "2222 2018-12-03  派券2  "
      ]
     },
     "execution_count": 48,
     "metadata": {},
     "output_type": "execute_result"
    }
   ],
   "source": [
    "df_q3.head()"
   ]
  },
  {
   "cell_type": "code",
   "execution_count": 58,
   "metadata": {},
   "outputs": [],
   "source": [
    "df_q3_num = df_q3['会员名'].nunique()"
   ]
  },
  {
   "cell_type": "code",
   "execution_count": 52,
   "metadata": {},
   "outputs": [],
   "source": [
    "# - 排除已经派了4次的人\n",
    "df_rcd['mark'] = 1\n",
    "gp_rcd = df_rcd.groupby('会员名',as_index=False)['mark'].sum()\n",
    "p4 = gp_rcd[gp_rcd['mark'] >= 4]\n",
    "df_hk_today_res_3 = df_hk_today_res_2[~df_hk_today_res_2['会员名'].isin(p4['会员名'])]"
   ]
  },
  {
   "cell_type": "code",
   "execution_count": 53,
   "metadata": {},
   "outputs": [],
   "source": [
    "df_p4 = df_hk_today[df_hk_today['会员名'].isin(p4['会员名'])]"
   ]
  },
  {
   "cell_type": "code",
   "execution_count": 59,
   "metadata": {},
   "outputs": [],
   "source": [
    "df_p4_num = df_p4['会员名'].nunique()"
   ]
  },
  {
   "cell_type": "code",
   "execution_count": 55,
   "metadata": {},
   "outputs": [
    {
     "name": "stdout",
     "output_type": "stream",
     "text": [
      "class_ok!\n",
      "\n"
     ]
    }
   ],
   "source": [
    "# - 确定要派哪类券\n",
    "gp_class = df_hk_today_res_3.groupby(['会员名','真实姓名','分类'])['本次发放金额'].sum().unstack()\n",
    "gp_class.fillna(0,inplace=True)\n",
    "\n",
    "if len(gp_class.columns) == 1:\n",
    "\tgp_class['派券分类'] = gp_class.columns[0]\n",
    "else:\n",
    "\tgp_class['派券分类'] = np.where(gp_class['派券2'] == 0,'派券1','派券2')\n",
    "\n",
    "print('class_ok!\\n')\n",
    "\n",
    "# class_time = time.time()\n",
    "# print('class_time:{} s\\n'.format(class_time-filter_time))\n",
    "\n",
    "# - 查找用户名等信息\n",
    "res_temp = gp_class.copy()\n",
    "res_temp = res_temp.reset_index()\n",
    "res = res_temp.loc[:,['会员名','真实姓名','派券分类']]\n"
   ]
  },
  {
   "cell_type": "code",
   "execution_count": 56,
   "metadata": {},
   "outputs": [],
   "source": [
    "p_num = res['会员名'].nunique()"
   ]
  },
  {
   "cell_type": "code",
   "execution_count": 60,
   "metadata": {},
   "outputs": [
    {
     "name": "stdout",
     "output_type": "stream",
     "text": [
      "其中回款金额小于500元 619 人，拥有3张券以上的 579 人，已经发放4次券包的 0 人。\n",
      "2018.12.01-2018.12.03 派券 418 人！\n"
     ]
    }
   ],
   "source": [
    "print('其中回款金额小于500元 {} 人，拥有3张券以上的 {} 人，已经发放4次券包的 {} 人。\\n{} 派券 {} 人！'.format(\n",
    "        pp_500,df_q3_num,df_p4_num,dt_ff,p_num))"
   ]
  },
  {
   "cell_type": "code",
   "execution_count": 65,
   "metadata": {},
   "outputs": [
    {
     "name": "stdout",
     "output_type": "stream",
     "text": [
      "\n",
      "TO 财务部：\n",
      "\n",
      "附件是 2018.12.01-2018.12.03 新规则派券名单\n",
      "\t\n",
      "2018.12.01-2018.12.03 回款信息:共回款 1409 人，合计回款金额 620 万元。\n",
      "其中回款金额小于500元 619 人，拥有3张券以上的 579 人，已经发放4次券包的 0 人。\n",
      "\n",
      "2018.12.01-2018.12.03 派券 418 人！\n"
     ]
    }
   ],
   "source": [
    "print('''\n",
    "TO 财务部：\n",
    "\n",
    "附件是 {} 新规则派券名单\n",
    "\t'''.format(dt_ff))\n",
    "print('{} 回款信息:共回款 {:.0f} 人，合计回款金额 {:.0f} 万元。'.format(dt_ff,hk_pp,hk_money))\n",
    "print('其中回款金额小于500元 {} 人，拥有3张券以上的 {} 人，已经发放4次券包的 {} 人。\\n\\n{} 派券 {} 人！'.format(\n",
    "        pp_500_num,df_q3_num,df_p4_num,dt_ff,p_num))"
   ]
  },
  {
   "cell_type": "code",
   "execution_count": null,
   "metadata": {},
   "outputs": [],
   "source": [
    "%timeit df = pd.read_csv(r\"D:\\VDownload\\NYC Yellow Taxi data\\fhv_tripdata_2018-03.csv\")"
   ]
  },
  {
   "cell_type": "code",
   "execution_count": null,
   "metadata": {},
   "outputs": [],
   "source": [
    "df.shape"
   ]
  },
  {
   "cell_type": "code",
   "execution_count": null,
   "metadata": {},
   "outputs": [],
   "source": [
    "df.head()"
   ]
  },
  {
   "cell_type": "code",
   "execution_count": null,
   "metadata": {},
   "outputs": [],
   "source": [
    "with pd.ExcelFile(r'C:\\Users\\Xiaoji\\Desktop\\渠道表.xlsx') as xlsx:\n",
    "    df_tz = pd.read_excel(xlsx,'投资')\n",
    "    df_zc = pd.read_excel(xlsx,'注册')\n",
    "#     df_yj = pd.read_excel(xlsx,'佣金')\n",
    "#     df_vip = pd.read_excel(xlsx,'VIP变动')\n",
    "#     df_quan = pd.read_excel(xlsx,'券')\n",
    "#     df_zht = pd.read_excel(xlsx,'智慧投')"
   ]
  },
  {
   "cell_type": "code",
   "execution_count": null,
   "metadata": {},
   "outputs": [],
   "source": [
    "df = pd.merge(df_tz,df_zc,\n",
    "             on='手机号',\n",
    "             how='left')"
   ]
  },
  {
   "cell_type": "code",
   "execution_count": null,
   "metadata": {},
   "outputs": [],
   "source": [
    "df.to_excel('1030.xlsx')"
   ]
  },
  {
   "cell_type": "code",
   "execution_count": null,
   "metadata": {},
   "outputs": [],
   "source": [
    "df = pd.read_csv(r'D:\\VDownload\\NYC Yellow Taxi data\\green_tripdata_2013-08_2.csv',\n",
    "                     sep=r'(?:,|\\t|\\r|\\f|\\v)',\n",
    "                    engine='python')"
   ]
  },
  {
   "cell_type": "code",
   "execution_count": null,
   "metadata": {},
   "outputs": [],
   "source": [
    "df.head()"
   ]
  },
  {
   "cell_type": "code",
   "execution_count": null,
   "metadata": {},
   "outputs": [],
   "source": [
    "reader = pd.read_csv(r'D:\\VDownload\\NYC Yellow Taxi data\\green_tripdata_2013-08_2.csv',\n",
    "                     sep=',',nrows=0)\n",
    "#                      chunksize=10)"
   ]
  },
  {
   "cell_type": "code",
   "execution_count": null,
   "metadata": {},
   "outputs": [],
   "source": [
    "reader.info()"
   ]
  },
  {
   "cell_type": "code",
   "execution_count": null,
   "metadata": {},
   "outputs": [],
   "source": [
    "reader = pd.read_csv(r'D:\\VDownload\\NYC Yellow Taxi data\\yellow_tripdata_2012-03.csv',\n",
    "                     sep=',',\n",
    "                     nrows=0)"
   ]
  },
  {
   "cell_type": "code",
   "execution_count": null,
   "metadata": {},
   "outputs": [],
   "source": [
    "reader.info()"
   ]
  },
  {
   "cell_type": "code",
   "execution_count": null,
   "metadata": {},
   "outputs": [],
   "source": [
    "reader.info()"
   ]
  },
  {
   "cell_type": "code",
   "execution_count": null,
   "metadata": {},
   "outputs": [],
   "source": [
    "reader"
   ]
  },
  {
   "cell_type": "code",
   "execution_count": null,
   "metadata": {},
   "outputs": [],
   "source": [
    "for chunk in reader:\n",
    "    print(chunk.shape[0])\n",
    "#     print(chunk.head())\n",
    "    print('='*50)"
   ]
  },
  {
   "cell_type": "code",
   "execution_count": null,
   "metadata": {},
   "outputs": [],
   "source": [
    "n = 1"
   ]
  },
  {
   "cell_type": "code",
   "execution_count": null,
   "metadata": {},
   "outputs": [],
   "source": [
    "while n:\n",
    "    "
   ]
  },
  {
   "cell_type": "code",
   "execution_count": null,
   "metadata": {},
   "outputs": [],
   "source": [
    "l = [1,2,3]"
   ]
  },
  {
   "cell_type": "code",
   "execution_count": null,
   "metadata": {},
   "outputs": [],
   "source": [
    "print(reader.next())"
   ]
  },
  {
   "cell_type": "code",
   "execution_count": null,
   "metadata": {},
   "outputs": [],
   "source": [
    "import re"
   ]
  },
  {
   "cell_type": "code",
   "execution_count": null,
   "metadata": {},
   "outputs": [],
   "source": [
    "m = re.match(r'a([bcd]*)e','abce')"
   ]
  },
  {
   "cell_type": "code",
   "execution_count": null,
   "metadata": {},
   "outputs": [],
   "source": [
    "m.string"
   ]
  },
  {
   "cell_type": "code",
   "execution_count": null,
   "metadata": {},
   "outputs": [],
   "source": [
    "sep=r'(?:,|\\s+)'"
   ]
  }
 ],
 "metadata": {
  "kernelspec": {
   "display_name": "Python 3",
   "language": "python",
   "name": "python3"
  },
  "language_info": {
   "codemirror_mode": {
    "name": "ipython",
    "version": 3
   },
   "file_extension": ".py",
   "mimetype": "text/x-python",
   "name": "python",
   "nbconvert_exporter": "python",
   "pygments_lexer": "ipython3",
   "version": "3.6.5"
  }
 },
 "nbformat": 4,
 "nbformat_minor": 2
}
