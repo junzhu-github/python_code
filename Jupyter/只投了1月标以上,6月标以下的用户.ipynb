{
 "cells": [
  {
   "cell_type": "markdown",
   "metadata": {},
   "source": [
    "导入库"
   ]
  },
  {
   "cell_type": "code",
   "execution_count": 1,
   "metadata": {
    "collapsed": true
   },
   "outputs": [],
   "source": [
    "import os\n",
    "import numpy as np\n",
    "import pandas as pd\n",
    "import matplotlib.pyplot as plt\n",
    "%matplotlib inline"
   ]
  },
  {
   "cell_type": "markdown",
   "metadata": {},
   "source": [
    "修改工作目录"
   ]
  },
  {
   "cell_type": "code",
   "execution_count": 2,
   "metadata": {
    "collapsed": true
   },
   "outputs": [],
   "source": [
    "os.chdir(r'D:\\小鸡理财\\OneDrive\\python')"
   ]
  },
  {
   "cell_type": "markdown",
   "metadata": {},
   "source": [
    "导入excel"
   ]
  },
  {
   "cell_type": "code",
   "execution_count": 3,
   "metadata": {
    "collapsed": true
   },
   "outputs": [],
   "source": [
    "with pd.ExcelFile(r'D:\\小鸡理财\\OneDrive\\python\\01.xlsx') as xlsx:\n",
    "    df_touzi = pd.read_excel(xlsx,'投资')\n",
    "    df_daishou = pd.read_excel(xlsx,'待收')\n",
    "    df_quanbao = pd.read_excel(xlsx,'券包')\n",
    "    df_kaitong = pd.read_excel(xlsx,'开通')\n",
    "    df_time = pd.read_excel(xlsx,'时间')"
   ]
  },
  {
   "cell_type": "code",
   "execution_count": 4,
   "metadata": {},
   "outputs": [
    {
     "name": "stdout",
     "output_type": "stream",
     "text": [
      "<class 'pandas.core.frame.DataFrame'>\n",
      "RangeIndex: 239292 entries, 0 to 239291\n",
      "Data columns (total 4 columns):\n",
      "手机号码    239292 non-null int64\n",
      "注册时间    239292 non-null object\n",
      "总投资额    239292 non-null float64\n",
      "期限      239292 non-null object\n",
      "dtypes: float64(1), int64(1), object(2)\n",
      "memory usage: 7.3+ MB\n"
     ]
    }
   ],
   "source": [
    "df_touzi.info()"
   ]
  },
  {
   "cell_type": "markdown",
   "metadata": {},
   "source": [
    "查看touzi表的所有期限"
   ]
  },
  {
   "cell_type": "code",
   "execution_count": 5,
   "metadata": {},
   "outputs": [
    {
     "data": {
      "text/plain": [
       "array(['1月', '2月', '4月', '3月', '6月', '8月', '9月', '7天', '10天', '15天', '5天',\n",
       "       '12月', '5月'], dtype=object)"
      ]
     },
     "execution_count": 5,
     "metadata": {},
     "output_type": "execute_result"
    }
   ],
   "source": [
    "df_touzi['期限'].unique()"
   ]
  },
  {
   "cell_type": "markdown",
   "metadata": {},
   "source": [
    "找到投资过6月以上的用户名单，放入了l1"
   ]
  },
  {
   "cell_type": "code",
   "execution_count": 6,
   "metadata": {
    "collapsed": true
   },
   "outputs": [],
   "source": [
    "temp1 = df_touzi[df_touzi['期限'].isin([ '6月', '8月', '9月','12月'])]"
   ]
  },
  {
   "cell_type": "code",
   "execution_count": 7,
   "metadata": {},
   "outputs": [
    {
     "data": {
      "text/plain": [
       "(5697,)"
      ]
     },
     "execution_count": 7,
     "metadata": {},
     "output_type": "execute_result"
    }
   ],
   "source": [
    "l1 = temp1['手机号码'].unique()\n",
    "\n",
    "l1.shape"
   ]
  },
  {
   "cell_type": "markdown",
   "metadata": {},
   "source": [
    "提取至少投资过1月标的用户名单，放入l2"
   ]
  },
  {
   "cell_type": "code",
   "execution_count": 8,
   "metadata": {
    "collapsed": true
   },
   "outputs": [],
   "source": [
    "temp2 = df_touzi[df_touzi['期限'].isin(['1月', '2月', '4月', '3月', '6月', '8月', '9月','12月', '5月'])]"
   ]
  },
  {
   "cell_type": "code",
   "execution_count": 9,
   "metadata": {},
   "outputs": [
    {
     "data": {
      "text/plain": [
       "(19094,)"
      ]
     },
     "execution_count": 9,
     "metadata": {},
     "output_type": "execute_result"
    }
   ],
   "source": [
    "l2 = temp2['手机号码'].unique()\n",
    "\n",
    "l2.shape"
   ]
  },
  {
   "cell_type": "markdown",
   "metadata": {},
   "source": [
    "提取至少投资过1月标，但没有投资6月标以上的用户"
   ]
  },
  {
   "cell_type": "code",
   "execution_count": 10,
   "metadata": {
    "collapsed": true
   },
   "outputs": [],
   "source": [
    "res = df_touzi[(df_touzi['手机号码'].isin(l2)) & (~df_touzi['手机号码'].isin(l1))]"
   ]
  },
  {
   "cell_type": "code",
   "execution_count": 11,
   "metadata": {},
   "outputs": [
    {
     "data": {
      "text/html": [
       "<div>\n",
       "<style>\n",
       "    .dataframe thead tr:only-child th {\n",
       "        text-align: right;\n",
       "    }\n",
       "\n",
       "    .dataframe thead th {\n",
       "        text-align: left;\n",
       "    }\n",
       "\n",
       "    .dataframe tbody tr th {\n",
       "        vertical-align: top;\n",
       "    }\n",
       "</style>\n",
       "<table border=\"1\" class=\"dataframe\">\n",
       "  <thead>\n",
       "    <tr style=\"text-align: right;\">\n",
       "      <th></th>\n",
       "      <th>手机号码</th>\n",
       "      <th>注册时间</th>\n",
       "      <th>总投资额</th>\n",
       "      <th>期限</th>\n",
       "    </tr>\n",
       "  </thead>\n",
       "  <tbody>\n",
       "    <tr>\n",
       "      <th>1</th>\n",
       "      <td>13544947276</td>\n",
       "      <td>2014-11-17 15:00:08</td>\n",
       "      <td>14468.0</td>\n",
       "      <td>1月</td>\n",
       "    </tr>\n",
       "    <tr>\n",
       "      <th>2</th>\n",
       "      <td>13570729082</td>\n",
       "      <td>2014-12-28 18:31:22</td>\n",
       "      <td>100.0</td>\n",
       "      <td>1月</td>\n",
       "    </tr>\n",
       "    <tr>\n",
       "      <th>3</th>\n",
       "      <td>13537753062</td>\n",
       "      <td>2014-11-27 09:52:10</td>\n",
       "      <td>2294.0</td>\n",
       "      <td>1月</td>\n",
       "    </tr>\n",
       "    <tr>\n",
       "      <th>7</th>\n",
       "      <td>13858243908</td>\n",
       "      <td>2014-09-12 15:49:13</td>\n",
       "      <td>3000.0</td>\n",
       "      <td>1月</td>\n",
       "    </tr>\n",
       "    <tr>\n",
       "      <th>10</th>\n",
       "      <td>18905276097</td>\n",
       "      <td>2014-12-27 21:17:15</td>\n",
       "      <td>200.0</td>\n",
       "      <td>1月</td>\n",
       "    </tr>\n",
       "  </tbody>\n",
       "</table>\n",
       "</div>"
      ],
      "text/plain": [
       "           手机号码                 注册时间     总投资额  期限\n",
       "1   13544947276  2014-11-17 15:00:08  14468.0  1月\n",
       "2   13570729082  2014-12-28 18:31:22    100.0  1月\n",
       "3   13537753062  2014-11-27 09:52:10   2294.0  1月\n",
       "7   13858243908  2014-09-12 15:49:13   3000.0  1月\n",
       "10  18905276097  2014-12-27 21:17:15    200.0  1月"
      ]
     },
     "execution_count": 11,
     "metadata": {},
     "output_type": "execute_result"
    }
   ],
   "source": [
    "res.head()"
   ]
  },
  {
   "cell_type": "markdown",
   "metadata": {},
   "source": [
    "汇总投资额和投资次数"
   ]
  },
  {
   "cell_type": "code",
   "execution_count": 18,
   "metadata": {
    "collapsed": true
   },
   "outputs": [],
   "source": [
    "gp1 = res.groupby(['手机号码'],as_index=False).agg({'总投资额':np.sum,'期限':np.size})"
   ]
  },
  {
   "cell_type": "code",
   "execution_count": 19,
   "metadata": {},
   "outputs": [
    {
     "name": "stdout",
     "output_type": "stream",
     "text": [
      "<class 'pandas.core.frame.DataFrame'>\n",
      "Int64Index: 13397 entries, 0 to 13396\n",
      "Data columns (total 3 columns):\n",
      "手机号码    13397 non-null int64\n",
      "总投资额    13397 non-null float64\n",
      "期限      13397 non-null int64\n",
      "dtypes: float64(1), int64(2)\n",
      "memory usage: 418.7 KB\n"
     ]
    }
   ],
   "source": [
    "gp1.head()\n",
    "\n",
    "gp1.info()"
   ]
  },
  {
   "cell_type": "markdown",
   "metadata": {},
   "source": [
    "合并其他表格"
   ]
  },
  {
   "cell_type": "code",
   "execution_count": 20,
   "metadata": {
    "scrolled": true
   },
   "outputs": [
    {
     "data": {
      "text/plain": [
       "13857878610    1\n",
       "15306619866    1\n",
       "18282797982    1\n",
       "13884417082    1\n",
       "15845366678    1\n",
       "13978833815    1\n",
       "13637618580    1\n",
       "15913890707    1\n",
       "18506562450    1\n",
       "13155419021    1\n",
       "13967549321    1\n",
       "15867812742    1\n",
       "15633951598    1\n",
       "18995618689    1\n",
       "18072327039    1\n",
       "13797180285    1\n",
       "15275718116    1\n",
       "15990711161    1\n",
       "13622827886    1\n",
       "13958206319    1\n",
       "13842991980    1\n",
       "13355991917    1\n",
       "15218178922    1\n",
       "18086167397    1\n",
       "18749442130    1\n",
       "18258776991    1\n",
       "13852359586    1\n",
       "13252428709    1\n",
       "15250141503    1\n",
       "15172193231    1\n",
       "              ..\n",
       "18262539677    1\n",
       "13794356639    1\n",
       "18981399967    1\n",
       "13923020231    1\n",
       "18667804461    1\n",
       "18937927168    1\n",
       "13310689213    1\n",
       "18565653688    1\n",
       "15204974621    1\n",
       "15505867821    1\n",
       "15816705522    1\n",
       "13807439347    1\n",
       "13071078896    1\n",
       "18290523629    1\n",
       "15703320168    1\n",
       "13951645164    1\n",
       "13459111405    1\n",
       "18033802725    1\n",
       "15252032213    1\n",
       "15088743908    1\n",
       "15058837668    1\n",
       "13221882218    1\n",
       "13144401374    1\n",
       "18002032092    1\n",
       "15977788892    1\n",
       "13690408411    1\n",
       "15724090840    1\n",
       "13087677913    1\n",
       "15605348071    1\n",
       "18660071427    1\n",
       "Name: 手机号码, Length: 13397, dtype: int64"
      ]
     },
     "execution_count": 20,
     "metadata": {},
     "output_type": "execute_result"
    }
   ],
   "source": [
    "gp1['手机号码'].value_counts()"
   ]
  },
  {
   "cell_type": "code",
   "execution_count": 21,
   "metadata": {
    "collapsed": true
   },
   "outputs": [],
   "source": [
    "gp = gp1.merge(df_daishou,on='手机号码',how = 'left')\n",
    "gp = gp.merge(df_quanbao,on='手机号码',how = 'left')\n",
    "gp = gp.merge(df_kaitong,on='手机号码',how = 'left')\n",
    "gp = gp.merge(df_time,on='手机号码',how = 'left')"
   ]
  },
  {
   "cell_type": "code",
   "execution_count": 22,
   "metadata": {},
   "outputs": [
    {
     "name": "stdout",
     "output_type": "stream",
     "text": [
      "<class 'pandas.core.frame.DataFrame'>\n",
      "Int64Index: 13397 entries, 0 to 13396\n",
      "Data columns (total 8 columns):\n",
      "手机号码        13397 non-null object\n",
      "总投资额        13397 non-null float64\n",
      "期限          13397 non-null int64\n",
      "待收金额        399 non-null float64\n",
      "券别名         574 non-null object\n",
      "用户名         13375 non-null object\n",
      "真实姓名        13372 non-null object\n",
      "最后一次投资时间    13397 non-null object\n",
      "dtypes: float64(2), int64(1), object(5)\n",
      "memory usage: 942.0+ KB\n"
     ]
    },
    {
     "data": {
      "text/html": [
       "<div>\n",
       "<style>\n",
       "    .dataframe thead tr:only-child th {\n",
       "        text-align: right;\n",
       "    }\n",
       "\n",
       "    .dataframe thead th {\n",
       "        text-align: left;\n",
       "    }\n",
       "\n",
       "    .dataframe tbody tr th {\n",
       "        vertical-align: top;\n",
       "    }\n",
       "</style>\n",
       "<table border=\"1\" class=\"dataframe\">\n",
       "  <thead>\n",
       "    <tr style=\"text-align: right;\">\n",
       "      <th></th>\n",
       "      <th>手机号码</th>\n",
       "      <th>总投资额</th>\n",
       "      <th>期限</th>\n",
       "      <th>待收金额</th>\n",
       "      <th>券别名</th>\n",
       "      <th>用户名</th>\n",
       "      <th>真实姓名</th>\n",
       "      <th>最后一次投资时间</th>\n",
       "    </tr>\n",
       "  </thead>\n",
       "  <tbody>\n",
       "    <tr>\n",
       "      <th>0</th>\n",
       "      <td>12175907535</td>\n",
       "      <td>5000.0</td>\n",
       "      <td>1</td>\n",
       "      <td>NaN</td>\n",
       "      <td>NaN</td>\n",
       "      <td>NaN</td>\n",
       "      <td>NaN</td>\n",
       "      <td>2015-08-13 10:43:11</td>\n",
       "    </tr>\n",
       "    <tr>\n",
       "      <th>1</th>\n",
       "      <td>13001102030</td>\n",
       "      <td>100.0</td>\n",
       "      <td>1</td>\n",
       "      <td>NaN</td>\n",
       "      <td>NaN</td>\n",
       "      <td>XJLC_314282310887d8ab</td>\n",
       "      <td>于佳琪</td>\n",
       "      <td>2018-02-01 14:23:55</td>\n",
       "    </tr>\n",
       "    <tr>\n",
       "      <th>2</th>\n",
       "      <td>13001204258</td>\n",
       "      <td>10100.0</td>\n",
       "      <td>1</td>\n",
       "      <td>NaN</td>\n",
       "      <td>NaN</td>\n",
       "      <td>XJLC_329742499706c8e6</td>\n",
       "      <td>苏巧</td>\n",
       "      <td>2017-12-11 16:51:00</td>\n",
       "    </tr>\n",
       "    <tr>\n",
       "      <th>3</th>\n",
       "      <td>13001429941</td>\n",
       "      <td>147452.0</td>\n",
       "      <td>10</td>\n",
       "      <td>NaN</td>\n",
       "      <td>NaN</td>\n",
       "      <td>XJLC_98371108534b99cf</td>\n",
       "      <td>庞桂敏</td>\n",
       "      <td>2016-11-29 16:41:39</td>\n",
       "    </tr>\n",
       "    <tr>\n",
       "      <th>4</th>\n",
       "      <td>13001728856</td>\n",
       "      <td>28500.0</td>\n",
       "      <td>5</td>\n",
       "      <td>NaN</td>\n",
       "      <td>NaN</td>\n",
       "      <td>XJLC_977672308504bfd1</td>\n",
       "      <td>吕化军</td>\n",
       "      <td>2018-01-10 18:43:54</td>\n",
       "    </tr>\n",
       "  </tbody>\n",
       "</table>\n",
       "</div>"
      ],
      "text/plain": [
       "          手机号码      总投资额  期限  待收金额  券别名                    用户名 真实姓名  \\\n",
       "0  12175907535    5000.0   1   NaN  NaN                    NaN  NaN   \n",
       "1  13001102030     100.0   1   NaN  NaN  XJLC_314282310887d8ab  于佳琪   \n",
       "2  13001204258   10100.0   1   NaN  NaN  XJLC_329742499706c8e6   苏巧   \n",
       "3  13001429941  147452.0  10   NaN  NaN  XJLC_98371108534b99cf  庞桂敏   \n",
       "4  13001728856   28500.0   5   NaN  NaN  XJLC_977672308504bfd1  吕化军   \n",
       "\n",
       "              最后一次投资时间  \n",
       "0  2015-08-13 10:43:11  \n",
       "1  2018-02-01 14:23:55  \n",
       "2  2017-12-11 16:51:00  \n",
       "3  2016-11-29 16:41:39  \n",
       "4  2018-01-10 18:43:54  "
      ]
     },
     "execution_count": 22,
     "metadata": {},
     "output_type": "execute_result"
    }
   ],
   "source": [
    "gp.info()\n",
    "\n",
    "gp.head()"
   ]
  },
  {
   "cell_type": "markdown",
   "metadata": {},
   "source": [
    "导出到csv"
   ]
  },
  {
   "cell_type": "code",
   "execution_count": 23,
   "metadata": {
    "collapsed": true
   },
   "outputs": [],
   "source": [
    "gp = gp.rename(columns={'总投资额':'累计投资额','期限':'累计投资次数'})\n",
    "gp['待收金额'].fillna(0,inplace=True)\n",
    "\n",
    "\n",
    "gp.to_csv('001.csv',index=False)"
   ]
  }
 ],
 "metadata": {
  "kernelspec": {
   "display_name": "Python 3",
   "language": "python",
   "name": "python3"
  },
  "language_info": {
   "codemirror_mode": {
    "name": "ipython",
    "version": 3
   },
   "file_extension": ".py",
   "mimetype": "text/x-python",
   "name": "python",
   "nbconvert_exporter": "python",
   "pygments_lexer": "ipython3",
   "version": "3.6.2"
  }
 },
 "nbformat": 4,
 "nbformat_minor": 2
}
