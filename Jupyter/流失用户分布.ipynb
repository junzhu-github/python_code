{
 "cells": [
  {
   "cell_type": "code",
   "execution_count": 1,
   "metadata": {},
   "outputs": [],
   "source": [
    "import os\n",
    "import pandas as pd\n",
    "import numpy as np\n",
    "import matplotlib.pyplot as plt\n",
    "%matplotlib inline"
   ]
  },
  {
   "cell_type": "code",
   "execution_count": 2,
   "metadata": {},
   "outputs": [],
   "source": [
    "with pd.ExcelFile(r\"D:\\小鸡理财\\百度云同步盘\\小鸡理财\\数据报告\\用户类报告\\流失用户分析\\流失用户分布.xlsx\") as xlsx:\n",
    "    df_jd_ds = pd.read_excel(xlsx,'经典待收变化')\n",
    "    df_cg_ds = pd.read_excel(xlsx,'存管待收变化')\n",
    "#     df_vip = pd.read_excel(xlsx,'VIP变动')\n",
    "    df_tz = pd.read_excel(xlsx,'投资')\n",
    "#     df_members = pd.read_excel(xlsx,'会员列表')\n",
    "#     df_id = pd.read_excel(xlsx,'身份认证')"
   ]
  },
  {
   "cell_type": "code",
   "execution_count": null,
   "metadata": {
    "scrolled": true
   },
   "outputs": [],
   "source": [
    "# df_new_member = pd.read_csv(r'D:\\小鸡理财\\百度云同步盘\\小鸡理财\\数据报告\\用户类报告\\流失用户分析\\运营数据.txt',\n",
    "#                             delimiter=\"\\t\",\n",
    "#                             header=None,\n",
    "#                             engine = 'python',\n",
    "#                             names=['用户名','手机号码','身份证'])"
   ]
  },
  {
   "cell_type": "markdown",
   "metadata": {},
   "source": [
    "身份证标准化"
   ]
  },
  {
   "cell_type": "code",
   "execution_count": 3,
   "metadata": {},
   "outputs": [],
   "source": [
    "df_jd_ds['id'] = df_jd_ds['身份证'].str.upper()\n",
    "df_cg_ds['id'] = df_cg_ds['身份证'].str.upper()\n",
    "df_tz['id'] = df_tz['身份证'].str.upper()\n",
    "# df_members['id'] = df_members['身份证'].str.upper()\n",
    "# df_id['id'] = df_id['身份证'].str.upper()"
   ]
  },
  {
   "cell_type": "markdown",
   "metadata": {},
   "source": [
    "合并 经典、存管待收变化 表"
   ]
  },
  {
   "cell_type": "code",
   "execution_count": 4,
   "metadata": {},
   "outputs": [],
   "source": [
    "df_ds = pd.concat([df_jd_ds,df_cg_ds],axis = 0,join='inner')"
   ]
  },
  {
   "cell_type": "code",
   "execution_count": 5,
   "metadata": {},
   "outputs": [
    {
     "data": {
      "text/html": [
       "<div>\n",
       "<style scoped>\n",
       "    .dataframe tbody tr th:only-of-type {\n",
       "        vertical-align: middle;\n",
       "    }\n",
       "\n",
       "    .dataframe tbody tr th {\n",
       "        vertical-align: top;\n",
       "    }\n",
       "\n",
       "    .dataframe thead th {\n",
       "        text-align: right;\n",
       "    }\n",
       "</style>\n",
       "<table border=\"1\" class=\"dataframe\">\n",
       "  <thead>\n",
       "    <tr style=\"text-align: right;\">\n",
       "      <th></th>\n",
       "      <th>用户名</th>\n",
       "      <th>真实姓名</th>\n",
       "      <th>待收金额</th>\n",
       "      <th>发生时间</th>\n",
       "      <th>注册时间</th>\n",
       "      <th>id</th>\n",
       "    </tr>\n",
       "  </thead>\n",
       "  <tbody>\n",
       "    <tr>\n",
       "      <th>0</th>\n",
       "      <td>15665886512</td>\n",
       "      <td>王秀珍</td>\n",
       "      <td>41800.00</td>\n",
       "      <td>2018-09-18 09:50:02</td>\n",
       "      <td>2018-01-18 19:04:56</td>\n",
       "      <td>370112198511230029</td>\n",
       "    </tr>\n",
       "    <tr>\n",
       "      <th>1</th>\n",
       "      <td>13857836932</td>\n",
       "      <td>徐孟珍</td>\n",
       "      <td>10450.00</td>\n",
       "      <td>2018-09-18 09:50:02</td>\n",
       "      <td>2018-01-17 09:51:01</td>\n",
       "      <td>33021919620422022X</td>\n",
       "    </tr>\n",
       "    <tr>\n",
       "      <th>2</th>\n",
       "      <td>13640080755</td>\n",
       "      <td>冯海英</td>\n",
       "      <td>41850.08</td>\n",
       "      <td>2018-09-18 09:50:02</td>\n",
       "      <td>2018-01-09 08:26:39</td>\n",
       "      <td>440106197312094024</td>\n",
       "    </tr>\n",
       "    <tr>\n",
       "      <th>3</th>\n",
       "      <td>13712058913</td>\n",
       "      <td>赵世杰</td>\n",
       "      <td>12540.00</td>\n",
       "      <td>2018-09-18 09:50:02</td>\n",
       "      <td>2018-01-06 00:07:28</td>\n",
       "      <td>420624197510072930</td>\n",
       "    </tr>\n",
       "    <tr>\n",
       "      <th>4</th>\n",
       "      <td>13857816588</td>\n",
       "      <td>王琼</td>\n",
       "      <td>5226.72</td>\n",
       "      <td>2018-09-18 09:50:02</td>\n",
       "      <td>2018-01-05 11:48:33</td>\n",
       "      <td>330226196304120123</td>\n",
       "    </tr>\n",
       "  </tbody>\n",
       "</table>\n",
       "</div>"
      ],
      "text/plain": [
       "           用户名 真实姓名      待收金额                发生时间                 注册时间  \\\n",
       "0  15665886512  王秀珍  41800.00 2018-09-18 09:50:02  2018-01-18 19:04:56   \n",
       "1  13857836932  徐孟珍  10450.00 2018-09-18 09:50:02  2018-01-17 09:51:01   \n",
       "2  13640080755  冯海英  41850.08 2018-09-18 09:50:02  2018-01-09 08:26:39   \n",
       "3  13712058913  赵世杰  12540.00 2018-09-18 09:50:02  2018-01-06 00:07:28   \n",
       "4  13857816588   王琼   5226.72 2018-09-18 09:50:02  2018-01-05 11:48:33   \n",
       "\n",
       "                   id  \n",
       "0  370112198511230029  \n",
       "1  33021919620422022X  \n",
       "2  440106197312094024  \n",
       "3  420624197510072930  \n",
       "4  330226196304120123  "
      ]
     },
     "execution_count": 5,
     "metadata": {},
     "output_type": "execute_result"
    }
   ],
   "source": [
    "df_ds.drop(columns=['身份证','用户来源','交易类型'],axis=1,inplace=True)\n",
    "df_ds.head()"
   ]
  },
  {
   "cell_type": "code",
   "execution_count": 6,
   "metadata": {},
   "outputs": [
    {
     "name": "stdout",
     "output_type": "stream",
     "text": [
      "<class 'pandas.core.frame.DataFrame'>\n",
      "Int64Index: 215686 entries, 0 to 133461\n",
      "Data columns (total 6 columns):\n",
      "用户名     215686 non-null object\n",
      "真实姓名    215686 non-null object\n",
      "待收金额    215686 non-null float64\n",
      "发生时间    215686 non-null datetime64[ns]\n",
      "注册时间    215686 non-null object\n",
      "id      215686 non-null object\n",
      "dtypes: datetime64[ns](1), float64(1), object(4)\n",
      "memory usage: 11.5+ MB\n"
     ]
    }
   ],
   "source": [
    "df_ds.info()"
   ]
  },
  {
   "cell_type": "markdown",
   "metadata": {},
   "source": [
    "筛选 待收表 中待收0的用户"
   ]
  },
  {
   "cell_type": "code",
   "execution_count": 7,
   "metadata": {},
   "outputs": [],
   "source": [
    "df_ds_0 = df_ds[df_ds['待收金额'] <= 0.1]"
   ]
  },
  {
   "cell_type": "code",
   "execution_count": null,
   "metadata": {},
   "outputs": [],
   "source": [
    "df_ds_0.shape"
   ]
  },
  {
   "cell_type": "code",
   "execution_count": 8,
   "metadata": {},
   "outputs": [],
   "source": [
    "df_ds_0 = df_ds_0.copy()\n",
    "df_ds_0.sort_values(by=['发生时间','id'],ascending=True,inplace=True)"
   ]
  },
  {
   "cell_type": "code",
   "execution_count": 9,
   "metadata": {},
   "outputs": [
    {
     "data": {
      "text/html": [
       "<div>\n",
       "<style scoped>\n",
       "    .dataframe tbody tr th:only-of-type {\n",
       "        vertical-align: middle;\n",
       "    }\n",
       "\n",
       "    .dataframe tbody tr th {\n",
       "        vertical-align: top;\n",
       "    }\n",
       "\n",
       "    .dataframe thead th {\n",
       "        text-align: right;\n",
       "    }\n",
       "</style>\n",
       "<table border=\"1\" class=\"dataframe\">\n",
       "  <thead>\n",
       "    <tr style=\"text-align: right;\">\n",
       "      <th></th>\n",
       "      <th>用户名</th>\n",
       "      <th>真实姓名</th>\n",
       "      <th>待收金额</th>\n",
       "      <th>发生时间</th>\n",
       "      <th>注册时间</th>\n",
       "      <th>id</th>\n",
       "    </tr>\n",
       "  </thead>\n",
       "  <tbody>\n",
       "    <tr>\n",
       "      <th>46922</th>\n",
       "      <td>fufeifeng</td>\n",
       "      <td>傅飞峰</td>\n",
       "      <td>0.02</td>\n",
       "      <td>2018-03-05 15:05:01</td>\n",
       "      <td>2014-09-03 08:51:17</td>\n",
       "      <td>330281198505176311</td>\n",
       "    </tr>\n",
       "    <tr>\n",
       "      <th>46926</th>\n",
       "      <td>aihuahua</td>\n",
       "      <td>施怡</td>\n",
       "      <td>0.01</td>\n",
       "      <td>2018-03-05 15:05:01</td>\n",
       "      <td>2014-09-03 08:30:35</td>\n",
       "      <td>513701199003080324</td>\n",
       "    </tr>\n",
       "    <tr>\n",
       "      <th>46877</th>\n",
       "      <td>duanchuanfang1978</td>\n",
       "      <td>端传芳</td>\n",
       "      <td>-0.04</td>\n",
       "      <td>2018-03-05 15:05:02</td>\n",
       "      <td>2015-03-13 11:05:42</td>\n",
       "      <td>32012419780920102X</td>\n",
       "    </tr>\n",
       "    <tr>\n",
       "      <th>46862</th>\n",
       "      <td>汤圆12</td>\n",
       "      <td>马金花</td>\n",
       "      <td>0.00</td>\n",
       "      <td>2018-03-05 15:05:02</td>\n",
       "      <td>2015-05-19 09:54:39</td>\n",
       "      <td>330204195101181046</td>\n",
       "    </tr>\n",
       "    <tr>\n",
       "      <th>46921</th>\n",
       "      <td>4764603李宁</td>\n",
       "      <td>李晓宁</td>\n",
       "      <td>0.01</td>\n",
       "      <td>2018-03-05 15:05:02</td>\n",
       "      <td>2014-09-03 09:42:21</td>\n",
       "      <td>330205195311050016</td>\n",
       "    </tr>\n",
       "    <tr>\n",
       "      <th>46915</th>\n",
       "      <td>qw0509萱萱</td>\n",
       "      <td>吴佩君</td>\n",
       "      <td>0.01</td>\n",
       "      <td>2018-03-05 15:05:02</td>\n",
       "      <td>2014-09-09 13:30:04</td>\n",
       "      <td>330205195512010029</td>\n",
       "    </tr>\n",
       "    <tr>\n",
       "      <th>46912</th>\n",
       "      <td>珍惜nb</td>\n",
       "      <td>吴佩芝</td>\n",
       "      <td>0.01</td>\n",
       "      <td>2018-03-05 15:05:02</td>\n",
       "      <td>2014-09-11 12:33:37</td>\n",
       "      <td>330205195911230029</td>\n",
       "    </tr>\n",
       "    <tr>\n",
       "      <th>46908</th>\n",
       "      <td>13858289901</td>\n",
       "      <td>隋荣海</td>\n",
       "      <td>-0.02</td>\n",
       "      <td>2018-03-05 15:05:02</td>\n",
       "      <td>2014-09-26 12:17:48</td>\n",
       "      <td>330211198907010059</td>\n",
       "    </tr>\n",
       "    <tr>\n",
       "      <th>46900</th>\n",
       "      <td>SandraD</td>\n",
       "      <td>戴娜</td>\n",
       "      <td>0.00</td>\n",
       "      <td>2018-03-05 15:05:02</td>\n",
       "      <td>2014-10-30 19:12:51</td>\n",
       "      <td>330227198310157526</td>\n",
       "    </tr>\n",
       "    <tr>\n",
       "      <th>46917</th>\n",
       "      <td>eric-chen</td>\n",
       "      <td>陈波</td>\n",
       "      <td>0.01</td>\n",
       "      <td>2018-03-05 15:05:02</td>\n",
       "      <td>2014-09-04 16:25:07</td>\n",
       "      <td>330227198703254714</td>\n",
       "    </tr>\n",
       "  </tbody>\n",
       "</table>\n",
       "</div>"
      ],
      "text/plain": [
       "                     用户名 真实姓名  待收金额                发生时间                 注册时间  \\\n",
       "46922          fufeifeng  傅飞峰  0.02 2018-03-05 15:05:01  2014-09-03 08:51:17   \n",
       "46926           aihuahua   施怡  0.01 2018-03-05 15:05:01  2014-09-03 08:30:35   \n",
       "46877  duanchuanfang1978  端传芳 -0.04 2018-03-05 15:05:02  2015-03-13 11:05:42   \n",
       "46862               汤圆12  马金花  0.00 2018-03-05 15:05:02  2015-05-19 09:54:39   \n",
       "46921          4764603李宁  李晓宁  0.01 2018-03-05 15:05:02  2014-09-03 09:42:21   \n",
       "46915           qw0509萱萱  吴佩君  0.01 2018-03-05 15:05:02  2014-09-09 13:30:04   \n",
       "46912               珍惜nb  吴佩芝  0.01 2018-03-05 15:05:02  2014-09-11 12:33:37   \n",
       "46908        13858289901  隋荣海 -0.02 2018-03-05 15:05:02  2014-09-26 12:17:48   \n",
       "46900            SandraD   戴娜  0.00 2018-03-05 15:05:02  2014-10-30 19:12:51   \n",
       "46917          eric-chen   陈波  0.01 2018-03-05 15:05:02  2014-09-04 16:25:07   \n",
       "\n",
       "                       id  \n",
       "46922  330281198505176311  \n",
       "46926  513701199003080324  \n",
       "46877  32012419780920102X  \n",
       "46862  330204195101181046  \n",
       "46921  330205195311050016  \n",
       "46915  330205195512010029  \n",
       "46912  330205195911230029  \n",
       "46908  330211198907010059  \n",
       "46900  330227198310157526  \n",
       "46917  330227198703254714  "
      ]
     },
     "execution_count": 9,
     "metadata": {},
     "output_type": "execute_result"
    }
   ],
   "source": [
    "df_ds_0.head(10)"
   ]
  },
  {
   "cell_type": "markdown",
   "metadata": {},
   "source": [
    "查看 在待收变0 后是否还有投资，记录投资金额、投资时间"
   ]
  },
  {
   "cell_type": "code",
   "execution_count": null,
   "metadata": {},
   "outputs": [],
   "source": [
    "df_tz.info()"
   ]
  },
  {
   "cell_type": "code",
   "execution_count": 10,
   "metadata": {},
   "outputs": [],
   "source": [
    "df_tz.sort_values(by=['投资时间','id'],ascending=True,inplace=True)"
   ]
  },
  {
   "cell_type": "code",
   "execution_count": 11,
   "metadata": {},
   "outputs": [
    {
     "data": {
      "text/html": [
       "<div>\n",
       "<style scoped>\n",
       "    .dataframe tbody tr th:only-of-type {\n",
       "        vertical-align: middle;\n",
       "    }\n",
       "\n",
       "    .dataframe tbody tr th {\n",
       "        vertical-align: top;\n",
       "    }\n",
       "\n",
       "    .dataframe thead th {\n",
       "        text-align: right;\n",
       "    }\n",
       "</style>\n",
       "<table border=\"1\" class=\"dataframe\">\n",
       "  <thead>\n",
       "    <tr style=\"text-align: right;\">\n",
       "      <th></th>\n",
       "      <th>用户名</th>\n",
       "      <th>真实姓名</th>\n",
       "      <th>手机号码</th>\n",
       "      <th>注册时间</th>\n",
       "      <th>计划期限</th>\n",
       "      <th>总投资金额</th>\n",
       "      <th>投资时间</th>\n",
       "      <th>投资来源</th>\n",
       "      <th>id</th>\n",
       "    </tr>\n",
       "  </thead>\n",
       "  <tbody>\n",
       "    <tr>\n",
       "      <th>18154</th>\n",
       "      <td>XJLC_30909579286b935</td>\n",
       "      <td>王惠英</td>\n",
       "      <td>1.538415e+10</td>\n",
       "      <td>2016-02-29</td>\n",
       "      <td>6月</td>\n",
       "      <td>20000.0</td>\n",
       "      <td>2018-03-01 06:38:32</td>\n",
       "      <td>安卓端</td>\n",
       "      <td>330622196611042221</td>\n",
       "    </tr>\n",
       "    <tr>\n",
       "      <th>18153</th>\n",
       "      <td>XJLC_130871071786e</td>\n",
       "      <td>席翔峰</td>\n",
       "      <td>1.585744e+10</td>\n",
       "      <td>2014-09-04</td>\n",
       "      <td>12月</td>\n",
       "      <td>1000.0</td>\n",
       "      <td>2018-03-01 07:38:47</td>\n",
       "      <td>安卓端</td>\n",
       "      <td>622101195502250758</td>\n",
       "    </tr>\n",
       "    <tr>\n",
       "      <th>18152</th>\n",
       "      <td>XJLC_89216200938703f8</td>\n",
       "      <td>韦卓</td>\n",
       "      <td>1.377215e+10</td>\n",
       "      <td>2017-07-28</td>\n",
       "      <td>6月</td>\n",
       "      <td>900.0</td>\n",
       "      <td>2018-03-01 08:28:43</td>\n",
       "      <td>安卓端</td>\n",
       "      <td>610115198403175025</td>\n",
       "    </tr>\n",
       "    <tr>\n",
       "      <th>31087</th>\n",
       "      <td>XJLC_959651459155965c</td>\n",
       "      <td>涂玉群</td>\n",
       "      <td>1.365052e+10</td>\n",
       "      <td>2017-03-21 15:18</td>\n",
       "      <td>3月</td>\n",
       "      <td>20000.0</td>\n",
       "      <td>2018-03-01 08:59:28</td>\n",
       "      <td>苹果端</td>\n",
       "      <td>510282198111152720</td>\n",
       "    </tr>\n",
       "    <tr>\n",
       "      <th>18151</th>\n",
       "      <td>XJLC_23512231321d1f30</td>\n",
       "      <td>周雪梅</td>\n",
       "      <td>1.395783e+10</td>\n",
       "      <td>2018-02-02</td>\n",
       "      <td>6月</td>\n",
       "      <td>8000.0</td>\n",
       "      <td>2018-03-01 09:11:37</td>\n",
       "      <td>安卓端</td>\n",
       "      <td>330204198212036021</td>\n",
       "    </tr>\n",
       "    <tr>\n",
       "      <th>18150</th>\n",
       "      <td>XJLC_23512231321d1f30</td>\n",
       "      <td>周雪梅</td>\n",
       "      <td>1.395783e+10</td>\n",
       "      <td>2018-02-02</td>\n",
       "      <td>6月</td>\n",
       "      <td>2000.0</td>\n",
       "      <td>2018-03-01 09:13:15</td>\n",
       "      <td>安卓端</td>\n",
       "      <td>330204198212036021</td>\n",
       "    </tr>\n",
       "    <tr>\n",
       "      <th>18149</th>\n",
       "      <td>XJLC_5681513924302484</td>\n",
       "      <td>孙秀刚</td>\n",
       "      <td>1.351635e+10</td>\n",
       "      <td>2017-02-03</td>\n",
       "      <td>6月</td>\n",
       "      <td>5000.0</td>\n",
       "      <td>2018-03-01 09:30:14</td>\n",
       "      <td>安卓端</td>\n",
       "      <td>370919196103030916</td>\n",
       "    </tr>\n",
       "    <tr>\n",
       "      <th>18148</th>\n",
       "      <td>XJLC_23512231321d1f30</td>\n",
       "      <td>周雪梅</td>\n",
       "      <td>1.395783e+10</td>\n",
       "      <td>2018-02-02</td>\n",
       "      <td>6月</td>\n",
       "      <td>12800.0</td>\n",
       "      <td>2018-03-01 09:36:08</td>\n",
       "      <td>安卓端</td>\n",
       "      <td>330204198212036021</td>\n",
       "    </tr>\n",
       "    <tr>\n",
       "      <th>31086</th>\n",
       "      <td>XJLC_744438970ef8f5</td>\n",
       "      <td>张慧慧</td>\n",
       "      <td>1.845870e+10</td>\n",
       "      <td>2015-08-05 15:04</td>\n",
       "      <td>3月</td>\n",
       "      <td>10000.0</td>\n",
       "      <td>2018-03-01 09:38:53</td>\n",
       "      <td>安卓端</td>\n",
       "      <td>341202199105253121</td>\n",
       "    </tr>\n",
       "    <tr>\n",
       "      <th>31085</th>\n",
       "      <td>XJLC_23512231321d1f30</td>\n",
       "      <td>周雪梅</td>\n",
       "      <td>1.395783e+10</td>\n",
       "      <td>2018-02-02 13:53</td>\n",
       "      <td>3月</td>\n",
       "      <td>30000.0</td>\n",
       "      <td>2018-03-01 09:40:42</td>\n",
       "      <td>安卓端</td>\n",
       "      <td>330204198212036021</td>\n",
       "    </tr>\n",
       "  </tbody>\n",
       "</table>\n",
       "</div>"
      ],
      "text/plain": [
       "                         用户名 真实姓名          手机号码              注册时间 计划期限  \\\n",
       "18154   XJLC_30909579286b935  王惠英  1.538415e+10        2016-02-29   6月   \n",
       "18153     XJLC_130871071786e  席翔峰  1.585744e+10        2014-09-04  12月   \n",
       "18152  XJLC_89216200938703f8   韦卓  1.377215e+10        2017-07-28   6月   \n",
       "31087  XJLC_959651459155965c  涂玉群  1.365052e+10  2017-03-21 15:18   3月   \n",
       "18151  XJLC_23512231321d1f30  周雪梅  1.395783e+10        2018-02-02   6月   \n",
       "18150  XJLC_23512231321d1f30  周雪梅  1.395783e+10        2018-02-02   6月   \n",
       "18149  XJLC_5681513924302484  孙秀刚  1.351635e+10        2017-02-03   6月   \n",
       "18148  XJLC_23512231321d1f30  周雪梅  1.395783e+10        2018-02-02   6月   \n",
       "31086    XJLC_744438970ef8f5  张慧慧  1.845870e+10  2015-08-05 15:04   3月   \n",
       "31085  XJLC_23512231321d1f30  周雪梅  1.395783e+10  2018-02-02 13:53   3月   \n",
       "\n",
       "         总投资金额                投资时间 投资来源                  id  \n",
       "18154  20000.0 2018-03-01 06:38:32  安卓端  330622196611042221  \n",
       "18153   1000.0 2018-03-01 07:38:47  安卓端  622101195502250758  \n",
       "18152    900.0 2018-03-01 08:28:43  安卓端  610115198403175025  \n",
       "31087  20000.0 2018-03-01 08:59:28  苹果端  510282198111152720  \n",
       "18151   8000.0 2018-03-01 09:11:37  安卓端  330204198212036021  \n",
       "18150   2000.0 2018-03-01 09:13:15  安卓端  330204198212036021  \n",
       "18149   5000.0 2018-03-01 09:30:14  安卓端  370919196103030916  \n",
       "18148  12800.0 2018-03-01 09:36:08  安卓端  330204198212036021  \n",
       "31086  10000.0 2018-03-01 09:38:53  安卓端  341202199105253121  \n",
       "31085  30000.0 2018-03-01 09:40:42  安卓端  330204198212036021  "
      ]
     },
     "execution_count": 11,
     "metadata": {},
     "output_type": "execute_result"
    }
   ],
   "source": [
    "df_tz.drop(columns=['身份证'],axis=1,inplace=True)\n",
    "df_tz.head(10)"
   ]
  },
  {
   "cell_type": "code",
   "execution_count": null,
   "metadata": {},
   "outputs": [],
   "source": [
    "df_ds_0.dtypes"
   ]
  },
  {
   "cell_type": "code",
   "execution_count": null,
   "metadata": {},
   "outputs": [],
   "source": [
    "df_tz.dtypes"
   ]
  },
  {
   "cell_type": "code",
   "execution_count": 12,
   "metadata": {},
   "outputs": [],
   "source": [
    "df_0_invest = pd.merge_asof(df_ds_0,df_tz,\n",
    "                            by = 'id',\n",
    "                            left_on = '发生时间',\n",
    "                            right_on = '投资时间',\n",
    "                            suffixes=('_待收', '_投资'),\n",
    "                            direction='forward')"
   ]
  },
  {
   "cell_type": "code",
   "execution_count": null,
   "metadata": {},
   "outputs": [],
   "source": [
    "df_0_invest.shape"
   ]
  },
  {
   "cell_type": "code",
   "execution_count": 13,
   "metadata": {},
   "outputs": [
    {
     "data": {
      "text/html": [
       "<div>\n",
       "<style scoped>\n",
       "    .dataframe tbody tr th:only-of-type {\n",
       "        vertical-align: middle;\n",
       "    }\n",
       "\n",
       "    .dataframe tbody tr th {\n",
       "        vertical-align: top;\n",
       "    }\n",
       "\n",
       "    .dataframe thead th {\n",
       "        text-align: right;\n",
       "    }\n",
       "</style>\n",
       "<table border=\"1\" class=\"dataframe\">\n",
       "  <thead>\n",
       "    <tr style=\"text-align: right;\">\n",
       "      <th></th>\n",
       "      <th>用户名_待收</th>\n",
       "      <th>真实姓名_待收</th>\n",
       "      <th>待收金额</th>\n",
       "      <th>发生时间</th>\n",
       "      <th>注册时间_待收</th>\n",
       "      <th>id</th>\n",
       "      <th>计划期限</th>\n",
       "      <th>总投资金额</th>\n",
       "      <th>投资时间</th>\n",
       "      <th>投资来源</th>\n",
       "    </tr>\n",
       "  </thead>\n",
       "  <tbody>\n",
       "    <tr>\n",
       "      <th>0</th>\n",
       "      <td>fufeifeng</td>\n",
       "      <td>傅飞峰</td>\n",
       "      <td>0.02</td>\n",
       "      <td>2018-03-05 15:05:01</td>\n",
       "      <td>2014-09-03 08:51:17</td>\n",
       "      <td>330281198505176311</td>\n",
       "      <td>6月</td>\n",
       "      <td>600.0</td>\n",
       "      <td>2018-03-06 11:45:07</td>\n",
       "      <td>Web端</td>\n",
       "    </tr>\n",
       "    <tr>\n",
       "      <th>1</th>\n",
       "      <td>aihuahua</td>\n",
       "      <td>施怡</td>\n",
       "      <td>0.01</td>\n",
       "      <td>2018-03-05 15:05:01</td>\n",
       "      <td>2014-09-03 08:30:35</td>\n",
       "      <td>513701199003080324</td>\n",
       "      <td>NaN</td>\n",
       "      <td>NaN</td>\n",
       "      <td>NaT</td>\n",
       "      <td>NaN</td>\n",
       "    </tr>\n",
       "    <tr>\n",
       "      <th>2</th>\n",
       "      <td>duanchuanfang1978</td>\n",
       "      <td>端传芳</td>\n",
       "      <td>-0.04</td>\n",
       "      <td>2018-03-05 15:05:02</td>\n",
       "      <td>2015-03-13 11:05:42</td>\n",
       "      <td>32012419780920102X</td>\n",
       "      <td>3月</td>\n",
       "      <td>2900.0</td>\n",
       "      <td>2018-08-21 13:51:23</td>\n",
       "      <td>微信端</td>\n",
       "    </tr>\n",
       "    <tr>\n",
       "      <th>3</th>\n",
       "      <td>汤圆12</td>\n",
       "      <td>马金花</td>\n",
       "      <td>0.00</td>\n",
       "      <td>2018-03-05 15:05:02</td>\n",
       "      <td>2015-05-19 09:54:39</td>\n",
       "      <td>330204195101181046</td>\n",
       "      <td>NaN</td>\n",
       "      <td>NaN</td>\n",
       "      <td>NaT</td>\n",
       "      <td>NaN</td>\n",
       "    </tr>\n",
       "    <tr>\n",
       "      <th>4</th>\n",
       "      <td>4764603李宁</td>\n",
       "      <td>李晓宁</td>\n",
       "      <td>0.01</td>\n",
       "      <td>2018-03-05 15:05:02</td>\n",
       "      <td>2014-09-03 09:42:21</td>\n",
       "      <td>330205195311050016</td>\n",
       "      <td>NaN</td>\n",
       "      <td>NaN</td>\n",
       "      <td>NaT</td>\n",
       "      <td>NaN</td>\n",
       "    </tr>\n",
       "  </tbody>\n",
       "</table>\n",
       "</div>"
      ],
      "text/plain": [
       "              用户名_待收 真实姓名_待收  待收金额                发生时间              注册时间_待收  \\\n",
       "0          fufeifeng     傅飞峰  0.02 2018-03-05 15:05:01  2014-09-03 08:51:17   \n",
       "1           aihuahua      施怡  0.01 2018-03-05 15:05:01  2014-09-03 08:30:35   \n",
       "2  duanchuanfang1978     端传芳 -0.04 2018-03-05 15:05:02  2015-03-13 11:05:42   \n",
       "3               汤圆12     马金花  0.00 2018-03-05 15:05:02  2015-05-19 09:54:39   \n",
       "4          4764603李宁     李晓宁  0.01 2018-03-05 15:05:02  2014-09-03 09:42:21   \n",
       "\n",
       "                   id 计划期限   总投资金额                投资时间  投资来源  \n",
       "0  330281198505176311   6月   600.0 2018-03-06 11:45:07  Web端  \n",
       "1  513701199003080324  NaN     NaN                 NaT   NaN  \n",
       "2  32012419780920102X   3月  2900.0 2018-08-21 13:51:23   微信端  \n",
       "3  330204195101181046  NaN     NaN                 NaT   NaN  \n",
       "4  330205195311050016  NaN     NaN                 NaT   NaN  "
      ]
     },
     "execution_count": 13,
     "metadata": {},
     "output_type": "execute_result"
    }
   ],
   "source": [
    "df_0_invest.drop(columns=['用户名_投资','真实姓名_投资', '手机号码', '注册时间_投资'],axis=1,inplace=True)\n",
    "df_0_invest.head()"
   ]
  },
  {
   "cell_type": "code",
   "execution_count": 14,
   "metadata": {},
   "outputs": [],
   "source": [
    "timediff = pd.Timedelta(30,unit = 'd')"
   ]
  },
  {
   "cell_type": "code",
   "execution_count": 15,
   "metadata": {},
   "outputs": [],
   "source": [
    "#如果待收变0的用户都不复投，则其流失时间是：\n",
    "df_0_invest['预计流失时间'] = df_0_invest['发生时间'] + timediff"
   ]
  },
  {
   "cell_type": "code",
   "execution_count": 26,
   "metadata": {},
   "outputs": [],
   "source": [
    "# 去除 2018-3-5 的 异常数据\n",
    "df_0_invest = df_0_invest[df_0_invest['发生时间'] >= '2018-03-06 00:00:00']"
   ]
  },
  {
   "cell_type": "code",
   "execution_count": 16,
   "metadata": {},
   "outputs": [],
   "source": [
    "df_0_invest.to_excel('zero_to_invest.xlsx',index=False)"
   ]
  },
  {
   "cell_type": "markdown",
   "metadata": {},
   "source": [
    "待收0后的再投资时间间隔"
   ]
  },
  {
   "cell_type": "code",
   "execution_count": null,
   "metadata": {},
   "outputs": [],
   "source": [
    "df_reinvest = df_0_invest.loc[df_0_invest['投资时间'].notnull(),:]"
   ]
  },
  {
   "cell_type": "code",
   "execution_count": null,
   "metadata": {},
   "outputs": [],
   "source": [
    "df_reinvest.head(10)"
   ]
  },
  {
   "cell_type": "code",
   "execution_count": null,
   "metadata": {},
   "outputs": [],
   "source": [
    "time_gap = (df_reinvest['投资时间'] - df_reinvest['发生时间']).dt.days"
   ]
  },
  {
   "cell_type": "code",
   "execution_count": null,
   "metadata": {},
   "outputs": [],
   "source": [
    "type(time_gap)"
   ]
  },
  {
   "cell_type": "code",
   "execution_count": null,
   "metadata": {},
   "outputs": [],
   "source": [
    "time_gap.shape"
   ]
  },
  {
   "cell_type": "code",
   "execution_count": null,
   "metadata": {
    "scrolled": true
   },
   "outputs": [],
   "source": [
    "time_gap.head()"
   ]
  },
  {
   "cell_type": "code",
   "execution_count": null,
   "metadata": {},
   "outputs": [],
   "source": [
    "time_gap_percent = time_gap.value_counts(normalize = True)"
   ]
  },
  {
   "cell_type": "code",
   "execution_count": null,
   "metadata": {},
   "outputs": [],
   "source": [
    "time_gap_counts = time_gap.value_counts()"
   ]
  },
  {
   "cell_type": "code",
   "execution_count": null,
   "metadata": {},
   "outputs": [],
   "source": [
    "time_gap_frequence = pd.concat([time_gap_counts,time_gap_percent],axis=1)"
   ]
  },
  {
   "cell_type": "code",
   "execution_count": null,
   "metadata": {},
   "outputs": [],
   "source": [
    "time_gap_frequence.rename(columns={0:'counts',1:'freq'},inplace=True)"
   ]
  },
  {
   "cell_type": "code",
   "execution_count": null,
   "metadata": {},
   "outputs": [],
   "source": [
    "time_gap_frequence.sort_index(inplace=True)"
   ]
  },
  {
   "cell_type": "code",
   "execution_count": null,
   "metadata": {
    "scrolled": true
   },
   "outputs": [],
   "source": [
    "time_gap_frequence.head(10)"
   ]
  },
  {
   "cell_type": "code",
   "execution_count": null,
   "metadata": {},
   "outputs": [],
   "source": [
    "type(time_gap_frequence)"
   ]
  },
  {
   "cell_type": "code",
   "execution_count": null,
   "metadata": {},
   "outputs": [],
   "source": [
    "time_gap_frequence['freq_cum'] = time_gap_frequence['freq'].cumsum()"
   ]
  },
  {
   "cell_type": "code",
   "execution_count": null,
   "metadata": {
    "scrolled": true
   },
   "outputs": [],
   "source": [
    "time_gap_frequence.head(10)"
   ]
  },
  {
   "cell_type": "code",
   "execution_count": null,
   "metadata": {},
   "outputs": [],
   "source": [
    "plt.figure(figsize=(16,12), dpi=160)\n",
    "# width = .35 # width of a bar\n",
    "\n",
    "time_gap_frequence['counts'].plot(kind='bar')\n",
    "time_gap_frequence['freq_cum'].plot(secondary_y=True)\n",
    "\n",
    "ax = plt.gca()\n",
    "plt.xlim(0,60)\n",
    "\n",
    "plt.show()"
   ]
  },
  {
   "cell_type": "markdown",
   "metadata": {},
   "source": [
    "结论：\n",
    "\n",
    "1、待收变0后的第30天起没有再投资转为流失用户\n",
    "\n",
    "2、待收变0后的第30天起又有投资，即转为激活用户"
   ]
  },
  {
   "cell_type": "markdown",
   "metadata": {},
   "source": [
    "### 流失用户分析"
   ]
  },
  {
   "cell_type": "markdown",
   "metadata": {},
   "source": [
    "流失用户有哪些"
   ]
  },
  {
   "cell_type": "code",
   "execution_count": null,
   "metadata": {},
   "outputs": [],
   "source": [
    "timediff = pd.Timedelta(30,unit = 'd')"
   ]
  },
  {
   "cell_type": "code",
   "execution_count": null,
   "metadata": {
    "scrolled": false
   },
   "outputs": [],
   "source": [
    "df_0_invest['预计流失时间'] = df_0_invest['发生时间'] + timediff"
   ]
  },
  {
   "cell_type": "code",
   "execution_count": null,
   "metadata": {},
   "outputs": [],
   "source": [
    "df_0_invest.head()"
   ]
  },
  {
   "cell_type": "code",
   "execution_count": null,
   "metadata": {},
   "outputs": [],
   "source": [
    "df_0_invest.columns"
   ]
  },
  {
   "cell_type": "code",
   "execution_count": null,
   "metadata": {},
   "outputs": [],
   "source": [
    "df_gone = df_0_invest[((df_0_invest['投资时间'] > df_0_invest['预计流失时间']) | (df_0_invest['投资时间'].isnull()))]"
   ]
  },
  {
   "cell_type": "code",
   "execution_count": null,
   "metadata": {},
   "outputs": [],
   "source": [
    "df_gone.head()"
   ]
  },
  {
   "cell_type": "code",
   "execution_count": null,
   "metadata": {},
   "outputs": [],
   "source": [
    "# 流失时间在2018-10-1之前\n",
    "df_gone = df_gone.loc[df_gone['预计流失时间']<'2018-10-1',:]"
   ]
  },
  {
   "cell_type": "code",
   "execution_count": null,
   "metadata": {},
   "outputs": [],
   "source": [
    "# 流失用户名单\n",
    "df_gone.head()"
   ]
  },
  {
   "cell_type": "code",
   "execution_count": null,
   "metadata": {},
   "outputs": [],
   "source": [
    "df_gone.shape"
   ]
  },
  {
   "cell_type": "code",
   "execution_count": null,
   "metadata": {},
   "outputs": [],
   "source": [
    "df_gone.to_excel('user_gone.xlsx',index=False)"
   ]
  },
  {
   "cell_type": "code",
   "execution_count": null,
   "metadata": {},
   "outputs": [],
   "source": []
  },
  {
   "cell_type": "code",
   "execution_count": null,
   "metadata": {},
   "outputs": [],
   "source": []
  },
  {
   "cell_type": "code",
   "execution_count": null,
   "metadata": {},
   "outputs": [],
   "source": []
  },
  {
   "cell_type": "markdown",
   "metadata": {},
   "source": [
    "哪个月流失最严重"
   ]
  },
  {
   "cell_type": "code",
   "execution_count": null,
   "metadata": {},
   "outputs": [],
   "source": [
    "gp_gone_month = df_gone.resample('M',on='发生时间')['用户名'].nunique()"
   ]
  },
  {
   "cell_type": "code",
   "execution_count": null,
   "metadata": {},
   "outputs": [],
   "source": [
    "gp_gone_month"
   ]
  },
  {
   "cell_type": "code",
   "execution_count": null,
   "metadata": {},
   "outputs": [],
   "source": [
    "gp_gone_month.plot.barh()"
   ]
  },
  {
   "cell_type": "markdown",
   "metadata": {},
   "source": [
    "流失用户 与 VIP等级 的关系"
   ]
  },
  {
   "cell_type": "code",
   "execution_count": null,
   "metadata": {},
   "outputs": [],
   "source": [
    "df_vip.info()"
   ]
  },
  {
   "cell_type": "code",
   "execution_count": null,
   "metadata": {
    "scrolled": true
   },
   "outputs": [],
   "source": [
    "df_vip.head()"
   ]
  },
  {
   "cell_type": "code",
   "execution_count": null,
   "metadata": {},
   "outputs": [],
   "source": [
    "df_vip['vip_max'] = np.where(df_vip['变动前等级'] > df_vip['变动后等级'],df_vip['变动前等级'],df_vip['变动后等级'])"
   ]
  },
  {
   "cell_type": "code",
   "execution_count": null,
   "metadata": {},
   "outputs": [],
   "source": [
    "df_vip.sort_values(by=['vip_max'],ascending=False,inplace=True)"
   ]
  },
  {
   "cell_type": "code",
   "execution_count": null,
   "metadata": {},
   "outputs": [],
   "source": [
    "# 每个用户的曾经最高vip等级\n",
    "df_vip_max = df_vip.drop_duplicates(subset=['用户名'])"
   ]
  },
  {
   "cell_type": "code",
   "execution_count": null,
   "metadata": {},
   "outputs": [],
   "source": [
    "df_vip_max.shape"
   ]
  },
  {
   "cell_type": "code",
   "execution_count": null,
   "metadata": {
    "scrolled": true
   },
   "outputs": [],
   "source": [
    "df_vip_max.head()"
   ]
  },
  {
   "cell_type": "code",
   "execution_count": null,
   "metadata": {},
   "outputs": [],
   "source": [
    "df_vip_max_0 = df_vip_max.loc[:,['用户名','vip_max']]"
   ]
  },
  {
   "cell_type": "code",
   "execution_count": null,
   "metadata": {},
   "outputs": [],
   "source": [
    "df_gone_vip = pd.merge(df_gone,df_vip_max_0,\n",
    "                      on='用户名',\n",
    "                      how='left')"
   ]
  },
  {
   "cell_type": "code",
   "execution_count": null,
   "metadata": {},
   "outputs": [],
   "source": [
    "df_gone_vip['vip_max'].fillna(0,inplace=True)"
   ]
  },
  {
   "cell_type": "code",
   "execution_count": null,
   "metadata": {
    "scrolled": true
   },
   "outputs": [],
   "source": [
    "df_gone_vip.sort_values(by='vip_max',ascending=False)"
   ]
  },
  {
   "cell_type": "code",
   "execution_count": null,
   "metadata": {},
   "outputs": [],
   "source": [
    "gp_gone_vip = df_gone_vip.groupby([pd.Grouper(key='发生时间', freq='M'), 'vip_max'])['用户名'].nunique()"
   ]
  },
  {
   "cell_type": "code",
   "execution_count": null,
   "metadata": {},
   "outputs": [],
   "source": [
    "gp_gone_vip.unstack()"
   ]
  },
  {
   "cell_type": "markdown",
   "metadata": {},
   "source": [
    "流失用户 与 注册时间 的关系"
   ]
  },
  {
   "cell_type": "code",
   "execution_count": null,
   "metadata": {},
   "outputs": [],
   "source": [
    "df_gone.dtypes"
   ]
  },
  {
   "cell_type": "code",
   "execution_count": null,
   "metadata": {},
   "outputs": [],
   "source": [
    "df_gone['注册时间_x'] = pd.to_datetime(df_gone['注册时间_x'])"
   ]
  },
  {
   "cell_type": "code",
   "execution_count": null,
   "metadata": {},
   "outputs": [],
   "source": [
    "gp_gone_reg_time = df_gone.groupby([pd.Grouper(key='发生时间', freq='M'),pd.Grouper(key='注册时间_x', freq='Y')])['用户名'].nunique()"
   ]
  },
  {
   "cell_type": "code",
   "execution_count": null,
   "metadata": {
    "scrolled": false
   },
   "outputs": [],
   "source": [
    "gp_gone_reg_time.unstack()"
   ]
  },
  {
   "cell_type": "markdown",
   "metadata": {},
   "source": [
    "流失用户 与 注册时间 的关系"
   ]
  },
  {
   "cell_type": "code",
   "execution_count": null,
   "metadata": {},
   "outputs": [],
   "source": []
  },
  {
   "cell_type": "code",
   "execution_count": null,
   "metadata": {},
   "outputs": [],
   "source": [
    "drinks2 = pd.read_csv('http://bit.ly/drinksbycountry')"
   ]
  },
  {
   "cell_type": "code",
   "execution_count": null,
   "metadata": {},
   "outputs": [],
   "source": [
    "%timeit drinks2.head()"
   ]
  },
  {
   "cell_type": "code",
   "execution_count": null,
   "metadata": {},
   "outputs": [],
   "source": [
    "pd.__version__"
   ]
  }
 ],
 "metadata": {
  "kernelspec": {
   "display_name": "Python 3",
   "language": "python",
   "name": "python3"
  },
  "language_info": {
   "codemirror_mode": {
    "name": "ipython",
    "version": 3
   },
   "file_extension": ".py",
   "mimetype": "text/x-python",
   "name": "python",
   "nbconvert_exporter": "python",
   "pygments_lexer": "ipython3",
   "version": "3.6.5"
  }
 },
 "nbformat": 4,
 "nbformat_minor": 2
}
