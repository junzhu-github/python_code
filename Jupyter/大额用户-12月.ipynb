{
 "cells": [
  {
   "cell_type": "code",
   "execution_count": 1,
   "metadata": {},
   "outputs": [],
   "source": [
    "import os\n",
    "import pandas as pd\n",
    "import numpy as np\n",
    "import matplotlib.pyplot as plt\n",
    "import seaborn as sns\n",
    "%matplotlib inline"
   ]
  },
  {
   "cell_type": "code",
   "execution_count": 2,
   "metadata": {},
   "outputs": [],
   "source": [
    "from pylab import mpl\n",
    "\n",
    "mpl.rcParams['font.sans-serif'] = ['Microsoft YaHei'] # 指定默认字体\n",
    "mpl.rcParams['axes.unicode_minus'] = False # 解决保存图像是负号'-'显示为方块的问题"
   ]
  },
  {
   "cell_type": "code",
   "execution_count": 110,
   "metadata": {},
   "outputs": [],
   "source": [
    "with pd.ExcelFile(r\"D:\\小鸡理财\\百度云同步盘\\小鸡理财\\数据报告\\用户类报告\\大额用户\\12月版本\\大额用户.xlsx\") as xlsx:\n",
    "    df_kt = pd.read_excel(xlsx,'存管开通')\n",
    "    df_md = pd.read_excel(xlsx,'名单')\n",
    "    df_cg_tz = pd.read_excel(xlsx,'存管投资')\n",
    "    df_cg_zht = pd.read_excel(xlsx,'智慧投')\n",
    "    df_jd_tz = pd.read_excel(xlsx,'经典投资')\n",
    "    df_jd_hk = pd.read_excel(xlsx,'经典回款')\n",
    "    df_jd_cz = pd.read_excel(xlsx,'经典充值')\n",
    "    df_cg_cz = pd.read_excel(xlsx,'存管充值')\n",
    "    df_cg_hk = pd.read_excel(xlsx,'存管回款')"
   ]
  },
  {
   "cell_type": "markdown",
   "metadata": {},
   "source": [
    "- 计算开通存管时间"
   ]
  },
  {
   "cell_type": "code",
   "execution_count": 4,
   "metadata": {},
   "outputs": [
    {
     "name": "stdout",
     "output_type": "stream",
     "text": [
      "<class 'pandas.core.frame.DataFrame'>\n",
      "RangeIndex: 10333 entries, 0 to 10332\n",
      "Data columns (total 38 columns):\n",
      "序号         10333 non-null int64\n",
      "用户ID       10333 non-null int64\n",
      "用户名        10333 non-null object\n",
      "真实姓名       10333 non-null object\n",
      "邀请人        5141 non-null float64\n",
      "手机号码       10333 non-null int64\n",
      "VIP等级      10333 non-null int64\n",
      "理财专员等级     10333 non-null int64\n",
      "所属公司       821 non-null object\n",
      "可用余额       10333 non-null float64\n",
      "冻结金额       10333 non-null float64\n",
      "待收金额       10333 non-null float64\n",
      "礼金余额       10333 non-null int64\n",
      "活期余额       10333 non-null int64\n",
      "总余额        10333 non-null float64\n",
      "注册时间       10333 non-null object\n",
      "ip         10333 non-null object\n",
      "归属地        10333 non-null object\n",
      "注册来源       10333 non-null object\n",
      "渠道         10333 non-null object\n",
      "邀请渠道       10333 non-null object\n",
      "VIP到期时间    10333 non-null object\n",
      "新网认证时间     10333 non-null object\n",
      "是否存量用户     10333 non-null object\n",
      "存量激活时间     10333 non-null object\n",
      "身份证        10333 non-null object\n",
      "用户来源       10333 non-null object\n",
      "首投时间       10333 non-null object\n",
      "经典版首投      10333 non-null object\n",
      "经典版注册时间    10333 non-null object\n",
      "经典版注册来源    7103 non-null object\n",
      "经典版渠道      7103 non-null object\n",
      "存管版首投      10333 non-null object\n",
      "存管版注册时间    10333 non-null object\n",
      "存管版注册来源    453 non-null object\n",
      "存管版渠道      453 non-null object\n",
      "历史最高待收     5131 non-null float64\n",
      "待收留存率      10333 non-null object\n",
      "dtypes: float64(6), int64(7), object(25)\n",
      "memory usage: 3.0+ MB\n"
     ]
    }
   ],
   "source": [
    "df_kt.info()"
   ]
  },
  {
   "cell_type": "code",
   "execution_count": 5,
   "metadata": {},
   "outputs": [],
   "source": [
    "df_kt_tmpt = df_kt.loc[:,['用户名','新网认证时间']]"
   ]
  },
  {
   "cell_type": "code",
   "execution_count": 6,
   "metadata": {},
   "outputs": [
    {
     "data": {
      "text/html": [
       "<div>\n",
       "<style scoped>\n",
       "    .dataframe tbody tr th:only-of-type {\n",
       "        vertical-align: middle;\n",
       "    }\n",
       "\n",
       "    .dataframe tbody tr th {\n",
       "        vertical-align: top;\n",
       "    }\n",
       "\n",
       "    .dataframe thead th {\n",
       "        text-align: right;\n",
       "    }\n",
       "</style>\n",
       "<table border=\"1\" class=\"dataframe\">\n",
       "  <thead>\n",
       "    <tr style=\"text-align: right;\">\n",
       "      <th></th>\n",
       "      <th>用户名</th>\n",
       "      <th>新网认证时间</th>\n",
       "    </tr>\n",
       "  </thead>\n",
       "  <tbody>\n",
       "    <tr>\n",
       "      <th>0</th>\n",
       "      <td>XJLC_492673132725b77a</td>\n",
       "      <td>2018-12-12 22:03:28</td>\n",
       "    </tr>\n",
       "    <tr>\n",
       "      <th>1</th>\n",
       "      <td>XJLC_193903132391b26b</td>\n",
       "      <td>2018-12-12 20:01:32</td>\n",
       "    </tr>\n",
       "    <tr>\n",
       "      <th>2</th>\n",
       "      <td>XJLC_309963131020feb9</td>\n",
       "      <td>2018-12-12 15:36:28</td>\n",
       "    </tr>\n",
       "    <tr>\n",
       "      <th>3</th>\n",
       "      <td>XJLC_67991313061e9206</td>\n",
       "      <td>2018-12-12 14:40:45</td>\n",
       "    </tr>\n",
       "    <tr>\n",
       "      <th>4</th>\n",
       "      <td>XJLC_84939313031c4183</td>\n",
       "      <td>2018-12-12 12:42:35</td>\n",
       "    </tr>\n",
       "  </tbody>\n",
       "</table>\n",
       "</div>"
      ],
      "text/plain": [
       "                     用户名               新网认证时间\n",
       "0  XJLC_492673132725b77a  2018-12-12 22:03:28\n",
       "1  XJLC_193903132391b26b  2018-12-12 20:01:32\n",
       "2  XJLC_309963131020feb9  2018-12-12 15:36:28\n",
       "3  XJLC_67991313061e9206  2018-12-12 14:40:45\n",
       "4  XJLC_84939313031c4183  2018-12-12 12:42:35"
      ]
     },
     "execution_count": 6,
     "metadata": {},
     "output_type": "execute_result"
    }
   ],
   "source": [
    "df_kt_tmpt.head()"
   ]
  },
  {
   "cell_type": "code",
   "execution_count": 7,
   "metadata": {},
   "outputs": [],
   "source": [
    "df_big_kt = pd.merge(df_md,df_kt_tmpt,\n",
    "                    left_on='会员名',right_on='用户名',\n",
    "                    how='left')"
   ]
  },
  {
   "cell_type": "code",
   "execution_count": 8,
   "metadata": {},
   "outputs": [
    {
     "data": {
      "text/html": [
       "<div>\n",
       "<style scoped>\n",
       "    .dataframe tbody tr th:only-of-type {\n",
       "        vertical-align: middle;\n",
       "    }\n",
       "\n",
       "    .dataframe tbody tr th {\n",
       "        vertical-align: top;\n",
       "    }\n",
       "\n",
       "    .dataframe thead th {\n",
       "        text-align: right;\n",
       "    }\n",
       "</style>\n",
       "<table border=\"1\" class=\"dataframe\">\n",
       "  <thead>\n",
       "    <tr style=\"text-align: right;\">\n",
       "      <th></th>\n",
       "      <th>真实姓名</th>\n",
       "      <th>手机号码</th>\n",
       "      <th>经典版用户名</th>\n",
       "      <th>会员名</th>\n",
       "      <th>身份证</th>\n",
       "      <th>年龄</th>\n",
       "      <th>用户名</th>\n",
       "      <th>新网认证时间</th>\n",
       "    </tr>\n",
       "  </thead>\n",
       "  <tbody>\n",
       "    <tr>\n",
       "      <th>0</th>\n",
       "      <td>何秀梅</td>\n",
       "      <td>13429267258</td>\n",
       "      <td>13429267258</td>\n",
       "      <td>XJLC_7889513268782fbc</td>\n",
       "      <td>429001198009252968</td>\n",
       "      <td>38</td>\n",
       "      <td>XJLC_7889513268782fbc</td>\n",
       "      <td>2017-08-30 15:32:42</td>\n",
       "    </tr>\n",
       "    <tr>\n",
       "      <th>1</th>\n",
       "      <td>王蕾</td>\n",
       "      <td>13858369375</td>\n",
       "      <td>13858369375</td>\n",
       "      <td>XJLC_1098880684f4589</td>\n",
       "      <td>330203198106041824</td>\n",
       "      <td>37</td>\n",
       "      <td>XJLC_1098880684f4589</td>\n",
       "      <td>2017-08-30 13:58:46</td>\n",
       "    </tr>\n",
       "    <tr>\n",
       "      <th>2</th>\n",
       "      <td>徐少华</td>\n",
       "      <td>15355019587</td>\n",
       "      <td>sharwall</td>\n",
       "      <td>XJLC_5961175317357ec</td>\n",
       "      <td>330682199010046315</td>\n",
       "      <td>28</td>\n",
       "      <td>XJLC_5961175317357ec</td>\n",
       "      <td>2017-08-30 14:52:57</td>\n",
       "    </tr>\n",
       "    <tr>\n",
       "      <th>3</th>\n",
       "      <td>罗志伟</td>\n",
       "      <td>13314253797</td>\n",
       "      <td>13314253797</td>\n",
       "      <td>XJLC_866811633321f215</td>\n",
       "      <td>210302197509053317</td>\n",
       "      <td>43</td>\n",
       "      <td>XJLC_866811633321f215</td>\n",
       "      <td>2017-08-30 11:58:52</td>\n",
       "    </tr>\n",
       "    <tr>\n",
       "      <th>4</th>\n",
       "      <td>段春梅</td>\n",
       "      <td>18873906557</td>\n",
       "      <td>18873906557</td>\n",
       "      <td>XJLC_431263772713be3</td>\n",
       "      <td>62042219840221192X</td>\n",
       "      <td>34</td>\n",
       "      <td>XJLC_431263772713be3</td>\n",
       "      <td>2017-08-30 18:27:32</td>\n",
       "    </tr>\n",
       "  </tbody>\n",
       "</table>\n",
       "</div>"
      ],
      "text/plain": [
       "  真实姓名         手机号码       经典版用户名                    会员名                 身份证  \\\n",
       "0  何秀梅  13429267258  13429267258  XJLC_7889513268782fbc  429001198009252968   \n",
       "1   王蕾  13858369375  13858369375   XJLC_1098880684f4589  330203198106041824   \n",
       "2  徐少华  15355019587     sharwall   XJLC_5961175317357ec  330682199010046315   \n",
       "3  罗志伟  13314253797  13314253797  XJLC_866811633321f215  210302197509053317   \n",
       "4  段春梅  18873906557  18873906557   XJLC_431263772713be3  62042219840221192X   \n",
       "\n",
       "   年龄                    用户名               新网认证时间  \n",
       "0  38  XJLC_7889513268782fbc  2017-08-30 15:32:42  \n",
       "1  37   XJLC_1098880684f4589  2017-08-30 13:58:46  \n",
       "2  28   XJLC_5961175317357ec  2017-08-30 14:52:57  \n",
       "3  43  XJLC_866811633321f215  2017-08-30 11:58:52  \n",
       "4  34   XJLC_431263772713be3  2017-08-30 18:27:32  "
      ]
     },
     "execution_count": 8,
     "metadata": {},
     "output_type": "execute_result"
    }
   ],
   "source": [
    "df_big_kt.head()"
   ]
  },
  {
   "cell_type": "code",
   "execution_count": 9,
   "metadata": {},
   "outputs": [
    {
     "data": {
      "text/plain": [
       "真实姓名      0\n",
       "手机号码      0\n",
       "经典版用户名    0\n",
       "会员名       0\n",
       "身份证       0\n",
       "年龄        0\n",
       "用户名       7\n",
       "新网认证时间    7\n",
       "dtype: int64"
      ]
     },
     "execution_count": 9,
     "metadata": {},
     "output_type": "execute_result"
    }
   ],
   "source": [
    "# 未开通人数\n",
    "df_big_kt.isnull().sum()"
   ]
  },
  {
   "cell_type": "code",
   "execution_count": 10,
   "metadata": {},
   "outputs": [
    {
     "data": {
      "text/plain": [
       "真实姓名      object\n",
       "手机号码       int64\n",
       "经典版用户名    object\n",
       "会员名       object\n",
       "身份证       object\n",
       "年龄         int64\n",
       "用户名       object\n",
       "新网认证时间    object\n",
       "dtype: object"
      ]
     },
     "execution_count": 10,
     "metadata": {},
     "output_type": "execute_result"
    }
   ],
   "source": [
    "df_big_kt.dtypes"
   ]
  },
  {
   "cell_type": "code",
   "execution_count": 11,
   "metadata": {},
   "outputs": [],
   "source": [
    "df_big_kt['新网认证时间'] = pd.to_datetime(df_big_kt['新网认证时间'])"
   ]
  },
  {
   "cell_type": "code",
   "execution_count": 12,
   "metadata": {},
   "outputs": [],
   "source": [
    "df_big_kt['认证time'] =  df_big_kt['新网认证时间'].dt.strftime('%Y-%m')"
   ]
  },
  {
   "cell_type": "code",
   "execution_count": 13,
   "metadata": {},
   "outputs": [
    {
     "data": {
      "text/html": [
       "<div>\n",
       "<style scoped>\n",
       "    .dataframe tbody tr th:only-of-type {\n",
       "        vertical-align: middle;\n",
       "    }\n",
       "\n",
       "    .dataframe tbody tr th {\n",
       "        vertical-align: top;\n",
       "    }\n",
       "\n",
       "    .dataframe thead th {\n",
       "        text-align: right;\n",
       "    }\n",
       "</style>\n",
       "<table border=\"1\" class=\"dataframe\">\n",
       "  <thead>\n",
       "    <tr style=\"text-align: right;\">\n",
       "      <th></th>\n",
       "      <th>真实姓名</th>\n",
       "      <th>手机号码</th>\n",
       "      <th>经典版用户名</th>\n",
       "      <th>会员名</th>\n",
       "      <th>身份证</th>\n",
       "      <th>年龄</th>\n",
       "      <th>新网认证时间</th>\n",
       "      <th>认证time</th>\n",
       "    </tr>\n",
       "  </thead>\n",
       "  <tbody>\n",
       "    <tr>\n",
       "      <th>0</th>\n",
       "      <td>何秀梅</td>\n",
       "      <td>13429267258</td>\n",
       "      <td>13429267258</td>\n",
       "      <td>XJLC_7889513268782fbc</td>\n",
       "      <td>429001198009252968</td>\n",
       "      <td>38</td>\n",
       "      <td>2017-08-30 15:32:42</td>\n",
       "      <td>2017-08</td>\n",
       "    </tr>\n",
       "    <tr>\n",
       "      <th>1</th>\n",
       "      <td>王蕾</td>\n",
       "      <td>13858369375</td>\n",
       "      <td>13858369375</td>\n",
       "      <td>XJLC_1098880684f4589</td>\n",
       "      <td>330203198106041824</td>\n",
       "      <td>37</td>\n",
       "      <td>2017-08-30 13:58:46</td>\n",
       "      <td>2017-08</td>\n",
       "    </tr>\n",
       "    <tr>\n",
       "      <th>2</th>\n",
       "      <td>徐少华</td>\n",
       "      <td>15355019587</td>\n",
       "      <td>sharwall</td>\n",
       "      <td>XJLC_5961175317357ec</td>\n",
       "      <td>330682199010046315</td>\n",
       "      <td>28</td>\n",
       "      <td>2017-08-30 14:52:57</td>\n",
       "      <td>2017-08</td>\n",
       "    </tr>\n",
       "    <tr>\n",
       "      <th>3</th>\n",
       "      <td>罗志伟</td>\n",
       "      <td>13314253797</td>\n",
       "      <td>13314253797</td>\n",
       "      <td>XJLC_866811633321f215</td>\n",
       "      <td>210302197509053317</td>\n",
       "      <td>43</td>\n",
       "      <td>2017-08-30 11:58:52</td>\n",
       "      <td>2017-08</td>\n",
       "    </tr>\n",
       "    <tr>\n",
       "      <th>4</th>\n",
       "      <td>段春梅</td>\n",
       "      <td>18873906557</td>\n",
       "      <td>18873906557</td>\n",
       "      <td>XJLC_431263772713be3</td>\n",
       "      <td>62042219840221192X</td>\n",
       "      <td>34</td>\n",
       "      <td>2017-08-30 18:27:32</td>\n",
       "      <td>2017-08</td>\n",
       "    </tr>\n",
       "  </tbody>\n",
       "</table>\n",
       "</div>"
      ],
      "text/plain": [
       "  真实姓名         手机号码       经典版用户名                    会员名                 身份证  \\\n",
       "0  何秀梅  13429267258  13429267258  XJLC_7889513268782fbc  429001198009252968   \n",
       "1   王蕾  13858369375  13858369375   XJLC_1098880684f4589  330203198106041824   \n",
       "2  徐少华  15355019587     sharwall   XJLC_5961175317357ec  330682199010046315   \n",
       "3  罗志伟  13314253797  13314253797  XJLC_866811633321f215  210302197509053317   \n",
       "4  段春梅  18873906557  18873906557   XJLC_431263772713be3  62042219840221192X   \n",
       "\n",
       "   年龄              新网认证时间   认证time  \n",
       "0  38 2017-08-30 15:32:42  2017-08  \n",
       "1  37 2017-08-30 13:58:46  2017-08  \n",
       "2  28 2017-08-30 14:52:57  2017-08  \n",
       "3  43 2017-08-30 11:58:52  2017-08  \n",
       "4  34 2017-08-30 18:27:32  2017-08  "
      ]
     },
     "execution_count": 13,
     "metadata": {},
     "output_type": "execute_result"
    }
   ],
   "source": [
    "df_big_kt.drop('用户名',axis=1,inplace=True)\n",
    "df_big_kt.head()"
   ]
  },
  {
   "cell_type": "code",
   "execution_count": 14,
   "metadata": {},
   "outputs": [],
   "source": [
    "gp_kt = df_big_kt.groupby([df_big_kt['认证time']])['会员名'].count()"
   ]
  },
  {
   "cell_type": "code",
   "execution_count": 15,
   "metadata": {},
   "outputs": [
    {
     "data": {
      "text/plain": [
       "认证time\n",
       "2017-08     18\n",
       "2017-09     31\n",
       "2017-10      3\n",
       "2017-11      3\n",
       "2017-12      4\n",
       "2018-01     12\n",
       "2018-02     75\n",
       "2018-03    143\n",
       "2018-04      3\n",
       "2018-05      1\n",
       "2018-06      1\n",
       "2018-09      1\n",
       "2018-10      1\n",
       "2018-11      1\n",
       "NaT          7\n",
       "Name: 会员名, dtype: int64"
      ]
     },
     "execution_count": 15,
     "metadata": {},
     "output_type": "execute_result"
    }
   ],
   "source": [
    "gp_kt"
   ]
  },
  {
   "cell_type": "code",
   "execution_count": 16,
   "metadata": {},
   "outputs": [
    {
     "data": {
      "text/plain": [
       "<matplotlib.axes._subplots.AxesSubplot at 0xaeea940>"
      ]
     },
     "execution_count": 16,
     "metadata": {},
     "output_type": "execute_result"
    },
    {
     "data": {
      "image/png": "[encoded data removed]",
      "text/plain": [
       "<Figure size 432x288 with 1 Axes>"
      ]
     },
     "metadata": {},
     "output_type": "display_data"
    }
   ],
   "source": [
    "gp_kt.plot.bar()"
   ]
  },
  {
   "cell_type": "markdown",
   "metadata": {},
   "source": [
    "- 计算投资额"
   ]
  },
  {
   "cell_type": "code",
   "execution_count": 17,
   "metadata": {},
   "outputs": [
    {
     "data": {
      "text/html": [
       "<div>\n",
       "<style scoped>\n",
       "    .dataframe tbody tr th:only-of-type {\n",
       "        vertical-align: middle;\n",
       "    }\n",
       "\n",
       "    .dataframe tbody tr th {\n",
       "        vertical-align: top;\n",
       "    }\n",
       "\n",
       "    .dataframe thead th {\n",
       "        text-align: right;\n",
       "    }\n",
       "</style>\n",
       "<table border=\"1\" class=\"dataframe\">\n",
       "  <thead>\n",
       "    <tr style=\"text-align: right;\">\n",
       "      <th></th>\n",
       "      <th>真实姓名</th>\n",
       "      <th>手机号码</th>\n",
       "      <th>经典版用户名</th>\n",
       "      <th>会员名</th>\n",
       "      <th>身份证</th>\n",
       "      <th>年龄</th>\n",
       "    </tr>\n",
       "  </thead>\n",
       "  <tbody>\n",
       "    <tr>\n",
       "      <th>0</th>\n",
       "      <td>何秀梅</td>\n",
       "      <td>13429267258</td>\n",
       "      <td>13429267258</td>\n",
       "      <td>XJLC_7889513268782fbc</td>\n",
       "      <td>429001198009252968</td>\n",
       "      <td>38</td>\n",
       "    </tr>\n",
       "    <tr>\n",
       "      <th>1</th>\n",
       "      <td>王蕾</td>\n",
       "      <td>13858369375</td>\n",
       "      <td>13858369375</td>\n",
       "      <td>XJLC_1098880684f4589</td>\n",
       "      <td>330203198106041824</td>\n",
       "      <td>37</td>\n",
       "    </tr>\n",
       "    <tr>\n",
       "      <th>2</th>\n",
       "      <td>徐少华</td>\n",
       "      <td>15355019587</td>\n",
       "      <td>sharwall</td>\n",
       "      <td>XJLC_5961175317357ec</td>\n",
       "      <td>330682199010046315</td>\n",
       "      <td>28</td>\n",
       "    </tr>\n",
       "    <tr>\n",
       "      <th>3</th>\n",
       "      <td>罗志伟</td>\n",
       "      <td>13314253797</td>\n",
       "      <td>13314253797</td>\n",
       "      <td>XJLC_866811633321f215</td>\n",
       "      <td>210302197509053317</td>\n",
       "      <td>43</td>\n",
       "    </tr>\n",
       "    <tr>\n",
       "      <th>4</th>\n",
       "      <td>段春梅</td>\n",
       "      <td>18873906557</td>\n",
       "      <td>18873906557</td>\n",
       "      <td>XJLC_431263772713be3</td>\n",
       "      <td>62042219840221192X</td>\n",
       "      <td>34</td>\n",
       "    </tr>\n",
       "  </tbody>\n",
       "</table>\n",
       "</div>"
      ],
      "text/plain": [
       "  真实姓名         手机号码       经典版用户名                    会员名                 身份证  \\\n",
       "0  何秀梅  13429267258  13429267258  XJLC_7889513268782fbc  429001198009252968   \n",
       "1   王蕾  13858369375  13858369375   XJLC_1098880684f4589  330203198106041824   \n",
       "2  徐少华  15355019587     sharwall   XJLC_5961175317357ec  330682199010046315   \n",
       "3  罗志伟  13314253797  13314253797  XJLC_866811633321f215  210302197509053317   \n",
       "4  段春梅  18873906557  18873906557   XJLC_431263772713be3  62042219840221192X   \n",
       "\n",
       "   年龄  \n",
       "0  38  \n",
       "1  37  \n",
       "2  28  \n",
       "3  43  \n",
       "4  34  "
      ]
     },
     "execution_count": 17,
     "metadata": {},
     "output_type": "execute_result"
    }
   ],
   "source": [
    "df_md.head()"
   ]
  },
  {
   "cell_type": "code",
   "execution_count": 18,
   "metadata": {},
   "outputs": [],
   "source": [
    "# 调整jupyter显示的最大列数\n",
    "pd.set_option('display.max_columns', 100)\n",
    "# pd.set_option('display.max_rows', None)"
   ]
  },
  {
   "cell_type": "code",
   "execution_count": 19,
   "metadata": {},
   "outputs": [
    {
     "data": {
      "text/html": [
       "<div>\n",
       "<style scoped>\n",
       "    .dataframe tbody tr th:only-of-type {\n",
       "        vertical-align: middle;\n",
       "    }\n",
       "\n",
       "    .dataframe tbody tr th {\n",
       "        vertical-align: top;\n",
       "    }\n",
       "\n",
       "    .dataframe thead th {\n",
       "        text-align: right;\n",
       "    }\n",
       "</style>\n",
       "<table border=\"1\" class=\"dataframe\">\n",
       "  <thead>\n",
       "    <tr style=\"text-align: right;\">\n",
       "      <th></th>\n",
       "      <th>投资状态</th>\n",
       "      <th>标状态</th>\n",
       "      <th>序号</th>\n",
       "      <th>标ID</th>\n",
       "      <th>标的编号</th>\n",
       "      <th>标名称</th>\n",
       "      <th>是否新手标</th>\n",
       "      <th>投资用户</th>\n",
       "      <th>真实姓名</th>\n",
       "      <th>手机号</th>\n",
       "      <th>所属公司</th>\n",
       "      <th>会员类型</th>\n",
       "      <th>投资时会员类型</th>\n",
       "      <th>推荐人</th>\n",
       "      <th>注册时间</th>\n",
       "      <th>智慧投ID</th>\n",
       "      <th>智慧投名称</th>\n",
       "      <th>智慧投基本年化</th>\n",
       "      <th>智慧投奖励年化</th>\n",
       "      <th>标类型</th>\n",
       "      <th>还款方式</th>\n",
       "      <th>总投资额</th>\n",
       "      <th>账户资金</th>\n",
       "      <th>续投资金</th>\n",
       "      <th>券</th>\n",
       "      <th>加息券成本</th>\n",
       "      <th>工资余额投资</th>\n",
       "      <th>预期收益</th>\n",
       "      <th>已得利息</th>\n",
       "      <th>投资时间</th>\n",
       "      <th>智慧投投资时间</th>\n",
       "      <th>预期还款时间</th>\n",
       "      <th>还款时间</th>\n",
       "      <th>复审时间</th>\n",
       "      <th>渠道</th>\n",
       "      <th>投资来源</th>\n",
       "      <th>邀请来源</th>\n",
       "      <th>首投时间</th>\n",
       "      <th>还款状态</th>\n",
       "      <th>还款方式.1</th>\n",
       "      <th>标种类型</th>\n",
       "      <th>投标方式</th>\n",
       "      <th>标限制</th>\n",
       "      <th>投资期限</th>\n",
       "      <th>年利率</th>\n",
       "      <th>加息利率</th>\n",
       "      <th>利息期数</th>\n",
       "      <th>下次发放</th>\n",
       "      <th>首投时间.1</th>\n",
       "      <th>身份证</th>\n",
       "      <th>用户来源</th>\n",
       "    </tr>\n",
       "  </thead>\n",
       "  <tbody>\n",
       "    <tr>\n",
       "      <th>0</th>\n",
       "      <td>已支付</td>\n",
       "      <td>批量投资确认通过，还款中</td>\n",
       "      <td>6226</td>\n",
       "      <td>1220</td>\n",
       "      <td>HCYD180529-1220</td>\n",
       "      <td>凤宝宝6月-5期</td>\n",
       "      <td>否</td>\n",
       "      <td>XJLC_464161430236abec</td>\n",
       "      <td>张婷婷</td>\n",
       "      <td>18966042346</td>\n",
       "      <td>集团</td>\n",
       "      <td>VIP1</td>\n",
       "      <td>普通会员</td>\n",
       "      <td>NaN</td>\n",
       "      <td>2017-02-27 08:23</td>\n",
       "      <td>---</td>\n",
       "      <td>---</td>\n",
       "      <td>---</td>\n",
       "      <td>---</td>\n",
       "      <td>6月</td>\n",
       "      <td>按月先息后本</td>\n",
       "      <td>100.0</td>\n",
       "      <td>0.0</td>\n",
       "      <td>100.0</td>\n",
       "      <td>0</td>\n",
       "      <td>0.0</td>\n",
       "      <td>0</td>\n",
       "      <td>5.75</td>\n",
       "      <td>0.95</td>\n",
       "      <td>2018-05-30 11:13:52</td>\n",
       "      <td>---</td>\n",
       "      <td>2018-11-30</td>\n",
       "      <td>---</td>\n",
       "      <td>2018-05-30</td>\n",
       "      <td>平台</td>\n",
       "      <td>Web端</td>\n",
       "      <td>自主注册</td>\n",
       "      <td>2017-09-13</td>\n",
       "      <td>NaN</td>\n",
       "      <td>NaN</td>\n",
       "      <td>NaN</td>\n",
       "      <td>NaN</td>\n",
       "      <td>---</td>\n",
       "      <td>180</td>\n",
       "      <td>11.50%</td>\n",
       "      <td>0.00%</td>\n",
       "      <td>1/6</td>\n",
       "      <td>2018-07-30</td>\n",
       "      <td>2017-09-13</td>\n",
       "      <td>33032719950618290X</td>\n",
       "      <td>存管版</td>\n",
       "    </tr>\n",
       "    <tr>\n",
       "      <th>1</th>\n",
       "      <td>已支付</td>\n",
       "      <td>批量投资确认通过，还款中</td>\n",
       "      <td>6227</td>\n",
       "      <td>1220</td>\n",
       "      <td>HCYD180529-1220</td>\n",
       "      <td>凤宝宝6月-5期</td>\n",
       "      <td>否</td>\n",
       "      <td>XJLC_49136268889f0fc7</td>\n",
       "      <td>包友振</td>\n",
       "      <td>13777184528</td>\n",
       "      <td>NaN</td>\n",
       "      <td>VIP2</td>\n",
       "      <td>普通会员</td>\n",
       "      <td>XJLC_4772224262567b1a</td>\n",
       "      <td>2018-05-30 10:19</td>\n",
       "      <td>---</td>\n",
       "      <td>---</td>\n",
       "      <td>---</td>\n",
       "      <td>---</td>\n",
       "      <td>6月</td>\n",
       "      <td>按月先息后本</td>\n",
       "      <td>2000.0</td>\n",
       "      <td>1962.0</td>\n",
       "      <td>0.0</td>\n",
       "      <td>38</td>\n",
       "      <td>0.0</td>\n",
       "      <td>0</td>\n",
       "      <td>115.00</td>\n",
       "      <td>19.16</td>\n",
       "      <td>2018-05-30 11:06:13</td>\n",
       "      <td>---</td>\n",
       "      <td>2018-11-30</td>\n",
       "      <td>---</td>\n",
       "      <td>2018-05-30</td>\n",
       "      <td>OPPO软件商店</td>\n",
       "      <td>安卓端</td>\n",
       "      <td>普通邀请</td>\n",
       "      <td>2018-05-30</td>\n",
       "      <td>NaN</td>\n",
       "      <td>NaN</td>\n",
       "      <td>NaN</td>\n",
       "      <td>NaN</td>\n",
       "      <td>---</td>\n",
       "      <td>180</td>\n",
       "      <td>11.50%</td>\n",
       "      <td>0.00%</td>\n",
       "      <td>1/6</td>\n",
       "      <td>2018-07-30</td>\n",
       "      <td>2018-05-30</td>\n",
       "      <td>330211196505240039</td>\n",
       "      <td>存管版</td>\n",
       "    </tr>\n",
       "  </tbody>\n",
       "</table>\n",
       "</div>"
      ],
      "text/plain": [
       "  投资状态           标状态    序号   标ID             标的编号       标名称 是否新手标  \\\n",
       "0  已支付  批量投资确认通过，还款中  6226  1220  HCYD180529-1220  凤宝宝6月-5期     否   \n",
       "1  已支付  批量投资确认通过，还款中  6227  1220  HCYD180529-1220  凤宝宝6月-5期     否   \n",
       "\n",
       "                    投资用户 真实姓名          手机号 所属公司  会员类型 投资时会员类型  \\\n",
       "0  XJLC_464161430236abec  张婷婷  18966042346   集团  VIP1    普通会员   \n",
       "1  XJLC_49136268889f0fc7  包友振  13777184528  NaN  VIP2    普通会员   \n",
       "\n",
       "                     推荐人              注册时间 智慧投ID 智慧投名称 智慧投基本年化 智慧投奖励年化 标类型  \\\n",
       "0                    NaN  2017-02-27 08:23   ---   ---     ---     ---  6月   \n",
       "1  XJLC_4772224262567b1a  2018-05-30 10:19   ---   ---     ---     ---  6月   \n",
       "\n",
       "     还款方式    总投资额    账户资金   续投资金   券  加息券成本  工资余额投资    预期收益   已得利息  \\\n",
       "0  按月先息后本   100.0     0.0  100.0   0    0.0       0    5.75   0.95   \n",
       "1  按月先息后本  2000.0  1962.0    0.0  38    0.0       0  115.00  19.16   \n",
       "\n",
       "                  投资时间 智慧投投资时间      预期还款时间 还款时间        复审时间        渠道  投资来源  \\\n",
       "0  2018-05-30 11:13:52     ---  2018-11-30  ---  2018-05-30        平台  Web端   \n",
       "1  2018-05-30 11:06:13     ---  2018-11-30  ---  2018-05-30  OPPO软件商店   安卓端   \n",
       "\n",
       "   邀请来源        首投时间  还款状态  还款方式.1  标种类型  投标方式  标限制  投资期限     年利率   加息利率 利息期数  \\\n",
       "0  自主注册  2017-09-13   NaN     NaN   NaN   NaN  ---   180  11.50%  0.00%  1/6   \n",
       "1  普通邀请  2018-05-30   NaN     NaN   NaN   NaN  ---   180  11.50%  0.00%  1/6   \n",
       "\n",
       "         下次发放      首投时间.1                 身份证 用户来源  \n",
       "0  2018-07-30  2017-09-13  33032719950618290X  存管版  \n",
       "1  2018-07-30  2018-05-30  330211196505240039  存管版  "
      ]
     },
     "execution_count": 19,
     "metadata": {},
     "output_type": "execute_result"
    }
   ],
   "source": [
    "df_cg_tz.head(2)"
   ]
  },
  {
   "cell_type": "code",
   "execution_count": 20,
   "metadata": {},
   "outputs": [
    {
     "data": {
      "text/plain": [
       "Index(['投资状态', '标状态', '序号', '标ID', '标的编号', '标名称', '是否新手标', '投资用户', '真实姓名',\n",
       "       '手机号', '所属公司', '会员类型', '投资时会员类型', '推荐人', '注册时间', '智慧投ID', '智慧投名称',\n",
       "       '智慧投基本年化', '智慧投奖励年化', '标类型', '还款方式', '总投资额', '账户资金', '续投资金', '券',\n",
       "       '加息券成本', '工资余额投资', '预期收益', '已得利息', '投资时间', '智慧投投资时间', '预期还款时间', '还款时间',\n",
       "       '复审时间', '渠道', '投资来源', '邀请来源', '首投时间', '还款状态', '还款方式.1', '标种类型', '投标方式',\n",
       "       '标限制', '投资期限', '年利率', '加息利率', '利息期数', '下次发放', '首投时间.1', '身份证', '用户来源'],\n",
       "      dtype='object')"
      ]
     },
     "execution_count": 20,
     "metadata": {},
     "output_type": "execute_result"
    }
   ],
   "source": [
    "df_cg_tz.columns"
   ]
  },
  {
   "cell_type": "code",
   "execution_count": 21,
   "metadata": {},
   "outputs": [
    {
     "data": {
      "text/plain": [
       "array(['6月', '3月', '12月', '30天'], dtype=object)"
      ]
     },
     "execution_count": 21,
     "metadata": {},
     "output_type": "execute_result"
    }
   ],
   "source": [
    "df_cg_tz['标类型'].unique()"
   ]
  },
  {
   "cell_type": "code",
   "execution_count": 22,
   "metadata": {},
   "outputs": [],
   "source": [
    "df_cg_tz_0 = df_cg_tz.loc[:,['投资用户','标类型','总投资额', '账户资金', '续投资金', '券','加息券成本','投资时间']]"
   ]
  },
  {
   "cell_type": "code",
   "execution_count": 23,
   "metadata": {},
   "outputs": [
    {
     "data": {
      "text/plain": [
       "Index(['匹配状态', '投资ID', '用户名', '真实姓名', '手机号码', '身份证号码', '所属公司', 'VIP等级',\n",
       "       '投资时VIP等级', '注册时间', '计划ID', '计划名称', '计划期限', '还款方式', '优惠券', '年利率',\n",
       "       '奖励利率', '总投资金额', '新充金额', '续投金额', '匹配债权数目', '匹配金额', '未匹配金额', '解冻金额',\n",
       "       '预期利息', '抵用券成本', '加息券成本', '加息标成本', '投资时间', '最早起息时间', '预计还款时间', '实际还款时间',\n",
       "       '投资来源', '邀请来源', '渠道', '首投时间'],\n",
       "      dtype='object')"
      ]
     },
     "execution_count": 23,
     "metadata": {},
     "output_type": "execute_result"
    }
   ],
   "source": [
    "df_cg_zht.columns"
   ]
  },
  {
   "cell_type": "code",
   "execution_count": 24,
   "metadata": {},
   "outputs": [
    {
     "data": {
      "text/html": [
       "<div>\n",
       "<style scoped>\n",
       "    .dataframe tbody tr th:only-of-type {\n",
       "        vertical-align: middle;\n",
       "    }\n",
       "\n",
       "    .dataframe tbody tr th {\n",
       "        vertical-align: top;\n",
       "    }\n",
       "\n",
       "    .dataframe thead th {\n",
       "        text-align: right;\n",
       "    }\n",
       "</style>\n",
       "<table border=\"1\" class=\"dataframe\">\n",
       "  <thead>\n",
       "    <tr style=\"text-align: right;\">\n",
       "      <th></th>\n",
       "      <th>匹配状态</th>\n",
       "      <th>投资ID</th>\n",
       "      <th>用户名</th>\n",
       "      <th>真实姓名</th>\n",
       "      <th>手机号码</th>\n",
       "      <th>身份证号码</th>\n",
       "      <th>所属公司</th>\n",
       "      <th>VIP等级</th>\n",
       "      <th>投资时VIP等级</th>\n",
       "      <th>注册时间</th>\n",
       "      <th>计划ID</th>\n",
       "      <th>计划名称</th>\n",
       "      <th>计划期限</th>\n",
       "      <th>还款方式</th>\n",
       "      <th>优惠券</th>\n",
       "      <th>年利率</th>\n",
       "      <th>奖励利率</th>\n",
       "      <th>总投资金额</th>\n",
       "      <th>新充金额</th>\n",
       "      <th>续投金额</th>\n",
       "      <th>匹配债权数目</th>\n",
       "      <th>匹配金额</th>\n",
       "      <th>未匹配金额</th>\n",
       "      <th>解冻金额</th>\n",
       "      <th>预期利息</th>\n",
       "      <th>抵用券成本</th>\n",
       "      <th>加息券成本</th>\n",
       "      <th>加息标成本</th>\n",
       "      <th>投资时间</th>\n",
       "      <th>最早起息时间</th>\n",
       "      <th>预计还款时间</th>\n",
       "      <th>实际还款时间</th>\n",
       "      <th>投资来源</th>\n",
       "      <th>邀请来源</th>\n",
       "      <th>渠道</th>\n",
       "      <th>首投时间</th>\n",
       "    </tr>\n",
       "  </thead>\n",
       "  <tbody>\n",
       "    <tr>\n",
       "      <th>0</th>\n",
       "      <td>匹配完成</td>\n",
       "      <td>18321</td>\n",
       "      <td>XJLC_1436714351992cb4</td>\n",
       "      <td>吕丽莎</td>\n",
       "      <td>1.802021e+10</td>\n",
       "      <td>130427198707203926</td>\n",
       "      <td>NaN</td>\n",
       "      <td>VIP1</td>\n",
       "      <td>VIP1</td>\n",
       "      <td>2017-03-02</td>\n",
       "      <td>492</td>\n",
       "      <td>智慧投3月-88期</td>\n",
       "      <td>3月</td>\n",
       "      <td>按月先息后本</td>\n",
       "      <td>可用</td>\n",
       "      <td>9.50%</td>\n",
       "      <td>0.00%</td>\n",
       "      <td>5000.0</td>\n",
       "      <td>4933.75</td>\n",
       "      <td>56.25</td>\n",
       "      <td>1</td>\n",
       "      <td>5000.0</td>\n",
       "      <td>0</td>\n",
       "      <td>---</td>\n",
       "      <td>118.75</td>\n",
       "      <td>10</td>\n",
       "      <td>0.0</td>\n",
       "      <td>0.0</td>\n",
       "      <td>2018-06-30 23:42:11</td>\n",
       "      <td>2018-07-01 10:40:01</td>\n",
       "      <td>2018-10-01</td>\n",
       "      <td>---</td>\n",
       "      <td>安卓端</td>\n",
       "      <td>普通邀请</td>\n",
       "      <td>分享红包</td>\n",
       "      <td>2017-03-12 23:15:28</td>\n",
       "    </tr>\n",
       "    <tr>\n",
       "      <th>1</th>\n",
       "      <td>匹配完成</td>\n",
       "      <td>18320</td>\n",
       "      <td>XJLC_36793269782f668e</td>\n",
       "      <td>任碧华</td>\n",
       "      <td>1.525834e+10</td>\n",
       "      <td>330283199606075226</td>\n",
       "      <td>NaN</td>\n",
       "      <td>VIP0</td>\n",
       "      <td>VIP0</td>\n",
       "      <td>2018-06-07</td>\n",
       "      <td>500</td>\n",
       "      <td>智慧投1月-24期</td>\n",
       "      <td>1月</td>\n",
       "      <td>按月先息后本</td>\n",
       "      <td>可用</td>\n",
       "      <td>8.00%</td>\n",
       "      <td>0.00%</td>\n",
       "      <td>500.0</td>\n",
       "      <td>500.00</td>\n",
       "      <td>0.00</td>\n",
       "      <td>1</td>\n",
       "      <td>500.0</td>\n",
       "      <td>0</td>\n",
       "      <td>---</td>\n",
       "      <td>3.33</td>\n",
       "      <td>0</td>\n",
       "      <td>0.0</td>\n",
       "      <td>0.0</td>\n",
       "      <td>2018-06-30 23:33:06</td>\n",
       "      <td>2018-07-02 11:15:01</td>\n",
       "      <td>2018-08-02</td>\n",
       "      <td>---</td>\n",
       "      <td>安卓端</td>\n",
       "      <td>业务邀请</td>\n",
       "      <td>平台</td>\n",
       "      <td>2018-06-07 17:50:38</td>\n",
       "    </tr>\n",
       "  </tbody>\n",
       "</table>\n",
       "</div>"
      ],
      "text/plain": [
       "   匹配状态   投资ID                    用户名 真实姓名          手机号码               身份证号码  \\\n",
       "0  匹配完成  18321  XJLC_1436714351992cb4  吕丽莎  1.802021e+10  130427198707203926   \n",
       "1  匹配完成  18320  XJLC_36793269782f668e  任碧华  1.525834e+10  330283199606075226   \n",
       "\n",
       "  所属公司 VIP等级 投资时VIP等级        注册时间  计划ID       计划名称 计划期限    还款方式 优惠券    年利率  \\\n",
       "0  NaN  VIP1     VIP1  2017-03-02   492  智慧投3月-88期   3月  按月先息后本  可用  9.50%   \n",
       "1  NaN  VIP0     VIP0  2018-06-07   500  智慧投1月-24期   1月  按月先息后本  可用  8.00%   \n",
       "\n",
       "    奖励利率   总投资金额     新充金额   续投金额  匹配债权数目    匹配金额  未匹配金额 解冻金额    预期利息  抵用券成本  \\\n",
       "0  0.00%  5000.0  4933.75  56.25       1  5000.0      0  ---  118.75     10   \n",
       "1  0.00%   500.0   500.00   0.00       1   500.0      0  ---    3.33      0   \n",
       "\n",
       "   加息券成本  加息标成本                 投资时间               最早起息时间      预计还款时间 实际还款时间  \\\n",
       "0    0.0    0.0  2018-06-30 23:42:11  2018-07-01 10:40:01  2018-10-01    ---   \n",
       "1    0.0    0.0  2018-06-30 23:33:06  2018-07-02 11:15:01  2018-08-02    ---   \n",
       "\n",
       "  投资来源  邀请来源    渠道                 首投时间  \n",
       "0  安卓端  普通邀请  分享红包  2017-03-12 23:15:28  \n",
       "1  安卓端  业务邀请    平台  2018-06-07 17:50:38  "
      ]
     },
     "execution_count": 24,
     "metadata": {},
     "output_type": "execute_result"
    }
   ],
   "source": [
    "df_cg_zht.head(2)"
   ]
  },
  {
   "cell_type": "code",
   "execution_count": 25,
   "metadata": {},
   "outputs": [],
   "source": [
    "df_cg_zht_0 = df_cg_zht.loc[:,['用户名', '计划期限','总投资金额', '新充金额', '续投金额', '抵用券成本', '加息券成本','投资时间']]"
   ]
  },
  {
   "cell_type": "code",
   "execution_count": 26,
   "metadata": {},
   "outputs": [
    {
     "data": {
      "text/plain": [
       "Index(['标名称', '投资用户', '手机号', '真实姓名', '所属公司', '注册时间', '标类型', '期限', '投标类型',\n",
       "       '总投资额', '账户资金', '续投资金', '券', '工资余额投资', '预期收益', '加息券收益', '投资时间', '渠道',\n",
       "       '投资来源', '邀请来源', '首投时间', '一级上线'],\n",
       "      dtype='object')"
      ]
     },
     "execution_count": 26,
     "metadata": {},
     "output_type": "execute_result"
    }
   ],
   "source": [
    "df_jd_tz.columns"
   ]
  },
  {
   "cell_type": "code",
   "execution_count": 27,
   "metadata": {},
   "outputs": [
    {
     "data": {
      "text/html": [
       "<div>\n",
       "<style scoped>\n",
       "    .dataframe tbody tr th:only-of-type {\n",
       "        vertical-align: middle;\n",
       "    }\n",
       "\n",
       "    .dataframe tbody tr th {\n",
       "        vertical-align: top;\n",
       "    }\n",
       "\n",
       "    .dataframe thead th {\n",
       "        text-align: right;\n",
       "    }\n",
       "</style>\n",
       "<table border=\"1\" class=\"dataframe\">\n",
       "  <thead>\n",
       "    <tr style=\"text-align: right;\">\n",
       "      <th></th>\n",
       "      <th>标名称</th>\n",
       "      <th>投资用户</th>\n",
       "      <th>手机号</th>\n",
       "      <th>真实姓名</th>\n",
       "      <th>所属公司</th>\n",
       "      <th>注册时间</th>\n",
       "      <th>标类型</th>\n",
       "      <th>期限</th>\n",
       "      <th>投标类型</th>\n",
       "      <th>总投资额</th>\n",
       "      <th>账户资金</th>\n",
       "      <th>续投资金</th>\n",
       "      <th>券</th>\n",
       "      <th>工资余额投资</th>\n",
       "      <th>预期收益</th>\n",
       "      <th>加息券收益</th>\n",
       "      <th>投资时间</th>\n",
       "      <th>渠道</th>\n",
       "      <th>投资来源</th>\n",
       "      <th>邀请来源</th>\n",
       "      <th>首投时间</th>\n",
       "      <th>一级上线</th>\n",
       "    </tr>\n",
       "  </thead>\n",
       "  <tbody>\n",
       "    <tr>\n",
       "      <th>0</th>\n",
       "      <td>新手标-438期</td>\n",
       "      <td>13983105209</td>\n",
       "      <td>13983105209</td>\n",
       "      <td>周到</td>\n",
       "      <td>NaN</td>\n",
       "      <td>2018-03-01</td>\n",
       "      <td>凤宝宝</td>\n",
       "      <td>7天</td>\n",
       "      <td>凤宝宝7天</td>\n",
       "      <td>10000</td>\n",
       "      <td>10000.0</td>\n",
       "      <td>0.0</td>\n",
       "      <td>0</td>\n",
       "      <td>0</td>\n",
       "      <td>35.0</td>\n",
       "      <td>0.0</td>\n",
       "      <td>2018-03-01</td>\n",
       "      <td>华为智汇云</td>\n",
       "      <td>安卓端</td>\n",
       "      <td>自主注册</td>\n",
       "      <td>2018-03-01</td>\n",
       "      <td>NaN</td>\n",
       "    </tr>\n",
       "    <tr>\n",
       "      <th>1</th>\n",
       "      <td>新手标-438期</td>\n",
       "      <td>15680631212</td>\n",
       "      <td>15680631212</td>\n",
       "      <td>李雪萍</td>\n",
       "      <td>NaN</td>\n",
       "      <td>2018-03-01</td>\n",
       "      <td>凤宝宝</td>\n",
       "      <td>7天</td>\n",
       "      <td>凤宝宝7天</td>\n",
       "      <td>10000</td>\n",
       "      <td>10000.0</td>\n",
       "      <td>0.0</td>\n",
       "      <td>0</td>\n",
       "      <td>0</td>\n",
       "      <td>35.0</td>\n",
       "      <td>0.0</td>\n",
       "      <td>2018-03-01</td>\n",
       "      <td>腾讯应用宝</td>\n",
       "      <td>安卓端</td>\n",
       "      <td>自主注册</td>\n",
       "      <td>2018-03-01</td>\n",
       "      <td>NaN</td>\n",
       "    </tr>\n",
       "  </tbody>\n",
       "</table>\n",
       "</div>"
      ],
      "text/plain": [
       "        标名称         投资用户          手机号 真实姓名 所属公司       注册时间  标类型  期限   投标类型  \\\n",
       "0  新手标-438期  13983105209  13983105209   周到  NaN 2018-03-01  凤宝宝  7天  凤宝宝7天   \n",
       "1  新手标-438期  15680631212  15680631212  李雪萍  NaN 2018-03-01  凤宝宝  7天  凤宝宝7天   \n",
       "\n",
       "    总投资额     账户资金  续投资金  券  工资余额投资  预期收益  加息券收益       投资时间     渠道 投资来源  邀请来源  \\\n",
       "0  10000  10000.0   0.0  0       0  35.0    0.0 2018-03-01  华为智汇云  安卓端  自主注册   \n",
       "1  10000  10000.0   0.0  0       0  35.0    0.0 2018-03-01  腾讯应用宝  安卓端  自主注册   \n",
       "\n",
       "        首投时间 一级上线  \n",
       "0 2018-03-01  NaN  \n",
       "1 2018-03-01  NaN  "
      ]
     },
     "execution_count": 27,
     "metadata": {},
     "output_type": "execute_result"
    }
   ],
   "source": [
    "df_jd_tz.head(2)"
   ]
  },
  {
   "cell_type": "code",
   "execution_count": 28,
   "metadata": {},
   "outputs": [],
   "source": [
    "df_jd_tz_0 = df_jd_tz.loc[:,['投资用户', '期限','总投资额', '账户资金', '续投资金', '券','加息券收益', '投资时间']]"
   ]
  },
  {
   "cell_type": "code",
   "execution_count": 29,
   "metadata": {},
   "outputs": [
    {
     "data": {
      "text/plain": [
       "Index(['投资用户', '标类型', '总投资额', '账户资金', '续投资金', '券', '加息券成本', '投资时间'], dtype='object')"
      ]
     },
     "execution_count": 29,
     "metadata": {},
     "output_type": "execute_result"
    }
   ],
   "source": [
    "df_cg_tz_0.columns"
   ]
  },
  {
   "cell_type": "code",
   "execution_count": 30,
   "metadata": {},
   "outputs": [
    {
     "data": {
      "text/plain": [
       "Index(['用户名', '计划期限', '总投资金额', '新充金额', '续投金额', '抵用券成本', '加息券成本', '投资时间'], dtype='object')"
      ]
     },
     "execution_count": 30,
     "metadata": {},
     "output_type": "execute_result"
    }
   ],
   "source": [
    "df_cg_zht_0.columns"
   ]
  },
  {
   "cell_type": "code",
   "execution_count": 31,
   "metadata": {},
   "outputs": [
    {
     "data": {
      "text/plain": [
       "Index(['投资用户', '期限', '总投资额', '账户资金', '续投资金', '券', '加息券收益', '投资时间'], dtype='object')"
      ]
     },
     "execution_count": 31,
     "metadata": {},
     "output_type": "execute_result"
    }
   ],
   "source": [
    "df_jd_tz_0.columns"
   ]
  },
  {
   "cell_type": "code",
   "execution_count": 32,
   "metadata": {},
   "outputs": [],
   "source": [
    "df_md_0 = df_md.loc[:,['经典版用户名','会员名']]"
   ]
  },
  {
   "cell_type": "code",
   "execution_count": 33,
   "metadata": {},
   "outputs": [],
   "source": [
    "df_jd_tz_1 = pd.merge(df_jd_tz_0,df_md_0,\n",
    "                     left_on = '投资用户',\n",
    "                     right_on = '经典版用户名',\n",
    "                     how = 'left')"
   ]
  },
  {
   "cell_type": "code",
   "execution_count": 34,
   "metadata": {},
   "outputs": [],
   "source": [
    "df_jd_tz_1.dropna(inplace=True)"
   ]
  },
  {
   "cell_type": "code",
   "execution_count": 35,
   "metadata": {},
   "outputs": [],
   "source": [
    "df_jd_tz_1.drop(columns=['投资用户','经典版用户名'],inplace=True)"
   ]
  },
  {
   "cell_type": "code",
   "execution_count": 36,
   "metadata": {},
   "outputs": [
    {
     "data": {
      "text/html": [
       "<div>\n",
       "<style scoped>\n",
       "    .dataframe tbody tr th:only-of-type {\n",
       "        vertical-align: middle;\n",
       "    }\n",
       "\n",
       "    .dataframe tbody tr th {\n",
       "        vertical-align: top;\n",
       "    }\n",
       "\n",
       "    .dataframe thead th {\n",
       "        text-align: right;\n",
       "    }\n",
       "</style>\n",
       "<table border=\"1\" class=\"dataframe\">\n",
       "  <thead>\n",
       "    <tr style=\"text-align: right;\">\n",
       "      <th></th>\n",
       "      <th>期限</th>\n",
       "      <th>总投资额</th>\n",
       "      <th>账户资金</th>\n",
       "      <th>续投资金</th>\n",
       "      <th>券</th>\n",
       "      <th>加息券收益</th>\n",
       "      <th>投资时间</th>\n",
       "      <th>会员名</th>\n",
       "    </tr>\n",
       "  </thead>\n",
       "  <tbody>\n",
       "    <tr>\n",
       "      <th>18</th>\n",
       "      <td>1月</td>\n",
       "      <td>70000</td>\n",
       "      <td>70000.0</td>\n",
       "      <td>0.0</td>\n",
       "      <td>0</td>\n",
       "      <td>0.0</td>\n",
       "      <td>2018-03-01</td>\n",
       "      <td>XJLC_97223139235c2c29</td>\n",
       "    </tr>\n",
       "    <tr>\n",
       "      <th>31</th>\n",
       "      <td>1月</td>\n",
       "      <td>100</td>\n",
       "      <td>65.0</td>\n",
       "      <td>35.0</td>\n",
       "      <td>0</td>\n",
       "      <td>0.0</td>\n",
       "      <td>2018-03-01</td>\n",
       "      <td>XJLC_44999147622b8f9f</td>\n",
       "    </tr>\n",
       "    <tr>\n",
       "      <th>55</th>\n",
       "      <td>1月</td>\n",
       "      <td>10600</td>\n",
       "      <td>0.0</td>\n",
       "      <td>10600.0</td>\n",
       "      <td>0</td>\n",
       "      <td>0.0</td>\n",
       "      <td>2018-03-01</td>\n",
       "      <td>XJLC_37086159447ca697</td>\n",
       "    </tr>\n",
       "  </tbody>\n",
       "</table>\n",
       "</div>"
      ],
      "text/plain": [
       "    期限   总投资额     账户资金     续投资金  券  加息券收益       投资时间                    会员名\n",
       "18  1月  70000  70000.0      0.0  0    0.0 2018-03-01  XJLC_97223139235c2c29\n",
       "31  1月    100     65.0     35.0  0    0.0 2018-03-01  XJLC_44999147622b8f9f\n",
       "55  1月  10600      0.0  10600.0  0    0.0 2018-03-01  XJLC_37086159447ca697"
      ]
     },
     "execution_count": 36,
     "metadata": {},
     "output_type": "execute_result"
    }
   ],
   "source": [
    "df_jd_tz_1.head(3)"
   ]
  },
  {
   "cell_type": "code",
   "execution_count": 37,
   "metadata": {},
   "outputs": [],
   "source": [
    "df_jd_tz_2 = df_jd_tz_1.rename(columns={'会员名':'用户名',\n",
    "                                       '期限':'计划期限',\n",
    "                                       '总投资额':'总投资金额',\n",
    "                                       '账户资金':'新充金额',\n",
    "                                       '续投资金':'续投金额',\n",
    "                                       '券':'抵用券成本',\n",
    "                                       '加息券收益':'加息券成本'})"
   ]
  },
  {
   "cell_type": "code",
   "execution_count": 38,
   "metadata": {},
   "outputs": [],
   "source": [
    "df_cg_tz_1 = df_cg_tz_0.rename(columns={'投资用户':'用户名',\n",
    "                                       '标类型':'计划期限',\n",
    "                                       '总投资额':'总投资金额',\n",
    "                                       '账户资金':'新充金额',\n",
    "                                       '续投资金':'续投金额',\n",
    "                                       '券':'抵用券成本',})"
   ]
  },
  {
   "cell_type": "code",
   "execution_count": 39,
   "metadata": {},
   "outputs": [],
   "source": [
    "df_tz = pd.concat([df_cg_zht_0,df_cg_tz_1,df_jd_tz_2],ignore_index=True,sort=True)"
   ]
  },
  {
   "cell_type": "code",
   "execution_count": 40,
   "metadata": {},
   "outputs": [
    {
     "data": {
      "text/html": [
       "<div>\n",
       "<style scoped>\n",
       "    .dataframe tbody tr th:only-of-type {\n",
       "        vertical-align: middle;\n",
       "    }\n",
       "\n",
       "    .dataframe tbody tr th {\n",
       "        vertical-align: top;\n",
       "    }\n",
       "\n",
       "    .dataframe thead th {\n",
       "        text-align: right;\n",
       "    }\n",
       "</style>\n",
       "<table border=\"1\" class=\"dataframe\">\n",
       "  <thead>\n",
       "    <tr style=\"text-align: right;\">\n",
       "      <th></th>\n",
       "      <th>加息券成本</th>\n",
       "      <th>总投资金额</th>\n",
       "      <th>投资时间</th>\n",
       "      <th>抵用券成本</th>\n",
       "      <th>新充金额</th>\n",
       "      <th>用户名</th>\n",
       "      <th>续投金额</th>\n",
       "      <th>计划期限</th>\n",
       "    </tr>\n",
       "  </thead>\n",
       "  <tbody>\n",
       "    <tr>\n",
       "      <th>0</th>\n",
       "      <td>0.0</td>\n",
       "      <td>5000.0</td>\n",
       "      <td>2018-06-30 23:42:11</td>\n",
       "      <td>10</td>\n",
       "      <td>4933.75</td>\n",
       "      <td>XJLC_1436714351992cb4</td>\n",
       "      <td>56.25</td>\n",
       "      <td>3月</td>\n",
       "    </tr>\n",
       "    <tr>\n",
       "      <th>1</th>\n",
       "      <td>0.0</td>\n",
       "      <td>500.0</td>\n",
       "      <td>2018-06-30 23:33:06</td>\n",
       "      <td>0</td>\n",
       "      <td>500.00</td>\n",
       "      <td>XJLC_36793269782f668e</td>\n",
       "      <td>0.00</td>\n",
       "      <td>1月</td>\n",
       "    </tr>\n",
       "    <tr>\n",
       "      <th>2</th>\n",
       "      <td>0.0</td>\n",
       "      <td>2000.0</td>\n",
       "      <td>2018-06-30 23:28:12</td>\n",
       "      <td>3</td>\n",
       "      <td>1997.00</td>\n",
       "      <td>XJLC_36793269782f668e</td>\n",
       "      <td>0.00</td>\n",
       "      <td>3月</td>\n",
       "    </tr>\n",
       "    <tr>\n",
       "      <th>3</th>\n",
       "      <td>0.0</td>\n",
       "      <td>36000.0</td>\n",
       "      <td>2018-06-30 23:07:42</td>\n",
       "      <td>0</td>\n",
       "      <td>36000.00</td>\n",
       "      <td>XJLC_29720262583681a7</td>\n",
       "      <td>0.00</td>\n",
       "      <td>1月</td>\n",
       "    </tr>\n",
       "    <tr>\n",
       "      <th>4</th>\n",
       "      <td>0.0</td>\n",
       "      <td>5000.0</td>\n",
       "      <td>2018-06-30 23:04:53</td>\n",
       "      <td>0</td>\n",
       "      <td>5000.00</td>\n",
       "      <td>XJLC_222471780481373f</td>\n",
       "      <td>0.00</td>\n",
       "      <td>1月</td>\n",
       "    </tr>\n",
       "  </tbody>\n",
       "</table>\n",
       "</div>"
      ],
      "text/plain": [
       "   加息券成本    总投资金额                 投资时间  抵用券成本      新充金额  \\\n",
       "0    0.0   5000.0  2018-06-30 23:42:11     10   4933.75   \n",
       "1    0.0    500.0  2018-06-30 23:33:06      0    500.00   \n",
       "2    0.0   2000.0  2018-06-30 23:28:12      3   1997.00   \n",
       "3    0.0  36000.0  2018-06-30 23:07:42      0  36000.00   \n",
       "4    0.0   5000.0  2018-06-30 23:04:53      0   5000.00   \n",
       "\n",
       "                     用户名   续投金额 计划期限  \n",
       "0  XJLC_1436714351992cb4  56.25   3月  \n",
       "1  XJLC_36793269782f668e   0.00   1月  \n",
       "2  XJLC_36793269782f668e   0.00   3月  \n",
       "3  XJLC_29720262583681a7   0.00   1月  \n",
       "4  XJLC_222471780481373f   0.00   1月  "
      ]
     },
     "execution_count": 40,
     "metadata": {},
     "output_type": "execute_result"
    }
   ],
   "source": [
    "df_tz.head(5)"
   ]
  },
  {
   "cell_type": "code",
   "execution_count": 41,
   "metadata": {},
   "outputs": [],
   "source": [
    "df_tz = df_tz.loc[df_tz['用户名'].isin(df_md['会员名'])]"
   ]
  },
  {
   "cell_type": "code",
   "execution_count": 42,
   "metadata": {
    "scrolled": true
   },
   "outputs": [
    {
     "data": {
      "text/plain": [
       "Index(['加息券成本', '总投资金额', '投资时间', '抵用券成本', '新充金额', '用户名', '续投金额', '计划期限'], dtype='object')"
      ]
     },
     "execution_count": 42,
     "metadata": {},
     "output_type": "execute_result"
    }
   ],
   "source": [
    "df_tz.columns"
   ]
  },
  {
   "cell_type": "code",
   "execution_count": 43,
   "metadata": {},
   "outputs": [],
   "source": [
    "df_tz['投资时间'] = pd.to_datetime(df_tz['投资时间'])"
   ]
  },
  {
   "cell_type": "code",
   "execution_count": 44,
   "metadata": {},
   "outputs": [],
   "source": [
    "d = dict.fromkeys(['总投资金额', '新充金额','续投金额', '加息券成本', '抵用券成本'], np.sum)\n",
    "d['用户名'] = lambda x: x.nunique()\n",
    "\n",
    "gp_tz = df_tz.groupby(df_tz['投资时间'].dt.month).agg(d).rename(columns={'用户名':'投资人数'})"
   ]
  },
  {
   "cell_type": "code",
   "execution_count": 45,
   "metadata": {},
   "outputs": [
    {
     "data": {
      "text/html": [
       "<div>\n",
       "<style scoped>\n",
       "    .dataframe tbody tr th:only-of-type {\n",
       "        vertical-align: middle;\n",
       "    }\n",
       "\n",
       "    .dataframe tbody tr th {\n",
       "        vertical-align: top;\n",
       "    }\n",
       "\n",
       "    .dataframe thead th {\n",
       "        text-align: right;\n",
       "    }\n",
       "</style>\n",
       "<table border=\"1\" class=\"dataframe\">\n",
       "  <thead>\n",
       "    <tr style=\"text-align: right;\">\n",
       "      <th></th>\n",
       "      <th>总投资金额</th>\n",
       "      <th>新充金额</th>\n",
       "      <th>续投金额</th>\n",
       "      <th>加息券成本</th>\n",
       "      <th>抵用券成本</th>\n",
       "      <th>投资人数</th>\n",
       "    </tr>\n",
       "    <tr>\n",
       "      <th>投资时间</th>\n",
       "      <th></th>\n",
       "      <th></th>\n",
       "      <th></th>\n",
       "      <th></th>\n",
       "      <th></th>\n",
       "      <th></th>\n",
       "    </tr>\n",
       "  </thead>\n",
       "  <tbody>\n",
       "    <tr>\n",
       "      <th>3</th>\n",
       "      <td>20643400.0</td>\n",
       "      <td>20149190.48</td>\n",
       "      <td>484871.52</td>\n",
       "      <td>148385.47</td>\n",
       "      <td>9338</td>\n",
       "      <td>202</td>\n",
       "    </tr>\n",
       "    <tr>\n",
       "      <th>4</th>\n",
       "      <td>17958000.0</td>\n",
       "      <td>16325018.40</td>\n",
       "      <td>1630820.60</td>\n",
       "      <td>133115.82</td>\n",
       "      <td>2161</td>\n",
       "      <td>172</td>\n",
       "    </tr>\n",
       "    <tr>\n",
       "      <th>5</th>\n",
       "      <td>18726300.0</td>\n",
       "      <td>16775448.85</td>\n",
       "      <td>1944478.15</td>\n",
       "      <td>49624.56</td>\n",
       "      <td>6373</td>\n",
       "      <td>185</td>\n",
       "    </tr>\n",
       "    <tr>\n",
       "      <th>6</th>\n",
       "      <td>18181400.0</td>\n",
       "      <td>13745849.86</td>\n",
       "      <td>4418247.14</td>\n",
       "      <td>7928.03</td>\n",
       "      <td>17303</td>\n",
       "      <td>190</td>\n",
       "    </tr>\n",
       "    <tr>\n",
       "      <th>7</th>\n",
       "      <td>15300300.0</td>\n",
       "      <td>9726596.48</td>\n",
       "      <td>5568504.52</td>\n",
       "      <td>70595.82</td>\n",
       "      <td>5199</td>\n",
       "      <td>157</td>\n",
       "    </tr>\n",
       "    <tr>\n",
       "      <th>8</th>\n",
       "      <td>17623200.0</td>\n",
       "      <td>11448753.24</td>\n",
       "      <td>6161194.76</td>\n",
       "      <td>135438.40</td>\n",
       "      <td>13252</td>\n",
       "      <td>155</td>\n",
       "    </tr>\n",
       "    <tr>\n",
       "      <th>9</th>\n",
       "      <td>17654700.0</td>\n",
       "      <td>10711136.60</td>\n",
       "      <td>6936876.40</td>\n",
       "      <td>56281.33</td>\n",
       "      <td>6687</td>\n",
       "      <td>159</td>\n",
       "    </tr>\n",
       "    <tr>\n",
       "      <th>10</th>\n",
       "      <td>12183300.0</td>\n",
       "      <td>6259051.53</td>\n",
       "      <td>5919106.47</td>\n",
       "      <td>88510.08</td>\n",
       "      <td>5142</td>\n",
       "      <td>150</td>\n",
       "    </tr>\n",
       "    <tr>\n",
       "      <th>11</th>\n",
       "      <td>13296500.0</td>\n",
       "      <td>8035142.88</td>\n",
       "      <td>5258051.12</td>\n",
       "      <td>48186.50</td>\n",
       "      <td>3306</td>\n",
       "      <td>156</td>\n",
       "    </tr>\n",
       "    <tr>\n",
       "      <th>12</th>\n",
       "      <td>6507000.0</td>\n",
       "      <td>3179092.50</td>\n",
       "      <td>3326526.50</td>\n",
       "      <td>56339.37</td>\n",
       "      <td>1381</td>\n",
       "      <td>122</td>\n",
       "    </tr>\n",
       "  </tbody>\n",
       "</table>\n",
       "</div>"
      ],
      "text/plain": [
       "           总投资金额         新充金额        续投金额      加息券成本  抵用券成本  投资人数\n",
       "投资时间                                                             \n",
       "3     20643400.0  20149190.48   484871.52  148385.47   9338   202\n",
       "4     17958000.0  16325018.40  1630820.60  133115.82   2161   172\n",
       "5     18726300.0  16775448.85  1944478.15   49624.56   6373   185\n",
       "6     18181400.0  13745849.86  4418247.14    7928.03  17303   190\n",
       "7     15300300.0   9726596.48  5568504.52   70595.82   5199   157\n",
       "8     17623200.0  11448753.24  6161194.76  135438.40  13252   155\n",
       "9     17654700.0  10711136.60  6936876.40   56281.33   6687   159\n",
       "10    12183300.0   6259051.53  5919106.47   88510.08   5142   150\n",
       "11    13296500.0   8035142.88  5258051.12   48186.50   3306   156\n",
       "12     6507000.0   3179092.50  3326526.50   56339.37   1381   122"
      ]
     },
     "execution_count": 45,
     "metadata": {},
     "output_type": "execute_result"
    }
   ],
   "source": [
    "gp_tz"
   ]
  },
  {
   "cell_type": "code",
   "execution_count": 46,
   "metadata": {},
   "outputs": [],
   "source": [
    "from matplotlib.font_manager import FontProperties\n",
    "\n",
    "myfont=FontProperties(fname=r'C:\\Windows\\Fonts\\simhei.ttf',size=14)"
   ]
  },
  {
   "cell_type": "code",
   "execution_count": 47,
   "metadata": {},
   "outputs": [
    {
     "data": {
      "image/png": "[encoded data removed]",
      "text/plain": [
       "<Figure size 1080x504 with 6 Axes>"
      ]
     },
     "metadata": {},
     "output_type": "display_data"
    }
   ],
   "source": [
    "sns.set(style=\"white\",palette=\"muted\", color_codes=True,font=myfont.get_name())\n",
    "\n",
    "# Set up the matplotlib figure\n",
    "f, axes = plt.subplots(2, 3, figsize=(15, 7), sharex=True)\n",
    "\n",
    "# Plot a simple histogram with binsize determined automatically\n",
    "sns.lineplot(x=gp_tz.index, y=gp_tz.iloc[:,0],data=gp_tz, ax=axes[0, 0])\n",
    "\n",
    "# Plot a simple histogram with binsize determined automatically\n",
    "sns.lineplot(x=gp_tz.index, y=gp_tz.iloc[:,1],data=gp_tz, ax=axes[0, 1])\n",
    "\n",
    "# Plot a simple histogram with binsize determined automatically\n",
    "sns.lineplot(x=gp_tz.index, y=gp_tz.iloc[:,2],data=gp_tz, ax=axes[0,2])\n",
    "\n",
    "# Plot a simple histogram with binsize determined automatically\n",
    "sns.lineplot(x=gp_tz.index, y=gp_tz.iloc[:,3],data=gp_tz, ax=axes[1, 0])\n",
    "\n",
    "# Plot a simple histogram with binsize determined automatically\n",
    "sns.lineplot(x=gp_tz.index, y=gp_tz.iloc[:,4],data=gp_tz, ax=axes[1, 1])\n",
    "\n",
    "# Plot a simple histogram with binsize determined automatically\n",
    "sns.lineplot(x=gp_tz.index, y=gp_tz.iloc[:,5],data=gp_tz, ax=axes[1, 2])\n",
    "\n",
    "plt.setp(axes, yticks=[])\n",
    "plt.tight_layout()"
   ]
  },
  {
   "cell_type": "markdown",
   "metadata": {},
   "source": [
    "- 计算各期限投资金额和人数"
   ]
  },
  {
   "cell_type": "code",
   "execution_count": 48,
   "metadata": {},
   "outputs": [
    {
     "data": {
      "text/html": [
       "<div>\n",
       "<style scoped>\n",
       "    .dataframe tbody tr th:only-of-type {\n",
       "        vertical-align: middle;\n",
       "    }\n",
       "\n",
       "    .dataframe tbody tr th {\n",
       "        vertical-align: top;\n",
       "    }\n",
       "\n",
       "    .dataframe thead th {\n",
       "        text-align: right;\n",
       "    }\n",
       "</style>\n",
       "<table border=\"1\" class=\"dataframe\">\n",
       "  <thead>\n",
       "    <tr style=\"text-align: right;\">\n",
       "      <th></th>\n",
       "      <th>加息券成本</th>\n",
       "      <th>总投资金额</th>\n",
       "      <th>投资时间</th>\n",
       "      <th>抵用券成本</th>\n",
       "      <th>新充金额</th>\n",
       "      <th>用户名</th>\n",
       "      <th>续投金额</th>\n",
       "      <th>计划期限</th>\n",
       "    </tr>\n",
       "  </thead>\n",
       "  <tbody>\n",
       "    <tr>\n",
       "      <th>5</th>\n",
       "      <td>0.0</td>\n",
       "      <td>6000.0</td>\n",
       "      <td>2018-06-30 22:56:23</td>\n",
       "      <td>10</td>\n",
       "      <td>2677.94</td>\n",
       "      <td>XJLC_798299702fc4b6</td>\n",
       "      <td>3312.06</td>\n",
       "      <td>6月</td>\n",
       "    </tr>\n",
       "    <tr>\n",
       "      <th>22</th>\n",
       "      <td>0.0</td>\n",
       "      <td>10000.0</td>\n",
       "      <td>2018-06-30 20:17:34</td>\n",
       "      <td>18</td>\n",
       "      <td>8243.99</td>\n",
       "      <td>XJLC_18330166680d2bc2</td>\n",
       "      <td>1738.01</td>\n",
       "      <td>6月</td>\n",
       "    </tr>\n",
       "    <tr>\n",
       "      <th>23</th>\n",
       "      <td>0.0</td>\n",
       "      <td>10000.0</td>\n",
       "      <td>2018-06-30 19:54:21</td>\n",
       "      <td>50</td>\n",
       "      <td>3663.05</td>\n",
       "      <td>XJLC_93122140428db57d</td>\n",
       "      <td>6286.95</td>\n",
       "      <td>12月</td>\n",
       "    </tr>\n",
       "  </tbody>\n",
       "</table>\n",
       "</div>"
      ],
      "text/plain": [
       "    加息券成本    总投资金额                投资时间  抵用券成本     新充金额                    用户名  \\\n",
       "5     0.0   6000.0 2018-06-30 22:56:23     10  2677.94    XJLC_798299702fc4b6   \n",
       "22    0.0  10000.0 2018-06-30 20:17:34     18  8243.99  XJLC_18330166680d2bc2   \n",
       "23    0.0  10000.0 2018-06-30 19:54:21     50  3663.05  XJLC_93122140428db57d   \n",
       "\n",
       "       续投金额 计划期限  \n",
       "5   3312.06   6月  \n",
       "22  1738.01   6月  \n",
       "23  6286.95  12月  "
      ]
     },
     "execution_count": 48,
     "metadata": {},
     "output_type": "execute_result"
    }
   ],
   "source": [
    "df_tz.head(3)"
   ]
  },
  {
   "cell_type": "code",
   "execution_count": 49,
   "metadata": {},
   "outputs": [
    {
     "data": {
      "text/plain": [
       "272"
      ]
     },
     "execution_count": 49,
     "metadata": {},
     "output_type": "execute_result"
    }
   ],
   "source": [
    "df_tz['用户名'].nunique()"
   ]
  },
  {
   "cell_type": "code",
   "execution_count": 50,
   "metadata": {},
   "outputs": [
    {
     "data": {
      "text/plain": [
       "array(['6月', '12月', '3月', '1月', '30天', '7天', '1月标', '3月标'], dtype=object)"
      ]
     },
     "execution_count": 50,
     "metadata": {},
     "output_type": "execute_result"
    }
   ],
   "source": [
    "df_tz['计划期限'].unique()"
   ]
  },
  {
   "cell_type": "code",
   "execution_count": 51,
   "metadata": {},
   "outputs": [],
   "source": [
    "qi = {'30天':'1月', '1月标':'1月', '3月标':'3月'}\n",
    "\n",
    "df_tz_qixian = df_tz.copy()\n",
    "df_tz_qixian['计划期限'] = df_tz_qixian['计划期限'].replace(qi)"
   ]
  },
  {
   "cell_type": "code",
   "execution_count": 52,
   "metadata": {},
   "outputs": [
    {
     "data": {
      "text/html": [
       "<div>\n",
       "<style scoped>\n",
       "    .dataframe tbody tr th:only-of-type {\n",
       "        vertical-align: middle;\n",
       "    }\n",
       "\n",
       "    .dataframe tbody tr th {\n",
       "        vertical-align: top;\n",
       "    }\n",
       "\n",
       "    .dataframe thead th {\n",
       "        text-align: right;\n",
       "    }\n",
       "</style>\n",
       "<table border=\"1\" class=\"dataframe\">\n",
       "  <thead>\n",
       "    <tr style=\"text-align: right;\">\n",
       "      <th></th>\n",
       "      <th>加息券成本</th>\n",
       "      <th>总投资金额</th>\n",
       "      <th>投资时间</th>\n",
       "      <th>抵用券成本</th>\n",
       "      <th>新充金额</th>\n",
       "      <th>用户名</th>\n",
       "      <th>续投金额</th>\n",
       "      <th>计划期限</th>\n",
       "    </tr>\n",
       "  </thead>\n",
       "  <tbody>\n",
       "    <tr>\n",
       "      <th>5</th>\n",
       "      <td>0.0</td>\n",
       "      <td>6000.0</td>\n",
       "      <td>2018-06-30 22:56:23</td>\n",
       "      <td>10</td>\n",
       "      <td>2677.94</td>\n",
       "      <td>XJLC_798299702fc4b6</td>\n",
       "      <td>3312.06</td>\n",
       "      <td>6月</td>\n",
       "    </tr>\n",
       "    <tr>\n",
       "      <th>22</th>\n",
       "      <td>0.0</td>\n",
       "      <td>10000.0</td>\n",
       "      <td>2018-06-30 20:17:34</td>\n",
       "      <td>18</td>\n",
       "      <td>8243.99</td>\n",
       "      <td>XJLC_18330166680d2bc2</td>\n",
       "      <td>1738.01</td>\n",
       "      <td>6月</td>\n",
       "    </tr>\n",
       "    <tr>\n",
       "      <th>23</th>\n",
       "      <td>0.0</td>\n",
       "      <td>10000.0</td>\n",
       "      <td>2018-06-30 19:54:21</td>\n",
       "      <td>50</td>\n",
       "      <td>3663.05</td>\n",
       "      <td>XJLC_93122140428db57d</td>\n",
       "      <td>6286.95</td>\n",
       "      <td>12月</td>\n",
       "    </tr>\n",
       "  </tbody>\n",
       "</table>\n",
       "</div>"
      ],
      "text/plain": [
       "    加息券成本    总投资金额                投资时间  抵用券成本     新充金额                    用户名  \\\n",
       "5     0.0   6000.0 2018-06-30 22:56:23     10  2677.94    XJLC_798299702fc4b6   \n",
       "22    0.0  10000.0 2018-06-30 20:17:34     18  8243.99  XJLC_18330166680d2bc2   \n",
       "23    0.0  10000.0 2018-06-30 19:54:21     50  3663.05  XJLC_93122140428db57d   \n",
       "\n",
       "       续投金额 计划期限  \n",
       "5   3312.06   6月  \n",
       "22  1738.01   6月  \n",
       "23  6286.95  12月  "
      ]
     },
     "execution_count": 52,
     "metadata": {},
     "output_type": "execute_result"
    }
   ],
   "source": [
    "df_tz_qixian.head(3)"
   ]
  },
  {
   "cell_type": "code",
   "execution_count": 53,
   "metadata": {},
   "outputs": [
    {
     "data": {
      "text/plain": [
       "12月    2932\n",
       "3月     1690\n",
       "6月     1635\n",
       "1月     1273\n",
       "7天        1\n",
       "Name: 计划期限, dtype: int64"
      ]
     },
     "execution_count": 53,
     "metadata": {},
     "output_type": "execute_result"
    }
   ],
   "source": [
    "df_tz_qixian['计划期限'].value_counts()"
   ]
  },
  {
   "cell_type": "code",
   "execution_count": 54,
   "metadata": {},
   "outputs": [],
   "source": [
    "gp_tz_qixian_money = df_tz_qixian.groupby([df_tz['投资时间'].dt.month, df_tz_qixian['计划期限']])['总投资金额'].sum()"
   ]
  },
  {
   "cell_type": "code",
   "execution_count": 55,
   "metadata": {},
   "outputs": [],
   "source": [
    "gp_tz_qixian_money = gp_tz_qixian_money.unstack()"
   ]
  },
  {
   "cell_type": "code",
   "execution_count": 56,
   "metadata": {},
   "outputs": [
    {
     "data": {
      "text/html": [
       "<div>\n",
       "<style scoped>\n",
       "    .dataframe tbody tr th:only-of-type {\n",
       "        vertical-align: middle;\n",
       "    }\n",
       "\n",
       "    .dataframe tbody tr th {\n",
       "        vertical-align: top;\n",
       "    }\n",
       "\n",
       "    .dataframe thead th {\n",
       "        text-align: right;\n",
       "    }\n",
       "</style>\n",
       "<table border=\"1\" class=\"dataframe\">\n",
       "  <thead>\n",
       "    <tr style=\"text-align: right;\">\n",
       "      <th>计划期限</th>\n",
       "      <th>12月</th>\n",
       "      <th>1月</th>\n",
       "      <th>3月</th>\n",
       "      <th>6月</th>\n",
       "      <th>7天</th>\n",
       "    </tr>\n",
       "    <tr>\n",
       "      <th>投资时间</th>\n",
       "      <th></th>\n",
       "      <th></th>\n",
       "      <th></th>\n",
       "      <th></th>\n",
       "      <th></th>\n",
       "    </tr>\n",
       "  </thead>\n",
       "  <tbody>\n",
       "    <tr>\n",
       "      <th>3</th>\n",
       "      <td>12909000.0</td>\n",
       "      <td>2312000.0</td>\n",
       "      <td>2523400.0</td>\n",
       "      <td>2898500.0</td>\n",
       "      <td>500.0</td>\n",
       "    </tr>\n",
       "    <tr>\n",
       "      <th>4</th>\n",
       "      <td>10748000.0</td>\n",
       "      <td>NaN</td>\n",
       "      <td>3960600.0</td>\n",
       "      <td>3249400.0</td>\n",
       "      <td>NaN</td>\n",
       "    </tr>\n",
       "    <tr>\n",
       "      <th>5</th>\n",
       "      <td>8365000.0</td>\n",
       "      <td>1292800.0</td>\n",
       "      <td>6682700.0</td>\n",
       "      <td>2385800.0</td>\n",
       "      <td>NaN</td>\n",
       "    </tr>\n",
       "    <tr>\n",
       "      <th>6</th>\n",
       "      <td>7147000.0</td>\n",
       "      <td>2957900.0</td>\n",
       "      <td>4353300.0</td>\n",
       "      <td>3723200.0</td>\n",
       "      <td>NaN</td>\n",
       "    </tr>\n",
       "    <tr>\n",
       "      <th>7</th>\n",
       "      <td>8014000.0</td>\n",
       "      <td>1727600.0</td>\n",
       "      <td>2023900.0</td>\n",
       "      <td>3534800.0</td>\n",
       "      <td>NaN</td>\n",
       "    </tr>\n",
       "    <tr>\n",
       "      <th>8</th>\n",
       "      <td>8392000.0</td>\n",
       "      <td>3268000.0</td>\n",
       "      <td>2240500.0</td>\n",
       "      <td>3722700.0</td>\n",
       "      <td>NaN</td>\n",
       "    </tr>\n",
       "    <tr>\n",
       "      <th>9</th>\n",
       "      <td>8138000.0</td>\n",
       "      <td>3469200.0</td>\n",
       "      <td>3720900.0</td>\n",
       "      <td>2326600.0</td>\n",
       "      <td>NaN</td>\n",
       "    </tr>\n",
       "    <tr>\n",
       "      <th>10</th>\n",
       "      <td>4083000.0</td>\n",
       "      <td>2782400.0</td>\n",
       "      <td>2593300.0</td>\n",
       "      <td>2724600.0</td>\n",
       "      <td>NaN</td>\n",
       "    </tr>\n",
       "    <tr>\n",
       "      <th>11</th>\n",
       "      <td>4944000.0</td>\n",
       "      <td>3380400.0</td>\n",
       "      <td>2310700.0</td>\n",
       "      <td>2661400.0</td>\n",
       "      <td>NaN</td>\n",
       "    </tr>\n",
       "    <tr>\n",
       "      <th>12</th>\n",
       "      <td>2680000.0</td>\n",
       "      <td>2382500.0</td>\n",
       "      <td>853500.0</td>\n",
       "      <td>591000.0</td>\n",
       "      <td>NaN</td>\n",
       "    </tr>\n",
       "  </tbody>\n",
       "</table>\n",
       "</div>"
      ],
      "text/plain": [
       "计划期限         12月         1月         3月         6月     7天\n",
       "投资时间                                                    \n",
       "3     12909000.0  2312000.0  2523400.0  2898500.0  500.0\n",
       "4     10748000.0        NaN  3960600.0  3249400.0    NaN\n",
       "5      8365000.0  1292800.0  6682700.0  2385800.0    NaN\n",
       "6      7147000.0  2957900.0  4353300.0  3723200.0    NaN\n",
       "7      8014000.0  1727600.0  2023900.0  3534800.0    NaN\n",
       "8      8392000.0  3268000.0  2240500.0  3722700.0    NaN\n",
       "9      8138000.0  3469200.0  3720900.0  2326600.0    NaN\n",
       "10     4083000.0  2782400.0  2593300.0  2724600.0    NaN\n",
       "11     4944000.0  3380400.0  2310700.0  2661400.0    NaN\n",
       "12     2680000.0  2382500.0   853500.0   591000.0    NaN"
      ]
     },
     "execution_count": 56,
     "metadata": {},
     "output_type": "execute_result"
    }
   ],
   "source": [
    "gp_tz_qixian_money"
   ]
  },
  {
   "cell_type": "code",
   "execution_count": 57,
   "metadata": {},
   "outputs": [],
   "source": [
    "gp_tz_qixian_people = df_tz_qixian.groupby([df_tz['投资时间'].dt.month, df_tz_qixian['计划期限']])['用户名'].agg({lambda x:x.nunique()})"
   ]
  },
  {
   "cell_type": "code",
   "execution_count": 58,
   "metadata": {},
   "outputs": [],
   "source": [
    "gp_tz_qixian_people = gp_tz_qixian_people.unstack()"
   ]
  },
  {
   "cell_type": "code",
   "execution_count": 59,
   "metadata": {},
   "outputs": [
    {
     "data": {
      "text/html": [
       "<div>\n",
       "<style scoped>\n",
       "    .dataframe tbody tr th:only-of-type {\n",
       "        vertical-align: middle;\n",
       "    }\n",
       "\n",
       "    .dataframe tbody tr th {\n",
       "        vertical-align: top;\n",
       "    }\n",
       "\n",
       "    .dataframe thead tr th {\n",
       "        text-align: left;\n",
       "    }\n",
       "\n",
       "    .dataframe thead tr:last-of-type th {\n",
       "        text-align: right;\n",
       "    }\n",
       "</style>\n",
       "<table border=\"1\" class=\"dataframe\">\n",
       "  <thead>\n",
       "    <tr>\n",
       "      <th></th>\n",
       "      <th colspan=\"5\" halign=\"left\">&lt;lambda&gt;</th>\n",
       "    </tr>\n",
       "    <tr>\n",
       "      <th>计划期限</th>\n",
       "      <th>12月</th>\n",
       "      <th>1月</th>\n",
       "      <th>3月</th>\n",
       "      <th>6月</th>\n",
       "      <th>7天</th>\n",
       "    </tr>\n",
       "    <tr>\n",
       "      <th>投资时间</th>\n",
       "      <th></th>\n",
       "      <th></th>\n",
       "      <th></th>\n",
       "      <th></th>\n",
       "      <th></th>\n",
       "    </tr>\n",
       "  </thead>\n",
       "  <tbody>\n",
       "    <tr>\n",
       "      <th>3</th>\n",
       "      <td>148.0</td>\n",
       "      <td>81.0</td>\n",
       "      <td>65.0</td>\n",
       "      <td>72.0</td>\n",
       "      <td>1.0</td>\n",
       "    </tr>\n",
       "    <tr>\n",
       "      <th>4</th>\n",
       "      <td>103.0</td>\n",
       "      <td>NaN</td>\n",
       "      <td>73.0</td>\n",
       "      <td>71.0</td>\n",
       "      <td>NaN</td>\n",
       "    </tr>\n",
       "    <tr>\n",
       "      <th>5</th>\n",
       "      <td>108.0</td>\n",
       "      <td>30.0</td>\n",
       "      <td>117.0</td>\n",
       "      <td>60.0</td>\n",
       "      <td>NaN</td>\n",
       "    </tr>\n",
       "    <tr>\n",
       "      <th>6</th>\n",
       "      <td>103.0</td>\n",
       "      <td>35.0</td>\n",
       "      <td>105.0</td>\n",
       "      <td>105.0</td>\n",
       "      <td>NaN</td>\n",
       "    </tr>\n",
       "    <tr>\n",
       "      <th>7</th>\n",
       "      <td>80.0</td>\n",
       "      <td>49.0</td>\n",
       "      <td>67.0</td>\n",
       "      <td>93.0</td>\n",
       "      <td>NaN</td>\n",
       "    </tr>\n",
       "    <tr>\n",
       "      <th>8</th>\n",
       "      <td>71.0</td>\n",
       "      <td>70.0</td>\n",
       "      <td>61.0</td>\n",
       "      <td>78.0</td>\n",
       "      <td>NaN</td>\n",
       "    </tr>\n",
       "    <tr>\n",
       "      <th>9</th>\n",
       "      <td>78.0</td>\n",
       "      <td>80.0</td>\n",
       "      <td>80.0</td>\n",
       "      <td>69.0</td>\n",
       "      <td>NaN</td>\n",
       "    </tr>\n",
       "    <tr>\n",
       "      <th>10</th>\n",
       "      <td>59.0</td>\n",
       "      <td>61.0</td>\n",
       "      <td>59.0</td>\n",
       "      <td>65.0</td>\n",
       "      <td>NaN</td>\n",
       "    </tr>\n",
       "    <tr>\n",
       "      <th>11</th>\n",
       "      <td>72.0</td>\n",
       "      <td>79.0</td>\n",
       "      <td>53.0</td>\n",
       "      <td>52.0</td>\n",
       "      <td>NaN</td>\n",
       "    </tr>\n",
       "    <tr>\n",
       "      <th>12</th>\n",
       "      <td>54.0</td>\n",
       "      <td>70.0</td>\n",
       "      <td>28.0</td>\n",
       "      <td>22.0</td>\n",
       "      <td>NaN</td>\n",
       "    </tr>\n",
       "  </tbody>\n",
       "</table>\n",
       "</div>"
      ],
      "text/plain": [
       "     <lambda>                         \n",
       "计划期限      12月    1月     3月     6月   7天\n",
       "投资时间                                  \n",
       "3       148.0  81.0   65.0   72.0  1.0\n",
       "4       103.0   NaN   73.0   71.0  NaN\n",
       "5       108.0  30.0  117.0   60.0  NaN\n",
       "6       103.0  35.0  105.0  105.0  NaN\n",
       "7        80.0  49.0   67.0   93.0  NaN\n",
       "8        71.0  70.0   61.0   78.0  NaN\n",
       "9        78.0  80.0   80.0   69.0  NaN\n",
       "10       59.0  61.0   59.0   65.0  NaN\n",
       "11       72.0  79.0   53.0   52.0  NaN\n",
       "12       54.0  70.0   28.0   22.0  NaN"
      ]
     },
     "execution_count": 59,
     "metadata": {},
     "output_type": "execute_result"
    }
   ],
   "source": [
    "gp_tz_qixian_people"
   ]
  },
  {
   "cell_type": "markdown",
   "metadata": {},
   "source": [
    "- 经典版回款续投比"
   ]
  },
  {
   "cell_type": "code",
   "execution_count": 60,
   "metadata": {
    "scrolled": true
   },
   "outputs": [
    {
     "data": {
      "text/html": [
       "<div>\n",
       "<style scoped>\n",
       "    .dataframe tbody tr th:only-of-type {\n",
       "        vertical-align: middle;\n",
       "    }\n",
       "\n",
       "    .dataframe tbody tr th {\n",
       "        vertical-align: top;\n",
       "    }\n",
       "\n",
       "    .dataframe thead th {\n",
       "        text-align: right;\n",
       "    }\n",
       "</style>\n",
       "<table border=\"1\" class=\"dataframe\">\n",
       "  <thead>\n",
       "    <tr style=\"text-align: right;\">\n",
       "      <th></th>\n",
       "      <th>经典版用户名</th>\n",
       "      <th>会员名</th>\n",
       "    </tr>\n",
       "  </thead>\n",
       "  <tbody>\n",
       "    <tr>\n",
       "      <th>0</th>\n",
       "      <td>13429267258</td>\n",
       "      <td>XJLC_7889513268782fbc</td>\n",
       "    </tr>\n",
       "    <tr>\n",
       "      <th>1</th>\n",
       "      <td>13858369375</td>\n",
       "      <td>XJLC_1098880684f4589</td>\n",
       "    </tr>\n",
       "    <tr>\n",
       "      <th>2</th>\n",
       "      <td>sharwall</td>\n",
       "      <td>XJLC_5961175317357ec</td>\n",
       "    </tr>\n",
       "    <tr>\n",
       "      <th>3</th>\n",
       "      <td>13314253797</td>\n",
       "      <td>XJLC_866811633321f215</td>\n",
       "    </tr>\n",
       "    <tr>\n",
       "      <th>4</th>\n",
       "      <td>18873906557</td>\n",
       "      <td>XJLC_431263772713be3</td>\n",
       "    </tr>\n",
       "  </tbody>\n",
       "</table>\n",
       "</div>"
      ],
      "text/plain": [
       "        经典版用户名                    会员名\n",
       "0  13429267258  XJLC_7889513268782fbc\n",
       "1  13858369375   XJLC_1098880684f4589\n",
       "2     sharwall   XJLC_5961175317357ec\n",
       "3  13314253797  XJLC_866811633321f215\n",
       "4  18873906557   XJLC_431263772713be3"
      ]
     },
     "execution_count": 60,
     "metadata": {},
     "output_type": "execute_result"
    }
   ],
   "source": [
    "# 1、计算回款名单\n",
    "\n",
    "df_md_0.head()"
   ]
  },
  {
   "cell_type": "code",
   "execution_count": 61,
   "metadata": {},
   "outputs": [],
   "source": [
    "df_jd_hk_0 = pd.merge(df_jd_hk,df_md_0,\n",
    "                     left_on='投资用户',right_on='经典版用户名',\n",
    "                     how='left')"
   ]
  },
  {
   "cell_type": "code",
   "execution_count": 62,
   "metadata": {},
   "outputs": [
    {
     "data": {
      "text/html": [
       "<div>\n",
       "<style scoped>\n",
       "    .dataframe tbody tr th:only-of-type {\n",
       "        vertical-align: middle;\n",
       "    }\n",
       "\n",
       "    .dataframe tbody tr th {\n",
       "        vertical-align: top;\n",
       "    }\n",
       "\n",
       "    .dataframe thead th {\n",
       "        text-align: right;\n",
       "    }\n",
       "</style>\n",
       "<table border=\"1\" class=\"dataframe\">\n",
       "  <thead>\n",
       "    <tr style=\"text-align: right;\">\n",
       "      <th></th>\n",
       "      <th>序号</th>\n",
       "      <th>标ID</th>\n",
       "      <th>编号</th>\n",
       "      <th>标名称</th>\n",
       "      <th>投资用户</th>\n",
       "      <th>真实姓名</th>\n",
       "      <th>大额用户</th>\n",
       "      <th>所属公司</th>\n",
       "      <th>会员类型</th>\n",
       "      <th>推荐人</th>\n",
       "      <th>注册时间</th>\n",
       "      <th>标类型</th>\n",
       "      <th>总投资额</th>\n",
       "      <th>账户资金</th>\n",
       "      <th>续投资金</th>\n",
       "      <th>券</th>\n",
       "      <th>工资余额投资</th>\n",
       "      <th>预期收益</th>\n",
       "      <th>利息</th>\n",
       "      <th>投资时间</th>\n",
       "      <th>还款时间</th>\n",
       "      <th>渠道</th>\n",
       "      <th>投资来源</th>\n",
       "      <th>邀请来源</th>\n",
       "      <th>首投时间</th>\n",
       "      <th>还款状态</th>\n",
       "      <th>还款方式</th>\n",
       "      <th>标种类型</th>\n",
       "      <th>投标方式</th>\n",
       "      <th>标限制</th>\n",
       "      <th>投资期限</th>\n",
       "      <th>年利率</th>\n",
       "      <th>加息利率</th>\n",
       "      <th>利息期数</th>\n",
       "      <th>发放时间</th>\n",
       "      <th>身份证</th>\n",
       "      <th>用户来源</th>\n",
       "      <th>经典版用户名</th>\n",
       "      <th>会员名</th>\n",
       "    </tr>\n",
       "  </thead>\n",
       "  <tbody>\n",
       "    <tr>\n",
       "      <th>0</th>\n",
       "      <td>1</td>\n",
       "      <td>5092</td>\n",
       "      <td>HCSTO-2018030217180378198</td>\n",
       "      <td>新手标-439期</td>\n",
       "      <td>18858009365</td>\n",
       "      <td>贺丹露</td>\n",
       "      <td>普通用户</td>\n",
       "      <td>NaN</td>\n",
       "      <td>普通会员</td>\n",
       "      <td>85198789</td>\n",
       "      <td>2018-03-04 10:35</td>\n",
       "      <td>新手标7天</td>\n",
       "      <td>10000.0</td>\n",
       "      <td>10000.0</td>\n",
       "      <td>0.0</td>\n",
       "      <td>0</td>\n",
       "      <td>0</td>\n",
       "      <td>35.0</td>\n",
       "      <td>35.0</td>\n",
       "      <td>2018-03-04 10:45:20</td>\n",
       "      <td>2018-03-11</td>\n",
       "      <td>平台</td>\n",
       "      <td>安卓端</td>\n",
       "      <td>普通邀请</td>\n",
       "      <td>2018-03-04</td>\n",
       "      <td>已还款</td>\n",
       "      <td>NaN</td>\n",
       "      <td>NaN</td>\n",
       "      <td>NaN</td>\n",
       "      <td>---</td>\n",
       "      <td>新手标7天</td>\n",
       "      <td>14.00%</td>\n",
       "      <td>4.00%</td>\n",
       "      <td>0/1</td>\n",
       "      <td>2018-03-11</td>\n",
       "      <td>330903198507084321</td>\n",
       "      <td>非存管版</td>\n",
       "      <td>NaN</td>\n",
       "      <td>NaN</td>\n",
       "    </tr>\n",
       "    <tr>\n",
       "      <th>1</th>\n",
       "      <td>2</td>\n",
       "      <td>5092</td>\n",
       "      <td>HCSTO-2018030217180378198</td>\n",
       "      <td>新手标-439期</td>\n",
       "      <td>13857479191</td>\n",
       "      <td>吴萍</td>\n",
       "      <td>普通用户</td>\n",
       "      <td>NaN</td>\n",
       "      <td>普通会员</td>\n",
       "      <td>15958800059</td>\n",
       "      <td>2018-01-29 20:48</td>\n",
       "      <td>新手标7天</td>\n",
       "      <td>10000.0</td>\n",
       "      <td>10000.0</td>\n",
       "      <td>0.0</td>\n",
       "      <td>0</td>\n",
       "      <td>0</td>\n",
       "      <td>35.0</td>\n",
       "      <td>35.0</td>\n",
       "      <td>2018-03-04 10:41:32</td>\n",
       "      <td>2018-03-11</td>\n",
       "      <td>平台</td>\n",
       "      <td>苹果端</td>\n",
       "      <td>普通邀请</td>\n",
       "      <td>2018-03-04</td>\n",
       "      <td>已还款</td>\n",
       "      <td>NaN</td>\n",
       "      <td>NaN</td>\n",
       "      <td>NaN</td>\n",
       "      <td>---</td>\n",
       "      <td>新手标7天</td>\n",
       "      <td>14.00%</td>\n",
       "      <td>4.00%</td>\n",
       "      <td>0/1</td>\n",
       "      <td>2018-03-11</td>\n",
       "      <td>330211198211090548</td>\n",
       "      <td>非存管版</td>\n",
       "      <td>NaN</td>\n",
       "      <td>NaN</td>\n",
       "    </tr>\n",
       "  </tbody>\n",
       "</table>\n",
       "</div>"
      ],
      "text/plain": [
       "   序号   标ID                         编号       标名称         投资用户 真实姓名  大额用户 所属公司  \\\n",
       "0   1  5092  HCSTO-2018030217180378198  新手标-439期  18858009365  贺丹露  普通用户  NaN   \n",
       "1   2  5092  HCSTO-2018030217180378198  新手标-439期  13857479191   吴萍  普通用户  NaN   \n",
       "\n",
       "   会员类型          推荐人              注册时间    标类型     总投资额     账户资金  续投资金  券  \\\n",
       "0  普通会员     85198789  2018-03-04 10:35  新手标7天  10000.0  10000.0   0.0  0   \n",
       "1  普通会员  15958800059  2018-01-29 20:48  新手标7天  10000.0  10000.0   0.0  0   \n",
       "\n",
       "   工资余额投资  预期收益    利息                 投资时间        还款时间  渠道 投资来源  邀请来源  \\\n",
       "0       0  35.0  35.0  2018-03-04 10:45:20  2018-03-11  平台  安卓端  普通邀请   \n",
       "1       0  35.0  35.0  2018-03-04 10:41:32  2018-03-11  平台  苹果端  普通邀请   \n",
       "\n",
       "         首投时间 还款状态  还款方式  标种类型  投标方式  标限制   投资期限     年利率   加息利率 利息期数  \\\n",
       "0  2018-03-04  已还款   NaN   NaN   NaN  ---  新手标7天  14.00%  4.00%  0/1   \n",
       "1  2018-03-04  已还款   NaN   NaN   NaN  ---  新手标7天  14.00%  4.00%  0/1   \n",
       "\n",
       "         发放时间                 身份证  用户来源 经典版用户名  会员名  \n",
       "0  2018-03-11  330903198507084321  非存管版    NaN  NaN  \n",
       "1  2018-03-11  330211198211090548  非存管版    NaN  NaN  "
      ]
     },
     "execution_count": 62,
     "metadata": {},
     "output_type": "execute_result"
    }
   ],
   "source": [
    "df_jd_hk_0.head(2)"
   ]
  },
  {
   "cell_type": "code",
   "execution_count": 63,
   "metadata": {},
   "outputs": [],
   "source": [
    "df_jd_hk_1 = df_jd_hk_0.loc[:,['还款时间','利息','总投资额','发放时间','会员名']].dropna()"
   ]
  },
  {
   "cell_type": "code",
   "execution_count": 64,
   "metadata": {},
   "outputs": [
    {
     "data": {
      "text/html": [
       "<div>\n",
       "<style scoped>\n",
       "    .dataframe tbody tr th:only-of-type {\n",
       "        vertical-align: middle;\n",
       "    }\n",
       "\n",
       "    .dataframe tbody tr th {\n",
       "        vertical-align: top;\n",
       "    }\n",
       "\n",
       "    .dataframe thead th {\n",
       "        text-align: right;\n",
       "    }\n",
       "</style>\n",
       "<table border=\"1\" class=\"dataframe\">\n",
       "  <thead>\n",
       "    <tr style=\"text-align: right;\">\n",
       "      <th></th>\n",
       "      <th>还款时间</th>\n",
       "      <th>利息</th>\n",
       "      <th>总投资额</th>\n",
       "      <th>发放时间</th>\n",
       "      <th>会员名</th>\n",
       "    </tr>\n",
       "  </thead>\n",
       "  <tbody>\n",
       "    <tr>\n",
       "      <th>25</th>\n",
       "      <td>2018-03-09</td>\n",
       "      <td>1.75</td>\n",
       "      <td>500.0</td>\n",
       "      <td>2018-03-09</td>\n",
       "      <td>XJLC_17222260706dd94d</td>\n",
       "    </tr>\n",
       "    <tr>\n",
       "      <th>73</th>\n",
       "      <td>2018-03-28</td>\n",
       "      <td>7.50</td>\n",
       "      <td>1000.0</td>\n",
       "      <td>2018-03-28</td>\n",
       "      <td>XJLC_92766231102005d0</td>\n",
       "    </tr>\n",
       "    <tr>\n",
       "      <th>74</th>\n",
       "      <td>2018-03-28</td>\n",
       "      <td>52.50</td>\n",
       "      <td>7000.0</td>\n",
       "      <td>2018-03-28</td>\n",
       "      <td>XJLC_92766231102005d0</td>\n",
       "    </tr>\n",
       "    <tr>\n",
       "      <th>83</th>\n",
       "      <td>2018-03-28</td>\n",
       "      <td>12.00</td>\n",
       "      <td>1600.0</td>\n",
       "      <td>2018-03-28</td>\n",
       "      <td>XJLC_815572312123614f</td>\n",
       "    </tr>\n",
       "    <tr>\n",
       "      <th>91</th>\n",
       "      <td>2018-03-28</td>\n",
       "      <td>49.50</td>\n",
       "      <td>6600.0</td>\n",
       "      <td>2018-03-28</td>\n",
       "      <td>XJLC_1756921605ecf83</td>\n",
       "    </tr>\n",
       "    <tr>\n",
       "      <th>103</th>\n",
       "      <td>2018-03-28</td>\n",
       "      <td>6.00</td>\n",
       "      <td>800.0</td>\n",
       "      <td>2018-03-28</td>\n",
       "      <td>XJLC_96978731342374b</td>\n",
       "    </tr>\n",
       "    <tr>\n",
       "      <th>106</th>\n",
       "      <td>2018-03-28</td>\n",
       "      <td>3.75</td>\n",
       "      <td>500.0</td>\n",
       "      <td>2018-03-28</td>\n",
       "      <td>XJLC_29118746045283c</td>\n",
       "    </tr>\n",
       "    <tr>\n",
       "      <th>107</th>\n",
       "      <td>2018-03-28</td>\n",
       "      <td>15.75</td>\n",
       "      <td>2100.0</td>\n",
       "      <td>2018-03-28</td>\n",
       "      <td>XJLC_56554746610353a</td>\n",
       "    </tr>\n",
       "    <tr>\n",
       "      <th>113</th>\n",
       "      <td>2018-03-28</td>\n",
       "      <td>375.00</td>\n",
       "      <td>50000.0</td>\n",
       "      <td>2018-03-28</td>\n",
       "      <td>XJLC_56554746610353a</td>\n",
       "    </tr>\n",
       "    <tr>\n",
       "      <th>118</th>\n",
       "      <td>2018-05-28</td>\n",
       "      <td>262.50</td>\n",
       "      <td>30000.0</td>\n",
       "      <td>2018-03-28</td>\n",
       "      <td>XJLC_29118746045283c</td>\n",
       "    </tr>\n",
       "  </tbody>\n",
       "</table>\n",
       "</div>"
      ],
      "text/plain": [
       "           还款时间      利息     总投资额        发放时间                    会员名\n",
       "25   2018-03-09    1.75    500.0  2018-03-09  XJLC_17222260706dd94d\n",
       "73   2018-03-28    7.50   1000.0  2018-03-28  XJLC_92766231102005d0\n",
       "74   2018-03-28   52.50   7000.0  2018-03-28  XJLC_92766231102005d0\n",
       "83   2018-03-28   12.00   1600.0  2018-03-28  XJLC_815572312123614f\n",
       "91   2018-03-28   49.50   6600.0  2018-03-28   XJLC_1756921605ecf83\n",
       "103  2018-03-28    6.00    800.0  2018-03-28   XJLC_96978731342374b\n",
       "106  2018-03-28    3.75    500.0  2018-03-28   XJLC_29118746045283c\n",
       "107  2018-03-28   15.75   2100.0  2018-03-28   XJLC_56554746610353a\n",
       "113  2018-03-28  375.00  50000.0  2018-03-28   XJLC_56554746610353a\n",
       "118  2018-05-28  262.50  30000.0  2018-03-28   XJLC_29118746045283c"
      ]
     },
     "execution_count": 64,
     "metadata": {},
     "output_type": "execute_result"
    }
   ],
   "source": [
    "df_jd_hk_1.head(10)"
   ]
  },
  {
   "cell_type": "code",
   "execution_count": 65,
   "metadata": {},
   "outputs": [
    {
     "data": {
      "text/plain": [
       "Index(['还款时间', '利息', '总投资额', '发放时间', '会员名'], dtype='object')"
      ]
     },
     "execution_count": 65,
     "metadata": {},
     "output_type": "execute_result"
    }
   ],
   "source": [
    "df_jd_hk_1.columns"
   ]
  },
  {
   "cell_type": "code",
   "execution_count": 66,
   "metadata": {},
   "outputs": [],
   "source": [
    "def h(x1,x2,m,n):\n",
    "    if x1 == x2:\n",
    "        return m + n\n",
    "    else:\n",
    "        return m\n",
    "\n",
    "df_jd_hk_1['回款金额'] =  df_jd_hk_1.apply(lambda x:h(x['还款时间'],x['发放时间'],x['利息'],x['总投资额']),axis=1)    "
   ]
  },
  {
   "cell_type": "code",
   "execution_count": 67,
   "metadata": {
    "scrolled": true
   },
   "outputs": [
    {
     "data": {
      "text/html": [
       "<div>\n",
       "<style scoped>\n",
       "    .dataframe tbody tr th:only-of-type {\n",
       "        vertical-align: middle;\n",
       "    }\n",
       "\n",
       "    .dataframe tbody tr th {\n",
       "        vertical-align: top;\n",
       "    }\n",
       "\n",
       "    .dataframe thead th {\n",
       "        text-align: right;\n",
       "    }\n",
       "</style>\n",
       "<table border=\"1\" class=\"dataframe\">\n",
       "  <thead>\n",
       "    <tr style=\"text-align: right;\">\n",
       "      <th></th>\n",
       "      <th>还款时间</th>\n",
       "      <th>利息</th>\n",
       "      <th>总投资额</th>\n",
       "      <th>发放时间</th>\n",
       "      <th>会员名</th>\n",
       "      <th>回款金额</th>\n",
       "    </tr>\n",
       "  </thead>\n",
       "  <tbody>\n",
       "    <tr>\n",
       "      <th>25</th>\n",
       "      <td>2018-03-09</td>\n",
       "      <td>1.75</td>\n",
       "      <td>500.0</td>\n",
       "      <td>2018-03-09</td>\n",
       "      <td>XJLC_17222260706dd94d</td>\n",
       "      <td>501.75</td>\n",
       "    </tr>\n",
       "    <tr>\n",
       "      <th>73</th>\n",
       "      <td>2018-03-28</td>\n",
       "      <td>7.50</td>\n",
       "      <td>1000.0</td>\n",
       "      <td>2018-03-28</td>\n",
       "      <td>XJLC_92766231102005d0</td>\n",
       "      <td>1007.50</td>\n",
       "    </tr>\n",
       "    <tr>\n",
       "      <th>74</th>\n",
       "      <td>2018-03-28</td>\n",
       "      <td>52.50</td>\n",
       "      <td>7000.0</td>\n",
       "      <td>2018-03-28</td>\n",
       "      <td>XJLC_92766231102005d0</td>\n",
       "      <td>7052.50</td>\n",
       "    </tr>\n",
       "    <tr>\n",
       "      <th>83</th>\n",
       "      <td>2018-03-28</td>\n",
       "      <td>12.00</td>\n",
       "      <td>1600.0</td>\n",
       "      <td>2018-03-28</td>\n",
       "      <td>XJLC_815572312123614f</td>\n",
       "      <td>1612.00</td>\n",
       "    </tr>\n",
       "    <tr>\n",
       "      <th>91</th>\n",
       "      <td>2018-03-28</td>\n",
       "      <td>49.50</td>\n",
       "      <td>6600.0</td>\n",
       "      <td>2018-03-28</td>\n",
       "      <td>XJLC_1756921605ecf83</td>\n",
       "      <td>6649.50</td>\n",
       "    </tr>\n",
       "  </tbody>\n",
       "</table>\n",
       "</div>"
      ],
      "text/plain": [
       "          还款时间     利息    总投资额        发放时间                    会员名     回款金额\n",
       "25  2018-03-09   1.75   500.0  2018-03-09  XJLC_17222260706dd94d   501.75\n",
       "73  2018-03-28   7.50  1000.0  2018-03-28  XJLC_92766231102005d0  1007.50\n",
       "74  2018-03-28  52.50  7000.0  2018-03-28  XJLC_92766231102005d0  7052.50\n",
       "83  2018-03-28  12.00  1600.0  2018-03-28  XJLC_815572312123614f  1612.00\n",
       "91  2018-03-28  49.50  6600.0  2018-03-28   XJLC_1756921605ecf83  6649.50"
      ]
     },
     "execution_count": 67,
     "metadata": {},
     "output_type": "execute_result"
    }
   ],
   "source": [
    "df_jd_hk_1.head()"
   ]
  },
  {
   "cell_type": "code",
   "execution_count": 68,
   "metadata": {},
   "outputs": [],
   "source": [
    "df_big_hk = df_jd_hk_1.loc[:,['发放时间','回款金额','会员名']]"
   ]
  },
  {
   "cell_type": "code",
   "execution_count": 69,
   "metadata": {},
   "outputs": [],
   "source": [
    "df_big_hk['发放时间'] = pd.to_datetime(df_big_hk['发放时间'])"
   ]
  },
  {
   "cell_type": "code",
   "execution_count": 70,
   "metadata": {},
   "outputs": [
    {
     "name": "stdout",
     "output_type": "stream",
     "text": [
      "<class 'pandas.core.frame.DataFrame'>\n",
      "Int64Index: 31457 entries, 25 to 92917\n",
      "Data columns (total 3 columns):\n",
      "发放时间    31457 non-null datetime64[ns]\n",
      "回款金额    31457 non-null float64\n",
      "会员名     31457 non-null object\n",
      "dtypes: datetime64[ns](1), float64(1), object(1)\n",
      "memory usage: 983.0+ KB\n"
     ]
    }
   ],
   "source": [
    "df_big_hk.info()"
   ]
  },
  {
   "cell_type": "code",
   "execution_count": 71,
   "metadata": {},
   "outputs": [
    {
     "data": {
      "text/html": [
       "<div>\n",
       "<style scoped>\n",
       "    .dataframe tbody tr th:only-of-type {\n",
       "        vertical-align: middle;\n",
       "    }\n",
       "\n",
       "    .dataframe tbody tr th {\n",
       "        vertical-align: top;\n",
       "    }\n",
       "\n",
       "    .dataframe thead th {\n",
       "        text-align: right;\n",
       "    }\n",
       "</style>\n",
       "<table border=\"1\" class=\"dataframe\">\n",
       "  <thead>\n",
       "    <tr style=\"text-align: right;\">\n",
       "      <th></th>\n",
       "      <th>订单号</th>\n",
       "      <th>会员名</th>\n",
       "      <th>真实姓名</th>\n",
       "      <th>用户类别</th>\n",
       "      <th>是否VIP</th>\n",
       "      <th>理财专员等级</th>\n",
       "      <th>注册时间</th>\n",
       "      <th>所属公司</th>\n",
       "      <th>充值方式</th>\n",
       "      <th>充值类型</th>\n",
       "      <th>充值银行</th>\n",
       "      <th>充值金额</th>\n",
       "      <th>充值时间</th>\n",
       "      <th>成功时间</th>\n",
       "      <th>充值状态</th>\n",
       "      <th>对帐订单号</th>\n",
       "      <th>身份证</th>\n",
       "      <th>用户来源</th>\n",
       "    </tr>\n",
       "  </thead>\n",
       "  <tbody>\n",
       "    <tr>\n",
       "      <th>0</th>\n",
       "      <td>1</td>\n",
       "      <td>XJLC_45606260081d9f02</td>\n",
       "      <td>叶静</td>\n",
       "      <td>投资人</td>\n",
       "      <td>2</td>\n",
       "      <td>1</td>\n",
       "      <td>2018-02-09 19:43:02</td>\n",
       "      <td>NaN</td>\n",
       "      <td>新网好易付APP支付</td>\n",
       "      <td>NaN</td>\n",
       "      <td>NaN</td>\n",
       "      <td>14.80</td>\n",
       "      <td>2018-09-01 19:35:58</td>\n",
       "      <td>2018-09-01 19:36:23</td>\n",
       "      <td>充值成功</td>\n",
       "      <td>NaN</td>\n",
       "      <td>330227197503030383</td>\n",
       "      <td>存管版</td>\n",
       "    </tr>\n",
       "    <tr>\n",
       "      <th>1</th>\n",
       "      <td>2</td>\n",
       "      <td>XJLC_4694126592598fe7</td>\n",
       "      <td>李娇</td>\n",
       "      <td>投资人</td>\n",
       "      <td>5</td>\n",
       "      <td>1</td>\n",
       "      <td>2018-04-28 07:31:05</td>\n",
       "      <td>NaN</td>\n",
       "      <td>新网好易付APP支付</td>\n",
       "      <td>NaN</td>\n",
       "      <td>NaN</td>\n",
       "      <td>49078.84</td>\n",
       "      <td>2018-09-01 19:29:09</td>\n",
       "      <td>2018-09-01 19:29:39</td>\n",
       "      <td>充值成功</td>\n",
       "      <td>NaN</td>\n",
       "      <td>210106198005316143</td>\n",
       "      <td>存管版</td>\n",
       "    </tr>\n",
       "    <tr>\n",
       "      <th>2</th>\n",
       "      <td>3</td>\n",
       "      <td>XJLC_36724770636e08f</td>\n",
       "      <td>吴淑芳</td>\n",
       "      <td>投资人</td>\n",
       "      <td>4</td>\n",
       "      <td>1</td>\n",
       "      <td>2016-06-02 11:21:22</td>\n",
       "      <td>NaN</td>\n",
       "      <td>新网好易付APP支付</td>\n",
       "      <td>NaN</td>\n",
       "      <td>NaN</td>\n",
       "      <td>11900.00</td>\n",
       "      <td>2018-09-01 19:22:52</td>\n",
       "      <td>2018-09-01 19:23:17</td>\n",
       "      <td>充值成功</td>\n",
       "      <td>NaN</td>\n",
       "      <td>330211197204281042</td>\n",
       "      <td>存管版</td>\n",
       "    </tr>\n",
       "  </tbody>\n",
       "</table>\n",
       "</div>"
      ],
      "text/plain": [
       "   订单号                    会员名 真实姓名 用户类别  是否VIP  理财专员等级                 注册时间  \\\n",
       "0    1  XJLC_45606260081d9f02   叶静  投资人      2       1  2018-02-09 19:43:02   \n",
       "1    2  XJLC_4694126592598fe7   李娇  投资人      5       1  2018-04-28 07:31:05   \n",
       "2    3   XJLC_36724770636e08f  吴淑芳  投资人      4       1  2016-06-02 11:21:22   \n",
       "\n",
       "  所属公司        充值方式  充值类型 充值银行      充值金额                 充值时间  \\\n",
       "0  NaN  新网好易付APP支付   NaN  NaN     14.80  2018-09-01 19:35:58   \n",
       "1  NaN  新网好易付APP支付   NaN  NaN  49078.84  2018-09-01 19:29:09   \n",
       "2  NaN  新网好易付APP支付   NaN  NaN  11900.00  2018-09-01 19:22:52   \n",
       "\n",
       "                  成功时间  充值状态  对帐订单号                 身份证 用户来源  \n",
       "0  2018-09-01 19:36:23  充值成功    NaN  330227197503030383  存管版  \n",
       "1  2018-09-01 19:29:39  充值成功    NaN  210106198005316143  存管版  \n",
       "2  2018-09-01 19:23:17  充值成功    NaN  330211197204281042  存管版  "
      ]
     },
     "execution_count": 71,
     "metadata": {},
     "output_type": "execute_result"
    }
   ],
   "source": [
    "# 2、计算充值名单\n",
    "\n",
    "df_cg_cz.head(3)"
   ]
  },
  {
   "cell_type": "code",
   "execution_count": 72,
   "metadata": {},
   "outputs": [
    {
     "data": {
      "text/plain": [
       "array(['充值成功', '充值失败', '充值未完成'], dtype=object)"
      ]
     },
     "execution_count": 72,
     "metadata": {},
     "output_type": "execute_result"
    }
   ],
   "source": [
    "df_cg_cz['充值状态'].unique()"
   ]
  },
  {
   "cell_type": "code",
   "execution_count": 73,
   "metadata": {},
   "outputs": [],
   "source": [
    "df_big_cg_cz = df_cg_cz.loc[((df_cg_cz['会员名'].isin(df_md['会员名'])) & (df_cg_cz['充值状态'] == '充值成功')),['会员名','充值金额','成功时间']]"
   ]
  },
  {
   "cell_type": "code",
   "execution_count": 74,
   "metadata": {},
   "outputs": [
    {
     "data": {
      "text/html": [
       "<div>\n",
       "<style scoped>\n",
       "    .dataframe tbody tr th:only-of-type {\n",
       "        vertical-align: middle;\n",
       "    }\n",
       "\n",
       "    .dataframe tbody tr th {\n",
       "        vertical-align: top;\n",
       "    }\n",
       "\n",
       "    .dataframe thead th {\n",
       "        text-align: right;\n",
       "    }\n",
       "</style>\n",
       "<table border=\"1\" class=\"dataframe\">\n",
       "  <thead>\n",
       "    <tr style=\"text-align: right;\">\n",
       "      <th></th>\n",
       "      <th>会员名</th>\n",
       "      <th>充值金额</th>\n",
       "      <th>成功时间</th>\n",
       "    </tr>\n",
       "  </thead>\n",
       "  <tbody>\n",
       "    <tr>\n",
       "      <th>2</th>\n",
       "      <td>XJLC_36724770636e08f</td>\n",
       "      <td>11900.00</td>\n",
       "      <td>2018-09-01 19:23:17</td>\n",
       "    </tr>\n",
       "    <tr>\n",
       "      <th>16</th>\n",
       "      <td>XJLC_7175623033187102</td>\n",
       "      <td>4991.59</td>\n",
       "      <td>2018-09-01 17:27:42</td>\n",
       "    </tr>\n",
       "    <tr>\n",
       "      <th>21</th>\n",
       "      <td>XJLC_90465231254f7656</td>\n",
       "      <td>1300.00</td>\n",
       "      <td>2018-09-01 16:53:37</td>\n",
       "    </tr>\n",
       "  </tbody>\n",
       "</table>\n",
       "</div>"
      ],
      "text/plain": [
       "                      会员名      充值金额                 成功时间\n",
       "2    XJLC_36724770636e08f  11900.00  2018-09-01 19:23:17\n",
       "16  XJLC_7175623033187102   4991.59  2018-09-01 17:27:42\n",
       "21  XJLC_90465231254f7656   1300.00  2018-09-01 16:53:37"
      ]
     },
     "execution_count": 74,
     "metadata": {},
     "output_type": "execute_result"
    }
   ],
   "source": [
    "df_big_cg_cz.head(3)"
   ]
  },
  {
   "cell_type": "code",
   "execution_count": 75,
   "metadata": {},
   "outputs": [],
   "source": [
    "df_big_cg_cz['充值时间'] = pd.to_datetime(df_big_cg_cz['成功时间']).dt.date"
   ]
  },
  {
   "cell_type": "code",
   "execution_count": 76,
   "metadata": {},
   "outputs": [],
   "source": [
    "df_big_cg_cz.drop(columns='成功时间',inplace=True)"
   ]
  },
  {
   "cell_type": "code",
   "execution_count": 77,
   "metadata": {},
   "outputs": [],
   "source": [
    "df_big_cz = df_big_cg_cz.copy()"
   ]
  },
  {
   "cell_type": "code",
   "execution_count": 78,
   "metadata": {},
   "outputs": [],
   "source": [
    "df_big_cz['充值时间'] = pd.to_datetime(df_big_cz['充值时间'])"
   ]
  },
  {
   "cell_type": "code",
   "execution_count": 79,
   "metadata": {},
   "outputs": [
    {
     "name": "stdout",
     "output_type": "stream",
     "text": [
      "<class 'pandas.core.frame.DataFrame'>\n",
      "Int64Index: 5704 entries, 2 to 46453\n",
      "Data columns (total 3 columns):\n",
      "会员名     5704 non-null object\n",
      "充值金额    5704 non-null float64\n",
      "充值时间    5704 non-null datetime64[ns]\n",
      "dtypes: datetime64[ns](1), float64(1), object(1)\n",
      "memory usage: 178.2+ KB\n"
     ]
    }
   ],
   "source": [
    "df_big_cz.info()"
   ]
  },
  {
   "cell_type": "code",
   "execution_count": 80,
   "metadata": {},
   "outputs": [
    {
     "data": {
      "text/html": [
       "<div>\n",
       "<style scoped>\n",
       "    .dataframe tbody tr th:only-of-type {\n",
       "        vertical-align: middle;\n",
       "    }\n",
       "\n",
       "    .dataframe tbody tr th {\n",
       "        vertical-align: top;\n",
       "    }\n",
       "\n",
       "    .dataframe thead th {\n",
       "        text-align: right;\n",
       "    }\n",
       "</style>\n",
       "<table border=\"1\" class=\"dataframe\">\n",
       "  <thead>\n",
       "    <tr style=\"text-align: right;\">\n",
       "      <th></th>\n",
       "      <th>加息券成本</th>\n",
       "      <th>总投资金额</th>\n",
       "      <th>投资时间</th>\n",
       "      <th>抵用券成本</th>\n",
       "      <th>新充金额</th>\n",
       "      <th>用户名</th>\n",
       "      <th>续投金额</th>\n",
       "      <th>计划期限</th>\n",
       "    </tr>\n",
       "  </thead>\n",
       "  <tbody>\n",
       "    <tr>\n",
       "      <th>5</th>\n",
       "      <td>0.00</td>\n",
       "      <td>6000.0</td>\n",
       "      <td>2018-06-30 22:56:23</td>\n",
       "      <td>10</td>\n",
       "      <td>2677.94</td>\n",
       "      <td>XJLC_798299702fc4b6</td>\n",
       "      <td>3312.06</td>\n",
       "      <td>6月</td>\n",
       "    </tr>\n",
       "    <tr>\n",
       "      <th>22</th>\n",
       "      <td>0.00</td>\n",
       "      <td>10000.0</td>\n",
       "      <td>2018-06-30 20:17:34</td>\n",
       "      <td>18</td>\n",
       "      <td>8243.99</td>\n",
       "      <td>XJLC_18330166680d2bc2</td>\n",
       "      <td>1738.01</td>\n",
       "      <td>6月</td>\n",
       "    </tr>\n",
       "    <tr>\n",
       "      <th>23</th>\n",
       "      <td>0.00</td>\n",
       "      <td>10000.0</td>\n",
       "      <td>2018-06-30 19:54:21</td>\n",
       "      <td>50</td>\n",
       "      <td>3663.05</td>\n",
       "      <td>XJLC_93122140428db57d</td>\n",
       "      <td>6286.95</td>\n",
       "      <td>12月</td>\n",
       "    </tr>\n",
       "    <tr>\n",
       "      <th>36</th>\n",
       "      <td>0.15</td>\n",
       "      <td>100.0</td>\n",
       "      <td>2018-06-30 18:55:25</td>\n",
       "      <td>0</td>\n",
       "      <td>0.00</td>\n",
       "      <td>XJLC_1160612451948e76</td>\n",
       "      <td>100.00</td>\n",
       "      <td>3月</td>\n",
       "    </tr>\n",
       "    <tr>\n",
       "      <th>37</th>\n",
       "      <td>16.26</td>\n",
       "      <td>5000.0</td>\n",
       "      <td>2018-06-30 18:53:41</td>\n",
       "      <td>0</td>\n",
       "      <td>28.79</td>\n",
       "      <td>XJLC_44725143012de60d</td>\n",
       "      <td>4971.21</td>\n",
       "      <td>12月</td>\n",
       "    </tr>\n",
       "  </tbody>\n",
       "</table>\n",
       "</div>"
      ],
      "text/plain": [
       "    加息券成本    总投资金额                投资时间  抵用券成本     新充金额                    用户名  \\\n",
       "5    0.00   6000.0 2018-06-30 22:56:23     10  2677.94    XJLC_798299702fc4b6   \n",
       "22   0.00  10000.0 2018-06-30 20:17:34     18  8243.99  XJLC_18330166680d2bc2   \n",
       "23   0.00  10000.0 2018-06-30 19:54:21     50  3663.05  XJLC_93122140428db57d   \n",
       "36   0.15    100.0 2018-06-30 18:55:25      0     0.00  XJLC_1160612451948e76   \n",
       "37  16.26   5000.0 2018-06-30 18:53:41      0    28.79  XJLC_44725143012de60d   \n",
       "\n",
       "       续投金额 计划期限  \n",
       "5   3312.06   6月  \n",
       "22  1738.01   6月  \n",
       "23  6286.95  12月  \n",
       "36   100.00   3月  \n",
       "37  4971.21  12月  "
      ]
     },
     "execution_count": 80,
     "metadata": {},
     "output_type": "execute_result"
    }
   ],
   "source": [
    "# 3、计算新充投资名单\n",
    "\n",
    "df_tz.head()"
   ]
  },
  {
   "cell_type": "code",
   "execution_count": 81,
   "metadata": {},
   "outputs": [],
   "source": [
    "df_big_xctz = df_tz.loc[df_tz['新充金额'] != 0,['新充金额','用户名','投资时间']]"
   ]
  },
  {
   "cell_type": "code",
   "execution_count": 82,
   "metadata": {},
   "outputs": [],
   "source": [
    "df_big_xctz.rename(columns={'用户名':'会员名'},inplace=True)"
   ]
  },
  {
   "cell_type": "code",
   "execution_count": 83,
   "metadata": {},
   "outputs": [],
   "source": [
    "df_big_xctz['投资时间'] = pd.to_datetime(df_big_xctz['投资时间']).dt.date"
   ]
  },
  {
   "cell_type": "code",
   "execution_count": 84,
   "metadata": {},
   "outputs": [
    {
     "data": {
      "text/html": [
       "<div>\n",
       "<style scoped>\n",
       "    .dataframe tbody tr th:only-of-type {\n",
       "        vertical-align: middle;\n",
       "    }\n",
       "\n",
       "    .dataframe tbody tr th {\n",
       "        vertical-align: top;\n",
       "    }\n",
       "\n",
       "    .dataframe thead th {\n",
       "        text-align: right;\n",
       "    }\n",
       "</style>\n",
       "<table border=\"1\" class=\"dataframe\">\n",
       "  <thead>\n",
       "    <tr style=\"text-align: right;\">\n",
       "      <th></th>\n",
       "      <th>新充金额</th>\n",
       "      <th>会员名</th>\n",
       "      <th>投资时间</th>\n",
       "    </tr>\n",
       "  </thead>\n",
       "  <tbody>\n",
       "    <tr>\n",
       "      <th>5</th>\n",
       "      <td>2677.94</td>\n",
       "      <td>XJLC_798299702fc4b6</td>\n",
       "      <td>2018-06-30</td>\n",
       "    </tr>\n",
       "    <tr>\n",
       "      <th>22</th>\n",
       "      <td>8243.99</td>\n",
       "      <td>XJLC_18330166680d2bc2</td>\n",
       "      <td>2018-06-30</td>\n",
       "    </tr>\n",
       "    <tr>\n",
       "      <th>23</th>\n",
       "      <td>3663.05</td>\n",
       "      <td>XJLC_93122140428db57d</td>\n",
       "      <td>2018-06-30</td>\n",
       "    </tr>\n",
       "  </tbody>\n",
       "</table>\n",
       "</div>"
      ],
      "text/plain": [
       "       新充金额                    会员名        投资时间\n",
       "5   2677.94    XJLC_798299702fc4b6  2018-06-30\n",
       "22  8243.99  XJLC_18330166680d2bc2  2018-06-30\n",
       "23  3663.05  XJLC_93122140428db57d  2018-06-30"
      ]
     },
     "execution_count": 84,
     "metadata": {},
     "output_type": "execute_result"
    }
   ],
   "source": [
    "df_big_xctz.head(3)"
   ]
  },
  {
   "cell_type": "code",
   "execution_count": 85,
   "metadata": {},
   "outputs": [],
   "source": [
    "# 合并回款、充值、投资"
   ]
  },
  {
   "cell_type": "code",
   "execution_count": 86,
   "metadata": {},
   "outputs": [],
   "source": [
    "gp_big_hk = df_big_hk.groupby(['发放时间','会员名'],as_index=False).sum()\n",
    "gp_big_cz = df_big_cz.groupby(['充值时间','会员名'],as_index=False).sum()\n",
    "gp_big_xctz = df_big_xctz.groupby(['投资时间','会员名'],as_index=False).sum()"
   ]
  },
  {
   "cell_type": "code",
   "execution_count": 87,
   "metadata": {},
   "outputs": [],
   "source": [
    "gp_big_hk.rename(columns={'发放时间':'时间'},inplace=True)\n",
    "gp_big_cz.rename(columns={'充值时间':'时间'},inplace=True)\n",
    "gp_big_xctz.rename(columns={'投资时间':'时间'},inplace=True)"
   ]
  },
  {
   "cell_type": "code",
   "execution_count": 88,
   "metadata": {},
   "outputs": [],
   "source": [
    "gp_big_hk['时间'] = gp_big_hk['时间'].astype(str)\n",
    "gp_big_cz['时间'] = gp_big_cz['时间'].astype(str)\n",
    "gp_big_xctz['时间'] = gp_big_xctz['时间'].astype(str)"
   ]
  },
  {
   "cell_type": "code",
   "execution_count": 89,
   "metadata": {},
   "outputs": [],
   "source": [
    "gp_big_temp = pd.merge(gp_big_hk,gp_big_cz,on = ['时间','会员名'],how = 'outer')\n",
    "gp_big_hcxt = pd.merge(gp_big_temp,gp_big_xctz,on = ['时间','会员名'],how = 'outer')"
   ]
  },
  {
   "cell_type": "code",
   "execution_count": 90,
   "metadata": {},
   "outputs": [
    {
     "data": {
      "text/html": [
       "<div>\n",
       "<style scoped>\n",
       "    .dataframe tbody tr th:only-of-type {\n",
       "        vertical-align: middle;\n",
       "    }\n",
       "\n",
       "    .dataframe tbody tr th {\n",
       "        vertical-align: top;\n",
       "    }\n",
       "\n",
       "    .dataframe thead th {\n",
       "        text-align: right;\n",
       "    }\n",
       "</style>\n",
       "<table border=\"1\" class=\"dataframe\">\n",
       "  <thead>\n",
       "    <tr style=\"text-align: right;\">\n",
       "      <th></th>\n",
       "      <th>时间</th>\n",
       "      <th>会员名</th>\n",
       "      <th>回款金额</th>\n",
       "      <th>充值金额</th>\n",
       "      <th>新充金额</th>\n",
       "    </tr>\n",
       "  </thead>\n",
       "  <tbody>\n",
       "    <tr>\n",
       "      <th>0</th>\n",
       "      <td>2018-03-01</td>\n",
       "      <td>XJLC_10205125931e8735</td>\n",
       "      <td>112.50</td>\n",
       "      <td>NaN</td>\n",
       "      <td>NaN</td>\n",
       "    </tr>\n",
       "    <tr>\n",
       "      <th>1</th>\n",
       "      <td>2018-03-01</td>\n",
       "      <td>XJLC_104361445515d9da</td>\n",
       "      <td>14254.84</td>\n",
       "      <td>NaN</td>\n",
       "      <td>NaN</td>\n",
       "    </tr>\n",
       "    <tr>\n",
       "      <th>2</th>\n",
       "      <td>2018-03-01</td>\n",
       "      <td>XJLC_1086772089feeda</td>\n",
       "      <td>620.00</td>\n",
       "      <td>NaN</td>\n",
       "      <td>NaN</td>\n",
       "    </tr>\n",
       "    <tr>\n",
       "      <th>3</th>\n",
       "      <td>2018-03-01</td>\n",
       "      <td>XJLC_11408146648d0a82</td>\n",
       "      <td>70.00</td>\n",
       "      <td>NaN</td>\n",
       "      <td>NaN</td>\n",
       "    </tr>\n",
       "    <tr>\n",
       "      <th>4</th>\n",
       "      <td>2018-03-01</td>\n",
       "      <td>XJLC_11571137588676b1</td>\n",
       "      <td>509.16</td>\n",
       "      <td>NaN</td>\n",
       "      <td>NaN</td>\n",
       "    </tr>\n",
       "    <tr>\n",
       "      <th>5</th>\n",
       "      <td>2018-03-01</td>\n",
       "      <td>XJLC_1160612451948e76</td>\n",
       "      <td>250.00</td>\n",
       "      <td>NaN</td>\n",
       "      <td>NaN</td>\n",
       "    </tr>\n",
       "    <tr>\n",
       "      <th>6</th>\n",
       "      <td>2018-03-01</td>\n",
       "      <td>XJLC_1173021837168a65</td>\n",
       "      <td>389.57</td>\n",
       "      <td>NaN</td>\n",
       "      <td>NaN</td>\n",
       "    </tr>\n",
       "    <tr>\n",
       "      <th>7</th>\n",
       "      <td>2018-03-01</td>\n",
       "      <td>XJLC_129251073681b6ac</td>\n",
       "      <td>191.66</td>\n",
       "      <td>NaN</td>\n",
       "      <td>NaN</td>\n",
       "    </tr>\n",
       "    <tr>\n",
       "      <th>8</th>\n",
       "      <td>2018-03-01</td>\n",
       "      <td>XJLC_133375107750b0b</td>\n",
       "      <td>120.16</td>\n",
       "      <td>NaN</td>\n",
       "      <td>NaN</td>\n",
       "    </tr>\n",
       "    <tr>\n",
       "      <th>9</th>\n",
       "      <td>2018-03-01</td>\n",
       "      <td>XJLC_1340516757d3a60</td>\n",
       "      <td>268.33</td>\n",
       "      <td>NaN</td>\n",
       "      <td>NaN</td>\n",
       "    </tr>\n",
       "  </tbody>\n",
       "</table>\n",
       "</div>"
      ],
      "text/plain": [
       "           时间                    会员名      回款金额  充值金额  新充金额\n",
       "0  2018-03-01  XJLC_10205125931e8735    112.50   NaN   NaN\n",
       "1  2018-03-01  XJLC_104361445515d9da  14254.84   NaN   NaN\n",
       "2  2018-03-01   XJLC_1086772089feeda    620.00   NaN   NaN\n",
       "3  2018-03-01  XJLC_11408146648d0a82     70.00   NaN   NaN\n",
       "4  2018-03-01  XJLC_11571137588676b1    509.16   NaN   NaN\n",
       "5  2018-03-01  XJLC_1160612451948e76    250.00   NaN   NaN\n",
       "6  2018-03-01  XJLC_1173021837168a65    389.57   NaN   NaN\n",
       "7  2018-03-01  XJLC_129251073681b6ac    191.66   NaN   NaN\n",
       "8  2018-03-01   XJLC_133375107750b0b    120.16   NaN   NaN\n",
       "9  2018-03-01   XJLC_1340516757d3a60    268.33   NaN   NaN"
      ]
     },
     "execution_count": 90,
     "metadata": {},
     "output_type": "execute_result"
    }
   ],
   "source": [
    "gp_big_hcxt.head(10)"
   ]
  },
  {
   "cell_type": "code",
   "execution_count": 91,
   "metadata": {},
   "outputs": [],
   "source": [
    "gp_big_hcxt.fillna(0,inplace=True)"
   ]
  },
  {
   "cell_type": "code",
   "execution_count": 92,
   "metadata": {},
   "outputs": [],
   "source": [
    "# ！扩充每个用户的数据到20180301-20181217的每一天"
   ]
  },
  {
   "cell_type": "code",
   "execution_count": 93,
   "metadata": {},
   "outputs": [
    {
     "data": {
      "text/html": [
       "<div>\n",
       "<style scoped>\n",
       "    .dataframe tbody tr th:only-of-type {\n",
       "        vertical-align: middle;\n",
       "    }\n",
       "\n",
       "    .dataframe tbody tr th {\n",
       "        vertical-align: top;\n",
       "    }\n",
       "\n",
       "    .dataframe thead th {\n",
       "        text-align: right;\n",
       "    }\n",
       "</style>\n",
       "<table border=\"1\" class=\"dataframe\">\n",
       "  <thead>\n",
       "    <tr style=\"text-align: right;\">\n",
       "      <th></th>\n",
       "      <th>时间</th>\n",
       "      <th>会员名</th>\n",
       "    </tr>\n",
       "  </thead>\n",
       "  <tbody>\n",
       "    <tr>\n",
       "      <th>0</th>\n",
       "      <td>2018-03-01</td>\n",
       "      <td>XJLC_7889513268782fbc</td>\n",
       "    </tr>\n",
       "    <tr>\n",
       "      <th>1</th>\n",
       "      <td>2018-03-01</td>\n",
       "      <td>XJLC_1098880684f4589</td>\n",
       "    </tr>\n",
       "    <tr>\n",
       "      <th>2</th>\n",
       "      <td>2018-03-01</td>\n",
       "      <td>XJLC_5961175317357ec</td>\n",
       "    </tr>\n",
       "    <tr>\n",
       "      <th>3</th>\n",
       "      <td>2018-03-01</td>\n",
       "      <td>XJLC_866811633321f215</td>\n",
       "    </tr>\n",
       "    <tr>\n",
       "      <th>4</th>\n",
       "      <td>2018-03-01</td>\n",
       "      <td>XJLC_431263772713be3</td>\n",
       "    </tr>\n",
       "  </tbody>\n",
       "</table>\n",
       "</div>"
      ],
      "text/plain": [
       "          时间                    会员名\n",
       "0 2018-03-01  XJLC_7889513268782fbc\n",
       "1 2018-03-01   XJLC_1098880684f4589\n",
       "2 2018-03-01   XJLC_5961175317357ec\n",
       "3 2018-03-01  XJLC_866811633321f215\n",
       "4 2018-03-01   XJLC_431263772713be3"
      ]
     },
     "execution_count": 93,
     "metadata": {},
     "output_type": "execute_result"
    }
   ],
   "source": [
    "time = pd.DataFrame({'时间':pd.date_range(start='20180301', end='20181217', freq='D')})\n",
    "\n",
    "#构造一个二级行索引，使得每人对应20180301-20180731的每一天\n",
    "index = pd.MultiIndex.from_product([time['时间'],df_md['会员名']], names = ['时间','会员名'])\n",
    "s = pd.Series(1,index=index)\n",
    "\n",
    "df_big_time = s.to_frame().reset_index()\n",
    "del df_big_time[0]\n",
    "df_big_time.head()"
   ]
  },
  {
   "cell_type": "code",
   "execution_count": 94,
   "metadata": {},
   "outputs": [
    {
     "name": "stdout",
     "output_type": "stream",
     "text": [
      "<class 'pandas.core.frame.DataFrame'>\n",
      "RangeIndex: 88768 entries, 0 to 88767\n",
      "Data columns (total 2 columns):\n",
      "时间     88768 non-null datetime64[ns]\n",
      "会员名    88768 non-null object\n",
      "dtypes: datetime64[ns](1), object(1)\n",
      "memory usage: 1.4+ MB\n"
     ]
    }
   ],
   "source": [
    "df_big_time.info()"
   ]
  },
  {
   "cell_type": "code",
   "execution_count": 95,
   "metadata": {},
   "outputs": [],
   "source": [
    "df_big_time['时间'] = df_big_time['时间'].astype(str)"
   ]
  },
  {
   "cell_type": "code",
   "execution_count": 96,
   "metadata": {},
   "outputs": [],
   "source": [
    "gp_big_hcxt_0 = pd.merge(df_big_time,gp_big_hcxt,on=['时间','会员名'],how='left')"
   ]
  },
  {
   "cell_type": "code",
   "execution_count": 97,
   "metadata": {
    "collapsed": true
   },
   "outputs": [
    {
     "data": {
      "text/html": [
       "<div>\n",
       "<style scoped>\n",
       "    .dataframe tbody tr th:only-of-type {\n",
       "        vertical-align: middle;\n",
       "    }\n",
       "\n",
       "    .dataframe tbody tr th {\n",
       "        vertical-align: top;\n",
       "    }\n",
       "\n",
       "    .dataframe thead th {\n",
       "        text-align: right;\n",
       "    }\n",
       "</style>\n",
       "<table border=\"1\" class=\"dataframe\">\n",
       "  <thead>\n",
       "    <tr style=\"text-align: right;\">\n",
       "      <th></th>\n",
       "      <th>时间</th>\n",
       "      <th>会员名</th>\n",
       "      <th>回款金额</th>\n",
       "      <th>充值金额</th>\n",
       "      <th>新充金额</th>\n",
       "    </tr>\n",
       "  </thead>\n",
       "  <tbody>\n",
       "    <tr>\n",
       "      <th>262</th>\n",
       "      <td>2018-03-01</td>\n",
       "      <td>XJLC_10205125931e8735</td>\n",
       "      <td>112.50</td>\n",
       "      <td>0.00</td>\n",
       "      <td>0.00</td>\n",
       "    </tr>\n",
       "    <tr>\n",
       "      <th>566</th>\n",
       "      <td>2018-03-02</td>\n",
       "      <td>XJLC_10205125931e8735</td>\n",
       "      <td>NaN</td>\n",
       "      <td>NaN</td>\n",
       "      <td>NaN</td>\n",
       "    </tr>\n",
       "    <tr>\n",
       "      <th>870</th>\n",
       "      <td>2018-03-03</td>\n",
       "      <td>XJLC_10205125931e8735</td>\n",
       "      <td>NaN</td>\n",
       "      <td>NaN</td>\n",
       "      <td>NaN</td>\n",
       "    </tr>\n",
       "    <tr>\n",
       "      <th>1174</th>\n",
       "      <td>2018-03-04</td>\n",
       "      <td>XJLC_10205125931e8735</td>\n",
       "      <td>NaN</td>\n",
       "      <td>NaN</td>\n",
       "      <td>NaN</td>\n",
       "    </tr>\n",
       "    <tr>\n",
       "      <th>1478</th>\n",
       "      <td>2018-03-05</td>\n",
       "      <td>XJLC_10205125931e8735</td>\n",
       "      <td>24210.00</td>\n",
       "      <td>0.00</td>\n",
       "      <td>0.00</td>\n",
       "    </tr>\n",
       "    <tr>\n",
       "      <th>1782</th>\n",
       "      <td>2018-03-06</td>\n",
       "      <td>XJLC_10205125931e8735</td>\n",
       "      <td>NaN</td>\n",
       "      <td>NaN</td>\n",
       "      <td>NaN</td>\n",
       "    </tr>\n",
       "    <tr>\n",
       "      <th>2086</th>\n",
       "      <td>2018-03-07</td>\n",
       "      <td>XJLC_10205125931e8735</td>\n",
       "      <td>100.00</td>\n",
       "      <td>0.00</td>\n",
       "      <td>0.00</td>\n",
       "    </tr>\n",
       "    <tr>\n",
       "      <th>2390</th>\n",
       "      <td>2018-03-08</td>\n",
       "      <td>XJLC_10205125931e8735</td>\n",
       "      <td>NaN</td>\n",
       "      <td>NaN</td>\n",
       "      <td>NaN</td>\n",
       "    </tr>\n",
       "    <tr>\n",
       "      <th>2694</th>\n",
       "      <td>2018-03-09</td>\n",
       "      <td>XJLC_10205125931e8735</td>\n",
       "      <td>1125.00</td>\n",
       "      <td>0.00</td>\n",
       "      <td>0.00</td>\n",
       "    </tr>\n",
       "    <tr>\n",
       "      <th>2998</th>\n",
       "      <td>2018-03-10</td>\n",
       "      <td>XJLC_10205125931e8735</td>\n",
       "      <td>NaN</td>\n",
       "      <td>NaN</td>\n",
       "      <td>NaN</td>\n",
       "    </tr>\n",
       "    <tr>\n",
       "      <th>3302</th>\n",
       "      <td>2018-03-11</td>\n",
       "      <td>XJLC_10205125931e8735</td>\n",
       "      <td>NaN</td>\n",
       "      <td>NaN</td>\n",
       "      <td>NaN</td>\n",
       "    </tr>\n",
       "    <tr>\n",
       "      <th>3606</th>\n",
       "      <td>2018-03-12</td>\n",
       "      <td>XJLC_10205125931e8735</td>\n",
       "      <td>56.25</td>\n",
       "      <td>0.00</td>\n",
       "      <td>0.00</td>\n",
       "    </tr>\n",
       "    <tr>\n",
       "      <th>3910</th>\n",
       "      <td>2018-03-13</td>\n",
       "      <td>XJLC_10205125931e8735</td>\n",
       "      <td>191.66</td>\n",
       "      <td>0.00</td>\n",
       "      <td>0.00</td>\n",
       "    </tr>\n",
       "    <tr>\n",
       "      <th>4214</th>\n",
       "      <td>2018-03-14</td>\n",
       "      <td>XJLC_10205125931e8735</td>\n",
       "      <td>NaN</td>\n",
       "      <td>NaN</td>\n",
       "      <td>NaN</td>\n",
       "    </tr>\n",
       "    <tr>\n",
       "      <th>4518</th>\n",
       "      <td>2018-03-15</td>\n",
       "      <td>XJLC_10205125931e8735</td>\n",
       "      <td>294.16</td>\n",
       "      <td>0.00</td>\n",
       "      <td>0.00</td>\n",
       "    </tr>\n",
       "    <tr>\n",
       "      <th>4822</th>\n",
       "      <td>2018-03-16</td>\n",
       "      <td>XJLC_10205125931e8735</td>\n",
       "      <td>NaN</td>\n",
       "      <td>NaN</td>\n",
       "      <td>NaN</td>\n",
       "    </tr>\n",
       "    <tr>\n",
       "      <th>5126</th>\n",
       "      <td>2018-03-17</td>\n",
       "      <td>XJLC_10205125931e8735</td>\n",
       "      <td>NaN</td>\n",
       "      <td>NaN</td>\n",
       "      <td>NaN</td>\n",
       "    </tr>\n",
       "    <tr>\n",
       "      <th>5430</th>\n",
       "      <td>2018-03-18</td>\n",
       "      <td>XJLC_10205125931e8735</td>\n",
       "      <td>NaN</td>\n",
       "      <td>NaN</td>\n",
       "      <td>NaN</td>\n",
       "    </tr>\n",
       "    <tr>\n",
       "      <th>5734</th>\n",
       "      <td>2018-03-19</td>\n",
       "      <td>XJLC_10205125931e8735</td>\n",
       "      <td>NaN</td>\n",
       "      <td>NaN</td>\n",
       "      <td>NaN</td>\n",
       "    </tr>\n",
       "    <tr>\n",
       "      <th>6038</th>\n",
       "      <td>2018-03-20</td>\n",
       "      <td>XJLC_10205125931e8735</td>\n",
       "      <td>NaN</td>\n",
       "      <td>NaN</td>\n",
       "      <td>NaN</td>\n",
       "    </tr>\n",
       "    <tr>\n",
       "      <th>6342</th>\n",
       "      <td>2018-03-21</td>\n",
       "      <td>XJLC_10205125931e8735</td>\n",
       "      <td>450.00</td>\n",
       "      <td>0.00</td>\n",
       "      <td>0.00</td>\n",
       "    </tr>\n",
       "    <tr>\n",
       "      <th>6646</th>\n",
       "      <td>2018-03-22</td>\n",
       "      <td>XJLC_10205125931e8735</td>\n",
       "      <td>NaN</td>\n",
       "      <td>NaN</td>\n",
       "      <td>NaN</td>\n",
       "    </tr>\n",
       "    <tr>\n",
       "      <th>6950</th>\n",
       "      <td>2018-03-23</td>\n",
       "      <td>XJLC_10205125931e8735</td>\n",
       "      <td>NaN</td>\n",
       "      <td>NaN</td>\n",
       "      <td>NaN</td>\n",
       "    </tr>\n",
       "    <tr>\n",
       "      <th>7254</th>\n",
       "      <td>2018-03-24</td>\n",
       "      <td>XJLC_10205125931e8735</td>\n",
       "      <td>NaN</td>\n",
       "      <td>NaN</td>\n",
       "      <td>NaN</td>\n",
       "    </tr>\n",
       "    <tr>\n",
       "      <th>7558</th>\n",
       "      <td>2018-03-25</td>\n",
       "      <td>XJLC_10205125931e8735</td>\n",
       "      <td>191.66</td>\n",
       "      <td>0.00</td>\n",
       "      <td>0.00</td>\n",
       "    </tr>\n",
       "    <tr>\n",
       "      <th>7862</th>\n",
       "      <td>2018-03-26</td>\n",
       "      <td>XJLC_10205125931e8735</td>\n",
       "      <td>NaN</td>\n",
       "      <td>NaN</td>\n",
       "      <td>NaN</td>\n",
       "    </tr>\n",
       "    <tr>\n",
       "      <th>8166</th>\n",
       "      <td>2018-03-27</td>\n",
       "      <td>XJLC_10205125931e8735</td>\n",
       "      <td>574.99</td>\n",
       "      <td>0.00</td>\n",
       "      <td>0.00</td>\n",
       "    </tr>\n",
       "    <tr>\n",
       "      <th>8470</th>\n",
       "      <td>2018-03-28</td>\n",
       "      <td>XJLC_10205125931e8735</td>\n",
       "      <td>NaN</td>\n",
       "      <td>NaN</td>\n",
       "      <td>NaN</td>\n",
       "    </tr>\n",
       "    <tr>\n",
       "      <th>8774</th>\n",
       "      <td>2018-03-29</td>\n",
       "      <td>XJLC_10205125931e8735</td>\n",
       "      <td>112.50</td>\n",
       "      <td>0.00</td>\n",
       "      <td>0.00</td>\n",
       "    </tr>\n",
       "    <tr>\n",
       "      <th>9078</th>\n",
       "      <td>2018-03-30</td>\n",
       "      <td>XJLC_10205125931e8735</td>\n",
       "      <td>NaN</td>\n",
       "      <td>NaN</td>\n",
       "      <td>NaN</td>\n",
       "    </tr>\n",
       "    <tr>\n",
       "      <th>...</th>\n",
       "      <td>...</td>\n",
       "      <td>...</td>\n",
       "      <td>...</td>\n",
       "      <td>...</td>\n",
       "      <td>...</td>\n",
       "    </tr>\n",
       "    <tr>\n",
       "      <th>79910</th>\n",
       "      <td>2018-11-18</td>\n",
       "      <td>XJLC_10205125931e8735</td>\n",
       "      <td>NaN</td>\n",
       "      <td>NaN</td>\n",
       "      <td>NaN</td>\n",
       "    </tr>\n",
       "    <tr>\n",
       "      <th>80214</th>\n",
       "      <td>2018-11-19</td>\n",
       "      <td>XJLC_10205125931e8735</td>\n",
       "      <td>NaN</td>\n",
       "      <td>NaN</td>\n",
       "      <td>NaN</td>\n",
       "    </tr>\n",
       "    <tr>\n",
       "      <th>80518</th>\n",
       "      <td>2018-11-20</td>\n",
       "      <td>XJLC_10205125931e8735</td>\n",
       "      <td>NaN</td>\n",
       "      <td>NaN</td>\n",
       "      <td>NaN</td>\n",
       "    </tr>\n",
       "    <tr>\n",
       "      <th>80822</th>\n",
       "      <td>2018-11-21</td>\n",
       "      <td>XJLC_10205125931e8735</td>\n",
       "      <td>NaN</td>\n",
       "      <td>NaN</td>\n",
       "      <td>NaN</td>\n",
       "    </tr>\n",
       "    <tr>\n",
       "      <th>81126</th>\n",
       "      <td>2018-11-22</td>\n",
       "      <td>XJLC_10205125931e8735</td>\n",
       "      <td>NaN</td>\n",
       "      <td>NaN</td>\n",
       "      <td>NaN</td>\n",
       "    </tr>\n",
       "    <tr>\n",
       "      <th>81430</th>\n",
       "      <td>2018-11-23</td>\n",
       "      <td>XJLC_10205125931e8735</td>\n",
       "      <td>NaN</td>\n",
       "      <td>NaN</td>\n",
       "      <td>NaN</td>\n",
       "    </tr>\n",
       "    <tr>\n",
       "      <th>81734</th>\n",
       "      <td>2018-11-24</td>\n",
       "      <td>XJLC_10205125931e8735</td>\n",
       "      <td>NaN</td>\n",
       "      <td>NaN</td>\n",
       "      <td>NaN</td>\n",
       "    </tr>\n",
       "    <tr>\n",
       "      <th>82038</th>\n",
       "      <td>2018-11-25</td>\n",
       "      <td>XJLC_10205125931e8735</td>\n",
       "      <td>NaN</td>\n",
       "      <td>NaN</td>\n",
       "      <td>NaN</td>\n",
       "    </tr>\n",
       "    <tr>\n",
       "      <th>82342</th>\n",
       "      <td>2018-11-26</td>\n",
       "      <td>XJLC_10205125931e8735</td>\n",
       "      <td>NaN</td>\n",
       "      <td>NaN</td>\n",
       "      <td>NaN</td>\n",
       "    </tr>\n",
       "    <tr>\n",
       "      <th>82646</th>\n",
       "      <td>2018-11-27</td>\n",
       "      <td>XJLC_10205125931e8735</td>\n",
       "      <td>NaN</td>\n",
       "      <td>NaN</td>\n",
       "      <td>NaN</td>\n",
       "    </tr>\n",
       "    <tr>\n",
       "      <th>82950</th>\n",
       "      <td>2018-11-28</td>\n",
       "      <td>XJLC_10205125931e8735</td>\n",
       "      <td>NaN</td>\n",
       "      <td>NaN</td>\n",
       "      <td>NaN</td>\n",
       "    </tr>\n",
       "    <tr>\n",
       "      <th>83254</th>\n",
       "      <td>2018-11-29</td>\n",
       "      <td>XJLC_10205125931e8735</td>\n",
       "      <td>NaN</td>\n",
       "      <td>NaN</td>\n",
       "      <td>NaN</td>\n",
       "    </tr>\n",
       "    <tr>\n",
       "      <th>83558</th>\n",
       "      <td>2018-11-30</td>\n",
       "      <td>XJLC_10205125931e8735</td>\n",
       "      <td>NaN</td>\n",
       "      <td>NaN</td>\n",
       "      <td>NaN</td>\n",
       "    </tr>\n",
       "    <tr>\n",
       "      <th>83862</th>\n",
       "      <td>2018-12-01</td>\n",
       "      <td>XJLC_10205125931e8735</td>\n",
       "      <td>NaN</td>\n",
       "      <td>NaN</td>\n",
       "      <td>NaN</td>\n",
       "    </tr>\n",
       "    <tr>\n",
       "      <th>84166</th>\n",
       "      <td>2018-12-02</td>\n",
       "      <td>XJLC_10205125931e8735</td>\n",
       "      <td>NaN</td>\n",
       "      <td>NaN</td>\n",
       "      <td>NaN</td>\n",
       "    </tr>\n",
       "    <tr>\n",
       "      <th>84470</th>\n",
       "      <td>2018-12-03</td>\n",
       "      <td>XJLC_10205125931e8735</td>\n",
       "      <td>NaN</td>\n",
       "      <td>NaN</td>\n",
       "      <td>NaN</td>\n",
       "    </tr>\n",
       "    <tr>\n",
       "      <th>84774</th>\n",
       "      <td>2018-12-04</td>\n",
       "      <td>XJLC_10205125931e8735</td>\n",
       "      <td>NaN</td>\n",
       "      <td>NaN</td>\n",
       "      <td>NaN</td>\n",
       "    </tr>\n",
       "    <tr>\n",
       "      <th>85078</th>\n",
       "      <td>2018-12-05</td>\n",
       "      <td>XJLC_10205125931e8735</td>\n",
       "      <td>NaN</td>\n",
       "      <td>NaN</td>\n",
       "      <td>NaN</td>\n",
       "    </tr>\n",
       "    <tr>\n",
       "      <th>85382</th>\n",
       "      <td>2018-12-06</td>\n",
       "      <td>XJLC_10205125931e8735</td>\n",
       "      <td>NaN</td>\n",
       "      <td>NaN</td>\n",
       "      <td>NaN</td>\n",
       "    </tr>\n",
       "    <tr>\n",
       "      <th>85686</th>\n",
       "      <td>2018-12-07</td>\n",
       "      <td>XJLC_10205125931e8735</td>\n",
       "      <td>NaN</td>\n",
       "      <td>NaN</td>\n",
       "      <td>NaN</td>\n",
       "    </tr>\n",
       "    <tr>\n",
       "      <th>85990</th>\n",
       "      <td>2018-12-08</td>\n",
       "      <td>XJLC_10205125931e8735</td>\n",
       "      <td>NaN</td>\n",
       "      <td>NaN</td>\n",
       "      <td>NaN</td>\n",
       "    </tr>\n",
       "    <tr>\n",
       "      <th>86294</th>\n",
       "      <td>2018-12-09</td>\n",
       "      <td>XJLC_10205125931e8735</td>\n",
       "      <td>NaN</td>\n",
       "      <td>NaN</td>\n",
       "      <td>NaN</td>\n",
       "    </tr>\n",
       "    <tr>\n",
       "      <th>86598</th>\n",
       "      <td>2018-12-10</td>\n",
       "      <td>XJLC_10205125931e8735</td>\n",
       "      <td>NaN</td>\n",
       "      <td>NaN</td>\n",
       "      <td>NaN</td>\n",
       "    </tr>\n",
       "    <tr>\n",
       "      <th>86902</th>\n",
       "      <td>2018-12-11</td>\n",
       "      <td>XJLC_10205125931e8735</td>\n",
       "      <td>NaN</td>\n",
       "      <td>NaN</td>\n",
       "      <td>NaN</td>\n",
       "    </tr>\n",
       "    <tr>\n",
       "      <th>87206</th>\n",
       "      <td>2018-12-12</td>\n",
       "      <td>XJLC_10205125931e8735</td>\n",
       "      <td>5056.25</td>\n",
       "      <td>9999.62</td>\n",
       "      <td>9999.62</td>\n",
       "    </tr>\n",
       "    <tr>\n",
       "      <th>87510</th>\n",
       "      <td>2018-12-13</td>\n",
       "      <td>XJLC_10205125931e8735</td>\n",
       "      <td>NaN</td>\n",
       "      <td>NaN</td>\n",
       "      <td>NaN</td>\n",
       "    </tr>\n",
       "    <tr>\n",
       "      <th>87814</th>\n",
       "      <td>2018-12-14</td>\n",
       "      <td>XJLC_10205125931e8735</td>\n",
       "      <td>NaN</td>\n",
       "      <td>NaN</td>\n",
       "      <td>NaN</td>\n",
       "    </tr>\n",
       "    <tr>\n",
       "      <th>88118</th>\n",
       "      <td>2018-12-15</td>\n",
       "      <td>XJLC_10205125931e8735</td>\n",
       "      <td>NaN</td>\n",
       "      <td>NaN</td>\n",
       "      <td>NaN</td>\n",
       "    </tr>\n",
       "    <tr>\n",
       "      <th>88422</th>\n",
       "      <td>2018-12-16</td>\n",
       "      <td>XJLC_10205125931e8735</td>\n",
       "      <td>NaN</td>\n",
       "      <td>NaN</td>\n",
       "      <td>NaN</td>\n",
       "    </tr>\n",
       "    <tr>\n",
       "      <th>88726</th>\n",
       "      <td>2018-12-17</td>\n",
       "      <td>XJLC_10205125931e8735</td>\n",
       "      <td>NaN</td>\n",
       "      <td>NaN</td>\n",
       "      <td>NaN</td>\n",
       "    </tr>\n",
       "  </tbody>\n",
       "</table>\n",
       "<p>292 rows × 5 columns</p>\n",
       "</div>"
      ],
      "text/plain": [
       "               时间                    会员名      回款金额     充值金额     新充金额\n",
       "262    2018-03-01  XJLC_10205125931e8735    112.50     0.00     0.00\n",
       "566    2018-03-02  XJLC_10205125931e8735       NaN      NaN      NaN\n",
       "870    2018-03-03  XJLC_10205125931e8735       NaN      NaN      NaN\n",
       "1174   2018-03-04  XJLC_10205125931e8735       NaN      NaN      NaN\n",
       "1478   2018-03-05  XJLC_10205125931e8735  24210.00     0.00     0.00\n",
       "1782   2018-03-06  XJLC_10205125931e8735       NaN      NaN      NaN\n",
       "2086   2018-03-07  XJLC_10205125931e8735    100.00     0.00     0.00\n",
       "2390   2018-03-08  XJLC_10205125931e8735       NaN      NaN      NaN\n",
       "2694   2018-03-09  XJLC_10205125931e8735   1125.00     0.00     0.00\n",
       "2998   2018-03-10  XJLC_10205125931e8735       NaN      NaN      NaN\n",
       "3302   2018-03-11  XJLC_10205125931e8735       NaN      NaN      NaN\n",
       "3606   2018-03-12  XJLC_10205125931e8735     56.25     0.00     0.00\n",
       "3910   2018-03-13  XJLC_10205125931e8735    191.66     0.00     0.00\n",
       "4214   2018-03-14  XJLC_10205125931e8735       NaN      NaN      NaN\n",
       "4518   2018-03-15  XJLC_10205125931e8735    294.16     0.00     0.00\n",
       "4822   2018-03-16  XJLC_10205125931e8735       NaN      NaN      NaN\n",
       "5126   2018-03-17  XJLC_10205125931e8735       NaN      NaN      NaN\n",
       "5430   2018-03-18  XJLC_10205125931e8735       NaN      NaN      NaN\n",
       "5734   2018-03-19  XJLC_10205125931e8735       NaN      NaN      NaN\n",
       "6038   2018-03-20  XJLC_10205125931e8735       NaN      NaN      NaN\n",
       "6342   2018-03-21  XJLC_10205125931e8735    450.00     0.00     0.00\n",
       "6646   2018-03-22  XJLC_10205125931e8735       NaN      NaN      NaN\n",
       "6950   2018-03-23  XJLC_10205125931e8735       NaN      NaN      NaN\n",
       "7254   2018-03-24  XJLC_10205125931e8735       NaN      NaN      NaN\n",
       "7558   2018-03-25  XJLC_10205125931e8735    191.66     0.00     0.00\n",
       "7862   2018-03-26  XJLC_10205125931e8735       NaN      NaN      NaN\n",
       "8166   2018-03-27  XJLC_10205125931e8735    574.99     0.00     0.00\n",
       "8470   2018-03-28  XJLC_10205125931e8735       NaN      NaN      NaN\n",
       "8774   2018-03-29  XJLC_10205125931e8735    112.50     0.00     0.00\n",
       "9078   2018-03-30  XJLC_10205125931e8735       NaN      NaN      NaN\n",
       "...           ...                    ...       ...      ...      ...\n",
       "79910  2018-11-18  XJLC_10205125931e8735       NaN      NaN      NaN\n",
       "80214  2018-11-19  XJLC_10205125931e8735       NaN      NaN      NaN\n",
       "80518  2018-11-20  XJLC_10205125931e8735       NaN      NaN      NaN\n",
       "80822  2018-11-21  XJLC_10205125931e8735       NaN      NaN      NaN\n",
       "81126  2018-11-22  XJLC_10205125931e8735       NaN      NaN      NaN\n",
       "81430  2018-11-23  XJLC_10205125931e8735       NaN      NaN      NaN\n",
       "81734  2018-11-24  XJLC_10205125931e8735       NaN      NaN      NaN\n",
       "82038  2018-11-25  XJLC_10205125931e8735       NaN      NaN      NaN\n",
       "82342  2018-11-26  XJLC_10205125931e8735       NaN      NaN      NaN\n",
       "82646  2018-11-27  XJLC_10205125931e8735       NaN      NaN      NaN\n",
       "82950  2018-11-28  XJLC_10205125931e8735       NaN      NaN      NaN\n",
       "83254  2018-11-29  XJLC_10205125931e8735       NaN      NaN      NaN\n",
       "83558  2018-11-30  XJLC_10205125931e8735       NaN      NaN      NaN\n",
       "83862  2018-12-01  XJLC_10205125931e8735       NaN      NaN      NaN\n",
       "84166  2018-12-02  XJLC_10205125931e8735       NaN      NaN      NaN\n",
       "84470  2018-12-03  XJLC_10205125931e8735       NaN      NaN      NaN\n",
       "84774  2018-12-04  XJLC_10205125931e8735       NaN      NaN      NaN\n",
       "85078  2018-12-05  XJLC_10205125931e8735       NaN      NaN      NaN\n",
       "85382  2018-12-06  XJLC_10205125931e8735       NaN      NaN      NaN\n",
       "85686  2018-12-07  XJLC_10205125931e8735       NaN      NaN      NaN\n",
       "85990  2018-12-08  XJLC_10205125931e8735       NaN      NaN      NaN\n",
       "86294  2018-12-09  XJLC_10205125931e8735       NaN      NaN      NaN\n",
       "86598  2018-12-10  XJLC_10205125931e8735       NaN      NaN      NaN\n",
       "86902  2018-12-11  XJLC_10205125931e8735       NaN      NaN      NaN\n",
       "87206  2018-12-12  XJLC_10205125931e8735   5056.25  9999.62  9999.62\n",
       "87510  2018-12-13  XJLC_10205125931e8735       NaN      NaN      NaN\n",
       "87814  2018-12-14  XJLC_10205125931e8735       NaN      NaN      NaN\n",
       "88118  2018-12-15  XJLC_10205125931e8735       NaN      NaN      NaN\n",
       "88422  2018-12-16  XJLC_10205125931e8735       NaN      NaN      NaN\n",
       "88726  2018-12-17  XJLC_10205125931e8735       NaN      NaN      NaN\n",
       "\n",
       "[292 rows x 5 columns]"
      ]
     },
     "execution_count": 97,
     "metadata": {},
     "output_type": "execute_result"
    }
   ],
   "source": [
    "gp_big_hcxt_0[gp_big_hcxt_0['会员名'] == 'XJLC_10205125931e8735']"
   ]
  },
  {
   "cell_type": "code",
   "execution_count": 98,
   "metadata": {},
   "outputs": [],
   "source": [
    "gp_big_hcxt_0.fillna(0,inplace=True)"
   ]
  },
  {
   "cell_type": "code",
   "execution_count": 99,
   "metadata": {},
   "outputs": [],
   "source": [
    "gp_big_hcxt_0['累计还款'] = gp_big_hcxt_0.groupby(['会员名'])['回款金额'].apply(lambda x: x.cumsum())\n",
    "gp_big_hcxt_0['累计充值'] = gp_big_hcxt_0.groupby(['会员名'])['充值金额'].apply(lambda x: x.cumsum())\n",
    "gp_big_hcxt_0['累计投资'] = gp_big_hcxt_0.groupby(['会员名'])['新充金额'].apply(lambda x: x.cumsum())"
   ]
  },
  {
   "cell_type": "code",
   "execution_count": 100,
   "metadata": {},
   "outputs": [],
   "source": [
    "# 累加值：还款>充值>账户"
   ]
  },
  {
   "cell_type": "code",
   "execution_count": 101,
   "metadata": {},
   "outputs": [],
   "source": [
    "gp_big_hcxt_0['累计充值_ok'] = np.where(gp_big_hcxt_0['累计还款'] < gp_big_hcxt_0['累计充值'],gp_big_hcxt_0['累计还款'],gp_big_hcxt_0['累计充值'])\n",
    "gp_big_hcxt_0['累计投资_ok'] = np.where(gp_big_hcxt_0['累计充值_ok'] < gp_big_hcxt_0['累计投资'],gp_big_hcxt_0['累计充值_ok'],gp_big_hcxt_0['累计投资'])"
   ]
  },
  {
   "cell_type": "code",
   "execution_count": 102,
   "metadata": {},
   "outputs": [],
   "source": [
    "# 按日汇总数据"
   ]
  },
  {
   "cell_type": "code",
   "execution_count": 103,
   "metadata": {},
   "outputs": [],
   "source": [
    "res_big_hcxt = gp_big_hcxt_0.groupby('时间')['累计还款','累计投资_ok'].sum()"
   ]
  },
  {
   "cell_type": "code",
   "execution_count": 104,
   "metadata": {},
   "outputs": [
    {
     "data": {
      "text/html": [
       "<div>\n",
       "<style scoped>\n",
       "    .dataframe tbody tr th:only-of-type {\n",
       "        vertical-align: middle;\n",
       "    }\n",
       "\n",
       "    .dataframe tbody tr th {\n",
       "        vertical-align: top;\n",
       "    }\n",
       "\n",
       "    .dataframe thead th {\n",
       "        text-align: right;\n",
       "    }\n",
       "</style>\n",
       "<table border=\"1\" class=\"dataframe\">\n",
       "  <thead>\n",
       "    <tr style=\"text-align: right;\">\n",
       "      <th></th>\n",
       "      <th>累计还款</th>\n",
       "      <th>累计投资_ok</th>\n",
       "    </tr>\n",
       "    <tr>\n",
       "      <th>时间</th>\n",
       "      <th></th>\n",
       "      <th></th>\n",
       "    </tr>\n",
       "  </thead>\n",
       "  <tbody>\n",
       "    <tr>\n",
       "      <th>2018-03-01</th>\n",
       "      <td>1836076.25</td>\n",
       "      <td>35759.07</td>\n",
       "    </tr>\n",
       "    <tr>\n",
       "      <th>2018-03-02</th>\n",
       "      <td>3684216.99</td>\n",
       "      <td>393104.95</td>\n",
       "    </tr>\n",
       "    <tr>\n",
       "      <th>2018-03-03</th>\n",
       "      <td>5241237.65</td>\n",
       "      <td>660875.68</td>\n",
       "    </tr>\n",
       "    <tr>\n",
       "      <th>2018-03-04</th>\n",
       "      <td>5925898.99</td>\n",
       "      <td>796140.41</td>\n",
       "    </tr>\n",
       "    <tr>\n",
       "      <th>2018-03-05</th>\n",
       "      <td>7499547.48</td>\n",
       "      <td>845799.96</td>\n",
       "    </tr>\n",
       "  </tbody>\n",
       "</table>\n",
       "</div>"
      ],
      "text/plain": [
       "                  累计还款    累计投资_ok\n",
       "时间                               \n",
       "2018-03-01  1836076.25   35759.07\n",
       "2018-03-02  3684216.99  393104.95\n",
       "2018-03-03  5241237.65  660875.68\n",
       "2018-03-04  5925898.99  796140.41\n",
       "2018-03-05  7499547.48  845799.96"
      ]
     },
     "execution_count": 104,
     "metadata": {},
     "output_type": "execute_result"
    }
   ],
   "source": [
    "res_big_hcxt.head()"
   ]
  },
  {
   "cell_type": "code",
   "execution_count": 105,
   "metadata": {},
   "outputs": [],
   "source": [
    "# 绘图"
   ]
  },
  {
   "cell_type": "code",
   "execution_count": 106,
   "metadata": {},
   "outputs": [
    {
     "data": {
      "text/plain": [
       "<matplotlib.axes._subplots.AxesSubplot at 0x1444a0b8>"
      ]
     },
     "execution_count": 106,
     "metadata": {},
     "output_type": "execute_result"
    },
    {
     "data": {
      "image/png": "[encoded data removed]",
      "text/plain": [
       "<Figure size 432x288 with 1 Axes>"
      ]
     },
     "metadata": {},
     "output_type": "display_data"
    }
   ],
   "source": [
    "res_big_hcxt.plot()"
   ]
  },
  {
   "cell_type": "code",
   "execution_count": 215,
   "metadata": {},
   "outputs": [
    {
     "data": {
      "text/plain": [
       "<matplotlib.axes._subplots.AxesSubplot at 0xc02fcf8>"
      ]
     },
     "execution_count": 215,
     "metadata": {},
     "output_type": "execute_result"
    },
    {
     "data": {
      "image/png": "[encoded data removed]",
      "text/plain": [
       "<Figure size 1080x720 with 1 Axes>"
      ]
     },
     "metadata": {},
     "output_type": "display_data"
    }
   ],
   "source": [
    "sns.set(style=\"dark\", color_codes=True,font=myfont.get_name())\n",
    "fig,axes = plt.subplots(nrows=1,ncols=1,figsize=(15,10))\n",
    "\n",
    "x = res_big_hcxt.index\n",
    "y = res_big_hcxt.iloc[:,0] - res_big_hcxt.iloc[:,1]\n",
    "\n",
    "# Plot a simple histogram with binsize determined automatically\n",
    "sns.lineplot(x=x, y=y,color='b')"
   ]
  },
  {
   "cell_type": "markdown",
   "metadata": {},
   "source": [
    "- 存管回款复投"
   ]
  },
  {
   "cell_type": "code",
   "execution_count": 107,
   "metadata": {},
   "outputs": [],
   "source": [
    "# 计算存管回款"
   ]
  },
  {
   "cell_type": "code",
   "execution_count": 113,
   "metadata": {},
   "outputs": [
    {
     "data": {
      "text/html": [
       "<div>\n",
       "<style scoped>\n",
       "    .dataframe tbody tr th:only-of-type {\n",
       "        vertical-align: middle;\n",
       "    }\n",
       "\n",
       "    .dataframe tbody tr th {\n",
       "        vertical-align: top;\n",
       "    }\n",
       "\n",
       "    .dataframe thead th {\n",
       "        text-align: right;\n",
       "    }\n",
       "</style>\n",
       "<table border=\"1\" class=\"dataframe\">\n",
       "  <thead>\n",
       "    <tr style=\"text-align: right;\">\n",
       "      <th></th>\n",
       "      <th>序号</th>\n",
       "      <th>标ID</th>\n",
       "      <th>编号</th>\n",
       "      <th>标名称</th>\n",
       "      <th>投资用户</th>\n",
       "      <th>真实姓名</th>\n",
       "      <th>手机号码</th>\n",
       "      <th>所属公司</th>\n",
       "      <th>会员类型</th>\n",
       "      <th>推荐人</th>\n",
       "      <th>注册时间</th>\n",
       "      <th>标类型</th>\n",
       "      <th>总投资额</th>\n",
       "      <th>账户资金</th>\n",
       "      <th>续投资金</th>\n",
       "      <th>券</th>\n",
       "      <th>工资余额投资</th>\n",
       "      <th>预期收益</th>\n",
       "      <th>投资时间</th>\n",
       "      <th>预期还款时间</th>\n",
       "      <th>还款时间</th>\n",
       "      <th>渠道</th>\n",
       "      <th>投资来源</th>\n",
       "      <th>邀请来源</th>\n",
       "      <th>首投时间</th>\n",
       "      <th>还款状态</th>\n",
       "      <th>还款方式</th>\n",
       "      <th>标种类型</th>\n",
       "      <th>投标方式</th>\n",
       "      <th>标限制</th>\n",
       "      <th>投资期限</th>\n",
       "      <th>年利率</th>\n",
       "      <th>加息利率</th>\n",
       "      <th>利息期数</th>\n",
       "      <th>预计本次发放时间</th>\n",
       "      <th>实际本次发放时间</th>\n",
       "      <th>本次发放金额</th>\n",
       "      <th>本次发放本金</th>\n",
       "      <th>总利息</th>\n",
       "      <th>加息标利息</th>\n",
       "      <th>加息券利息</th>\n",
       "      <th>身份证</th>\n",
       "      <th>用户来源</th>\n",
       "    </tr>\n",
       "  </thead>\n",
       "  <tbody>\n",
       "    <tr>\n",
       "      <th>0</th>\n",
       "      <td>29</td>\n",
       "      <td>16</td>\n",
       "      <td>HCYD170912-016</td>\n",
       "      <td>新手标-3期</td>\n",
       "      <td>XJLC_73820227632287a4</td>\n",
       "      <td>杨于军</td>\n",
       "      <td>NaN</td>\n",
       "      <td>NaN</td>\n",
       "      <td>普通会员</td>\n",
       "      <td>NaN</td>\n",
       "      <td>2017-09-03 19:33</td>\n",
       "      <td>7</td>\n",
       "      <td>1000.0</td>\n",
       "      <td>1000.0</td>\n",
       "      <td>0.0</td>\n",
       "      <td>0</td>\n",
       "      <td>0</td>\n",
       "      <td>3.5</td>\n",
       "      <td>2017-09-13 10:34:45</td>\n",
       "      <td>2017-09-21</td>\n",
       "      <td>2017-09-21 09:40:01</td>\n",
       "      <td>平台</td>\n",
       "      <td>安卓端</td>\n",
       "      <td>NaN</td>\n",
       "      <td>2017-09-13</td>\n",
       "      <td>NaN</td>\n",
       "      <td>NaN</td>\n",
       "      <td>NaN</td>\n",
       "      <td>NaN</td>\n",
       "      <td>---</td>\n",
       "      <td>7</td>\n",
       "      <td>14.00%</td>\n",
       "      <td>4.00%</td>\n",
       "      <td>1/1</td>\n",
       "      <td>2017-09-21</td>\n",
       "      <td>2017-09-21</td>\n",
       "      <td>1003.5</td>\n",
       "      <td>1000.0</td>\n",
       "      <td>3.5</td>\n",
       "      <td>0.77</td>\n",
       "      <td>0.0</td>\n",
       "      <td>320113197104292815</td>\n",
       "      <td>存管版</td>\n",
       "    </tr>\n",
       "    <tr>\n",
       "      <th>1</th>\n",
       "      <td>30</td>\n",
       "      <td>16</td>\n",
       "      <td>HCYD170912-016</td>\n",
       "      <td>新手标-3期</td>\n",
       "      <td>XJLC_7849822826180b1e</td>\n",
       "      <td>杨银子</td>\n",
       "      <td>NaN</td>\n",
       "      <td>NaN</td>\n",
       "      <td>普通会员</td>\n",
       "      <td>NaN</td>\n",
       "      <td>2017-09-07 10:21</td>\n",
       "      <td>7</td>\n",
       "      <td>10000.0</td>\n",
       "      <td>10000.0</td>\n",
       "      <td>0.0</td>\n",
       "      <td>0</td>\n",
       "      <td>0</td>\n",
       "      <td>35.0</td>\n",
       "      <td>2017-09-13 10:45:39</td>\n",
       "      <td>2017-09-21</td>\n",
       "      <td>2017-09-21 09:40:01</td>\n",
       "      <td>平台</td>\n",
       "      <td>苹果端</td>\n",
       "      <td>NaN</td>\n",
       "      <td>2017-09-13</td>\n",
       "      <td>NaN</td>\n",
       "      <td>NaN</td>\n",
       "      <td>NaN</td>\n",
       "      <td>NaN</td>\n",
       "      <td>---</td>\n",
       "      <td>7</td>\n",
       "      <td>14.00%</td>\n",
       "      <td>4.00%</td>\n",
       "      <td>1/1</td>\n",
       "      <td>2017-09-21</td>\n",
       "      <td>2017-09-21</td>\n",
       "      <td>10035.0</td>\n",
       "      <td>10000.0</td>\n",
       "      <td>35.0</td>\n",
       "      <td>7.77</td>\n",
       "      <td>0.0</td>\n",
       "      <td>450324199111133167</td>\n",
       "      <td>存管版</td>\n",
       "    </tr>\n",
       "  </tbody>\n",
       "</table>\n",
       "</div>"
      ],
      "text/plain": [
       "   序号  标ID              编号     标名称                   投资用户 真实姓名  手机号码  所属公司  \\\n",
       "0  29   16  HCYD170912-016  新手标-3期  XJLC_73820227632287a4  杨于军   NaN   NaN   \n",
       "1  30   16  HCYD170912-016  新手标-3期  XJLC_7849822826180b1e  杨银子   NaN   NaN   \n",
       "\n",
       "   会员类型  推荐人              注册时间  标类型     总投资额     账户资金  续投资金  券  工资余额投资  预期收益  \\\n",
       "0  普通会员  NaN  2017-09-03 19:33    7   1000.0   1000.0   0.0  0       0   3.5   \n",
       "1  普通会员  NaN  2017-09-07 10:21    7  10000.0  10000.0   0.0  0       0  35.0   \n",
       "\n",
       "                  投资时间      预期还款时间                 还款时间  渠道 投资来源  邀请来源  \\\n",
       "0  2017-09-13 10:34:45  2017-09-21  2017-09-21 09:40:01  平台  安卓端   NaN   \n",
       "1  2017-09-13 10:45:39  2017-09-21  2017-09-21 09:40:01  平台  苹果端   NaN   \n",
       "\n",
       "         首投时间  还款状态  还款方式  标种类型  投标方式  标限制  投资期限     年利率   加息利率 利息期数  \\\n",
       "0  2017-09-13   NaN   NaN   NaN   NaN  ---     7  14.00%  4.00%  1/1   \n",
       "1  2017-09-13   NaN   NaN   NaN   NaN  ---     7  14.00%  4.00%  1/1   \n",
       "\n",
       "     预计本次发放时间    实际本次发放时间   本次发放金额   本次发放本金   总利息  加息标利息  加息券利息  \\\n",
       "0  2017-09-21  2017-09-21   1003.5   1000.0   3.5   0.77    0.0   \n",
       "1  2017-09-21  2017-09-21  10035.0  10000.0  35.0   7.77    0.0   \n",
       "\n",
       "                  身份证 用户来源  \n",
       "0  320113197104292815  存管版  \n",
       "1  450324199111133167  存管版  "
      ]
     },
     "execution_count": 113,
     "metadata": {},
     "output_type": "execute_result"
    }
   ],
   "source": [
    "df_cg_hk.head(2)"
   ]
  },
  {
   "cell_type": "code",
   "execution_count": 137,
   "metadata": {},
   "outputs": [],
   "source": [
    "df_big_cg_hk = df_cg_hk.loc[df_cg_hk['投资用户'].isin(df_md['会员名']),['投资用户','预计本次发放时间','本次发放金额']]"
   ]
  },
  {
   "cell_type": "code",
   "execution_count": 139,
   "metadata": {},
   "outputs": [
    {
     "data": {
      "text/plain": [
       "(100396, 3)"
      ]
     },
     "execution_count": 139,
     "metadata": {},
     "output_type": "execute_result"
    }
   ],
   "source": [
    "df_big_cg_hk.shape"
   ]
  },
  {
   "cell_type": "code",
   "execution_count": 140,
   "metadata": {},
   "outputs": [],
   "source": [
    "df_big_cg_hk['预计本次发放时间'] = pd.to_datetime(df_big_cg_hk['预计本次发放时间'])"
   ]
  },
  {
   "cell_type": "code",
   "execution_count": 142,
   "metadata": {},
   "outputs": [],
   "source": [
    "df_big_cg_hk = df_big_cg_hk.loc[(df_big_cg_hk['预计本次发放时间'] < '2018-12-18'),:]"
   ]
  },
  {
   "cell_type": "code",
   "execution_count": 153,
   "metadata": {},
   "outputs": [],
   "source": [
    "df_big_cg_hk.rename(columns={'投资用户':'用户名','预计本次发放时间':'时间'},inplace=True)"
   ]
  },
  {
   "cell_type": "code",
   "execution_count": 154,
   "metadata": {},
   "outputs": [
    {
     "data": {
      "text/html": [
       "<div>\n",
       "<style scoped>\n",
       "    .dataframe tbody tr th:only-of-type {\n",
       "        vertical-align: middle;\n",
       "    }\n",
       "\n",
       "    .dataframe tbody tr th {\n",
       "        vertical-align: top;\n",
       "    }\n",
       "\n",
       "    .dataframe thead th {\n",
       "        text-align: right;\n",
       "    }\n",
       "</style>\n",
       "<table border=\"1\" class=\"dataframe\">\n",
       "  <thead>\n",
       "    <tr style=\"text-align: right;\">\n",
       "      <th></th>\n",
       "      <th>用户名</th>\n",
       "      <th>时间</th>\n",
       "      <th>本次发放金额</th>\n",
       "    </tr>\n",
       "  </thead>\n",
       "  <tbody>\n",
       "    <tr>\n",
       "      <th>367034</th>\n",
       "      <td>XJLC_3370313479722b59</td>\n",
       "      <td>2018-12-14</td>\n",
       "      <td>17.12</td>\n",
       "    </tr>\n",
       "    <tr>\n",
       "      <th>367035</th>\n",
       "      <td>XJLC_3370313479722b59</td>\n",
       "      <td>2018-12-14</td>\n",
       "      <td>22.83</td>\n",
       "    </tr>\n",
       "    <tr>\n",
       "      <th>367036</th>\n",
       "      <td>XJLC_3370313479722b59</td>\n",
       "      <td>2018-12-14</td>\n",
       "      <td>14.84</td>\n",
       "    </tr>\n",
       "    <tr>\n",
       "      <th>367037</th>\n",
       "      <td>XJLC_3370313479722b59</td>\n",
       "      <td>2018-12-14</td>\n",
       "      <td>18.26</td>\n",
       "    </tr>\n",
       "    <tr>\n",
       "      <th>367098</th>\n",
       "      <td>XJLC_7175623033187102</td>\n",
       "      <td>2018-12-14</td>\n",
       "      <td>6.85</td>\n",
       "    </tr>\n",
       "  </tbody>\n",
       "</table>\n",
       "</div>"
      ],
      "text/plain": [
       "                          用户名         时间  本次发放金额\n",
       "367034  XJLC_3370313479722b59 2018-12-14   17.12\n",
       "367035  XJLC_3370313479722b59 2018-12-14   22.83\n",
       "367036  XJLC_3370313479722b59 2018-12-14   14.84\n",
       "367037  XJLC_3370313479722b59 2018-12-14   18.26\n",
       "367098  XJLC_7175623033187102 2018-12-14    6.85"
      ]
     },
     "execution_count": 154,
     "metadata": {},
     "output_type": "execute_result"
    }
   ],
   "source": [
    "df_big_cg_hk.tail()"
   ]
  },
  {
   "cell_type": "code",
   "execution_count": 144,
   "metadata": {},
   "outputs": [],
   "source": [
    "# 计算存管续投"
   ]
  },
  {
   "cell_type": "code",
   "execution_count": 121,
   "metadata": {},
   "outputs": [],
   "source": [
    "df_xttz_0 = pd.concat([df_cg_zht_0,df_cg_tz_1],ignore_index=True,sort=True)"
   ]
  },
  {
   "cell_type": "code",
   "execution_count": 125,
   "metadata": {},
   "outputs": [],
   "source": [
    "df_xttz_0['投资时间'] = pd.to_datetime(df_xttz_0['投资时间'])"
   ]
  },
  {
   "cell_type": "code",
   "execution_count": 145,
   "metadata": {},
   "outputs": [],
   "source": [
    "df_xttz_1 = df_xttz_0.loc[(df_xttz_0['续投金额'] > 0),['续投金额','用户名','投资时间']]"
   ]
  },
  {
   "cell_type": "code",
   "execution_count": 155,
   "metadata": {},
   "outputs": [],
   "source": [
    "df_xttz_1.rename(columns={'投资时间':'时间'},inplace=True)"
   ]
  },
  {
   "cell_type": "code",
   "execution_count": 156,
   "metadata": {},
   "outputs": [
    {
     "data": {
      "text/html": [
       "<div>\n",
       "<style scoped>\n",
       "    .dataframe tbody tr th:only-of-type {\n",
       "        vertical-align: middle;\n",
       "    }\n",
       "\n",
       "    .dataframe tbody tr th {\n",
       "        vertical-align: top;\n",
       "    }\n",
       "\n",
       "    .dataframe thead th {\n",
       "        text-align: right;\n",
       "    }\n",
       "</style>\n",
       "<table border=\"1\" class=\"dataframe\">\n",
       "  <thead>\n",
       "    <tr style=\"text-align: right;\">\n",
       "      <th></th>\n",
       "      <th>续投金额</th>\n",
       "      <th>用户名</th>\n",
       "      <th>时间</th>\n",
       "    </tr>\n",
       "  </thead>\n",
       "  <tbody>\n",
       "    <tr>\n",
       "      <th>0</th>\n",
       "      <td>56.25</td>\n",
       "      <td>XJLC_1436714351992cb4</td>\n",
       "      <td>2018-06-30</td>\n",
       "    </tr>\n",
       "    <tr>\n",
       "      <th>5</th>\n",
       "      <td>3312.06</td>\n",
       "      <td>XJLC_798299702fc4b6</td>\n",
       "      <td>2018-06-30</td>\n",
       "    </tr>\n",
       "    <tr>\n",
       "      <th>6</th>\n",
       "      <td>898.42</td>\n",
       "      <td>XJLC_61185203509295e5</td>\n",
       "      <td>2018-06-30</td>\n",
       "    </tr>\n",
       "    <tr>\n",
       "      <th>7</th>\n",
       "      <td>1093.79</td>\n",
       "      <td>XJLC_2160915453942657</td>\n",
       "      <td>2018-06-30</td>\n",
       "    </tr>\n",
       "    <tr>\n",
       "      <th>8</th>\n",
       "      <td>5990.00</td>\n",
       "      <td>XJLC_2212637645c0b95</td>\n",
       "      <td>2018-06-30</td>\n",
       "    </tr>\n",
       "  </tbody>\n",
       "</table>\n",
       "</div>"
      ],
      "text/plain": [
       "      续投金额                    用户名          时间\n",
       "0    56.25  XJLC_1436714351992cb4  2018-06-30\n",
       "5  3312.06    XJLC_798299702fc4b6  2018-06-30\n",
       "6   898.42  XJLC_61185203509295e5  2018-06-30\n",
       "7  1093.79  XJLC_2160915453942657  2018-06-30\n",
       "8  5990.00   XJLC_2212637645c0b95  2018-06-30"
      ]
     },
     "execution_count": 156,
     "metadata": {},
     "output_type": "execute_result"
    }
   ],
   "source": [
    "df_xttz_1.head()"
   ]
  },
  {
   "cell_type": "code",
   "execution_count": 152,
   "metadata": {},
   "outputs": [],
   "source": [
    "# 合并回款、续投表"
   ]
  },
  {
   "cell_type": "code",
   "execution_count": 158,
   "metadata": {},
   "outputs": [],
   "source": [
    "df_big_cg_hk['时间'] = df_big_cg_hk['时间'].astype(str)\n",
    "df_xttz_1['时间'] = df_xttz_1['时间'].astype(str)"
   ]
  },
  {
   "cell_type": "code",
   "execution_count": 162,
   "metadata": {},
   "outputs": [],
   "source": [
    "gp_big_cg_hk = df_big_cg_hk.groupby(['时间','用户名'],as_index=False).sum()\n",
    "gp_xttz = df_xttz_1.groupby(['时间','用户名'],as_index=False).sum()"
   ]
  },
  {
   "cell_type": "code",
   "execution_count": 163,
   "metadata": {},
   "outputs": [],
   "source": [
    "df_big_hxt = pd.merge(gp_big_cg_hk,gp_xttz,\n",
    "                    on=['时间','用户名'],\n",
    "                    how='outer')"
   ]
  },
  {
   "cell_type": "code",
   "execution_count": 166,
   "metadata": {},
   "outputs": [
    {
     "data": {
      "text/plain": [
       "(34219, 4)"
      ]
     },
     "execution_count": 166,
     "metadata": {},
     "output_type": "execute_result"
    }
   ],
   "source": [
    "df_big_hxt.shape"
   ]
  },
  {
   "cell_type": "code",
   "execution_count": 177,
   "metadata": {},
   "outputs": [],
   "source": [
    "df_big_hxt.rename(columns={'用户名':'会员名'},inplace=True)"
   ]
  },
  {
   "cell_type": "code",
   "execution_count": 178,
   "metadata": {},
   "outputs": [
    {
     "data": {
      "text/html": [
       "<div>\n",
       "<style scoped>\n",
       "    .dataframe tbody tr th:only-of-type {\n",
       "        vertical-align: middle;\n",
       "    }\n",
       "\n",
       "    .dataframe tbody tr th {\n",
       "        vertical-align: top;\n",
       "    }\n",
       "\n",
       "    .dataframe thead th {\n",
       "        text-align: right;\n",
       "    }\n",
       "</style>\n",
       "<table border=\"1\" class=\"dataframe\">\n",
       "  <thead>\n",
       "    <tr style=\"text-align: right;\">\n",
       "      <th></th>\n",
       "      <th>时间</th>\n",
       "      <th>会员名</th>\n",
       "      <th>本次发放金额</th>\n",
       "      <th>续投金额</th>\n",
       "    </tr>\n",
       "  </thead>\n",
       "  <tbody>\n",
       "    <tr>\n",
       "      <th>0</th>\n",
       "      <td>2017-09-25</td>\n",
       "      <td>XJLC_769362283057f647</td>\n",
       "      <td>10035.00</td>\n",
       "      <td>NaN</td>\n",
       "    </tr>\n",
       "    <tr>\n",
       "      <th>1</th>\n",
       "      <td>2017-10-09</td>\n",
       "      <td>XJLC_26421102338e087c</td>\n",
       "      <td>583.33</td>\n",
       "      <td>NaN</td>\n",
       "    </tr>\n",
       "    <tr>\n",
       "      <th>2</th>\n",
       "      <td>2017-10-09</td>\n",
       "      <td>XJLC_5136396112d</td>\n",
       "      <td>1678.16</td>\n",
       "      <td>NaN</td>\n",
       "    </tr>\n",
       "    <tr>\n",
       "      <th>3</th>\n",
       "      <td>2017-10-09</td>\n",
       "      <td>XJLC_7214674251acf4e</td>\n",
       "      <td>11.66</td>\n",
       "      <td>NaN</td>\n",
       "    </tr>\n",
       "    <tr>\n",
       "      <th>4</th>\n",
       "      <td>2017-10-09</td>\n",
       "      <td>XJLC_798299702fc4b6</td>\n",
       "      <td>11.66</td>\n",
       "      <td>NaN</td>\n",
       "    </tr>\n",
       "  </tbody>\n",
       "</table>\n",
       "</div>"
      ],
      "text/plain": [
       "           时间                    会员名    本次发放金额  续投金额\n",
       "0  2017-09-25  XJLC_769362283057f647  10035.00   NaN\n",
       "1  2017-10-09  XJLC_26421102338e087c    583.33   NaN\n",
       "2  2017-10-09       XJLC_5136396112d   1678.16   NaN\n",
       "3  2017-10-09   XJLC_7214674251acf4e     11.66   NaN\n",
       "4  2017-10-09    XJLC_798299702fc4b6     11.66   NaN"
      ]
     },
     "execution_count": 178,
     "metadata": {},
     "output_type": "execute_result"
    }
   ],
   "source": [
    "df_big_hxt.head()"
   ]
  },
  {
   "cell_type": "code",
   "execution_count": 181,
   "metadata": {},
   "outputs": [
    {
     "data": {
      "text/plain": [
       "'2017-09-25'"
      ]
     },
     "execution_count": 181,
     "metadata": {},
     "output_type": "execute_result"
    }
   ],
   "source": [
    "df_big_hxt['时间'].min()"
   ]
  },
  {
   "cell_type": "code",
   "execution_count": 182,
   "metadata": {},
   "outputs": [],
   "source": [
    "# 将回款，续投记录扩充到20170925-20181217"
   ]
  },
  {
   "cell_type": "code",
   "execution_count": 183,
   "metadata": {},
   "outputs": [],
   "source": [
    "time_2 = pd.DataFrame({'时间':pd.date_range(start='20170925', end='20181217', freq='D')})\n",
    "\n",
    "#构造一个二级行索引，使得每人对应220170925-20181217的每一天\n",
    "index_2 = pd.MultiIndex.from_product([time_2['时间'],df_md['会员名']], names = ['时间','会员名'])\n",
    "s_2 = pd.Series(1,index=index_2)\n",
    "\n",
    "df_big_time_2 = s_2.to_frame().reset_index()\n",
    "\n",
    "df_big_time_2['时间'] = df_big_time_2['时间'].astype(str)\n",
    "\n",
    "del df_big_time_2[0]"
   ]
  },
  {
   "cell_type": "code",
   "execution_count": 184,
   "metadata": {},
   "outputs": [],
   "source": [
    "gp_big_hxt = pd.merge(df_big_time_2,df_big_hxt,on=['时间','会员名'],how='left')"
   ]
  },
  {
   "cell_type": "code",
   "execution_count": 188,
   "metadata": {},
   "outputs": [
    {
     "data": {
      "text/html": [
       "<div>\n",
       "<style scoped>\n",
       "    .dataframe tbody tr th:only-of-type {\n",
       "        vertical-align: middle;\n",
       "    }\n",
       "\n",
       "    .dataframe tbody tr th {\n",
       "        vertical-align: top;\n",
       "    }\n",
       "\n",
       "    .dataframe thead th {\n",
       "        text-align: right;\n",
       "    }\n",
       "</style>\n",
       "<table border=\"1\" class=\"dataframe\">\n",
       "  <thead>\n",
       "    <tr style=\"text-align: right;\">\n",
       "      <th></th>\n",
       "      <th>时间</th>\n",
       "      <th>会员名</th>\n",
       "      <th>本次发放金额</th>\n",
       "      <th>续投金额</th>\n",
       "    </tr>\n",
       "  </thead>\n",
       "  <tbody>\n",
       "    <tr>\n",
       "      <th>136491</th>\n",
       "      <td>2018-12-17</td>\n",
       "      <td>XJLC_7338272299c30de</td>\n",
       "      <td>0.0</td>\n",
       "      <td>0.0</td>\n",
       "    </tr>\n",
       "    <tr>\n",
       "      <th>136492</th>\n",
       "      <td>2018-12-17</td>\n",
       "      <td>XJLC_17222260706dd94d</td>\n",
       "      <td>0.0</td>\n",
       "      <td>0.0</td>\n",
       "    </tr>\n",
       "    <tr>\n",
       "      <th>136493</th>\n",
       "      <td>2018-12-17</td>\n",
       "      <td>XJLC_95630163264e9e31</td>\n",
       "      <td>0.0</td>\n",
       "      <td>0.0</td>\n",
       "    </tr>\n",
       "    <tr>\n",
       "      <th>136494</th>\n",
       "      <td>2018-12-17</td>\n",
       "      <td>XJLC_6704024289302afe</td>\n",
       "      <td>0.0</td>\n",
       "      <td>0.0</td>\n",
       "    </tr>\n",
       "    <tr>\n",
       "      <th>136495</th>\n",
       "      <td>2018-12-17</td>\n",
       "      <td>XJLC_8044924218466af1</td>\n",
       "      <td>0.0</td>\n",
       "      <td>0.0</td>\n",
       "    </tr>\n",
       "  </tbody>\n",
       "</table>\n",
       "</div>"
      ],
      "text/plain": [
       "                时间                    会员名  本次发放金额  续投金额\n",
       "136491  2018-12-17   XJLC_7338272299c30de     0.0   0.0\n",
       "136492  2018-12-17  XJLC_17222260706dd94d     0.0   0.0\n",
       "136493  2018-12-17  XJLC_95630163264e9e31     0.0   0.0\n",
       "136494  2018-12-17  XJLC_6704024289302afe     0.0   0.0\n",
       "136495  2018-12-17  XJLC_8044924218466af1     0.0   0.0"
      ]
     },
     "execution_count": 188,
     "metadata": {},
     "output_type": "execute_result"
    }
   ],
   "source": [
    "gp_big_hxt.tail()"
   ]
  },
  {
   "cell_type": "code",
   "execution_count": 187,
   "metadata": {},
   "outputs": [],
   "source": [
    "gp_big_hxt.fillna(0,inplace=True)"
   ]
  },
  {
   "cell_type": "code",
   "execution_count": 189,
   "metadata": {},
   "outputs": [],
   "source": [
    "gp_big_hxt['累计还款'] = gp_big_hxt.groupby(['会员名'])['本次发放金额'].apply(lambda x: x.cumsum())\n",
    "gp_big_hxt['累计续投'] = gp_big_hxt.groupby(['会员名'])['续投金额'].apply(lambda x: x.cumsum())"
   ]
  },
  {
   "cell_type": "code",
   "execution_count": 102,
   "metadata": {},
   "outputs": [],
   "source": [
    "# 按日汇总数据"
   ]
  },
  {
   "cell_type": "code",
   "execution_count": 190,
   "metadata": {},
   "outputs": [],
   "source": [
    "res_big_hxt = gp_big_hxt.groupby('时间')['累计还款','累计续投'].sum()"
   ]
  },
  {
   "cell_type": "code",
   "execution_count": 191,
   "metadata": {},
   "outputs": [
    {
     "data": {
      "text/html": [
       "<div>\n",
       "<style scoped>\n",
       "    .dataframe tbody tr th:only-of-type {\n",
       "        vertical-align: middle;\n",
       "    }\n",
       "\n",
       "    .dataframe tbody tr th {\n",
       "        vertical-align: top;\n",
       "    }\n",
       "\n",
       "    .dataframe thead th {\n",
       "        text-align: right;\n",
       "    }\n",
       "</style>\n",
       "<table border=\"1\" class=\"dataframe\">\n",
       "  <thead>\n",
       "    <tr style=\"text-align: right;\">\n",
       "      <th></th>\n",
       "      <th>累计还款</th>\n",
       "      <th>累计续投</th>\n",
       "    </tr>\n",
       "    <tr>\n",
       "      <th>时间</th>\n",
       "      <th></th>\n",
       "      <th></th>\n",
       "    </tr>\n",
       "  </thead>\n",
       "  <tbody>\n",
       "    <tr>\n",
       "      <th>2017-09-25</th>\n",
       "      <td>10035.0</td>\n",
       "      <td>0.0</td>\n",
       "    </tr>\n",
       "    <tr>\n",
       "      <th>2017-09-26</th>\n",
       "      <td>10035.0</td>\n",
       "      <td>0.0</td>\n",
       "    </tr>\n",
       "    <tr>\n",
       "      <th>2017-09-27</th>\n",
       "      <td>10035.0</td>\n",
       "      <td>0.0</td>\n",
       "    </tr>\n",
       "    <tr>\n",
       "      <th>2017-09-28</th>\n",
       "      <td>10035.0</td>\n",
       "      <td>0.0</td>\n",
       "    </tr>\n",
       "    <tr>\n",
       "      <th>2017-09-29</th>\n",
       "      <td>10035.0</td>\n",
       "      <td>0.0</td>\n",
       "    </tr>\n",
       "  </tbody>\n",
       "</table>\n",
       "</div>"
      ],
      "text/plain": [
       "               累计还款  累计续投\n",
       "时间                       \n",
       "2017-09-25  10035.0   0.0\n",
       "2017-09-26  10035.0   0.0\n",
       "2017-09-27  10035.0   0.0\n",
       "2017-09-28  10035.0   0.0\n",
       "2017-09-29  10035.0   0.0"
      ]
     },
     "execution_count": 191,
     "metadata": {},
     "output_type": "execute_result"
    }
   ],
   "source": [
    "res_big_hxt.head()"
   ]
  },
  {
   "cell_type": "code",
   "execution_count": 201,
   "metadata": {},
   "outputs": [
    {
     "data": {
      "text/plain": [
       "(449, 2)"
      ]
     },
     "execution_count": 201,
     "metadata": {},
     "output_type": "execute_result"
    }
   ],
   "source": [
    "res_big_hxt.shape"
   ]
  },
  {
   "cell_type": "code",
   "execution_count": 192,
   "metadata": {},
   "outputs": [],
   "source": [
    "# 绘图"
   ]
  },
  {
   "cell_type": "code",
   "execution_count": 212,
   "metadata": {},
   "outputs": [
    {
     "data": {
      "text/plain": [
       "<matplotlib.axes._subplots.AxesSubplot at 0xdd4d278>"
      ]
     },
     "execution_count": 212,
     "metadata": {},
     "output_type": "execute_result"
    },
    {
     "data": {
      "image/png": "[encoded data removed]",
      "text/plain": [
       "<Figure size 1080x720 with 1 Axes>"
      ]
     },
     "metadata": {},
     "output_type": "display_data"
    }
   ],
   "source": [
    "sns.set(style=\"white\",palette=\"deep\", color_codes=True,font=myfont.get_name())\n",
    "fig,axes = plt.subplots(nrows=1,ncols=1,figsize=(15,10))\n",
    "\n",
    "x = res_big_hxt.index\n",
    "y1 = res_big_hxt.iloc[:,0]\n",
    "y2 = res_big_hxt.iloc[:,1]\n",
    "\n",
    "# Plot a simple histogram with binsize determined automatically\n",
    "sns.lineplot(x=x, y=y1,data=gp_big_hxt,color='g')\n",
    "sns.lineplot(x=x, y=y2,data=gp_big_hxt,color='r')"
   ]
  },
  {
   "cell_type": "code",
   "execution_count": 214,
   "metadata": {},
   "outputs": [
    {
     "data": {
      "text/plain": [
       "<matplotlib.axes._subplots.AxesSubplot at 0xb450f28>"
      ]
     },
     "execution_count": 214,
     "metadata": {},
     "output_type": "execute_result"
    },
    {
     "data": {
      "image/png": "[encoded data removed]",
      "text/plain": [
       "<Figure size 1080x720 with 1 Axes>"
      ]
     },
     "metadata": {},
     "output_type": "display_data"
    }
   ],
   "source": [
    "sns.set(style=\"dark\", color_codes=True,font=myfont.get_name())\n",
    "fig,axes = plt.subplots(nrows=1,ncols=1,figsize=(15,10))\n",
    "\n",
    "x = res_big_hxt.index\n",
    "y = res_big_hxt.iloc[:,0] - res_big_hxt.iloc[:,1]\n",
    "\n",
    "# Plot a simple histogram with binsize determined automatically\n",
    "sns.lineplot(x=x, y=y,data=gp_big_hxt,color='b')"
   ]
  },
  {
   "cell_type": "code",
   "execution_count": null,
   "metadata": {},
   "outputs": [],
   "source": []
  },
  {
   "cell_type": "code",
   "execution_count": null,
   "metadata": {},
   "outputs": [],
   "source": []
  },
  {
   "cell_type": "code",
   "execution_count": null,
   "metadata": {},
   "outputs": [],
   "source": []
  },
  {
   "cell_type": "code",
   "execution_count": null,
   "metadata": {},
   "outputs": [],
   "source": []
  },
  {
   "cell_type": "code",
   "execution_count": null,
   "metadata": {},
   "outputs": [],
   "source": []
  },
  {
   "cell_type": "code",
   "execution_count": null,
   "metadata": {},
   "outputs": [],
   "source": []
  },
  {
   "cell_type": "code",
   "execution_count": null,
   "metadata": {},
   "outputs": [],
   "source": []
  },
  {
   "cell_type": "code",
   "execution_count": null,
   "metadata": {},
   "outputs": [],
   "source": []
  }
 ],
 "metadata": {
  "kernelspec": {
   "display_name": "Python 3",
   "language": "python",
   "name": "python3"
  },
  "language_info": {
   "codemirror_mode": {
    "name": "ipython",
    "version": 3
   },
   "file_extension": ".py",
   "mimetype": "text/x-python",
   "name": "python",
   "nbconvert_exporter": "python",
   "pygments_lexer": "ipython3",
   "version": "3.6.5"
  }
 },
 "nbformat": 4,
 "nbformat_minor": 2
}
