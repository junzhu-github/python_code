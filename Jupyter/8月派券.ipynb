{
 "cells": [
  {
   "cell_type": "markdown",
   "metadata": {},
   "source": [
    "- 导入库"
   ]
  },
  {
   "cell_type": "code",
   "execution_count": 1,
   "metadata": {},
   "outputs": [],
   "source": [
    "import os\n",
    "import numpy as np\n",
    "import pandas as pd"
   ]
  },
  {
   "cell_type": "markdown",
   "metadata": {},
   "source": [
    "- 修改工作目录"
   ]
  },
  {
   "cell_type": "code",
   "execution_count": 2,
   "metadata": {},
   "outputs": [],
   "source": [
    "file_add = r'D:\\小鸡理财\\百度云同步盘\\小鸡理财\\每日数据'\n",
    "file_name = '8月派券.xlsx'\n",
    "os.chdir(file_add)"
   ]
  },
  {
   "cell_type": "markdown",
   "metadata": {},
   "source": [
    "- 导入待派券名单"
   ]
  },
  {
   "cell_type": "code",
   "execution_count": 3,
   "metadata": {
    "scrolled": true
   },
   "outputs": [],
   "source": [
    "with pd.ExcelFile(os.path.abspath(file_name)) as xlsx:\n",
    "    df_jd_bj = pd.read_excel(xlsx,'经典本金')\n",
    "    df_jd_lx = pd.read_excel(xlsx,'经典利息')\n",
    "    df_cg = pd.read_excel(xlsx,'存管回款')\n",
    "    df_quan = pd.read_excel(xlsx,'券')\n",
    "    df_yhm = pd.read_excel(xlsx,'用户名')"
   ]
  },
  {
   "cell_type": "code",
   "execution_count": 5,
   "metadata": {
    "scrolled": true
   },
   "outputs": [
    {
     "name": "stdout",
     "output_type": "stream",
     "text": [
      "<class 'pandas.core.frame.DataFrame'>\n",
      "RangeIndex: 16349 entries, 0 to 16348\n",
      "Data columns (total 29 columns):\n",
      "序号         16349 non-null int64\n",
      "ID         16349 non-null int64\n",
      "会员名        16349 non-null object\n",
      "真实姓名       7920 non-null object\n",
      "手机号码       16347 non-null float64\n",
      "所属公司       563 non-null object\n",
      "金额         16349 non-null int64\n",
      "利息率        16349 non-null float64\n",
      "成本         16349 non-null float64\n",
      "大类         16349 non-null object\n",
      "使用状态       16349 non-null object\n",
      "状态         16349 non-null object\n",
      "生效时间       16349 non-null object\n",
      "失效时间       16349 non-null object\n",
      "创建时间       16349 non-null object\n",
      "处理时间       16349 non-null object\n",
      "使用时间       16349 non-null object\n",
      "投标号        16349 non-null int64\n",
      "投标金额       16349 non-null int64\n",
      "冻结的匹配金额    16349 non-null int64\n",
      "券别名        16349 non-null object\n",
      "描述         1065 non-null object\n",
      "处理人        15524 non-null object\n",
      "期限         16349 non-null int64\n",
      "一级上线       11932 non-null object\n",
      "一级等级       11932 non-null object\n",
      "一级部门       11932 non-null object\n",
      "身份证        7920 non-null object\n",
      "用户来源       16349 non-null object\n",
      "dtypes: float64(3), int64(7), object(19)\n",
      "memory usage: 3.6+ MB\n"
     ]
    }
   ],
   "source": [
    "df_quan.info()"
   ]
  },
  {
   "cell_type": "markdown",
   "metadata": {},
   "source": [
    "- 导入已派券名单"
   ]
  },
  {
   "cell_type": "code",
   "execution_count": 6,
   "metadata": {},
   "outputs": [],
   "source": [
    "df_rcd = pd.read_excel('已派券记录.xlsx')"
   ]
  },
  {
   "cell_type": "code",
   "execution_count": 7,
   "metadata": {},
   "outputs": [
    {
     "name": "stdout",
     "output_type": "stream",
     "text": [
      "<class 'pandas.core.frame.DataFrame'>\n",
      "RangeIndex: 506 entries, 0 to 505\n",
      "Data columns (total 1 columns):\n",
      "身份证    506 non-null object\n",
      "dtypes: object(1)\n",
      "memory usage: 4.0+ KB\n"
     ]
    }
   ],
   "source": [
    "df_rcd.info()"
   ]
  },
  {
   "cell_type": "markdown",
   "metadata": {},
   "source": [
    "- 合并回款表"
   ]
  },
  {
   "cell_type": "code",
   "execution_count": 8,
   "metadata": {},
   "outputs": [
    {
     "name": "stdout",
     "output_type": "stream",
     "text": [
      "<class 'pandas.core.frame.DataFrame'>\n",
      "RangeIndex: 47509 entries, 0 to 47508\n",
      "Data columns (total 4 columns):\n",
      "投资期限        47509 non-null object\n",
      "本次发放金额      47509 non-null float64\n",
      "身份证         47509 non-null object\n",
      "预计本次发放时间    47509 non-null object\n",
      "dtypes: float64(1), object(3)\n",
      "memory usage: 1.4+ MB\n"
     ]
    },
    {
     "name": "stderr",
     "output_type": "stream",
     "text": [
      "C:\\Users\\Xiaoji\\Anaconda3\\lib\\site-packages\\pandas\\core\\frame.py:6201: FutureWarning: Sorting because non-concatenation axis is not aligned. A future version\n",
      "of pandas will change to not sort by default.\n",
      "\n",
      "To accept the future behavior, pass 'sort=True'.\n",
      "\n",
      "To retain the current behavior and silence the warning, pass sort=False\n",
      "\n",
      "  sort=sort)\n"
     ]
    }
   ],
   "source": [
    "df_hk = df_jd_bj.append([df_jd_lx,df_cg], ignore_index=True)\n",
    "df_hk.info()"
   ]
  },
  {
   "cell_type": "markdown",
   "metadata": {},
   "source": [
    "- 整理回款表"
   ]
  },
  {
   "cell_type": "code",
   "execution_count": 12,
   "metadata": {
    "scrolled": true
   },
   "outputs": [
    {
     "ename": "KeyError",
     "evalue": "'预计本次发放时间'",
     "output_type": "error",
     "traceback": [
      "\u001b[1;31m---------------------------------------------------------------------------\u001b[0m",
      "\u001b[1;31mKeyError\u001b[0m                                  Traceback (most recent call last)",
      "\u001b[1;32m~\\Anaconda3\\lib\\site-packages\\pandas\\core\\indexes\\base.py\u001b[0m in \u001b[0;36mget_loc\u001b[1;34m(self, key, method, tolerance)\u001b[0m\n\u001b[0;32m   3062\u001b[0m             \u001b[1;32mtry\u001b[0m\u001b[1;33m:\u001b[0m\u001b[1;33m\u001b[0m\u001b[0m\n\u001b[1;32m-> 3063\u001b[1;33m                 \u001b[1;32mreturn\u001b[0m \u001b[0mself\u001b[0m\u001b[1;33m.\u001b[0m\u001b[0m_engine\u001b[0m\u001b[1;33m.\u001b[0m\u001b[0mget_loc\u001b[0m\u001b[1;33m(\u001b[0m\u001b[0mkey\u001b[0m\u001b[1;33m)\u001b[0m\u001b[1;33m\u001b[0m\u001b[0m\n\u001b[0m\u001b[0;32m   3064\u001b[0m             \u001b[1;32mexcept\u001b[0m \u001b[0mKeyError\u001b[0m\u001b[1;33m:\u001b[0m\u001b[1;33m\u001b[0m\u001b[0m\n",
      "\u001b[1;32mpandas\\_libs\\index.pyx\u001b[0m in \u001b[0;36mpandas._libs.index.IndexEngine.get_loc\u001b[1;34m()\u001b[0m\n",
      "\u001b[1;32mpandas\\_libs\\index.pyx\u001b[0m in \u001b[0;36mpandas._libs.index.IndexEngine.get_loc\u001b[1;34m()\u001b[0m\n",
      "\u001b[1;32mpandas\\_libs\\hashtable_class_helper.pxi\u001b[0m in \u001b[0;36mpandas._libs.hashtable.PyObjectHashTable.get_item\u001b[1;34m()\u001b[0m\n",
      "\u001b[1;32mpandas\\_libs\\hashtable_class_helper.pxi\u001b[0m in \u001b[0;36mpandas._libs.hashtable.PyObjectHashTable.get_item\u001b[1;34m()\u001b[0m\n",
      "\u001b[1;31mKeyError\u001b[0m: '预计本次发放时间'",
      "\nDuring handling of the above exception, another exception occurred:\n",
      "\u001b[1;31mKeyError\u001b[0m                                  Traceback (most recent call last)",
      "\u001b[1;32m<ipython-input-12-8e4d1bd18842>\u001b[0m in \u001b[0;36m<module>\u001b[1;34m()\u001b[0m\n\u001b[0;32m      1\u001b[0m \u001b[0mdf_hk\u001b[0m\u001b[1;33m[\u001b[0m\u001b[1;34m'身份证'\u001b[0m\u001b[1;33m]\u001b[0m \u001b[1;33m=\u001b[0m \u001b[0mdf_hk\u001b[0m\u001b[1;33m[\u001b[0m\u001b[1;34m'身份证'\u001b[0m\u001b[1;33m]\u001b[0m\u001b[1;33m.\u001b[0m\u001b[0mstr\u001b[0m\u001b[1;33m.\u001b[0m\u001b[0mupper\u001b[0m\u001b[1;33m(\u001b[0m\u001b[1;33m)\u001b[0m\u001b[1;33m\u001b[0m\u001b[0m\n\u001b[0;32m      2\u001b[0m \u001b[1;33m\u001b[0m\u001b[0m\n\u001b[1;32m----> 3\u001b[1;33m \u001b[0mdf_hk\u001b[0m\u001b[1;33m[\u001b[0m\u001b[1;34m'发放时间'\u001b[0m\u001b[1;33m]\u001b[0m \u001b[1;33m=\u001b[0m \u001b[0mpd\u001b[0m\u001b[1;33m.\u001b[0m\u001b[0mto_datetime\u001b[0m\u001b[1;33m(\u001b[0m\u001b[0mdf_hk\u001b[0m\u001b[1;33m[\u001b[0m\u001b[1;34m'预计本次发放时间'\u001b[0m\u001b[1;33m]\u001b[0m\u001b[1;33m)\u001b[0m\u001b[1;33m\u001b[0m\u001b[0m\n\u001b[0m\u001b[0;32m      4\u001b[0m \u001b[1;32mdel\u001b[0m \u001b[0mdf_hk\u001b[0m\u001b[1;33m[\u001b[0m\u001b[1;34m'预计本次发放时间'\u001b[0m\u001b[1;33m]\u001b[0m\u001b[1;33m\u001b[0m\u001b[0m\n\u001b[0;32m      5\u001b[0m \u001b[1;33m\u001b[0m\u001b[0m\n",
      "\u001b[1;32m~\\Anaconda3\\lib\\site-packages\\pandas\\core\\frame.py\u001b[0m in \u001b[0;36m__getitem__\u001b[1;34m(self, key)\u001b[0m\n\u001b[0;32m   2683\u001b[0m             \u001b[1;32mreturn\u001b[0m \u001b[0mself\u001b[0m\u001b[1;33m.\u001b[0m\u001b[0m_getitem_multilevel\u001b[0m\u001b[1;33m(\u001b[0m\u001b[0mkey\u001b[0m\u001b[1;33m)\u001b[0m\u001b[1;33m\u001b[0m\u001b[0m\n\u001b[0;32m   2684\u001b[0m         \u001b[1;32melse\u001b[0m\u001b[1;33m:\u001b[0m\u001b[1;33m\u001b[0m\u001b[0m\n\u001b[1;32m-> 2685\u001b[1;33m             \u001b[1;32mreturn\u001b[0m \u001b[0mself\u001b[0m\u001b[1;33m.\u001b[0m\u001b[0m_getitem_column\u001b[0m\u001b[1;33m(\u001b[0m\u001b[0mkey\u001b[0m\u001b[1;33m)\u001b[0m\u001b[1;33m\u001b[0m\u001b[0m\n\u001b[0m\u001b[0;32m   2686\u001b[0m \u001b[1;33m\u001b[0m\u001b[0m\n\u001b[0;32m   2687\u001b[0m     \u001b[1;32mdef\u001b[0m \u001b[0m_getitem_column\u001b[0m\u001b[1;33m(\u001b[0m\u001b[0mself\u001b[0m\u001b[1;33m,\u001b[0m \u001b[0mkey\u001b[0m\u001b[1;33m)\u001b[0m\u001b[1;33m:\u001b[0m\u001b[1;33m\u001b[0m\u001b[0m\n",
      "\u001b[1;32m~\\Anaconda3\\lib\\site-packages\\pandas\\core\\frame.py\u001b[0m in \u001b[0;36m_getitem_column\u001b[1;34m(self, key)\u001b[0m\n\u001b[0;32m   2690\u001b[0m         \u001b[1;31m# get column\u001b[0m\u001b[1;33m\u001b[0m\u001b[1;33m\u001b[0m\u001b[0m\n\u001b[0;32m   2691\u001b[0m         \u001b[1;32mif\u001b[0m \u001b[0mself\u001b[0m\u001b[1;33m.\u001b[0m\u001b[0mcolumns\u001b[0m\u001b[1;33m.\u001b[0m\u001b[0mis_unique\u001b[0m\u001b[1;33m:\u001b[0m\u001b[1;33m\u001b[0m\u001b[0m\n\u001b[1;32m-> 2692\u001b[1;33m             \u001b[1;32mreturn\u001b[0m \u001b[0mself\u001b[0m\u001b[1;33m.\u001b[0m\u001b[0m_get_item_cache\u001b[0m\u001b[1;33m(\u001b[0m\u001b[0mkey\u001b[0m\u001b[1;33m)\u001b[0m\u001b[1;33m\u001b[0m\u001b[0m\n\u001b[0m\u001b[0;32m   2693\u001b[0m \u001b[1;33m\u001b[0m\u001b[0m\n\u001b[0;32m   2694\u001b[0m         \u001b[1;31m# duplicate columns & possible reduce dimensionality\u001b[0m\u001b[1;33m\u001b[0m\u001b[1;33m\u001b[0m\u001b[0m\n",
      "\u001b[1;32m~\\Anaconda3\\lib\\site-packages\\pandas\\core\\generic.py\u001b[0m in \u001b[0;36m_get_item_cache\u001b[1;34m(self, item)\u001b[0m\n\u001b[0;32m   2484\u001b[0m         \u001b[0mres\u001b[0m \u001b[1;33m=\u001b[0m \u001b[0mcache\u001b[0m\u001b[1;33m.\u001b[0m\u001b[0mget\u001b[0m\u001b[1;33m(\u001b[0m\u001b[0mitem\u001b[0m\u001b[1;33m)\u001b[0m\u001b[1;33m\u001b[0m\u001b[0m\n\u001b[0;32m   2485\u001b[0m         \u001b[1;32mif\u001b[0m \u001b[0mres\u001b[0m \u001b[1;32mis\u001b[0m \u001b[1;32mNone\u001b[0m\u001b[1;33m:\u001b[0m\u001b[1;33m\u001b[0m\u001b[0m\n\u001b[1;32m-> 2486\u001b[1;33m             \u001b[0mvalues\u001b[0m \u001b[1;33m=\u001b[0m \u001b[0mself\u001b[0m\u001b[1;33m.\u001b[0m\u001b[0m_data\u001b[0m\u001b[1;33m.\u001b[0m\u001b[0mget\u001b[0m\u001b[1;33m(\u001b[0m\u001b[0mitem\u001b[0m\u001b[1;33m)\u001b[0m\u001b[1;33m\u001b[0m\u001b[0m\n\u001b[0m\u001b[0;32m   2487\u001b[0m             \u001b[0mres\u001b[0m \u001b[1;33m=\u001b[0m \u001b[0mself\u001b[0m\u001b[1;33m.\u001b[0m\u001b[0m_box_item_values\u001b[0m\u001b[1;33m(\u001b[0m\u001b[0mitem\u001b[0m\u001b[1;33m,\u001b[0m \u001b[0mvalues\u001b[0m\u001b[1;33m)\u001b[0m\u001b[1;33m\u001b[0m\u001b[0m\n\u001b[0;32m   2488\u001b[0m             \u001b[0mcache\u001b[0m\u001b[1;33m[\u001b[0m\u001b[0mitem\u001b[0m\u001b[1;33m]\u001b[0m \u001b[1;33m=\u001b[0m \u001b[0mres\u001b[0m\u001b[1;33m\u001b[0m\u001b[0m\n",
      "\u001b[1;32m~\\Anaconda3\\lib\\site-packages\\pandas\\core\\internals.py\u001b[0m in \u001b[0;36mget\u001b[1;34m(self, item, fastpath)\u001b[0m\n\u001b[0;32m   4113\u001b[0m \u001b[1;33m\u001b[0m\u001b[0m\n\u001b[0;32m   4114\u001b[0m             \u001b[1;32mif\u001b[0m \u001b[1;32mnot\u001b[0m \u001b[0misna\u001b[0m\u001b[1;33m(\u001b[0m\u001b[0mitem\u001b[0m\u001b[1;33m)\u001b[0m\u001b[1;33m:\u001b[0m\u001b[1;33m\u001b[0m\u001b[0m\n\u001b[1;32m-> 4115\u001b[1;33m                 \u001b[0mloc\u001b[0m \u001b[1;33m=\u001b[0m \u001b[0mself\u001b[0m\u001b[1;33m.\u001b[0m\u001b[0mitems\u001b[0m\u001b[1;33m.\u001b[0m\u001b[0mget_loc\u001b[0m\u001b[1;33m(\u001b[0m\u001b[0mitem\u001b[0m\u001b[1;33m)\u001b[0m\u001b[1;33m\u001b[0m\u001b[0m\n\u001b[0m\u001b[0;32m   4116\u001b[0m             \u001b[1;32melse\u001b[0m\u001b[1;33m:\u001b[0m\u001b[1;33m\u001b[0m\u001b[0m\n\u001b[0;32m   4117\u001b[0m                 \u001b[0mindexer\u001b[0m \u001b[1;33m=\u001b[0m \u001b[0mnp\u001b[0m\u001b[1;33m.\u001b[0m\u001b[0marange\u001b[0m\u001b[1;33m(\u001b[0m\u001b[0mlen\u001b[0m\u001b[1;33m(\u001b[0m\u001b[0mself\u001b[0m\u001b[1;33m.\u001b[0m\u001b[0mitems\u001b[0m\u001b[1;33m)\u001b[0m\u001b[1;33m)\u001b[0m\u001b[1;33m[\u001b[0m\u001b[0misna\u001b[0m\u001b[1;33m(\u001b[0m\u001b[0mself\u001b[0m\u001b[1;33m.\u001b[0m\u001b[0mitems\u001b[0m\u001b[1;33m)\u001b[0m\u001b[1;33m]\u001b[0m\u001b[1;33m\u001b[0m\u001b[0m\n",
      "\u001b[1;32m~\\Anaconda3\\lib\\site-packages\\pandas\\core\\indexes\\base.py\u001b[0m in \u001b[0;36mget_loc\u001b[1;34m(self, key, method, tolerance)\u001b[0m\n\u001b[0;32m   3063\u001b[0m                 \u001b[1;32mreturn\u001b[0m \u001b[0mself\u001b[0m\u001b[1;33m.\u001b[0m\u001b[0m_engine\u001b[0m\u001b[1;33m.\u001b[0m\u001b[0mget_loc\u001b[0m\u001b[1;33m(\u001b[0m\u001b[0mkey\u001b[0m\u001b[1;33m)\u001b[0m\u001b[1;33m\u001b[0m\u001b[0m\n\u001b[0;32m   3064\u001b[0m             \u001b[1;32mexcept\u001b[0m \u001b[0mKeyError\u001b[0m\u001b[1;33m:\u001b[0m\u001b[1;33m\u001b[0m\u001b[0m\n\u001b[1;32m-> 3065\u001b[1;33m                 \u001b[1;32mreturn\u001b[0m \u001b[0mself\u001b[0m\u001b[1;33m.\u001b[0m\u001b[0m_engine\u001b[0m\u001b[1;33m.\u001b[0m\u001b[0mget_loc\u001b[0m\u001b[1;33m(\u001b[0m\u001b[0mself\u001b[0m\u001b[1;33m.\u001b[0m\u001b[0m_maybe_cast_indexer\u001b[0m\u001b[1;33m(\u001b[0m\u001b[0mkey\u001b[0m\u001b[1;33m)\u001b[0m\u001b[1;33m)\u001b[0m\u001b[1;33m\u001b[0m\u001b[0m\n\u001b[0m\u001b[0;32m   3066\u001b[0m \u001b[1;33m\u001b[0m\u001b[0m\n\u001b[0;32m   3067\u001b[0m         \u001b[0mindexer\u001b[0m \u001b[1;33m=\u001b[0m \u001b[0mself\u001b[0m\u001b[1;33m.\u001b[0m\u001b[0mget_indexer\u001b[0m\u001b[1;33m(\u001b[0m\u001b[1;33m[\u001b[0m\u001b[0mkey\u001b[0m\u001b[1;33m]\u001b[0m\u001b[1;33m,\u001b[0m \u001b[0mmethod\u001b[0m\u001b[1;33m=\u001b[0m\u001b[0mmethod\u001b[0m\u001b[1;33m,\u001b[0m \u001b[0mtolerance\u001b[0m\u001b[1;33m=\u001b[0m\u001b[0mtolerance\u001b[0m\u001b[1;33m)\u001b[0m\u001b[1;33m\u001b[0m\u001b[0m\n",
      "\u001b[1;32mpandas\\_libs\\index.pyx\u001b[0m in \u001b[0;36mpandas._libs.index.IndexEngine.get_loc\u001b[1;34m()\u001b[0m\n",
      "\u001b[1;32mpandas\\_libs\\index.pyx\u001b[0m in \u001b[0;36mpandas._libs.index.IndexEngine.get_loc\u001b[1;34m()\u001b[0m\n",
      "\u001b[1;32mpandas\\_libs\\hashtable_class_helper.pxi\u001b[0m in \u001b[0;36mpandas._libs.hashtable.PyObjectHashTable.get_item\u001b[1;34m()\u001b[0m\n",
      "\u001b[1;32mpandas\\_libs\\hashtable_class_helper.pxi\u001b[0m in \u001b[0;36mpandas._libs.hashtable.PyObjectHashTable.get_item\u001b[1;34m()\u001b[0m\n",
      "\u001b[1;31mKeyError\u001b[0m: '预计本次发放时间'"
     ]
    }
   ],
   "source": [
    "df_hk['身份证'] = df_hk['身份证'].str.upper()\n",
    "\n",
    "df_hk['发放时间'] = pd.to_datetime(df_hk['预计本次发放时间'])\n",
    "del df_hk['预计本次发放时间']\n",
    "\n",
    "df_hk.info()b"
   ]
  },
  {
   "cell_type": "markdown",
   "metadata": {},
   "source": [
    "- 筛选当日回款"
   ]
  },
  {
   "cell_type": "code",
   "execution_count": 17,
   "metadata": {
    "scrolled": true
   },
   "outputs": [
    {
     "data": {
      "text/html": [
       "<div>\n",
       "<style scoped>\n",
       "    .dataframe tbody tr th:only-of-type {\n",
       "        vertical-align: middle;\n",
       "    }\n",
       "\n",
       "    .dataframe tbody tr th {\n",
       "        vertical-align: top;\n",
       "    }\n",
       "\n",
       "    .dataframe thead th {\n",
       "        text-align: right;\n",
       "    }\n",
       "</style>\n",
       "<table border=\"1\" class=\"dataframe\">\n",
       "  <thead>\n",
       "    <tr style=\"text-align: right;\">\n",
       "      <th></th>\n",
       "      <th>投资期限</th>\n",
       "      <th>本次发放金额</th>\n",
       "      <th>身份证</th>\n",
       "      <th>发放时间</th>\n",
       "    </tr>\n",
       "  </thead>\n",
       "  <tbody>\n",
       "    <tr>\n",
       "      <th>5898</th>\n",
       "      <td>12月标</td>\n",
       "      <td>1000.00</td>\n",
       "      <td>513922198805171226</td>\n",
       "      <td>2018-08-15</td>\n",
       "    </tr>\n",
       "    <tr>\n",
       "      <th>5899</th>\n",
       "      <td>12月标</td>\n",
       "      <td>1000.00</td>\n",
       "      <td>330226197604082880</td>\n",
       "      <td>2018-08-15</td>\n",
       "    </tr>\n",
       "    <tr>\n",
       "      <th>5900</th>\n",
       "      <td>12月标</td>\n",
       "      <td>10000.00</td>\n",
       "      <td>330211196905200028</td>\n",
       "      <td>2018-08-15</td>\n",
       "    </tr>\n",
       "    <tr>\n",
       "      <th>5901</th>\n",
       "      <td>12月标</td>\n",
       "      <td>1000.00</td>\n",
       "      <td>330203196407070339</td>\n",
       "      <td>2018-08-15</td>\n",
       "    </tr>\n",
       "    <tr>\n",
       "      <th>5902</th>\n",
       "      <td>12月标</td>\n",
       "      <td>9000.00</td>\n",
       "      <td>411328199106053997</td>\n",
       "      <td>2018-08-15</td>\n",
       "    </tr>\n",
       "    <tr>\n",
       "      <th>5903</th>\n",
       "      <td>12月标</td>\n",
       "      <td>10000.00</td>\n",
       "      <td>330225198008244829</td>\n",
       "      <td>2018-08-15</td>\n",
       "    </tr>\n",
       "    <tr>\n",
       "      <th>5904</th>\n",
       "      <td>12月标</td>\n",
       "      <td>10000.00</td>\n",
       "      <td>330211196905200028</td>\n",
       "      <td>2018-08-15</td>\n",
       "    </tr>\n",
       "    <tr>\n",
       "      <th>5905</th>\n",
       "      <td>12月标</td>\n",
       "      <td>6000.00</td>\n",
       "      <td>33022219740819314X</td>\n",
       "      <td>2018-08-15</td>\n",
       "    </tr>\n",
       "    <tr>\n",
       "      <th>5906</th>\n",
       "      <td>12月标</td>\n",
       "      <td>50000.00</td>\n",
       "      <td>330206198610313111</td>\n",
       "      <td>2018-08-15</td>\n",
       "    </tr>\n",
       "    <tr>\n",
       "      <th>5907</th>\n",
       "      <td>12月标</td>\n",
       "      <td>30000.00</td>\n",
       "      <td>332621197001045687</td>\n",
       "      <td>2018-08-15</td>\n",
       "    </tr>\n",
       "    <tr>\n",
       "      <th>5908</th>\n",
       "      <td>12月标</td>\n",
       "      <td>10000.00</td>\n",
       "      <td>320281196606168512</td>\n",
       "      <td>2018-08-15</td>\n",
       "    </tr>\n",
       "    <tr>\n",
       "      <th>5909</th>\n",
       "      <td>12月标</td>\n",
       "      <td>23000.00</td>\n",
       "      <td>33038119850918172X</td>\n",
       "      <td>2018-08-15</td>\n",
       "    </tr>\n",
       "    <tr>\n",
       "      <th>5910</th>\n",
       "      <td>12月标</td>\n",
       "      <td>23000.00</td>\n",
       "      <td>33038119850918172X</td>\n",
       "      <td>2018-08-15</td>\n",
       "    </tr>\n",
       "    <tr>\n",
       "      <th>5911</th>\n",
       "      <td>12月标</td>\n",
       "      <td>23000.00</td>\n",
       "      <td>330122199011270040</td>\n",
       "      <td>2018-08-15</td>\n",
       "    </tr>\n",
       "    <tr>\n",
       "      <th>5912</th>\n",
       "      <td>12月标</td>\n",
       "      <td>8000.00</td>\n",
       "      <td>500381198908136821</td>\n",
       "      <td>2018-08-15</td>\n",
       "    </tr>\n",
       "    <tr>\n",
       "      <th>5913</th>\n",
       "      <td>12月标</td>\n",
       "      <td>8000.00</td>\n",
       "      <td>210302197509053317</td>\n",
       "      <td>2018-08-15</td>\n",
       "    </tr>\n",
       "    <tr>\n",
       "      <th>5914</th>\n",
       "      <td>12月标</td>\n",
       "      <td>2000.00</td>\n",
       "      <td>330224197704097737</td>\n",
       "      <td>2018-08-15</td>\n",
       "    </tr>\n",
       "    <tr>\n",
       "      <th>5915</th>\n",
       "      <td>12月标</td>\n",
       "      <td>20000.00</td>\n",
       "      <td>330501198805067322</td>\n",
       "      <td>2018-08-15</td>\n",
       "    </tr>\n",
       "    <tr>\n",
       "      <th>5916</th>\n",
       "      <td>12月标</td>\n",
       "      <td>1000.00</td>\n",
       "      <td>31010219601006201X</td>\n",
       "      <td>2018-08-15</td>\n",
       "    </tr>\n",
       "    <tr>\n",
       "      <th>5917</th>\n",
       "      <td>12月标</td>\n",
       "      <td>13000.00</td>\n",
       "      <td>411328199106053997</td>\n",
       "      <td>2018-08-15</td>\n",
       "    </tr>\n",
       "    <tr>\n",
       "      <th>5918</th>\n",
       "      <td>12月标</td>\n",
       "      <td>80000.00</td>\n",
       "      <td>330501198805067322</td>\n",
       "      <td>2018-08-15</td>\n",
       "    </tr>\n",
       "    <tr>\n",
       "      <th>5919</th>\n",
       "      <td>12月标</td>\n",
       "      <td>15000.00</td>\n",
       "      <td>332621197001045687</td>\n",
       "      <td>2018-08-15</td>\n",
       "    </tr>\n",
       "    <tr>\n",
       "      <th>5920</th>\n",
       "      <td>12月标</td>\n",
       "      <td>12000.00</td>\n",
       "      <td>332621197001045687</td>\n",
       "      <td>2018-08-15</td>\n",
       "    </tr>\n",
       "    <tr>\n",
       "      <th>5921</th>\n",
       "      <td>12月标</td>\n",
       "      <td>100000.00</td>\n",
       "      <td>332621197001045687</td>\n",
       "      <td>2018-08-15</td>\n",
       "    </tr>\n",
       "    <tr>\n",
       "      <th>5922</th>\n",
       "      <td>12月标</td>\n",
       "      <td>43000.00</td>\n",
       "      <td>332621197001045687</td>\n",
       "      <td>2018-08-15</td>\n",
       "    </tr>\n",
       "    <tr>\n",
       "      <th>5923</th>\n",
       "      <td>12月标</td>\n",
       "      <td>10000.00</td>\n",
       "      <td>330227196611083023</td>\n",
       "      <td>2018-08-15</td>\n",
       "    </tr>\n",
       "    <tr>\n",
       "      <th>5924</th>\n",
       "      <td>12月标</td>\n",
       "      <td>10000.00</td>\n",
       "      <td>330227196611083023</td>\n",
       "      <td>2018-08-15</td>\n",
       "    </tr>\n",
       "    <tr>\n",
       "      <th>5925</th>\n",
       "      <td>12月标</td>\n",
       "      <td>10000.00</td>\n",
       "      <td>330227196611083023</td>\n",
       "      <td>2018-08-15</td>\n",
       "    </tr>\n",
       "    <tr>\n",
       "      <th>5926</th>\n",
       "      <td>12月标</td>\n",
       "      <td>2000.00</td>\n",
       "      <td>511123197105175214</td>\n",
       "      <td>2018-08-15</td>\n",
       "    </tr>\n",
       "    <tr>\n",
       "      <th>5927</th>\n",
       "      <td>12月标</td>\n",
       "      <td>3000.00</td>\n",
       "      <td>110221196906285029</td>\n",
       "      <td>2018-08-15</td>\n",
       "    </tr>\n",
       "    <tr>\n",
       "      <th>...</th>\n",
       "      <td>...</td>\n",
       "      <td>...</td>\n",
       "      <td>...</td>\n",
       "      <td>...</td>\n",
       "    </tr>\n",
       "    <tr>\n",
       "      <th>34847</th>\n",
       "      <td>180</td>\n",
       "      <td>52.32</td>\n",
       "      <td>630103198112030027</td>\n",
       "      <td>2018-08-15</td>\n",
       "    </tr>\n",
       "    <tr>\n",
       "      <th>34848</th>\n",
       "      <td>180</td>\n",
       "      <td>863.58</td>\n",
       "      <td>34082719840314434X</td>\n",
       "      <td>2018-08-15</td>\n",
       "    </tr>\n",
       "    <tr>\n",
       "      <th>34849</th>\n",
       "      <td>180</td>\n",
       "      <td>518.15</td>\n",
       "      <td>330227196210082046</td>\n",
       "      <td>2018-08-15</td>\n",
       "    </tr>\n",
       "    <tr>\n",
       "      <th>34850</th>\n",
       "      <td>180</td>\n",
       "      <td>656.32</td>\n",
       "      <td>230206196208080521</td>\n",
       "      <td>2018-08-15</td>\n",
       "    </tr>\n",
       "    <tr>\n",
       "      <th>34851</th>\n",
       "      <td>180</td>\n",
       "      <td>863.58</td>\n",
       "      <td>330211195911120724</td>\n",
       "      <td>2018-08-15</td>\n",
       "    </tr>\n",
       "    <tr>\n",
       "      <th>34852</th>\n",
       "      <td>180</td>\n",
       "      <td>17.40</td>\n",
       "      <td>430481198904253569</td>\n",
       "      <td>2018-08-15</td>\n",
       "    </tr>\n",
       "    <tr>\n",
       "      <th>34853</th>\n",
       "      <td>180</td>\n",
       "      <td>122.06</td>\n",
       "      <td>33068219890219102X</td>\n",
       "      <td>2018-08-15</td>\n",
       "    </tr>\n",
       "    <tr>\n",
       "      <th>34854</th>\n",
       "      <td>180</td>\n",
       "      <td>863.58</td>\n",
       "      <td>34082719840314434X</td>\n",
       "      <td>2018-08-15</td>\n",
       "    </tr>\n",
       "    <tr>\n",
       "      <th>34855</th>\n",
       "      <td>180</td>\n",
       "      <td>17.45</td>\n",
       "      <td>411081198211065958</td>\n",
       "      <td>2018-08-15</td>\n",
       "    </tr>\n",
       "    <tr>\n",
       "      <th>34856</th>\n",
       "      <td>180</td>\n",
       "      <td>863.58</td>\n",
       "      <td>340825198409021313</td>\n",
       "      <td>2018-08-15</td>\n",
       "    </tr>\n",
       "    <tr>\n",
       "      <th>34857</th>\n",
       "      <td>180</td>\n",
       "      <td>863.58</td>\n",
       "      <td>362425198505142610</td>\n",
       "      <td>2018-08-15</td>\n",
       "    </tr>\n",
       "    <tr>\n",
       "      <th>34858</th>\n",
       "      <td>180</td>\n",
       "      <td>1727.17</td>\n",
       "      <td>330211197310250020</td>\n",
       "      <td>2018-08-15</td>\n",
       "    </tr>\n",
       "    <tr>\n",
       "      <th>34859</th>\n",
       "      <td>180</td>\n",
       "      <td>898.13</td>\n",
       "      <td>330219196210260236</td>\n",
       "      <td>2018-08-15</td>\n",
       "    </tr>\n",
       "    <tr>\n",
       "      <th>34860</th>\n",
       "      <td>180</td>\n",
       "      <td>829.04</td>\n",
       "      <td>330219196210260236</td>\n",
       "      <td>2018-08-15</td>\n",
       "    </tr>\n",
       "    <tr>\n",
       "      <th>34861</th>\n",
       "      <td>180</td>\n",
       "      <td>518.15</td>\n",
       "      <td>330283199006115415</td>\n",
       "      <td>2018-08-15</td>\n",
       "    </tr>\n",
       "    <tr>\n",
       "      <th>34862</th>\n",
       "      <td>180</td>\n",
       "      <td>34.88</td>\n",
       "      <td>330283199006115415</td>\n",
       "      <td>2018-08-15</td>\n",
       "    </tr>\n",
       "    <tr>\n",
       "      <th>34863</th>\n",
       "      <td>180</td>\n",
       "      <td>518.15</td>\n",
       "      <td>330281198909130483</td>\n",
       "      <td>2018-08-15</td>\n",
       "    </tr>\n",
       "    <tr>\n",
       "      <th>34864</th>\n",
       "      <td>180</td>\n",
       "      <td>535.43</td>\n",
       "      <td>210802197111020512</td>\n",
       "      <td>2018-08-15</td>\n",
       "    </tr>\n",
       "    <tr>\n",
       "      <th>34865</th>\n",
       "      <td>180</td>\n",
       "      <td>1727.17</td>\n",
       "      <td>330219196005222222</td>\n",
       "      <td>2018-08-15</td>\n",
       "    </tr>\n",
       "    <tr>\n",
       "      <th>34866</th>\n",
       "      <td>180</td>\n",
       "      <td>863.58</td>\n",
       "      <td>510112197910072728</td>\n",
       "      <td>2018-08-15</td>\n",
       "    </tr>\n",
       "    <tr>\n",
       "      <th>34867</th>\n",
       "      <td>180</td>\n",
       "      <td>1757.06</td>\n",
       "      <td>622301197110080817</td>\n",
       "      <td>2018-08-15</td>\n",
       "    </tr>\n",
       "    <tr>\n",
       "      <th>34868</th>\n",
       "      <td>180</td>\n",
       "      <td>863.58</td>\n",
       "      <td>330322198303150418</td>\n",
       "      <td>2018-08-15</td>\n",
       "    </tr>\n",
       "    <tr>\n",
       "      <th>34869</th>\n",
       "      <td>180</td>\n",
       "      <td>863.58</td>\n",
       "      <td>330322198303150418</td>\n",
       "      <td>2018-08-15</td>\n",
       "    </tr>\n",
       "    <tr>\n",
       "      <th>34870</th>\n",
       "      <td>180</td>\n",
       "      <td>1727.17</td>\n",
       "      <td>330322198303150418</td>\n",
       "      <td>2018-08-15</td>\n",
       "    </tr>\n",
       "    <tr>\n",
       "      <th>34871</th>\n",
       "      <td>180</td>\n",
       "      <td>1727.17</td>\n",
       "      <td>330322198303150418</td>\n",
       "      <td>2018-08-15</td>\n",
       "    </tr>\n",
       "    <tr>\n",
       "      <th>34872</th>\n",
       "      <td>180</td>\n",
       "      <td>138.17</td>\n",
       "      <td>330211197005141549</td>\n",
       "      <td>2018-08-15</td>\n",
       "    </tr>\n",
       "    <tr>\n",
       "      <th>34873</th>\n",
       "      <td>180</td>\n",
       "      <td>379.98</td>\n",
       "      <td>330211197005141549</td>\n",
       "      <td>2018-08-15</td>\n",
       "    </tr>\n",
       "    <tr>\n",
       "      <th>34874</th>\n",
       "      <td>180</td>\n",
       "      <td>863.58</td>\n",
       "      <td>330211197005141549</td>\n",
       "      <td>2018-08-15</td>\n",
       "    </tr>\n",
       "    <tr>\n",
       "      <th>34875</th>\n",
       "      <td>180</td>\n",
       "      <td>518.15</td>\n",
       "      <td>342901197209095635</td>\n",
       "      <td>2018-08-15</td>\n",
       "    </tr>\n",
       "    <tr>\n",
       "      <th>34876</th>\n",
       "      <td>180</td>\n",
       "      <td>6874.18</td>\n",
       "      <td>330204195202191016</td>\n",
       "      <td>2018-08-15</td>\n",
       "    </tr>\n",
       "  </tbody>\n",
       "</table>\n",
       "<p>882 rows × 4 columns</p>\n",
       "</div>"
      ],
      "text/plain": [
       "       投资期限     本次发放金额                 身份证       发放时间\n",
       "5898   12月标    1000.00  513922198805171226 2018-08-15\n",
       "5899   12月标    1000.00  330226197604082880 2018-08-15\n",
       "5900   12月标   10000.00  330211196905200028 2018-08-15\n",
       "5901   12月标    1000.00  330203196407070339 2018-08-15\n",
       "5902   12月标    9000.00  411328199106053997 2018-08-15\n",
       "5903   12月标   10000.00  330225198008244829 2018-08-15\n",
       "5904   12月标   10000.00  330211196905200028 2018-08-15\n",
       "5905   12月标    6000.00  33022219740819314X 2018-08-15\n",
       "5906   12月标   50000.00  330206198610313111 2018-08-15\n",
       "5907   12月标   30000.00  332621197001045687 2018-08-15\n",
       "5908   12月标   10000.00  320281196606168512 2018-08-15\n",
       "5909   12月标   23000.00  33038119850918172X 2018-08-15\n",
       "5910   12月标   23000.00  33038119850918172X 2018-08-15\n",
       "5911   12月标   23000.00  330122199011270040 2018-08-15\n",
       "5912   12月标    8000.00  500381198908136821 2018-08-15\n",
       "5913   12月标    8000.00  210302197509053317 2018-08-15\n",
       "5914   12月标    2000.00  330224197704097737 2018-08-15\n",
       "5915   12月标   20000.00  330501198805067322 2018-08-15\n",
       "5916   12月标    1000.00  31010219601006201X 2018-08-15\n",
       "5917   12月标   13000.00  411328199106053997 2018-08-15\n",
       "5918   12月标   80000.00  330501198805067322 2018-08-15\n",
       "5919   12月标   15000.00  332621197001045687 2018-08-15\n",
       "5920   12月标   12000.00  332621197001045687 2018-08-15\n",
       "5921   12月标  100000.00  332621197001045687 2018-08-15\n",
       "5922   12月标   43000.00  332621197001045687 2018-08-15\n",
       "5923   12月标   10000.00  330227196611083023 2018-08-15\n",
       "5924   12月标   10000.00  330227196611083023 2018-08-15\n",
       "5925   12月标   10000.00  330227196611083023 2018-08-15\n",
       "5926   12月标    2000.00  511123197105175214 2018-08-15\n",
       "5927   12月标    3000.00  110221196906285029 2018-08-15\n",
       "...     ...        ...                 ...        ...\n",
       "34847   180      52.32  630103198112030027 2018-08-15\n",
       "34848   180     863.58  34082719840314434X 2018-08-15\n",
       "34849   180     518.15  330227196210082046 2018-08-15\n",
       "34850   180     656.32  230206196208080521 2018-08-15\n",
       "34851   180     863.58  330211195911120724 2018-08-15\n",
       "34852   180      17.40  430481198904253569 2018-08-15\n",
       "34853   180     122.06  33068219890219102X 2018-08-15\n",
       "34854   180     863.58  34082719840314434X 2018-08-15\n",
       "34855   180      17.45  411081198211065958 2018-08-15\n",
       "34856   180     863.58  340825198409021313 2018-08-15\n",
       "34857   180     863.58  362425198505142610 2018-08-15\n",
       "34858   180    1727.17  330211197310250020 2018-08-15\n",
       "34859   180     898.13  330219196210260236 2018-08-15\n",
       "34860   180     829.04  330219196210260236 2018-08-15\n",
       "34861   180     518.15  330283199006115415 2018-08-15\n",
       "34862   180      34.88  330283199006115415 2018-08-15\n",
       "34863   180     518.15  330281198909130483 2018-08-15\n",
       "34864   180     535.43  210802197111020512 2018-08-15\n",
       "34865   180    1727.17  330219196005222222 2018-08-15\n",
       "34866   180     863.58  510112197910072728 2018-08-15\n",
       "34867   180    1757.06  622301197110080817 2018-08-15\n",
       "34868   180     863.58  330322198303150418 2018-08-15\n",
       "34869   180     863.58  330322198303150418 2018-08-15\n",
       "34870   180    1727.17  330322198303150418 2018-08-15\n",
       "34871   180    1727.17  330322198303150418 2018-08-15\n",
       "34872   180     138.17  330211197005141549 2018-08-15\n",
       "34873   180     379.98  330211197005141549 2018-08-15\n",
       "34874   180     863.58  330211197005141549 2018-08-15\n",
       "34875   180     518.15  342901197209095635 2018-08-15\n",
       "34876   180    6874.18  330204195202191016 2018-08-15\n",
       "\n",
       "[882 rows x 4 columns]"
      ]
     },
     "execution_count": 17,
     "metadata": {},
     "output_type": "execute_result"
    }
   ],
   "source": [
    "dtnow = pd.to_datetime('today')\n",
    "timediff = pd.Timedelta(1,unit='d')\n",
    "dt_ff = dtnow + timediff\n",
    "dt_ff = dt_ff.strftime('%Y-%m-%d')\n",
    "dt_ff\n",
    "\n",
    "df_hk_today = df_hk[df_hk['发放时间'] == dt_ff]\n",
    "df_hk_today"
   ]
  },
  {
   "cell_type": "code",
   "execution_count": 18,
   "metadata": {},
   "outputs": [
    {
     "name": "stdout",
     "output_type": "stream",
     "text": [
      "<class 'pandas.core.frame.DataFrame'>\n",
      "Int64Index: 882 entries, 5898 to 34876\n",
      "Data columns (total 5 columns):\n",
      "投资期限      882 non-null object\n",
      "本次发放金额    882 non-null float64\n",
      "身份证       882 non-null object\n",
      "发放时间      882 non-null datetime64[ns]\n",
      "分类        882 non-null object\n",
      "dtypes: datetime64[ns](1), float64(1), object(3)\n",
      "memory usage: 41.3+ KB\n"
     ]
    },
    {
     "name": "stderr",
     "output_type": "stream",
     "text": [
      "C:\\Users\\Xiaoji\\Anaconda3\\lib\\site-packages\\ipykernel_launcher.py:11: SettingWithCopyWarning: \n",
      "A value is trying to be set on a copy of a slice from a DataFrame.\n",
      "Try using .loc[row_indexer,col_indexer] = value instead\n",
      "\n",
      "See the caveats in the documentation: http://pandas.pydata.org/pandas-docs/stable/indexing.html#indexing-view-versus-copy\n",
      "  # This is added back by InteractiveShellApp.init_path()\n"
     ]
    }
   ],
   "source": [
    "# df_hk_today['投资期限'].unique()\n",
    "\n",
    "#归类\n",
    "class_pai = dict({'6月标':'派券2',\n",
    "                  '12月标':'派券2',\n",
    "                  360:'派券2',\n",
    "                  180:'派券2',\n",
    "                  90:'派券1',\n",
    "                  30:'派券1'})\n",
    "\n",
    "df_hk_today['分类'] = df_hk_today.loc[:,'投资期限'].map(class_pai)\n",
    "df_hk_today.head()\n",
    "df_hk_today.info()"
   ]
  },
  {
   "cell_type": "markdown",
   "metadata": {},
   "source": [
    "- 合并计算，排除当日回款金额小于1000元"
   ]
  },
  {
   "cell_type": "code",
   "execution_count": 19,
   "metadata": {
    "scrolled": true
   },
   "outputs": [
    {
     "data": {
      "text/plain": [
       "146"
      ]
     },
     "execution_count": 19,
     "metadata": {},
     "output_type": "execute_result"
    }
   ],
   "source": [
    "#排除总金额<1000\n",
    "gp_hk = df_hk_today.groupby('身份证',as_index=False)['本次发放金额'].sum()\n",
    "# gp_hk\n",
    "\n",
    "l1000 = gp_hk[gp_hk['本次发放金额'] >= 1000]['身份证']\n",
    "l1000\n",
    "\n",
    "df_hk_today_res_1 = df_hk_today[df_hk_today['身份证'].isin(l1000)]\n",
    "df_hk_today_res_1['身份证'].nunique()"
   ]
  },
  {
   "cell_type": "markdown",
   "metadata": {},
   "source": [
    "- 排除有2张券以上的人"
   ]
  },
  {
   "cell_type": "code",
   "execution_count": 20,
   "metadata": {
    "scrolled": true
   },
   "outputs": [
    {
     "data": {
      "text/plain": [
       "53"
      ]
     },
     "execution_count": 20,
     "metadata": {},
     "output_type": "execute_result"
    }
   ],
   "source": [
    "df_quan['身份证'] = df_quan['身份证'].str.upper()\n",
    "\n",
    "gp_quan = df_quan.groupby('身份证',as_index=False)['会员名'].count()\n",
    "# gp_quan\n",
    "# gp_quan['身份证'].nunique()\n",
    "\n",
    "q2 = gp_quan[gp_quan['会员名'] > 1]['身份证']\n",
    "# q2['身份证'].nunique()\n",
    "\n",
    "df_hk_today_res_2 = df_hk_today_res_1[~df_hk_today_res_1['身份证'].isin(q2)]\n",
    "df_hk_today_res_2['身份证'].nunique()"
   ]
  },
  {
   "cell_type": "markdown",
   "metadata": {},
   "source": [
    "- 确定要派哪类券"
   ]
  },
  {
   "cell_type": "code",
   "execution_count": null,
   "metadata": {},
   "outputs": [],
   "source": [
    "# df_hk_today_res_2.head()"
   ]
  },
  {
   "cell_type": "code",
   "execution_count": null,
   "metadata": {
    "scrolled": true
   },
   "outputs": [],
   "source": [
    "gp_class = df_hk_today_res_2.groupby(['身份证','分类'])['本次发放金额'].sum().unstack()\n",
    "gp_class.fillna(0,inplace=True)\n",
    "gp_class"
   ]
  },
  {
   "cell_type": "code",
   "execution_count": null,
   "metadata": {
    "scrolled": true
   },
   "outputs": [],
   "source": [
    "gp_class['派券分类'] = np.where(gp_class['派券1'] > gp_class['派券2'],'派券1','派券2')\n",
    "gp_class"
   ]
  },
  {
   "cell_type": "markdown",
   "metadata": {},
   "source": [
    "- 查找用户名等信息"
   ]
  },
  {
   "cell_type": "code",
   "execution_count": null,
   "metadata": {},
   "outputs": [],
   "source": [
    "df_yhm.info()"
   ]
  },
  {
   "cell_type": "code",
   "execution_count": null,
   "metadata": {
    "scrolled": true
   },
   "outputs": [],
   "source": [
    "res = pd.merge(gp_class,df_yhm,\n",
    "               right_on='身份证',\n",
    "               left_index=True,\n",
    "               how='left')\n",
    "res.columns\n",
    "res = res.loc[:,[ '派券分类', '用户名', '真实姓名', '手机号码']]\n",
    "res"
   ]
  },
  {
   "cell_type": "markdown",
   "metadata": {},
   "source": [
    "- 导出到表格"
   ]
  },
  {
   "cell_type": "code",
   "execution_count": null,
   "metadata": {},
   "outputs": [],
   "source": [
    "name = str(dt_ff.strftime('%Y-%m-%d')) + '派券名单' + '.xlsx'\n",
    "print(name)\n",
    "\n",
    "res.to_excel(name,index=False)"
   ]
  },
  {
   "cell_type": "markdown",
   "metadata": {},
   "source": [
    "- 记录已派券名单"
   ]
  },
  {
   "cell_type": "code",
   "execution_count": null,
   "metadata": {
    "scrolled": true
   },
   "outputs": [],
   "source": [
    "df_x = df_rcd['身份证'].append(gp_class.reset_index()['身份证'])"
   ]
  },
  {
   "cell_type": "code",
   "execution_count": null,
   "metadata": {},
   "outputs": [],
   "source": [
    "df_record = df_x.to_frame()"
   ]
  },
  {
   "cell_type": "code",
   "execution_count": null,
   "metadata": {},
   "outputs": [],
   "source": [
    "df_record.head()"
   ]
  },
  {
   "cell_type": "code",
   "execution_count": null,
   "metadata": {},
   "outputs": [],
   "source": [
    "df_record.to_excel('已派券记录.xlsx',index=False)"
   ]
  },
  {
   "cell_type": "code",
   "execution_count": null,
   "metadata": {},
   "outputs": [],
   "source": []
  }
 ],
 "metadata": {
  "kernelspec": {
   "display_name": "Python 3",
   "language": "python",
   "name": "python3"
  },
  "language_info": {
   "codemirror_mode": {
    "name": "ipython",
    "version": 3
   },
   "file_extension": ".py",
   "mimetype": "text/x-python",
   "name": "python",
   "nbconvert_exporter": "python",
   "pygments_lexer": "ipython3",
   "version": "3.6.5"
  }
 },
 "nbformat": 4,
 "nbformat_minor": 2
}
